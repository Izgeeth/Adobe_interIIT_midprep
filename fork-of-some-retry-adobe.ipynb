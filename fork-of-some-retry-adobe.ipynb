{
 "cells": [
  {
   "cell_type": "code",
   "execution_count": 1,
   "id": "9d276cf4",
   "metadata": {
    "_cell_guid": "b1076dfc-b9ad-4769-8c92-a6c4dae69d19",
    "_uuid": "8f2839f25d086af736a60e9eeb907d3b93b6e0e5",
    "execution": {
     "iopub.execute_input": "2024-10-12T08:22:44.365742Z",
     "iopub.status.busy": "2024-10-12T08:22:44.365312Z",
     "iopub.status.idle": "2024-10-12T08:22:44.370283Z",
     "shell.execute_reply": "2024-10-12T08:22:44.369535Z"
    },
    "papermill": {
     "duration": 0.021618,
     "end_time": "2024-10-12T08:22:44.372354",
     "exception": false,
     "start_time": "2024-10-12T08:22:44.350736",
     "status": "completed"
    },
    "tags": []
   },
   "outputs": [],
   "source": [
    "# # This Python 3 environment comes with many helpful analytics libraries installed\n",
    "# # It is defined by the kaggle/python Docker image: https://github.com/kaggle/docker-python\n",
    "# # For example, here's several helpful packages to load\n",
    "\n",
    "# import numpy as np # linear algebra\n",
    "# import pandas as pd # data processing, CSV file I/O (e.g. pd.read_csv)\n",
    "\n",
    "# # Input data files are available in the read-only \"../input/\" directory\n",
    "# # For example, running this (by clicking run or pressing Shift+Enter) will list all files under the input directory\n",
    "\n",
    "# import os\n",
    "# for dirname, _, filenames in os.walk('/kaggle/input'):\n",
    "#     for filename in filenames:\n",
    "#         print(os.path.join(dirname, filename))\n",
    "\n",
    "# # You can write up to 20GB to the current directory (/kaggle/working/) that gets preserved as output when you create a version using \"Save & Run All\" \n",
    "# # You can also write temporary files to /kaggle/temp/, but they won't be saved outside of the current session"
   ]
  },
  {
   "cell_type": "code",
   "execution_count": 2,
   "id": "b5d711fd",
   "metadata": {
    "execution": {
     "iopub.execute_input": "2024-10-12T08:22:44.399251Z",
     "iopub.status.busy": "2024-10-12T08:22:44.398984Z",
     "iopub.status.idle": "2024-10-12T08:22:45.157377Z",
     "shell.execute_reply": "2024-10-12T08:22:45.156629Z"
    },
    "papermill": {
     "duration": 0.773911,
     "end_time": "2024-10-12T08:22:45.159825",
     "exception": false,
     "start_time": "2024-10-12T08:22:44.385914",
     "status": "completed"
    },
    "tags": []
   },
   "outputs": [],
   "source": [
    "import pandas as pd"
   ]
  },
  {
   "cell_type": "code",
   "execution_count": 3,
   "id": "9c31dbf0",
   "metadata": {
    "execution": {
     "iopub.execute_input": "2024-10-12T08:22:45.185957Z",
     "iopub.status.busy": "2024-10-12T08:22:45.185529Z",
     "iopub.status.idle": "2024-10-12T08:22:45.189694Z",
     "shell.execute_reply": "2024-10-12T08:22:45.188879Z"
    },
    "papermill": {
     "duration": 0.019308,
     "end_time": "2024-10-12T08:22:45.191635",
     "exception": false,
     "start_time": "2024-10-12T08:22:45.172327",
     "status": "completed"
    },
    "tags": []
   },
   "outputs": [],
   "source": [
    "train_path = '/kaggle/input/adobetraindata/behaviour_simulation_train.csv'\n",
    "test_path = '/kaggle/input/inter-iit-mid-prep-adobe/problem_1_test_dataset/behaviour_simulation_test_company.xlsx'"
   ]
  },
  {
   "cell_type": "code",
   "execution_count": 4,
   "id": "31a4591f",
   "metadata": {
    "execution": {
     "iopub.execute_input": "2024-10-12T08:22:45.216970Z",
     "iopub.status.busy": "2024-10-12T08:22:45.216676Z",
     "iopub.status.idle": "2024-10-12T08:22:47.670800Z",
     "shell.execute_reply": "2024-10-12T08:22:47.669917Z"
    },
    "papermill": {
     "duration": 2.469566,
     "end_time": "2024-10-12T08:22:47.673371",
     "exception": false,
     "start_time": "2024-10-12T08:22:45.203805",
     "status": "completed"
    },
    "tags": []
   },
   "outputs": [],
   "source": [
    "test_dataset = pd.read_excel(test_path)"
   ]
  },
  {
   "cell_type": "code",
   "execution_count": 5,
   "id": "d2829155",
   "metadata": {
    "execution": {
     "iopub.execute_input": "2024-10-12T08:22:47.700159Z",
     "iopub.status.busy": "2024-10-12T08:22:47.699357Z",
     "iopub.status.idle": "2024-10-12T08:22:47.731583Z",
     "shell.execute_reply": "2024-10-12T08:22:47.730456Z"
    },
    "papermill": {
     "duration": 0.047364,
     "end_time": "2024-10-12T08:22:47.733622",
     "exception": false,
     "start_time": "2024-10-12T08:22:47.686258",
     "status": "completed"
    },
    "tags": []
   },
   "outputs": [
    {
     "name": "stdout",
     "output_type": "stream",
     "text": [
      "<class 'pandas.core.frame.DataFrame'>\n",
      "RangeIndex: 10000 entries, 0 to 9999\n",
      "Data columns (total 6 columns):\n",
      " #   Column            Non-Null Count  Dtype \n",
      "---  ------            --------------  ----- \n",
      " 0   id                10000 non-null  int64 \n",
      " 1   date              10000 non-null  object\n",
      " 2   content           10000 non-null  object\n",
      " 3   username          10000 non-null  object\n",
      " 4   media             10000 non-null  object\n",
      " 5   inferred company  10000 non-null  object\n",
      "dtypes: int64(1), object(5)\n",
      "memory usage: 468.9+ KB\n"
     ]
    }
   ],
   "source": [
    "test_dataset.info()"
   ]
  },
  {
   "cell_type": "code",
   "execution_count": 6,
   "id": "2bceb8da",
   "metadata": {
    "execution": {
     "iopub.execute_input": "2024-10-12T08:22:47.760098Z",
     "iopub.status.busy": "2024-10-12T08:22:47.759815Z",
     "iopub.status.idle": "2024-10-12T08:22:55.475197Z",
     "shell.execute_reply": "2024-10-12T08:22:55.474400Z"
    },
    "papermill": {
     "duration": 7.730996,
     "end_time": "2024-10-12T08:22:55.477518",
     "exception": false,
     "start_time": "2024-10-12T08:22:47.746522",
     "status": "completed"
    },
    "tags": []
   },
   "outputs": [],
   "source": [
    "train_dataset = pd.read_csv(train_path)"
   ]
  },
  {
   "cell_type": "code",
   "execution_count": 7,
   "id": "008c814a",
   "metadata": {
    "execution": {
     "iopub.execute_input": "2024-10-12T08:22:55.503629Z",
     "iopub.status.busy": "2024-10-12T08:22:55.503315Z",
     "iopub.status.idle": "2024-10-12T08:22:55.522418Z",
     "shell.execute_reply": "2024-10-12T08:22:55.521506Z"
    },
    "papermill": {
     "duration": 0.034536,
     "end_time": "2024-10-12T08:22:55.524588",
     "exception": false,
     "start_time": "2024-10-12T08:22:55.490052",
     "status": "completed"
    },
    "tags": []
   },
   "outputs": [
    {
     "data": {
      "text/html": [
       "<div>\n",
       "<style scoped>\n",
       "    .dataframe tbody tr th:only-of-type {\n",
       "        vertical-align: middle;\n",
       "    }\n",
       "\n",
       "    .dataframe tbody tr th {\n",
       "        vertical-align: top;\n",
       "    }\n",
       "\n",
       "    .dataframe thead th {\n",
       "        text-align: right;\n",
       "    }\n",
       "</style>\n",
       "<table border=\"1\" class=\"dataframe\">\n",
       "  <thead>\n",
       "    <tr style=\"text-align: right;\">\n",
       "      <th></th>\n",
       "      <th>id</th>\n",
       "      <th>date</th>\n",
       "      <th>likes</th>\n",
       "      <th>content</th>\n",
       "      <th>username</th>\n",
       "      <th>media</th>\n",
       "      <th>inferred company</th>\n",
       "    </tr>\n",
       "  </thead>\n",
       "  <tbody>\n",
       "    <tr>\n",
       "      <th>0</th>\n",
       "      <td>1</td>\n",
       "      <td>2020-12-12 00:47:00</td>\n",
       "      <td>1</td>\n",
       "      <td>Spend your weekend morning with a Ham, Egg, an...</td>\n",
       "      <td>TimHortonsPH</td>\n",
       "      <td>[Photo(previewUrl='https://pbs.twimg.com/media...</td>\n",
       "      <td>tim hortons</td>\n",
       "    </tr>\n",
       "    <tr>\n",
       "      <th>1</th>\n",
       "      <td>2</td>\n",
       "      <td>2018-06-30 10:04:20</td>\n",
       "      <td>2750</td>\n",
       "      <td>Watch rapper &lt;mention&gt; freestyle for over an H...</td>\n",
       "      <td>IndyMusic</td>\n",
       "      <td>[Photo(previewUrl='https://pbs.twimg.com/media...</td>\n",
       "      <td>independent</td>\n",
       "    </tr>\n",
       "    <tr>\n",
       "      <th>2</th>\n",
       "      <td>3</td>\n",
       "      <td>2020-09-29 19:47:28</td>\n",
       "      <td>57</td>\n",
       "      <td>Canadian Armenian community demands ban on mil...</td>\n",
       "      <td>CBCCanada</td>\n",
       "      <td>[Photo(previewUrl='https://pbs.twimg.com/media...</td>\n",
       "      <td>cbc</td>\n",
       "    </tr>\n",
       "    <tr>\n",
       "      <th>3</th>\n",
       "      <td>4</td>\n",
       "      <td>2020-10-01 11:40:09</td>\n",
       "      <td>152</td>\n",
       "      <td>1st in Europe to be devastated by COVID-19, It...</td>\n",
       "      <td>MKWilliamsRome</td>\n",
       "      <td>[Photo(previewUrl='https://pbs.twimg.com/media...</td>\n",
       "      <td>williams</td>\n",
       "    </tr>\n",
       "    <tr>\n",
       "      <th>4</th>\n",
       "      <td>5</td>\n",
       "      <td>2018-10-19 14:30:46</td>\n",
       "      <td>41</td>\n",
       "      <td>Congratulations to Pauletha Butts of &lt;mention&gt;...</td>\n",
       "      <td>BGISD</td>\n",
       "      <td>[Photo(previewUrl='https://pbs.twimg.com/media...</td>\n",
       "      <td>independent</td>\n",
       "    </tr>\n",
       "    <tr>\n",
       "      <th>...</th>\n",
       "      <td>...</td>\n",
       "      <td>...</td>\n",
       "      <td>...</td>\n",
       "      <td>...</td>\n",
       "      <td>...</td>\n",
       "      <td>...</td>\n",
       "      <td>...</td>\n",
       "    </tr>\n",
       "    <tr>\n",
       "      <th>299995</th>\n",
       "      <td>299996</td>\n",
       "      <td>2019-09-07 16:18:10</td>\n",
       "      <td>0</td>\n",
       "      <td>Barcelona Star Expected To Return Against Vale...</td>\n",
       "      <td>IndependentNGR</td>\n",
       "      <td>[Photo(previewUrl='https://pbs.twimg.com/media...</td>\n",
       "      <td>independent</td>\n",
       "    </tr>\n",
       "    <tr>\n",
       "      <th>299996</th>\n",
       "      <td>299997</td>\n",
       "      <td>2018-02-23 11:24:36</td>\n",
       "      <td>46</td>\n",
       "      <td>Kjeld Nuis of #NED is golden again... This tim...</td>\n",
       "      <td>CBCOlympics</td>\n",
       "      <td>[Video(thumbnailUrl='https://pbs.twimg.com/med...</td>\n",
       "      <td>cbc</td>\n",
       "    </tr>\n",
       "    <tr>\n",
       "      <th>299997</th>\n",
       "      <td>299998</td>\n",
       "      <td>2020-11-11 20:18:15</td>\n",
       "      <td>261</td>\n",
       "      <td>Grateful 🙌🏾 to have &lt;mention&gt; officially join ...</td>\n",
       "      <td>TeamCoachBuzz</td>\n",
       "      <td>[Photo(previewUrl='https://pbs.twimg.com/media...</td>\n",
       "      <td>williams</td>\n",
       "    </tr>\n",
       "    <tr>\n",
       "      <th>299998</th>\n",
       "      <td>299999</td>\n",
       "      <td>2019-10-29 10:44:00</td>\n",
       "      <td>119</td>\n",
       "      <td>The US Air Force's mysterious space plane just...</td>\n",
       "      <td>Independent</td>\n",
       "      <td>[Video(thumbnailUrl='https://pbs.twimg.com/med...</td>\n",
       "      <td>independent</td>\n",
       "    </tr>\n",
       "    <tr>\n",
       "      <th>299999</th>\n",
       "      <td>300000</td>\n",
       "      <td>2018-08-26 01:19:09</td>\n",
       "      <td>714</td>\n",
       "      <td>In 1967, he was shot down over Vietnam. By 200...</td>\n",
       "      <td>cnni</td>\n",
       "      <td>[Video(thumbnailUrl='https://pbs.twimg.com/ext...</td>\n",
       "      <td>cnn</td>\n",
       "    </tr>\n",
       "  </tbody>\n",
       "</table>\n",
       "<p>300000 rows × 7 columns</p>\n",
       "</div>"
      ],
      "text/plain": [
       "            id                 date  likes  \\\n",
       "0            1  2020-12-12 00:47:00      1   \n",
       "1            2  2018-06-30 10:04:20   2750   \n",
       "2            3  2020-09-29 19:47:28     57   \n",
       "3            4  2020-10-01 11:40:09    152   \n",
       "4            5  2018-10-19 14:30:46     41   \n",
       "...        ...                  ...    ...   \n",
       "299995  299996  2019-09-07 16:18:10      0   \n",
       "299996  299997  2018-02-23 11:24:36     46   \n",
       "299997  299998  2020-11-11 20:18:15    261   \n",
       "299998  299999  2019-10-29 10:44:00    119   \n",
       "299999  300000  2018-08-26 01:19:09    714   \n",
       "\n",
       "                                                  content        username  \\\n",
       "0       Spend your weekend morning with a Ham, Egg, an...    TimHortonsPH   \n",
       "1       Watch rapper <mention> freestyle for over an H...       IndyMusic   \n",
       "2       Canadian Armenian community demands ban on mil...       CBCCanada   \n",
       "3       1st in Europe to be devastated by COVID-19, It...  MKWilliamsRome   \n",
       "4       Congratulations to Pauletha Butts of <mention>...           BGISD   \n",
       "...                                                   ...             ...   \n",
       "299995  Barcelona Star Expected To Return Against Vale...  IndependentNGR   \n",
       "299996  Kjeld Nuis of #NED is golden again... This tim...     CBCOlympics   \n",
       "299997  Grateful 🙌🏾 to have <mention> officially join ...   TeamCoachBuzz   \n",
       "299998  The US Air Force's mysterious space plane just...     Independent   \n",
       "299999  In 1967, he was shot down over Vietnam. By 200...            cnni   \n",
       "\n",
       "                                                    media inferred company  \n",
       "0       [Photo(previewUrl='https://pbs.twimg.com/media...      tim hortons  \n",
       "1       [Photo(previewUrl='https://pbs.twimg.com/media...      independent  \n",
       "2       [Photo(previewUrl='https://pbs.twimg.com/media...              cbc  \n",
       "3       [Photo(previewUrl='https://pbs.twimg.com/media...         williams  \n",
       "4       [Photo(previewUrl='https://pbs.twimg.com/media...      independent  \n",
       "...                                                   ...              ...  \n",
       "299995  [Photo(previewUrl='https://pbs.twimg.com/media...      independent  \n",
       "299996  [Video(thumbnailUrl='https://pbs.twimg.com/med...              cbc  \n",
       "299997  [Photo(previewUrl='https://pbs.twimg.com/media...         williams  \n",
       "299998  [Video(thumbnailUrl='https://pbs.twimg.com/med...      independent  \n",
       "299999  [Video(thumbnailUrl='https://pbs.twimg.com/ext...              cnn  \n",
       "\n",
       "[300000 rows x 7 columns]"
      ]
     },
     "execution_count": 7,
     "metadata": {},
     "output_type": "execute_result"
    }
   ],
   "source": [
    "train_dataset"
   ]
  },
  {
   "cell_type": "code",
   "execution_count": 8,
   "id": "7aa937a8",
   "metadata": {
    "execution": {
     "iopub.execute_input": "2024-10-12T08:22:55.552351Z",
     "iopub.status.busy": "2024-10-12T08:22:55.551739Z",
     "iopub.status.idle": "2024-10-12T08:22:57.802194Z",
     "shell.execute_reply": "2024-10-12T08:22:57.800939Z"
    },
    "papermill": {
     "duration": 2.266575,
     "end_time": "2024-10-12T08:22:57.804503",
     "exception": false,
     "start_time": "2024-10-12T08:22:55.537928",
     "status": "completed"
    },
    "tags": []
   },
   "outputs": [
    {
     "name": "stdout",
     "output_type": "stream",
     "text": [
      "count    300000.000000\n",
      "mean        643.547447\n",
      "std        2128.732465\n",
      "min           0.000000\n",
      "25%           3.000000\n",
      "50%          76.000000\n",
      "75%         364.000000\n",
      "max       20000.000000\n",
      "Name: likes_capped, dtype: float64\n",
      "likes_binned\n",
      "0-100     0.548557\n",
      "101-1k    0.327200\n",
      "1k-10k    0.111780\n",
      "10k+      0.012463\n",
      "Name: proportion, dtype: float64\n"
     ]
    }
   ],
   "source": [
    "import pandas as pd\n",
    "import numpy as np\n",
    "from sklearn.model_selection import train_test_split\n",
    "from sklearn.preprocessing import OneHotEncoder, FunctionTransformer, LabelEncoder\n",
    "from sklearn.compose import ColumnTransformer\n",
    "from sklearn.pipeline import Pipeline\n",
    "from sklearn.metrics import accuracy_score, f1_score, classification_report\n",
    "from sklearn.base import BaseEstimator, TransformerMixin\n",
    "import xgboost as xgb\n",
    "# Load data\n",
    "train_data = train_dataset.copy()\n",
    "test_data = test_dataset.copy()\n",
    "# Bin the likes into categories\n",
    "# Define the cap threshold\n",
    "cap_value = 20000\n",
    "# Apply the cap to the 'likes' column\n",
    "train_data['likes_capped'] = train_data['likes'].apply(lambda x: min(x, cap_value))\n",
    "# Check the distribution of the capped 'likes' column\n",
    "print(train_data['likes_capped'].describe())\n",
    "bins = [0, 100, 1000, 10000, 100000]\n",
    "labels = ['0-100', '101-1k','1k-10k','10k+']\n",
    "train_data['likes_binned'] = pd.cut(train_data['likes_capped'], bins=bins, labels=labels, include_lowest=True)\n",
    "# Sample 10% of the data, stratified by binned likes\n",
    "sample_fraction = 0.01  # Change this to 1.0 for 100%\n",
    "train_data_sampled, _ = train_test_split(train_data, test_size=1-sample_fraction, random_state=42, stratify=train_data['likes_binned'])\n",
    "train_data_sampled = train_data_sampled.reset_index(drop=1)\n",
    "train_data_sampled = train_data.copy()\n",
    "\n",
    "# Check distribution\n",
    "print(train_data_sampled['likes_binned'].value_counts(normalize=True))\n"
   ]
  },
  {
   "cell_type": "code",
   "execution_count": 9,
   "id": "f7d35119",
   "metadata": {
    "execution": {
     "iopub.execute_input": "2024-10-12T08:22:57.832701Z",
     "iopub.status.busy": "2024-10-12T08:22:57.832212Z",
     "iopub.status.idle": "2024-10-12T08:23:18.047797Z",
     "shell.execute_reply": "2024-10-12T08:23:18.046639Z"
    },
    "papermill": {
     "duration": 20.232311,
     "end_time": "2024-10-12T08:23:18.050330",
     "exception": false,
     "start_time": "2024-10-12T08:22:57.818019",
     "status": "completed"
    },
    "scrolled": true,
    "tags": []
   },
   "outputs": [
    {
     "name": "stdout",
     "output_type": "stream",
     "text": [
      "Collecting node2vec\r\n",
      "  Downloading node2vec-0.5.0-py3-none-any.whl.metadata (849 bytes)\r\n",
      "Requirement already satisfied: gensim<5.0.0,>=4.3.0 in /opt/conda/lib/python3.10/site-packages (from node2vec) (4.3.3)\r\n",
      "Requirement already satisfied: joblib<2.0.0,>=1.4.0 in /opt/conda/lib/python3.10/site-packages (from node2vec) (1.4.2)\r\n",
      "Requirement already satisfied: networkx<4.0.0,>=3.1.0 in /opt/conda/lib/python3.10/site-packages (from node2vec) (3.3)\r\n",
      "Requirement already satisfied: numpy<2.0.0,>=1.24.0 in /opt/conda/lib/python3.10/site-packages (from node2vec) (1.26.4)\r\n",
      "Requirement already satisfied: tqdm<5.0.0,>=4.66.1 in /opt/conda/lib/python3.10/site-packages (from node2vec) (4.66.4)\r\n",
      "Collecting scipy<1.14.0,>=1.7.0 (from gensim<5.0.0,>=4.3.0->node2vec)\r\n",
      "  Downloading scipy-1.13.1-cp310-cp310-manylinux_2_17_x86_64.manylinux2014_x86_64.whl.metadata (60 kB)\r\n",
      "\u001b[2K     \u001b[90m━━━━━━━━━━━━━━━━━━━━━━━━━━━━━━━━━━━━━━━━\u001b[0m \u001b[32m60.6/60.6 kB\u001b[0m \u001b[31m3.1 MB/s\u001b[0m eta \u001b[36m0:00:00\u001b[0m\r\n",
      "\u001b[?25hRequirement already satisfied: smart-open>=1.8.1 in /opt/conda/lib/python3.10/site-packages (from gensim<5.0.0,>=4.3.0->node2vec) (7.0.4)\r\n",
      "Requirement already satisfied: wrapt in /opt/conda/lib/python3.10/site-packages (from smart-open>=1.8.1->gensim<5.0.0,>=4.3.0->node2vec) (1.16.0)\r\n",
      "Downloading node2vec-0.5.0-py3-none-any.whl (7.2 kB)\r\n",
      "Downloading scipy-1.13.1-cp310-cp310-manylinux_2_17_x86_64.manylinux2014_x86_64.whl (38.6 MB)\r\n",
      "\u001b[2K   \u001b[90m━━━━━━━━━━━━━━━━━━━━━━━━━━━━━━━━━━━━━━━━\u001b[0m \u001b[32m38.6/38.6 MB\u001b[0m \u001b[31m43.8 MB/s\u001b[0m eta \u001b[36m0:00:00\u001b[0m\r\n",
      "\u001b[?25hInstalling collected packages: scipy, node2vec\r\n",
      "  Attempting uninstall: scipy\r\n",
      "    Found existing installation: scipy 1.14.1\r\n",
      "    Uninstalling scipy-1.14.1:\r\n",
      "      Successfully uninstalled scipy-1.14.1\r\n",
      "\u001b[31mERROR: pip's dependency resolver does not currently take into account all the packages that are installed. This behaviour is the source of the following dependency conflicts.\r\n",
      "cuml 24.8.0 requires cupy-cuda11x>=12.0.0, which is not installed.\r\n",
      "cesium 0.12.3 requires numpy<3.0,>=2.0, but you have numpy 1.26.4 which is incompatible.\r\n",
      "libpysal 4.9.2 requires packaging>=22, but you have packaging 21.3 which is incompatible.\r\n",
      "libpysal 4.9.2 requires shapely>=2.0.1, but you have shapely 1.8.5.post1 which is incompatible.\r\n",
      "tsfresh 0.20.3 requires scipy>=1.14.0; python_version >= \"3.10\", but you have scipy 1.13.1 which is incompatible.\u001b[0m\u001b[31m\r\n",
      "\u001b[0mSuccessfully installed node2vec-0.5.0 scipy-1.13.1\r\n"
     ]
    }
   ],
   "source": [
    "!pip install node2vec"
   ]
  },
  {
   "cell_type": "code",
   "execution_count": 10,
   "id": "a50bad8d",
   "metadata": {
    "execution": {
     "iopub.execute_input": "2024-10-12T08:23:18.081868Z",
     "iopub.status.busy": "2024-10-12T08:23:18.080945Z",
     "iopub.status.idle": "2024-10-12T08:23:40.068593Z",
     "shell.execute_reply": "2024-10-12T08:23:40.067509Z"
    },
    "papermill": {
     "duration": 22.005505,
     "end_time": "2024-10-12T08:23:40.070868",
     "exception": false,
     "start_time": "2024-10-12T08:23:18.065363",
     "status": "completed"
    },
    "scrolled": true,
    "tags": []
   },
   "outputs": [
    {
     "name": "stdout",
     "output_type": "stream",
     "text": [
      "[nltk_data] Downloading package stopwords to /usr/share/nltk_data...\n",
      "[nltk_data]   Package stopwords is already up-to-date!\n",
      "[nltk_data] Downloading package punkt to /usr/share/nltk_data...\n",
      "[nltk_data]   Package punkt is already up-to-date!\n"
     ]
    },
    {
     "data": {
      "text/plain": [
       "True"
      ]
     },
     "execution_count": 10,
     "metadata": {},
     "output_type": "execute_result"
    }
   ],
   "source": [
    "import pandas as pd\n",
    "import numpy as np\n",
    "import torch\n",
    "from transformers import AutoTokenizer, AutoModel\n",
    "from sklearn.preprocessing import OneHotEncoder\n",
    "from datetime import datetime\n",
    "import networkx as nx\n",
    "from node2vec import Node2Vec\n",
    "import re\n",
    "from nltk.tokenize import TweetTokenizer\n",
    "from nltk.corpus import stopwords\n",
    "import emoji\n",
    "\n",
    "# Ensure you've downloaded necessary NLTK data\n",
    "import nltk\n",
    "nltk.download('stopwords')\n",
    "nltk.download('punkt')"
   ]
  },
  {
   "cell_type": "code",
   "execution_count": 11,
   "id": "f0fb33a7",
   "metadata": {
    "execution": {
     "iopub.execute_input": "2024-10-12T08:23:40.102844Z",
     "iopub.status.busy": "2024-10-12T08:23:40.102154Z",
     "iopub.status.idle": "2024-10-12T08:23:40.110434Z",
     "shell.execute_reply": "2024-10-12T08:23:40.109439Z"
    },
    "papermill": {
     "duration": 0.026607,
     "end_time": "2024-10-12T08:23:40.112478",
     "exception": false,
     "start_time": "2024-10-12T08:23:40.085871",
     "status": "completed"
    },
    "tags": []
   },
   "outputs": [],
   "source": [
    "# def preprocess_text(text):\n",
    "#     # Convert to lowercase\n",
    "#     text = text.lower()\n",
    "#     # Remove URLs\n",
    "#     text = re.sub(r'http\\S+|www\\S+|https\\S+', '', text, flags=re.MULTILINE)\n",
    "#     # Remove user mentions\n",
    "#     text = re.sub(r'@\\w+', '', text)\n",
    "#     # Remove non-letter characters\n",
    "#     text = re.sub(r'[^a-zA-Z\\s]', '', text)\n",
    "#     # Remove extra spaces\n",
    "#     text = re.sub(r'\\s+', ' ', text).strip()\n",
    "#     # Remove stopwords\n",
    "#     stop_words = set(stopwords.words('english'))\n",
    "#     text = ' '.join([word for word in text.split() if word not in stop_words])\n",
    "#     return text\n",
    "\n",
    "# def get_roberta_embedding(text):\n",
    "#     inputs = tokenizer(text, return_tensors=\"pt\", truncation=True, padding=True, max_length=512)\n",
    "#     with torch.no_grad():\n",
    "#         outputs = model(**inputs)\n",
    "#     return outputs.last_hidden_state.mean(dim=1).numpy().flatten()\n",
    "\n",
    "# def get_datetime_features(date_str):\n",
    "#     date = datetime.strptime(date_str, \"%Y-%m-%d %H:%M:%S\")\n",
    "#     return np.array([\n",
    "#         date.year, date.month, date.day, date.hour, date.minute,\n",
    "#         date.weekday(), date.timetuple().tm_yday,\n",
    "#         np.sin(2 * np.pi * date.hour / 24),  # Cyclical encoding for hour\n",
    "#         np.cos(2 * np.pi * date.hour / 24),\n",
    "#         np.sin(2 * np.pi * date.month / 12),  # Cyclical encoding for month\n",
    "#         np.cos(2 * np.pi * date.month / 12)\n",
    "#     ])\n",
    "\n",
    "# def get_categorical_embedding(value, encoder):\n",
    "#     return encoder.transform([[value]]).toarray().flatten()\n",
    "\n",
    "# def create_graph_embedding(df):\n",
    "#     G = nx.Graph()\n",
    "#     for _, row in df.iterrows():\n",
    "#         G.add_edge(row['username'], row['inferred company'])\n",
    "#         for mention in re.findall(r'@(\\w+)', row['content']):\n",
    "#             G.add_edge(row['username'], mention)\n",
    "    \n",
    "#     node2vec = Node2Vec(G, dimensions=64, walk_length=30, num_walks=200, workers=4)\n",
    "#     model = node2vec.fit(window=10, min_count=1, batch_words=4)\n",
    "    \n",
    "#     def get_node_embedding(node):\n",
    "#         try:\n",
    "#             return model.wv[node]\n",
    "#         except KeyError:\n",
    "#             return np.zeros(64)\n",
    "    \n",
    "#     df['user_graph_embedding'] = df['username'].apply(get_node_embedding)\n",
    "#     df['company_graph_embedding'] = df['inferred company'].apply(get_node_embedding)\n",
    "#     return df\n",
    "\n",
    "# def extract_hashtags(text):\n",
    "#     return ' '.join(re.findall(r'#(\\w+)', text))\n",
    "\n",
    "# def extract_emoji(text):\n",
    "#     return ' '.join([c for c in text if c in emoji.UNICODE_EMOJI['en']])\n",
    "\n",
    "# # Load the data\n",
    "# df = pd.read_csv(\"tweets.csv\")\n",
    "\n",
    "# # Preprocess text\n",
    "# df['processed_content'] = df['content'].apply(preprocess_text)\n",
    "# df['hashtags'] = df['content'].apply(extract_hashtags)\n",
    "# df['emojis'] = df['content'].apply(extract_emoji)\n",
    "\n",
    "# # Combine all text data\n",
    "# df['combined_text'] = df.apply(lambda row: f\"{row['processed_content']} {row['username']} {row['inferred company']} {row['hashtags']} {row['emojis']}\", axis=1)\n",
    "\n",
    "# # Generate text embeddings\n",
    "# df['combined_embedding'] = df['combined_text'].apply(get_roberta_embedding)\n",
    "\n",
    "# # Generate datetime embeddings\n",
    "# df['datetime_embedding'] = df['date'].apply(get_datetime_features)\n",
    "\n",
    "# # Generate categorical embeddings\n",
    "# company_encoder = OneHotEncoder(sparse=False)\n",
    "# company_encoder.fit(df['inferred company'].values.reshape(-1, 1))\n",
    "# df['company_embedding'] = df['inferred company'].apply(lambda x: get_categorical_embedding(x, company_encoder))\n",
    "\n",
    "# # Generate graph embeddings\n",
    "# df = create_graph_embedding(df)\n",
    "\n",
    "# # Combine all embeddings\n",
    "# df['rich_embedding'] = df.apply(lambda row: np.concatenate([\n",
    "#     row['combined_embedding'],\n",
    "#     row['datetime_embedding'],\n",
    "#     row['company_embedding'],\n",
    "#     row['user_graph_embedding'],\n",
    "#     row['company_graph_embedding']\n",
    "# ]), axis=1)\n",
    "\n",
    "# print(\"Rich embeddings generated successfully!\")\n",
    "# print(f\"Shape of rich embedding: {df['rich_embedding'].iloc[0].shape}\")\n",
    "\n",
    "# # Optional: Dimensionality reduction if needed\n",
    "# # from sklearn.decomposition import PCA\n",
    "# # pca = PCA(n_components=100)\n",
    "# # df['reduced_embedding'] = list(pca.fit_transform(np.stack(df['rich_embedding'])))\n",
    "\n",
    "# # Save the embeddings\n",
    "# np.save('rich_tweet_embeddings.npy', np.stack(df['rich_embedding']))\n",
    "# df[['id', 'content', 'username', 'inferred company']].to_csv('tweet_metadata.csv', index=False)\n",
    "\n",
    "# print(\"Embeddings and metadata saved successfully!\")"
   ]
  },
  {
   "cell_type": "code",
   "execution_count": 12,
   "id": "dce658fb",
   "metadata": {
    "execution": {
     "iopub.execute_input": "2024-10-12T08:23:40.143825Z",
     "iopub.status.busy": "2024-10-12T08:23:40.143248Z",
     "iopub.status.idle": "2024-10-12T08:23:40.147572Z",
     "shell.execute_reply": "2024-10-12T08:23:40.146623Z"
    },
    "papermill": {
     "duration": 0.022301,
     "end_time": "2024-10-12T08:23:40.149536",
     "exception": false,
     "start_time": "2024-10-12T08:23:40.127235",
     "status": "completed"
    },
    "tags": []
   },
   "outputs": [],
   "source": [
    "# tokenize_username('AAASouthJersey')"
   ]
  },
  {
   "cell_type": "code",
   "execution_count": 13,
   "id": "78c3f041",
   "metadata": {
    "execution": {
     "iopub.execute_input": "2024-10-12T08:23:40.180701Z",
     "iopub.status.busy": "2024-10-12T08:23:40.180290Z",
     "iopub.status.idle": "2024-10-12T08:23:40.184491Z",
     "shell.execute_reply": "2024-10-12T08:23:40.183637Z"
    },
    "papermill": {
     "duration": 0.021964,
     "end_time": "2024-10-12T08:23:40.186359",
     "exception": false,
     "start_time": "2024-10-12T08:23:40.164395",
     "status": "completed"
    },
    "scrolled": true,
    "tags": []
   },
   "outputs": [],
   "source": [
    "# set(df['username'])"
   ]
  },
  {
   "cell_type": "code",
   "execution_count": 14,
   "id": "47511dcc",
   "metadata": {
    "execution": {
     "iopub.execute_input": "2024-10-12T08:23:40.218104Z",
     "iopub.status.busy": "2024-10-12T08:23:40.217713Z",
     "iopub.status.idle": "2024-10-12T08:24:07.669030Z",
     "shell.execute_reply": "2024-10-12T08:24:07.667806Z"
    },
    "papermill": {
     "duration": 27.470826,
     "end_time": "2024-10-12T08:24:07.672059",
     "exception": false,
     "start_time": "2024-10-12T08:23:40.201233",
     "status": "completed"
    },
    "scrolled": true,
    "tags": []
   },
   "outputs": [
    {
     "name": "stdout",
     "output_type": "stream",
     "text": [
      "Using device: cuda\n"
     ]
    },
    {
     "data": {
      "application/vnd.jupyter.widget-view+json": {
       "model_id": "5ad19b3fa1834e8fa71017f9435a3c58",
       "version_major": 2,
       "version_minor": 0
      },
      "text/plain": [
       "config.json:   0%|          | 0.00/565 [00:00<?, ?B/s]"
      ]
     },
     "metadata": {},
     "output_type": "display_data"
    },
    {
     "data": {
      "application/vnd.jupyter.widget-view+json": {
       "model_id": "252ce2c75d144bec92083ceb96475706",
       "version_major": 2,
       "version_minor": 0
      },
      "text/plain": [
       "vocab.json:   0%|          | 0.00/899k [00:00<?, ?B/s]"
      ]
     },
     "metadata": {},
     "output_type": "display_data"
    },
    {
     "data": {
      "application/vnd.jupyter.widget-view+json": {
       "model_id": "41b20c0560844e29a148a8e26cc0a2ee",
       "version_major": 2,
       "version_minor": 0
      },
      "text/plain": [
       "merges.txt:   0%|          | 0.00/456k [00:00<?, ?B/s]"
      ]
     },
     "metadata": {},
     "output_type": "display_data"
    },
    {
     "name": "stderr",
     "output_type": "stream",
     "text": [
      "/opt/conda/lib/python3.10/site-packages/transformers/tokenization_utils_base.py:1617: FutureWarning: `clean_up_tokenization_spaces` was not set. It will be set to `True` by default. This behavior will be deprecated in transformers v4.45, and will be then set to `False` by default. For more details check this issue: https://github.com/huggingface/transformers/issues/31884\n",
      "  warnings.warn(\n"
     ]
    },
    {
     "data": {
      "application/vnd.jupyter.widget-view+json": {
       "model_id": "949dd2cebe02476c848c7a3244ba4324",
       "version_major": 2,
       "version_minor": 0
      },
      "text/plain": [
       "pytorch_model.bin:   0%|          | 0.00/501M [00:00<?, ?B/s]"
      ]
     },
     "metadata": {},
     "output_type": "display_data"
    }
   ],
   "source": [
    "import pandas as pd\n",
    "import numpy as np\n",
    "import torch\n",
    "from transformers import AutoTokenizer, AutoModel, AutoModelForSequenceClassification, TrainingArguments, Trainer\n",
    "from sklearn.preprocessing import OneHotEncoder, LabelEncoder\n",
    "from sklearn.model_selection import train_test_split\n",
    "from datetime import datetime\n",
    "import networkx as nx\n",
    "from node2vec import Node2Vec\n",
    "import re\n",
    "from nltk.tokenize import TweetTokenizer\n",
    "from nltk.corpus import stopwords\n",
    "import emoji\n",
    "from tqdm import tqdm\n",
    "from torch.utils.data import Dataset, DataLoader\n",
    "import torch.nn as nn\n",
    "import torch.optim as optim\n",
    "from sklearn.metrics import accuracy_score, precision_recall_fscore_support\n",
    "\n",
    "# Check for GPU availability\n",
    "device = torch.device(\"cuda\" if torch.cuda.is_available() else \"cpu\")\n",
    "print(f\"Using device: {device}\")\n",
    "\n",
    "# Load specialized Twitter model\n",
    "model_name = \"cardiffnlp/twitter-roberta-base\"\n",
    "tokenizer = AutoTokenizer.from_pretrained(model_name)\n",
    "model = AutoModel.from_pretrained(model_name).to(device)"
   ]
  },
  {
   "cell_type": "code",
   "execution_count": 15,
   "id": "f7e380a2",
   "metadata": {
    "execution": {
     "iopub.execute_input": "2024-10-12T08:24:07.715222Z",
     "iopub.status.busy": "2024-10-12T08:24:07.714105Z",
     "iopub.status.idle": "2024-10-12T08:24:07.734505Z",
     "shell.execute_reply": "2024-10-12T08:24:07.733497Z"
    },
    "papermill": {
     "duration": 0.042284,
     "end_time": "2024-10-12T08:24:07.736584",
     "exception": false,
     "start_time": "2024-10-12T08:24:07.694300",
     "status": "completed"
    },
    "tags": []
   },
   "outputs": [],
   "source": [
    "def preprocess_text(text):\n",
    "    # Convert to lowercase\n",
    "    text = text.lower()\n",
    "    # Remove URLs\n",
    "    text = re.sub(r'http\\S+|www\\S+|https\\S+', '', text, flags=re.MULTILINE)\n",
    "    # Remove user mentions\n",
    "    text = re.sub(r'@\\w+', '', text)\n",
    "    # Remove non-letter characters\n",
    "    text = re.sub(r'[^a-zA-Z\\s]', '', text)\n",
    "    # Remove extra spaces\n",
    "    text = re.sub(r'\\s+', ' ', text).strip()\n",
    "    # Remove stopwords\n",
    "    stop_words = set(stopwords.words('english'))\n",
    "    text = ' '.join([word for word in text.split() if word not in stop_words])\n",
    "    return text\n",
    "\n",
    "def get_roberta_embedding(text):\n",
    "    inputs = tokenizer(text, return_tensors=\"pt\", truncation=True, padding=True, max_length=512).to(device)\n",
    "    with torch.no_grad():\n",
    "        outputs = model(**inputs)\n",
    "    return outputs.last_hidden_state.mean(dim=1).cpu().numpy().flatten()\n",
    "\n",
    "def get_datetime_features(date_str):\n",
    "    date = datetime.strptime(date_str, \"%Y-%m-%d %H:%M:%S\")\n",
    "    return np.array([\n",
    "        date.year, date.month, date.day, date.hour, date.minute,\n",
    "        date.weekday(), date.timetuple().tm_yday,\n",
    "        np.sin(2 * np.pi * date.hour / 24),  # Cyclical encoding for hour\n",
    "        np.cos(2 * np.pi * date.hour / 24),\n",
    "        np.sin(2 * np.pi * date.month / 12),  # Cyclical encoding for month\n",
    "        np.cos(2 * np.pi * date.month / 12)\n",
    "    ])\n",
    "\n",
    "def get_categorical_embedding(value, encoder):\n",
    "    return encoder.transform([[value]]).flatten()\n",
    "\n",
    "def create_graph_embedding(df):\n",
    "    G = nx.Graph()\n",
    "    for _, row in df.iterrows():\n",
    "        G.add_edge(row['username'], row['inferred company'])\n",
    "        for mention in re.findall(r'@(\\w+)', row['content']):\n",
    "            G.add_edge(row['username'], mention)\n",
    "    \n",
    "    node2vec = Node2Vec(G, dimensions=64, walk_length=30, num_walks=200, workers=4)\n",
    "    model = node2vec.fit(window=10, min_count=1, batch_words=4)\n",
    "    \n",
    "    def get_node_embedding(node):\n",
    "        try:\n",
    "            return model.wv[node]\n",
    "        except KeyError:\n",
    "            return np.zeros(64)\n",
    "    \n",
    "    df['user_graph_embedding'] = df['username'].apply(get_node_embedding)\n",
    "    df['company_graph_embedding'] = df['inferred company'].apply(get_node_embedding)\n",
    "    return df\n",
    "\n",
    "def extract_hashtags(text):\n",
    "    return ' '.join(re.findall(r'#(\\w+)', text))\n",
    "\n",
    "def extract_emoji(text):\n",
    "    return ' '.join([c for c in text if emoji.is_emoji(c)])"
   ]
  },
  {
   "cell_type": "code",
   "execution_count": 16,
   "id": "858e8f5d",
   "metadata": {
    "execution": {
     "iopub.execute_input": "2024-10-12T08:24:07.770436Z",
     "iopub.status.busy": "2024-10-12T08:24:07.770076Z",
     "iopub.status.idle": "2024-10-12T08:24:07.775184Z",
     "shell.execute_reply": "2024-10-12T08:24:07.774179Z"
    },
    "papermill": {
     "duration": 0.024117,
     "end_time": "2024-10-12T08:24:07.777355",
     "exception": false,
     "start_time": "2024-10-12T08:24:07.753238",
     "status": "completed"
    },
    "tags": []
   },
   "outputs": [],
   "source": [
    "# # Label encode the binned categories\n",
    "# le = LabelEncoder()\n",
    "# y = le.fit_transform(train_data_sampled['likes_binned'])\n",
    "\n",
    "# # Define the groups based on the 'inferred_company'\n",
    "# groups = train_data_sampled['inferred company']\n",
    "\n",
    "# # Initialize GroupShuffleSplit with stratification\n",
    "# gss = StratifiedGroupKFold(n_splits=5,shuffle=True, random_state=42)\n",
    "# train_idx, val_idx = next(gss.split(train_data_sampled, train_data_sampled['likes_binned'], groups))\n",
    "# # Perform the split\n",
    "# # for train_idx, val_idx in gss.split(X_combined, y, groups):\n",
    "# X_train, X_val = train_data_sampled.iloc[train_idx].reset_index(drop=True), train_data_sampled.iloc[val_idx].reset_index(drop=True)\n",
    "# y_train, y_val = train_data_sampled['likes_capped'].iloc[train_idx].reset_index(drop=True), train_data_sampled['likes_capped'].iloc[val_idx].reset_index(drop=True)\n",
    "\n",
    "# # Ensure stratification within the group-based split\n",
    "# # print(f\"Training set class distribution: {np.bincount(y_train)}\")\n",
    "# # print(f\"Validation set class distribution: {np.bincount(y_val)}\")"
   ]
  },
  {
   "cell_type": "code",
   "execution_count": 17,
   "id": "3154ca45",
   "metadata": {
    "execution": {
     "iopub.execute_input": "2024-10-12T08:24:07.817603Z",
     "iopub.status.busy": "2024-10-12T08:24:07.814429Z",
     "iopub.status.idle": "2024-10-12T08:25:20.554014Z",
     "shell.execute_reply": "2024-10-12T08:25:20.553155Z"
    },
    "papermill": {
     "duration": 72.763561,
     "end_time": "2024-10-12T08:25:20.556591",
     "exception": false,
     "start_time": "2024-10-12T08:24:07.793030",
     "status": "completed"
    },
    "tags": []
   },
   "outputs": [
    {
     "name": "stdout",
     "output_type": "stream",
     "text": [
      "Preprocessing train text...\n"
     ]
    }
   ],
   "source": [
    "# Load the data\n",
    "df = train_data_sampled.copy()\n",
    "\n",
    "# Preprocess text and combine data\n",
    "print(\"Preprocessing train text...\")\n",
    "df['processed_content'] = df['content'].apply(preprocess_text)\n",
    "df['hashtags'] = df['content'].apply(extract_hashtags)\n",
    "df['emojis'] = df['content'].apply(extract_emoji)\n",
    "df['combined_text'] = df.apply(lambda row: f\"{row['processed_content']} {row['username']} {row['hashtags']} {row['emojis']}\", axis=1)"
   ]
  },
  {
   "cell_type": "code",
   "execution_count": 18,
   "id": "2b068f23",
   "metadata": {
    "execution": {
     "iopub.execute_input": "2024-10-12T08:25:20.590426Z",
     "iopub.status.busy": "2024-10-12T08:25:20.589980Z",
     "iopub.status.idle": "2024-10-12T09:08:21.201110Z",
     "shell.execute_reply": "2024-10-12T09:08:21.200090Z"
    },
    "papermill": {
     "duration": 2580.737804,
     "end_time": "2024-10-12T09:08:21.310340",
     "exception": false,
     "start_time": "2024-10-12T08:25:20.572536",
     "status": "completed"
    },
    "tags": []
   },
   "outputs": [
    {
     "name": "stdout",
     "output_type": "stream",
     "text": [
      "Generating embeddings...\n"
     ]
    },
    {
     "name": "stderr",
     "output_type": "stream",
     "text": [
      "Generating text embeddings: 100%|██████████| 300000/300000 [43:00<00:00, 116.25it/s]\n"
     ]
    }
   ],
   "source": [
    "# Generate embeddings with progress bar\n",
    "print(\"Generating embeddings...\")\n",
    "embeddings = []\n",
    "for text in tqdm(df['combined_text'], desc=\"Generating text embeddings\"):\n",
    "    embeddings.append(get_roberta_embedding(text))\n",
    "df['combined_embedding'] = embeddings"
   ]
  },
  {
   "cell_type": "code",
   "execution_count": 19,
   "id": "4b896659",
   "metadata": {
    "execution": {
     "iopub.execute_input": "2024-10-12T09:08:25.385810Z",
     "iopub.status.busy": "2024-10-12T09:08:25.385387Z",
     "iopub.status.idle": "2024-10-12T09:08:33.641527Z",
     "shell.execute_reply": "2024-10-12T09:08:33.640517Z"
    },
    "papermill": {
     "duration": 10.243735,
     "end_time": "2024-10-12T09:08:33.643998",
     "exception": false,
     "start_time": "2024-10-12T09:08:23.400263",
     "status": "completed"
    },
    "tags": []
   },
   "outputs": [
    {
     "name": "stdout",
     "output_type": "stream",
     "text": [
      "Generating other embeddings...\n"
     ]
    }
   ],
   "source": [
    "# Generate other embeddings\n",
    "print(\"Generating other embeddings...\")\n",
    "df['datetime_embedding'] = df['date'].apply(get_datetime_features)\n",
    "\n",
    "# company_encoder = OneHotEncoder(sparse=False)\n",
    "# company_encoder.fit(df['inferred company'].values.reshape(-1, 1))\n",
    "# df['company_embedding'] = df['inferred company'].apply(lambda x: get_categorical_embedding(x, company_encoder))"
   ]
  },
  {
   "cell_type": "code",
   "execution_count": 20,
   "id": "51e9b520",
   "metadata": {
    "execution": {
     "iopub.execute_input": "2024-10-12T09:08:37.811538Z",
     "iopub.status.busy": "2024-10-12T09:08:37.811152Z",
     "iopub.status.idle": "2024-10-12T09:49:48.733737Z",
     "shell.execute_reply": "2024-10-12T09:49:48.732720Z"
    },
    "papermill": {
     "duration": 2473.028147,
     "end_time": "2024-10-12T09:49:48.735968",
     "exception": false,
     "start_time": "2024-10-12T09:08:35.707821",
     "status": "completed"
    },
    "scrolled": true,
    "tags": []
   },
   "outputs": [
    {
     "name": "stderr",
     "output_type": "stream",
     "text": [
      "/opt/conda/lib/python3.10/site-packages/transformers/tokenization_utils_base.py:1617: FutureWarning: `clean_up_tokenization_spaces` was not set. It will be set to `True` by default. This behavior will be deprecated in transformers v4.45, and will be then set to `False` by default. For more details check this issue: https://github.com/huggingface/transformers/issues/31884\n",
      "  warnings.warn(\n",
      "Embedding Generation:   0%|          | 0/300000 [00:00<?, ?it/s]Asking to truncate to max_length but no maximum length is provided and the model has no predefined maximum length. Default to no truncation.\n",
      "Embedding Generation: 100%|██████████| 300000/300000 [40:54<00:00, 122.23it/s]\n"
     ]
    },
    {
     "name": "stdout",
     "output_type": "stream",
     "text": [
      "Training features generated successfully!\n",
      "Feature columns for use in neural network:\n",
      "Index(['id', 'date', 'likes', 'content', 'username', 'media',\n",
      "       'inferred company', 'likes_capped', 'likes_binned', 'processed_content',\n",
      "       'hashtags', 'emojis', 'combined_text', 'combined_embedding',\n",
      "       'datetime_embedding', 'tokenized_username', 'username_embedding',\n",
      "       'reduced_username_embedding'],\n",
      "      dtype='object')\n"
     ]
    }
   ],
   "source": [
    "import re\n",
    "import numpy as np\n",
    "import pandas as pd\n",
    "from collections import Counter\n",
    "from transformers import pipeline, AutoTokenizer, AutoModel\n",
    "from sklearn.decomposition import PCA\n",
    "import torch\n",
    "from tqdm import tqdm  # For progress tracking\n",
    "\n",
    "# Load the training data\n",
    "# df = pd.read_csv(\"train_tweets.csv\")\n",
    "\n",
    "device = torch.device('cuda' if torch.cuda.is_available() else 'cpu')  # Check for GPU\n",
    "\n",
    "# 1. Tokenize usernames and perform word frequency analysis\n",
    "def tokenize_username(username):\n",
    "    username = username.replace('_', ' ')\n",
    "    username_parts = re.findall(r'[A-Z][a-z]*|[a-z]+|\\d+', username)\n",
    "    return [word.lower() for word in username_parts]\n",
    "\n",
    "df['tokenized_username'] = df['username'].apply(tokenize_username)\n",
    "\n",
    "# 5. Username Embedding Generation using Pre-trained Model\n",
    "model_name = \"cardiffnlp/twitter-roberta-base\"\n",
    "tokenizer = AutoTokenizer.from_pretrained(model_name)\n",
    "model = AutoModel.from_pretrained(model_name).to(device)  # Move model to GPU\n",
    "\n",
    "def get_username_embedding(username):\n",
    "    tokenized = tokenizer(username, return_tensors=\"pt\", truncation=True, padding=True).to(device)  # Move inputs to GPU\n",
    "    with torch.no_grad():\n",
    "        outputs = model(**tokenized)\n",
    "    return outputs.last_hidden_state.mean(dim=1).cpu().numpy().flatten()  # Move back to CPU\n",
    "\n",
    "# Apply embedding generation with progress tracking\n",
    "df['username_embedding'] = [get_username_embedding(' '.join(tokenize_username(username))) for username in tqdm(df['username'], desc=\"Embedding Generation\")]\n",
    "\n",
    "# 6. Dimensionality Reduction with PCA\n",
    "pca = PCA(n_components=64)\n",
    "df['reduced_username_embedding'] = list(pca.fit_transform(np.stack(df['username_embedding'])))\n",
    "\n",
    "# 7. Feature List\n",
    "print(\"Training features generated successfully!\")\n",
    "print(\"Feature columns for use in neural network:\")\n",
    "print(df.columns)"
   ]
  },
  {
   "cell_type": "code",
   "execution_count": 21,
   "id": "adacfefa",
   "metadata": {
    "execution": {
     "iopub.execute_input": "2024-10-12T09:49:56.724409Z",
     "iopub.status.busy": "2024-10-12T09:49:56.724030Z",
     "iopub.status.idle": "2024-10-12T09:50:05.006941Z",
     "shell.execute_reply": "2024-10-12T09:50:05.005893Z"
    },
    "papermill": {
     "duration": 12.237808,
     "end_time": "2024-10-12T09:50:05.009139",
     "exception": false,
     "start_time": "2024-10-12T09:49:52.771331",
     "status": "completed"
    },
    "tags": []
   },
   "outputs": [
    {
     "name": "stdout",
     "output_type": "stream",
     "text": [
      "Combining embeddings...\n",
      "Shape of rich embedding: (843,)\n"
     ]
    }
   ],
   "source": [
    "# Combine all embeddings\n",
    "print(\"Combining embeddings...\")\n",
    "df['rich_embedding'] = df.apply(lambda row: np.concatenate([\n",
    "    row['combined_embedding'],\n",
    "    row['datetime_embedding'],\n",
    "    row['reduced_username_embedding']\n",
    "    # row['company_embedding']\n",
    "    # row['user_graph_embedding'],\n",
    "    # row['company_graph_embedding']\n",
    "]), axis=1)\n",
    "\n",
    "print(f\"Shape of rich embedding: {df['rich_embedding'].iloc[0].shape}\")"
   ]
  },
  {
   "cell_type": "code",
   "execution_count": 22,
   "id": "b323ee43",
   "metadata": {
    "execution": {
     "iopub.execute_input": "2024-10-12T09:50:12.868667Z",
     "iopub.status.busy": "2024-10-12T09:50:12.867706Z",
     "iopub.status.idle": "2024-10-12T09:50:12.875028Z",
     "shell.execute_reply": "2024-10-12T09:50:12.874050Z"
    },
    "papermill": {
     "duration": 3.944683,
     "end_time": "2024-10-12T09:50:12.876997",
     "exception": false,
     "start_time": "2024-10-12T09:50:08.932314",
     "status": "completed"
    },
    "tags": []
   },
   "outputs": [
    {
     "data": {
      "text/plain": [
       "0.8711718347298265"
      ]
     },
     "execution_count": 22,
     "metadata": {},
     "output_type": "execute_result"
    }
   ],
   "source": [
    "pca.explained_variance_ratio_.sum()"
   ]
  },
  {
   "cell_type": "code",
   "execution_count": 23,
   "id": "67095793",
   "metadata": {
    "execution": {
     "iopub.execute_input": "2024-10-12T09:50:20.776972Z",
     "iopub.status.busy": "2024-10-12T09:50:20.776084Z",
     "iopub.status.idle": "2024-10-12T09:50:20.780639Z",
     "shell.execute_reply": "2024-10-12T09:50:20.779737Z"
    },
    "papermill": {
     "duration": 3.964007,
     "end_time": "2024-10-12T09:50:20.782518",
     "exception": false,
     "start_time": "2024-10-12T09:50:16.818511",
     "status": "completed"
    },
    "tags": []
   },
   "outputs": [],
   "source": [
    "# # Load the data\n",
    "# df = X_val\n",
    "\n",
    "# # Preprocess text and combine data\n",
    "# print(\"Preprocessing val text...\")\n",
    "# df['processed_content'] = df['content'].apply(preprocess_text)\n",
    "# df['hashtags'] = df['content'].apply(extract_hashtags)\n",
    "# df['emojis'] = df['content'].apply(extract_emoji)\n",
    "# df['combined_text'] = df.apply(lambda row: f\"{row['processed_content']} {row['username']} {row['inferred company']} {row['hashtags']} {row['emojis']}\", axis=1)"
   ]
  },
  {
   "cell_type": "code",
   "execution_count": 24,
   "id": "4d57eb03",
   "metadata": {
    "execution": {
     "iopub.execute_input": "2024-10-12T09:50:28.623277Z",
     "iopub.status.busy": "2024-10-12T09:50:28.622616Z",
     "iopub.status.idle": "2024-10-12T09:50:28.626793Z",
     "shell.execute_reply": "2024-10-12T09:50:28.625926Z"
    },
    "papermill": {
     "duration": 3.900229,
     "end_time": "2024-10-12T09:50:28.628821",
     "exception": false,
     "start_time": "2024-10-12T09:50:24.728592",
     "status": "completed"
    },
    "tags": []
   },
   "outputs": [],
   "source": [
    "# # Generate embeddings with progress bar\n",
    "# print(\"Generating embeddings...\")\n",
    "# embeddings = []\n",
    "# for text in tqdm(df['combined_text'], desc=\"Generating text embeddings\"):\n",
    "#     embeddings.append(get_roberta_embedding(text))\n",
    "# df['combined_embedding'] = embeddings"
   ]
  },
  {
   "cell_type": "code",
   "execution_count": 25,
   "id": "0b75a9bd",
   "metadata": {
    "execution": {
     "iopub.execute_input": "2024-10-12T09:50:36.554094Z",
     "iopub.status.busy": "2024-10-12T09:50:36.553077Z",
     "iopub.status.idle": "2024-10-12T09:50:36.558009Z",
     "shell.execute_reply": "2024-10-12T09:50:36.556968Z"
    },
    "papermill": {
     "duration": 3.969434,
     "end_time": "2024-10-12T09:50:36.560172",
     "exception": false,
     "start_time": "2024-10-12T09:50:32.590738",
     "status": "completed"
    },
    "tags": []
   },
   "outputs": [],
   "source": [
    "# # Generate other embeddings\n",
    "# print(\"Generating other embeddings...\")\n",
    "# df['datetime_embedding'] = df['date'].apply(get_datetime_features)\n",
    "\n",
    "# # company_encoder = OneHotEncoder(sparse=False)\n",
    "# # company_encoder.fit(df['inferred company'].values.reshape(-1, 1))\n",
    "# df['company_embedding'] = df['inferred company'].apply(lambda x: get_categorical_embedding(x, company_encoder))"
   ]
  },
  {
   "cell_type": "code",
   "execution_count": 26,
   "id": "7902d3e0",
   "metadata": {
    "execution": {
     "iopub.execute_input": "2024-10-12T09:50:44.463683Z",
     "iopub.status.busy": "2024-10-12T09:50:44.462625Z",
     "iopub.status.idle": "2024-10-12T09:50:44.467884Z",
     "shell.execute_reply": "2024-10-12T09:50:44.466925Z"
    },
    "papermill": {
     "duration": 3.994217,
     "end_time": "2024-10-12T09:50:44.469870",
     "exception": false,
     "start_time": "2024-10-12T09:50:40.475653",
     "status": "completed"
    },
    "tags": []
   },
   "outputs": [],
   "source": [
    "# # Combine all embeddings\n",
    "# print(\"Combining embeddings...\")\n",
    "# df['rich_embedding'] = df.apply(lambda row: np.concatenate([\n",
    "#     row['combined_embedding'],\n",
    "#     row['datetime_embedding'],\n",
    "#     row['company_embedding']\n",
    "#     # row['user_graph_embedding'],\n",
    "#     # row['company_graph_embedding']\n",
    "# ]), axis=1)\n",
    "\n",
    "# print(f\"Shape of rich embedding: {df['rich_embedding'].iloc[0].shape}\")"
   ]
  },
  {
   "cell_type": "code",
   "execution_count": 27,
   "id": "3b304931",
   "metadata": {
    "execution": {
     "iopub.execute_input": "2024-10-12T09:50:52.371146Z",
     "iopub.status.busy": "2024-10-12T09:50:52.370298Z",
     "iopub.status.idle": "2024-10-12T09:50:52.374479Z",
     "shell.execute_reply": "2024-10-12T09:50:52.373531Z"
    },
    "papermill": {
     "duration": 3.980465,
     "end_time": "2024-10-12T09:50:52.376630",
     "exception": false,
     "start_time": "2024-10-12T09:50:48.396165",
     "status": "completed"
    },
    "scrolled": true,
    "tags": []
   },
   "outputs": [],
   "source": [
    "# print(\"Creating graph embeddings...\")\n",
    "# df = create_graph_embedding(df)"
   ]
  },
  {
   "cell_type": "code",
   "execution_count": 28,
   "id": "a077f824",
   "metadata": {
    "execution": {
     "iopub.execute_input": "2024-10-12T09:51:00.201553Z",
     "iopub.status.busy": "2024-10-12T09:51:00.200678Z",
     "iopub.status.idle": "2024-10-12T09:51:01.866168Z",
     "shell.execute_reply": "2024-10-12T09:51:01.865185Z"
    },
    "papermill": {
     "duration": 5.617771,
     "end_time": "2024-10-12T09:51:01.868520",
     "exception": false,
     "start_time": "2024-10-12T09:50:56.250749",
     "status": "completed"
    },
    "tags": []
   },
   "outputs": [],
   "source": [
    "import pandas as pd\n",
    "import numpy as np\n",
    "import torch\n",
    "import torch.nn as nn\n",
    "import torch.optim as optim\n",
    "from torch.utils.data import Dataset, DataLoader\n",
    "from sklearn.model_selection import train_test_split\n",
    "from sklearn.preprocessing import StandardScaler\n",
    "from tqdm import tqdm\n",
    "from sklearn.metrics import mean_squared_error, mean_absolute_error, r2_score\n",
    "\n",
    "\n",
    "\n",
    "# Prepare data for regression\n",
    "X = np.stack(df['rich_embedding'])\n",
    "y = df['likes_capped'].values\n",
    "\n",
    "# Log transform the target variable to handle skewness\n",
    "y = np.log1p(y)  # log1p is used to handle zero values\n",
    "\n",
    "# Split the data\n",
    "X_train, X_val, y_train, y_val = train_test_split(X, y, test_size=0.2, random_state=42)"
   ]
  },
  {
   "cell_type": "code",
   "execution_count": 29,
   "id": "cf3f87c8",
   "metadata": {
    "execution": {
     "iopub.execute_input": "2024-10-12T09:51:09.747844Z",
     "iopub.status.busy": "2024-10-12T09:51:09.747404Z",
     "iopub.status.idle": "2024-10-12T09:51:12.674774Z",
     "shell.execute_reply": "2024-10-12T09:51:12.673773Z"
    },
    "papermill": {
     "duration": 6.887708,
     "end_time": "2024-10-12T09:51:12.677228",
     "exception": false,
     "start_time": "2024-10-12T09:51:05.789520",
     "status": "completed"
    },
    "tags": []
   },
   "outputs": [],
   "source": [
    "# Scale the features\n",
    "scaler = StandardScaler()\n",
    "X_train_scaled = scaler.fit_transform(X_train)\n",
    "X_val_scaled = scaler.transform(X_val)"
   ]
  },
  {
   "cell_type": "code",
   "execution_count": 30,
   "id": "24c2a9ca",
   "metadata": {
    "execution": {
     "iopub.execute_input": "2024-10-12T09:51:20.555629Z",
     "iopub.status.busy": "2024-10-12T09:51:20.555235Z",
     "iopub.status.idle": "2024-10-12T09:51:20.565228Z",
     "shell.execute_reply": "2024-10-12T09:51:20.564457Z"
    },
    "papermill": {
     "duration": 3.971104,
     "end_time": "2024-10-12T09:51:20.567215",
     "exception": false,
     "start_time": "2024-10-12T09:51:16.596111",
     "status": "completed"
    },
    "tags": []
   },
   "outputs": [],
   "source": [
    "# Define a neural network for regression\n",
    "class TweetLikesRegressor(nn.Module):\n",
    "    def __init__(self, input_dim, hidden_dim):\n",
    "        super(TweetLikesRegressor, self).__init__()\n",
    "        self.fc1 = nn.Linear(input_dim, hidden_dim)\n",
    "        self.fc2 = nn.Linear(hidden_dim, hidden_dim // 2)\n",
    "        self.fc3 = nn.Linear(hidden_dim // 2, 1)\n",
    "        self.relu = nn.ReLU()\n",
    "        self.dropout = nn.Dropout(0.3)\n",
    "    \n",
    "    def forward(self, x):\n",
    "        x = self.relu(self.fc1(x))\n",
    "        x = self.dropout(x)\n",
    "        x = self.relu(self.fc2(x))\n",
    "        x = self.dropout(x)\n",
    "        x = self.fc3(x)\n",
    "        return x.squeeze()\n",
    "\n",
    "# Create dataset and dataloader\n",
    "class TweetDataset(Dataset):\n",
    "    def __init__(self, embeddings, likes):\n",
    "        self.embeddings = torch.tensor(embeddings, dtype=torch.float32)\n",
    "        self.likes = torch.tensor(likes, dtype=torch.float32)\n",
    "    \n",
    "    def __len__(self):\n",
    "        return len(self.likes)\n",
    "    \n",
    "    def __getitem__(self, idx):\n",
    "        return self.embeddings[idx], self.likes[idx]\n",
    "\n",
    "# Hyperparameters\n",
    "input_dim = X_train.shape[1]\n",
    "hidden_dim = 256\n",
    "batch_size = 64\n",
    "num_epochs = 100\n",
    "learning_rate = 0.001"
   ]
  },
  {
   "cell_type": "code",
   "execution_count": 31,
   "id": "b865941a",
   "metadata": {
    "execution": {
     "iopub.execute_input": "2024-10-12T09:51:28.363638Z",
     "iopub.status.busy": "2024-10-12T09:51:28.363234Z",
     "iopub.status.idle": "2024-10-12T09:51:28.374799Z",
     "shell.execute_reply": "2024-10-12T09:51:28.374049Z"
    },
    "papermill": {
     "duration": 3.876847,
     "end_time": "2024-10-12T09:51:28.376610",
     "exception": false,
     "start_time": "2024-10-12T09:51:24.499763",
     "status": "completed"
    },
    "tags": []
   },
   "outputs": [],
   "source": [
    "# Create model, optimizer, and loss function\n",
    "model = TweetLikesRegressor(input_dim, hidden_dim).to(device)\n",
    "optimizer = optim.Adam(model.parameters(), lr=learning_rate)\n",
    "criterion = nn.MSELoss()"
   ]
  },
  {
   "cell_type": "code",
   "execution_count": 32,
   "id": "82e22fe7",
   "metadata": {
    "execution": {
     "iopub.execute_input": "2024-10-12T09:51:36.336848Z",
     "iopub.status.busy": "2024-10-12T09:51:36.336396Z",
     "iopub.status.idle": "2024-10-12T09:51:36.771975Z",
     "shell.execute_reply": "2024-10-12T09:51:36.771098Z"
    },
    "papermill": {
     "duration": 4.449333,
     "end_time": "2024-10-12T09:51:36.774190",
     "exception": false,
     "start_time": "2024-10-12T09:51:32.324857",
     "status": "completed"
    },
    "tags": []
   },
   "outputs": [],
   "source": [
    "# Create datasets and dataloaders\n",
    "train_dataset = TweetDataset(X_train_scaled, y_train)\n",
    "val_dataset = TweetDataset(X_val_scaled, y_val)\n",
    "train_loader = DataLoader(train_dataset, batch_size=batch_size, shuffle=True)\n",
    "val_loader = DataLoader(val_dataset, batch_size=batch_size)"
   ]
  },
  {
   "cell_type": "code",
   "execution_count": 33,
   "id": "9e313a4b",
   "metadata": {
    "execution": {
     "iopub.execute_input": "2024-10-12T09:51:44.655874Z",
     "iopub.status.busy": "2024-10-12T09:51:44.655435Z",
     "iopub.status.idle": "2024-10-12T10:07:54.132662Z",
     "shell.execute_reply": "2024-10-12T10:07:54.131713Z"
    },
    "papermill": {
     "duration": 975.683624,
     "end_time": "2024-10-12T10:07:56.467039",
     "exception": false,
     "start_time": "2024-10-12T09:51:40.783415",
     "status": "completed"
    },
    "scrolled": true,
    "tags": []
   },
   "outputs": [
    {
     "name": "stdout",
     "output_type": "stream",
     "text": [
      "Training regression model...\n"
     ]
    },
    {
     "name": "stderr",
     "output_type": "stream",
     "text": [
      "Epoch 1/100: 100%|██████████| 3750/3750 [00:09<00:00, 415.72it/s]\n"
     ]
    },
    {
     "name": "stdout",
     "output_type": "stream",
     "text": [
      "Epoch 1/100, Loss: 1.8216\n",
      "Val MSE: 1.2922, Val MAE: 0.8122, Val R2: 0.8092\n",
      "New best model saved!\n"
     ]
    },
    {
     "name": "stderr",
     "output_type": "stream",
     "text": [
      "Epoch 2/100: 100%|██████████| 3750/3750 [00:08<00:00, 435.88it/s]\n"
     ]
    },
    {
     "name": "stdout",
     "output_type": "stream",
     "text": [
      "Epoch 2/100, Loss: 1.3643\n",
      "Val MSE: 1.0872, Val MAE: 0.7657, Val R2: 0.8395\n",
      "New best model saved!\n"
     ]
    },
    {
     "name": "stderr",
     "output_type": "stream",
     "text": [
      "Epoch 3/100: 100%|██████████| 3750/3750 [00:08<00:00, 436.88it/s]\n"
     ]
    },
    {
     "name": "stdout",
     "output_type": "stream",
     "text": [
      "Epoch 3/100, Loss: 1.2211\n",
      "Val MSE: 0.9616, Val MAE: 0.7160, Val R2: 0.8580\n",
      "New best model saved!\n"
     ]
    },
    {
     "name": "stderr",
     "output_type": "stream",
     "text": [
      "Epoch 4/100: 100%|██████████| 3750/3750 [00:08<00:00, 421.68it/s]\n"
     ]
    },
    {
     "name": "stdout",
     "output_type": "stream",
     "text": [
      "Epoch 4/100, Loss: 1.1250\n",
      "Val MSE: 0.9018, Val MAE: 0.6774, Val R2: 0.8669\n",
      "New best model saved!\n"
     ]
    },
    {
     "name": "stderr",
     "output_type": "stream",
     "text": [
      "Epoch 5/100: 100%|██████████| 3750/3750 [00:08<00:00, 433.90it/s]\n"
     ]
    },
    {
     "name": "stdout",
     "output_type": "stream",
     "text": [
      "Epoch 5/100, Loss: 1.0615\n",
      "Val MSE: 0.8683, Val MAE: 0.6770, Val R2: 0.8718\n",
      "New best model saved!\n"
     ]
    },
    {
     "name": "stderr",
     "output_type": "stream",
     "text": [
      "Epoch 6/100: 100%|██████████| 3750/3750 [00:09<00:00, 413.11it/s]\n"
     ]
    },
    {
     "name": "stdout",
     "output_type": "stream",
     "text": [
      "Epoch 6/100, Loss: 1.0150\n",
      "Val MSE: 0.8238, Val MAE: 0.6447, Val R2: 0.8784\n",
      "New best model saved!\n"
     ]
    },
    {
     "name": "stderr",
     "output_type": "stream",
     "text": [
      "Epoch 7/100: 100%|██████████| 3750/3750 [00:09<00:00, 401.26it/s]\n"
     ]
    },
    {
     "name": "stdout",
     "output_type": "stream",
     "text": [
      "Epoch 7/100, Loss: 0.9778\n",
      "Val MSE: 0.8893, Val MAE: 0.6722, Val R2: 0.8687\n"
     ]
    },
    {
     "name": "stderr",
     "output_type": "stream",
     "text": [
      "Epoch 8/100: 100%|██████████| 3750/3750 [00:08<00:00, 429.55it/s]\n"
     ]
    },
    {
     "name": "stdout",
     "output_type": "stream",
     "text": [
      "Epoch 8/100, Loss: 0.9474\n",
      "Val MSE: 0.8135, Val MAE: 0.6361, Val R2: 0.8799\n",
      "New best model saved!\n"
     ]
    },
    {
     "name": "stderr",
     "output_type": "stream",
     "text": [
      "Epoch 9/100: 100%|██████████| 3750/3750 [00:08<00:00, 429.57it/s]\n"
     ]
    },
    {
     "name": "stdout",
     "output_type": "stream",
     "text": [
      "Epoch 9/100, Loss: 0.9246\n",
      "Val MSE: 0.7891, Val MAE: 0.6250, Val R2: 0.8835\n",
      "New best model saved!\n"
     ]
    },
    {
     "name": "stderr",
     "output_type": "stream",
     "text": [
      "Epoch 10/100: 100%|██████████| 3750/3750 [00:08<00:00, 428.85it/s]\n"
     ]
    },
    {
     "name": "stdout",
     "output_type": "stream",
     "text": [
      "Epoch 10/100, Loss: 0.9014\n",
      "Val MSE: 0.7726, Val MAE: 0.6332, Val R2: 0.8859\n",
      "New best model saved!\n"
     ]
    },
    {
     "name": "stderr",
     "output_type": "stream",
     "text": [
      "Epoch 11/100: 100%|██████████| 3750/3750 [00:09<00:00, 414.58it/s]\n"
     ]
    },
    {
     "name": "stdout",
     "output_type": "stream",
     "text": [
      "Epoch 11/100, Loss: 0.8838\n",
      "Val MSE: 0.8105, Val MAE: 0.6384, Val R2: 0.8803\n"
     ]
    },
    {
     "name": "stderr",
     "output_type": "stream",
     "text": [
      "Epoch 12/100: 100%|██████████| 3750/3750 [00:08<00:00, 430.35it/s]\n"
     ]
    },
    {
     "name": "stdout",
     "output_type": "stream",
     "text": [
      "Epoch 12/100, Loss: 0.8630\n",
      "Val MSE: 0.7798, Val MAE: 0.6209, Val R2: 0.8849\n"
     ]
    },
    {
     "name": "stderr",
     "output_type": "stream",
     "text": [
      "Epoch 13/100: 100%|██████████| 3750/3750 [00:08<00:00, 430.56it/s]\n"
     ]
    },
    {
     "name": "stdout",
     "output_type": "stream",
     "text": [
      "Epoch 13/100, Loss: 0.8516\n",
      "Val MSE: 0.8081, Val MAE: 0.6642, Val R2: 0.8807\n"
     ]
    },
    {
     "name": "stderr",
     "output_type": "stream",
     "text": [
      "Epoch 14/100: 100%|██████████| 3750/3750 [00:08<00:00, 425.09it/s]\n"
     ]
    },
    {
     "name": "stdout",
     "output_type": "stream",
     "text": [
      "Epoch 14/100, Loss: 0.8369\n",
      "Val MSE: 0.7747, Val MAE: 0.6534, Val R2: 0.8856\n"
     ]
    },
    {
     "name": "stderr",
     "output_type": "stream",
     "text": [
      "Epoch 15/100: 100%|██████████| 3750/3750 [00:08<00:00, 430.43it/s]\n"
     ]
    },
    {
     "name": "stdout",
     "output_type": "stream",
     "text": [
      "Epoch 15/100, Loss: 0.8279\n",
      "Val MSE: 0.7802, Val MAE: 0.6537, Val R2: 0.8848\n"
     ]
    },
    {
     "name": "stderr",
     "output_type": "stream",
     "text": [
      "Epoch 16/100: 100%|██████████| 3750/3750 [00:08<00:00, 431.76it/s]\n"
     ]
    },
    {
     "name": "stdout",
     "output_type": "stream",
     "text": [
      "Epoch 16/100, Loss: 0.8134\n",
      "Val MSE: 0.7898, Val MAE: 0.6274, Val R2: 0.8834\n"
     ]
    },
    {
     "name": "stderr",
     "output_type": "stream",
     "text": [
      "Epoch 17/100: 100%|██████████| 3750/3750 [00:08<00:00, 428.60it/s]\n"
     ]
    },
    {
     "name": "stdout",
     "output_type": "stream",
     "text": [
      "Epoch 17/100, Loss: 0.8051\n",
      "Val MSE: 0.7412, Val MAE: 0.6247, Val R2: 0.8906\n",
      "New best model saved!\n"
     ]
    },
    {
     "name": "stderr",
     "output_type": "stream",
     "text": [
      "Epoch 18/100: 100%|██████████| 3750/3750 [00:08<00:00, 425.99it/s]\n"
     ]
    },
    {
     "name": "stdout",
     "output_type": "stream",
     "text": [
      "Epoch 18/100, Loss: 0.7935\n",
      "Val MSE: 0.7545, Val MAE: 0.6293, Val R2: 0.8886\n"
     ]
    },
    {
     "name": "stderr",
     "output_type": "stream",
     "text": [
      "Epoch 19/100: 100%|██████████| 3750/3750 [00:08<00:00, 433.63it/s]\n"
     ]
    },
    {
     "name": "stdout",
     "output_type": "stream",
     "text": [
      "Epoch 19/100, Loss: 0.7848\n",
      "Val MSE: 0.7644, Val MAE: 0.6334, Val R2: 0.8871\n"
     ]
    },
    {
     "name": "stderr",
     "output_type": "stream",
     "text": [
      "Epoch 20/100: 100%|██████████| 3750/3750 [00:08<00:00, 424.07it/s]\n"
     ]
    },
    {
     "name": "stdout",
     "output_type": "stream",
     "text": [
      "Epoch 20/100, Loss: 0.7771\n",
      "Val MSE: 0.7754, Val MAE: 0.6276, Val R2: 0.8855\n"
     ]
    },
    {
     "name": "stderr",
     "output_type": "stream",
     "text": [
      "Epoch 21/100: 100%|██████████| 3750/3750 [00:08<00:00, 421.82it/s]\n"
     ]
    },
    {
     "name": "stdout",
     "output_type": "stream",
     "text": [
      "Epoch 21/100, Loss: 0.7701\n",
      "Val MSE: 0.7462, Val MAE: 0.6097, Val R2: 0.8898\n"
     ]
    },
    {
     "name": "stderr",
     "output_type": "stream",
     "text": [
      "Epoch 22/100: 100%|██████████| 3750/3750 [00:08<00:00, 436.90it/s]\n"
     ]
    },
    {
     "name": "stdout",
     "output_type": "stream",
     "text": [
      "Epoch 22/100, Loss: 0.7610\n",
      "Val MSE: 0.7439, Val MAE: 0.6167, Val R2: 0.8902\n"
     ]
    },
    {
     "name": "stderr",
     "output_type": "stream",
     "text": [
      "Epoch 23/100: 100%|██████████| 3750/3750 [00:08<00:00, 438.53it/s]\n"
     ]
    },
    {
     "name": "stdout",
     "output_type": "stream",
     "text": [
      "Epoch 23/100, Loss: 0.7557\n",
      "Val MSE: 0.7332, Val MAE: 0.6169, Val R2: 0.8917\n",
      "New best model saved!\n"
     ]
    },
    {
     "name": "stderr",
     "output_type": "stream",
     "text": [
      "Epoch 24/100: 100%|██████████| 3750/3750 [00:08<00:00, 437.46it/s]\n"
     ]
    },
    {
     "name": "stdout",
     "output_type": "stream",
     "text": [
      "Epoch 24/100, Loss: 0.7507\n",
      "Val MSE: 0.7620, Val MAE: 0.6071, Val R2: 0.8875\n"
     ]
    },
    {
     "name": "stderr",
     "output_type": "stream",
     "text": [
      "Epoch 25/100: 100%|██████████| 3750/3750 [00:08<00:00, 427.47it/s]\n"
     ]
    },
    {
     "name": "stdout",
     "output_type": "stream",
     "text": [
      "Epoch 25/100, Loss: 0.7451\n",
      "Val MSE: 0.7222, Val MAE: 0.6134, Val R2: 0.8934\n",
      "New best model saved!\n"
     ]
    },
    {
     "name": "stderr",
     "output_type": "stream",
     "text": [
      "Epoch 26/100: 100%|██████████| 3750/3750 [00:08<00:00, 438.59it/s]\n"
     ]
    },
    {
     "name": "stdout",
     "output_type": "stream",
     "text": [
      "Epoch 26/100, Loss: 0.7354\n",
      "Val MSE: 0.7375, Val MAE: 0.6043, Val R2: 0.8911\n"
     ]
    },
    {
     "name": "stderr",
     "output_type": "stream",
     "text": [
      "Epoch 27/100: 100%|██████████| 3750/3750 [00:08<00:00, 433.80it/s]\n"
     ]
    },
    {
     "name": "stdout",
     "output_type": "stream",
     "text": [
      "Epoch 27/100, Loss: 0.7335\n",
      "Val MSE: 0.7454, Val MAE: 0.6343, Val R2: 0.8899\n"
     ]
    },
    {
     "name": "stderr",
     "output_type": "stream",
     "text": [
      "Epoch 28/100: 100%|██████████| 3750/3750 [00:08<00:00, 438.29it/s]\n"
     ]
    },
    {
     "name": "stdout",
     "output_type": "stream",
     "text": [
      "Epoch 28/100, Loss: 0.7249\n",
      "Val MSE: 0.7331, Val MAE: 0.6147, Val R2: 0.8918\n"
     ]
    },
    {
     "name": "stderr",
     "output_type": "stream",
     "text": [
      "Epoch 29/100: 100%|██████████| 3750/3750 [00:08<00:00, 434.67it/s]\n"
     ]
    },
    {
     "name": "stdout",
     "output_type": "stream",
     "text": [
      "Epoch 29/100, Loss: 0.7222\n",
      "Val MSE: 0.7428, Val MAE: 0.6010, Val R2: 0.8903\n"
     ]
    },
    {
     "name": "stderr",
     "output_type": "stream",
     "text": [
      "Epoch 30/100: 100%|██████████| 3750/3750 [00:08<00:00, 434.08it/s]\n"
     ]
    },
    {
     "name": "stdout",
     "output_type": "stream",
     "text": [
      "Epoch 30/100, Loss: 0.7181\n",
      "Val MSE: 0.7468, Val MAE: 0.6320, Val R2: 0.8897\n"
     ]
    },
    {
     "name": "stderr",
     "output_type": "stream",
     "text": [
      "Epoch 31/100: 100%|██████████| 3750/3750 [00:08<00:00, 437.52it/s]\n"
     ]
    },
    {
     "name": "stdout",
     "output_type": "stream",
     "text": [
      "Epoch 31/100, Loss: 0.7105\n",
      "Val MSE: 0.7273, Val MAE: 0.6154, Val R2: 0.8926\n"
     ]
    },
    {
     "name": "stderr",
     "output_type": "stream",
     "text": [
      "Epoch 32/100: 100%|██████████| 3750/3750 [00:08<00:00, 427.46it/s]\n"
     ]
    },
    {
     "name": "stdout",
     "output_type": "stream",
     "text": [
      "Epoch 32/100, Loss: 0.7077\n",
      "Val MSE: 0.8053, Val MAE: 0.6724, Val R2: 0.8811\n"
     ]
    },
    {
     "name": "stderr",
     "output_type": "stream",
     "text": [
      "Epoch 33/100: 100%|██████████| 3750/3750 [00:08<00:00, 433.17it/s]\n"
     ]
    },
    {
     "name": "stdout",
     "output_type": "stream",
     "text": [
      "Epoch 33/100, Loss: 0.7016\n",
      "Val MSE: 0.7458, Val MAE: 0.6369, Val R2: 0.8899\n"
     ]
    },
    {
     "name": "stderr",
     "output_type": "stream",
     "text": [
      "Epoch 34/100: 100%|██████████| 3750/3750 [00:08<00:00, 434.77it/s]\n"
     ]
    },
    {
     "name": "stdout",
     "output_type": "stream",
     "text": [
      "Epoch 34/100, Loss: 0.6967\n",
      "Val MSE: 0.7205, Val MAE: 0.6110, Val R2: 0.8936\n",
      "New best model saved!\n"
     ]
    },
    {
     "name": "stderr",
     "output_type": "stream",
     "text": [
      "Epoch 35/100: 100%|██████████| 3750/3750 [00:08<00:00, 435.09it/s]\n"
     ]
    },
    {
     "name": "stdout",
     "output_type": "stream",
     "text": [
      "Epoch 35/100, Loss: 0.6925\n",
      "Val MSE: 0.7252, Val MAE: 0.6071, Val R2: 0.8929\n"
     ]
    },
    {
     "name": "stderr",
     "output_type": "stream",
     "text": [
      "Epoch 36/100: 100%|██████████| 3750/3750 [00:08<00:00, 429.67it/s]\n"
     ]
    },
    {
     "name": "stdout",
     "output_type": "stream",
     "text": [
      "Epoch 36/100, Loss: 0.6891\n",
      "Val MSE: 0.7265, Val MAE: 0.6180, Val R2: 0.8927\n"
     ]
    },
    {
     "name": "stderr",
     "output_type": "stream",
     "text": [
      "Epoch 37/100: 100%|██████████| 3750/3750 [00:08<00:00, 434.28it/s]\n"
     ]
    },
    {
     "name": "stdout",
     "output_type": "stream",
     "text": [
      "Epoch 37/100, Loss: 0.6821\n",
      "Val MSE: 0.8655, Val MAE: 0.6596, Val R2: 0.8722\n"
     ]
    },
    {
     "name": "stderr",
     "output_type": "stream",
     "text": [
      "Epoch 38/100: 100%|██████████| 3750/3750 [00:08<00:00, 438.08it/s]\n"
     ]
    },
    {
     "name": "stdout",
     "output_type": "stream",
     "text": [
      "Epoch 38/100, Loss: 0.6785\n",
      "Val MSE: 0.7319, Val MAE: 0.5942, Val R2: 0.8919\n"
     ]
    },
    {
     "name": "stderr",
     "output_type": "stream",
     "text": [
      "Epoch 39/100: 100%|██████████| 3750/3750 [00:08<00:00, 431.73it/s]\n"
     ]
    },
    {
     "name": "stdout",
     "output_type": "stream",
     "text": [
      "Epoch 39/100, Loss: 0.6747\n",
      "Val MSE: 0.7432, Val MAE: 0.6156, Val R2: 0.8903\n"
     ]
    },
    {
     "name": "stderr",
     "output_type": "stream",
     "text": [
      "Epoch 40/100: 100%|██████████| 3750/3750 [00:08<00:00, 431.75it/s]\n"
     ]
    },
    {
     "name": "stdout",
     "output_type": "stream",
     "text": [
      "Epoch 40/100, Loss: 0.6721\n",
      "Val MSE: 0.7271, Val MAE: 0.5995, Val R2: 0.8927\n"
     ]
    },
    {
     "name": "stderr",
     "output_type": "stream",
     "text": [
      "Epoch 41/100: 100%|██████████| 3750/3750 [00:08<00:00, 436.87it/s]\n"
     ]
    },
    {
     "name": "stdout",
     "output_type": "stream",
     "text": [
      "Epoch 41/100, Loss: 0.6705\n",
      "Val MSE: 0.7530, Val MAE: 0.6168, Val R2: 0.8888\n"
     ]
    },
    {
     "name": "stderr",
     "output_type": "stream",
     "text": [
      "Epoch 42/100: 100%|██████████| 3750/3750 [00:08<00:00, 437.32it/s]\n"
     ]
    },
    {
     "name": "stdout",
     "output_type": "stream",
     "text": [
      "Epoch 42/100, Loss: 0.6690\n",
      "Val MSE: 0.7129, Val MAE: 0.5958, Val R2: 0.8947\n",
      "New best model saved!\n"
     ]
    },
    {
     "name": "stderr",
     "output_type": "stream",
     "text": [
      "Epoch 43/100: 100%|██████████| 3750/3750 [00:09<00:00, 408.66it/s]\n"
     ]
    },
    {
     "name": "stdout",
     "output_type": "stream",
     "text": [
      "Epoch 43/100, Loss: 0.6612\n",
      "Val MSE: 0.7168, Val MAE: 0.5914, Val R2: 0.8942\n"
     ]
    },
    {
     "name": "stderr",
     "output_type": "stream",
     "text": [
      "Epoch 44/100: 100%|██████████| 3750/3750 [00:08<00:00, 435.44it/s]\n"
     ]
    },
    {
     "name": "stdout",
     "output_type": "stream",
     "text": [
      "Epoch 44/100, Loss: 0.6581\n",
      "Val MSE: 0.7239, Val MAE: 0.6162, Val R2: 0.8931\n"
     ]
    },
    {
     "name": "stderr",
     "output_type": "stream",
     "text": [
      "Epoch 45/100: 100%|██████████| 3750/3750 [00:08<00:00, 436.19it/s]\n"
     ]
    },
    {
     "name": "stdout",
     "output_type": "stream",
     "text": [
      "Epoch 45/100, Loss: 0.6529\n",
      "Val MSE: 0.7291, Val MAE: 0.6235, Val R2: 0.8924\n"
     ]
    },
    {
     "name": "stderr",
     "output_type": "stream",
     "text": [
      "Epoch 46/100: 100%|██████████| 3750/3750 [00:08<00:00, 434.96it/s]\n"
     ]
    },
    {
     "name": "stdout",
     "output_type": "stream",
     "text": [
      "Epoch 46/100, Loss: 0.6522\n",
      "Val MSE: 0.7159, Val MAE: 0.5931, Val R2: 0.8943\n"
     ]
    },
    {
     "name": "stderr",
     "output_type": "stream",
     "text": [
      "Epoch 47/100: 100%|██████████| 3750/3750 [00:08<00:00, 425.14it/s]\n"
     ]
    },
    {
     "name": "stdout",
     "output_type": "stream",
     "text": [
      "Epoch 47/100, Loss: 0.6480\n",
      "Val MSE: 0.7197, Val MAE: 0.6106, Val R2: 0.8937\n"
     ]
    },
    {
     "name": "stderr",
     "output_type": "stream",
     "text": [
      "Epoch 48/100: 100%|██████████| 3750/3750 [00:08<00:00, 437.56it/s]\n"
     ]
    },
    {
     "name": "stdout",
     "output_type": "stream",
     "text": [
      "Epoch 48/100, Loss: 0.6470\n",
      "Val MSE: 0.7143, Val MAE: 0.5982, Val R2: 0.8945\n"
     ]
    },
    {
     "name": "stderr",
     "output_type": "stream",
     "text": [
      "Epoch 49/100: 100%|██████████| 3750/3750 [00:08<00:00, 436.12it/s]\n"
     ]
    },
    {
     "name": "stdout",
     "output_type": "stream",
     "text": [
      "Epoch 49/100, Loss: 0.6427\n",
      "Val MSE: 0.7295, Val MAE: 0.6004, Val R2: 0.8923\n"
     ]
    },
    {
     "name": "stderr",
     "output_type": "stream",
     "text": [
      "Epoch 50/100: 100%|██████████| 3750/3750 [00:08<00:00, 428.42it/s]\n"
     ]
    },
    {
     "name": "stdout",
     "output_type": "stream",
     "text": [
      "Epoch 50/100, Loss: 0.6437\n",
      "Val MSE: 0.7274, Val MAE: 0.5976, Val R2: 0.8926\n"
     ]
    },
    {
     "name": "stderr",
     "output_type": "stream",
     "text": [
      "Epoch 51/100: 100%|██████████| 3750/3750 [00:08<00:00, 435.41it/s]\n"
     ]
    },
    {
     "name": "stdout",
     "output_type": "stream",
     "text": [
      "Epoch 51/100, Loss: 0.6381\n",
      "Val MSE: 0.7152, Val MAE: 0.6075, Val R2: 0.8944\n"
     ]
    },
    {
     "name": "stderr",
     "output_type": "stream",
     "text": [
      "Epoch 52/100: 100%|██████████| 3750/3750 [00:08<00:00, 436.22it/s]\n"
     ]
    },
    {
     "name": "stdout",
     "output_type": "stream",
     "text": [
      "Epoch 52/100, Loss: 0.6356\n",
      "Val MSE: 0.7140, Val MAE: 0.6070, Val R2: 0.8946\n"
     ]
    },
    {
     "name": "stderr",
     "output_type": "stream",
     "text": [
      "Epoch 53/100: 100%|██████████| 3750/3750 [00:08<00:00, 431.08it/s]\n"
     ]
    },
    {
     "name": "stdout",
     "output_type": "stream",
     "text": [
      "Epoch 53/100, Loss: 0.6362\n",
      "Val MSE: 0.7186, Val MAE: 0.5931, Val R2: 0.8939\n"
     ]
    },
    {
     "name": "stderr",
     "output_type": "stream",
     "text": [
      "Epoch 54/100: 100%|██████████| 3750/3750 [00:08<00:00, 436.23it/s]\n"
     ]
    },
    {
     "name": "stdout",
     "output_type": "stream",
     "text": [
      "Epoch 54/100, Loss: 0.6279\n",
      "Val MSE: 0.7309, Val MAE: 0.6229, Val R2: 0.8921\n"
     ]
    },
    {
     "name": "stderr",
     "output_type": "stream",
     "text": [
      "Epoch 55/100: 100%|██████████| 3750/3750 [00:08<00:00, 439.64it/s]\n"
     ]
    },
    {
     "name": "stdout",
     "output_type": "stream",
     "text": [
      "Epoch 55/100, Loss: 0.6254\n",
      "Val MSE: 0.7086, Val MAE: 0.5860, Val R2: 0.8954\n",
      "New best model saved!\n"
     ]
    },
    {
     "name": "stderr",
     "output_type": "stream",
     "text": [
      "Epoch 56/100: 100%|██████████| 3750/3750 [00:08<00:00, 435.85it/s]\n"
     ]
    },
    {
     "name": "stdout",
     "output_type": "stream",
     "text": [
      "Epoch 56/100, Loss: 0.6245\n",
      "Val MSE: 0.7304, Val MAE: 0.6187, Val R2: 0.8922\n"
     ]
    },
    {
     "name": "stderr",
     "output_type": "stream",
     "text": [
      "Epoch 57/100: 100%|██████████| 3750/3750 [00:08<00:00, 425.11it/s]\n"
     ]
    },
    {
     "name": "stdout",
     "output_type": "stream",
     "text": [
      "Epoch 57/100, Loss: 0.6156\n",
      "Val MSE: 0.7520, Val MAE: 0.6131, Val R2: 0.8890\n"
     ]
    },
    {
     "name": "stderr",
     "output_type": "stream",
     "text": [
      "Epoch 58/100: 100%|██████████| 3750/3750 [00:08<00:00, 440.37it/s]\n"
     ]
    },
    {
     "name": "stdout",
     "output_type": "stream",
     "text": [
      "Epoch 58/100, Loss: 0.6228\n",
      "Val MSE: 0.7473, Val MAE: 0.6357, Val R2: 0.8897\n"
     ]
    },
    {
     "name": "stderr",
     "output_type": "stream",
     "text": [
      "Epoch 59/100: 100%|██████████| 3750/3750 [00:08<00:00, 440.20it/s]\n"
     ]
    },
    {
     "name": "stdout",
     "output_type": "stream",
     "text": [
      "Epoch 59/100, Loss: 0.6178\n",
      "Val MSE: 0.7216, Val MAE: 0.5956, Val R2: 0.8935\n"
     ]
    },
    {
     "name": "stderr",
     "output_type": "stream",
     "text": [
      "Epoch 60/100: 100%|██████████| 3750/3750 [00:08<00:00, 434.48it/s]\n"
     ]
    },
    {
     "name": "stdout",
     "output_type": "stream",
     "text": [
      "Epoch 60/100, Loss: 0.6119\n",
      "Val MSE: 0.7094, Val MAE: 0.5930, Val R2: 0.8953\n"
     ]
    },
    {
     "name": "stderr",
     "output_type": "stream",
     "text": [
      "Epoch 61/100: 100%|██████████| 3750/3750 [00:08<00:00, 428.16it/s]\n"
     ]
    },
    {
     "name": "stdout",
     "output_type": "stream",
     "text": [
      "Epoch 61/100, Loss: 0.6116\n",
      "Val MSE: 0.7246, Val MAE: 0.6112, Val R2: 0.8930\n"
     ]
    },
    {
     "name": "stderr",
     "output_type": "stream",
     "text": [
      "Epoch 62/100: 100%|██████████| 3750/3750 [00:08<00:00, 436.15it/s]\n"
     ]
    },
    {
     "name": "stdout",
     "output_type": "stream",
     "text": [
      "Epoch 62/100, Loss: 0.6099\n",
      "Val MSE: 0.7145, Val MAE: 0.5965, Val R2: 0.8945\n"
     ]
    },
    {
     "name": "stderr",
     "output_type": "stream",
     "text": [
      "Epoch 63/100: 100%|██████████| 3750/3750 [00:08<00:00, 432.62it/s]\n"
     ]
    },
    {
     "name": "stdout",
     "output_type": "stream",
     "text": [
      "Epoch 63/100, Loss: 0.6050\n",
      "Val MSE: 0.7311, Val MAE: 0.5964, Val R2: 0.8920\n"
     ]
    },
    {
     "name": "stderr",
     "output_type": "stream",
     "text": [
      "Epoch 64/100: 100%|██████████| 3750/3750 [00:08<00:00, 436.82it/s]\n"
     ]
    },
    {
     "name": "stdout",
     "output_type": "stream",
     "text": [
      "Epoch 64/100, Loss: 0.6000\n",
      "Val MSE: 0.7191, Val MAE: 0.6024, Val R2: 0.8938\n"
     ]
    },
    {
     "name": "stderr",
     "output_type": "stream",
     "text": [
      "Epoch 65/100: 100%|██████████| 3750/3750 [00:08<00:00, 433.82it/s]\n"
     ]
    },
    {
     "name": "stdout",
     "output_type": "stream",
     "text": [
      "Epoch 65/100, Loss: 0.6033\n",
      "Val MSE: 0.7146, Val MAE: 0.5957, Val R2: 0.8945\n"
     ]
    },
    {
     "name": "stderr",
     "output_type": "stream",
     "text": [
      "Epoch 66/100: 100%|██████████| 3750/3750 [00:08<00:00, 432.50it/s]\n"
     ]
    },
    {
     "name": "stdout",
     "output_type": "stream",
     "text": [
      "Epoch 66/100, Loss: 0.6003\n",
      "Val MSE: 0.7154, Val MAE: 0.5924, Val R2: 0.8944\n"
     ]
    },
    {
     "name": "stderr",
     "output_type": "stream",
     "text": [
      "Epoch 67/100: 100%|██████████| 3750/3750 [00:08<00:00, 431.53it/s]\n"
     ]
    },
    {
     "name": "stdout",
     "output_type": "stream",
     "text": [
      "Epoch 67/100, Loss: 0.5977\n",
      "Val MSE: 0.7123, Val MAE: 0.5977, Val R2: 0.8948\n"
     ]
    },
    {
     "name": "stderr",
     "output_type": "stream",
     "text": [
      "Epoch 68/100: 100%|██████████| 3750/3750 [00:09<00:00, 408.32it/s]\n"
     ]
    },
    {
     "name": "stdout",
     "output_type": "stream",
     "text": [
      "Epoch 68/100, Loss: 0.5965\n",
      "Val MSE: 0.7245, Val MAE: 0.6028, Val R2: 0.8930\n"
     ]
    },
    {
     "name": "stderr",
     "output_type": "stream",
     "text": [
      "Epoch 69/100: 100%|██████████| 3750/3750 [00:08<00:00, 433.95it/s]\n"
     ]
    },
    {
     "name": "stdout",
     "output_type": "stream",
     "text": [
      "Epoch 69/100, Loss: 0.5908\n",
      "Val MSE: 0.7124, Val MAE: 0.5975, Val R2: 0.8948\n"
     ]
    },
    {
     "name": "stderr",
     "output_type": "stream",
     "text": [
      "Epoch 70/100: 100%|██████████| 3750/3750 [00:08<00:00, 428.23it/s]\n"
     ]
    },
    {
     "name": "stdout",
     "output_type": "stream",
     "text": [
      "Epoch 70/100, Loss: 0.5904\n",
      "Val MSE: 0.7409, Val MAE: 0.6145, Val R2: 0.8906\n"
     ]
    },
    {
     "name": "stderr",
     "output_type": "stream",
     "text": [
      "Epoch 71/100: 100%|██████████| 3750/3750 [00:08<00:00, 435.17it/s]\n"
     ]
    },
    {
     "name": "stdout",
     "output_type": "stream",
     "text": [
      "Epoch 71/100, Loss: 0.5893\n",
      "Val MSE: 0.7167, Val MAE: 0.6019, Val R2: 0.8942\n"
     ]
    },
    {
     "name": "stderr",
     "output_type": "stream",
     "text": [
      "Epoch 72/100: 100%|██████████| 3750/3750 [00:08<00:00, 436.42it/s]\n"
     ]
    },
    {
     "name": "stdout",
     "output_type": "stream",
     "text": [
      "Epoch 72/100, Loss: 0.5876\n",
      "Val MSE: 0.7681, Val MAE: 0.6084, Val R2: 0.8866\n"
     ]
    },
    {
     "name": "stderr",
     "output_type": "stream",
     "text": [
      "Epoch 73/100: 100%|██████████| 3750/3750 [00:08<00:00, 431.50it/s]\n"
     ]
    },
    {
     "name": "stdout",
     "output_type": "stream",
     "text": [
      "Epoch 73/100, Loss: 0.5837\n",
      "Val MSE: 0.7135, Val MAE: 0.6006, Val R2: 0.8947\n"
     ]
    },
    {
     "name": "stderr",
     "output_type": "stream",
     "text": [
      "Epoch 74/100: 100%|██████████| 3750/3750 [00:08<00:00, 436.75it/s]\n"
     ]
    },
    {
     "name": "stdout",
     "output_type": "stream",
     "text": [
      "Epoch 74/100, Loss: 0.5816\n",
      "Val MSE: 0.7391, Val MAE: 0.6089, Val R2: 0.8909\n"
     ]
    },
    {
     "name": "stderr",
     "output_type": "stream",
     "text": [
      "Epoch 75/100: 100%|██████████| 3750/3750 [00:08<00:00, 437.81it/s]\n"
     ]
    },
    {
     "name": "stdout",
     "output_type": "stream",
     "text": [
      "Epoch 75/100, Loss: 0.5815\n",
      "Val MSE: 0.7208, Val MAE: 0.6055, Val R2: 0.8936\n"
     ]
    },
    {
     "name": "stderr",
     "output_type": "stream",
     "text": [
      "Epoch 76/100: 100%|██████████| 3750/3750 [00:08<00:00, 429.62it/s]\n"
     ]
    },
    {
     "name": "stdout",
     "output_type": "stream",
     "text": [
      "Epoch 76/100, Loss: 0.5795\n",
      "Val MSE: 0.7222, Val MAE: 0.6062, Val R2: 0.8934\n"
     ]
    },
    {
     "name": "stderr",
     "output_type": "stream",
     "text": [
      "Epoch 77/100: 100%|██████████| 3750/3750 [00:08<00:00, 432.24it/s]\n"
     ]
    },
    {
     "name": "stdout",
     "output_type": "stream",
     "text": [
      "Epoch 77/100, Loss: 0.5784\n",
      "Val MSE: 0.7255, Val MAE: 0.6052, Val R2: 0.8929\n"
     ]
    },
    {
     "name": "stderr",
     "output_type": "stream",
     "text": [
      "Epoch 78/100: 100%|██████████| 3750/3750 [00:08<00:00, 433.74it/s]\n"
     ]
    },
    {
     "name": "stdout",
     "output_type": "stream",
     "text": [
      "Epoch 78/100, Loss: 0.5764\n",
      "Val MSE: 0.7364, Val MAE: 0.5989, Val R2: 0.8913\n"
     ]
    },
    {
     "name": "stderr",
     "output_type": "stream",
     "text": [
      "Epoch 79/100: 100%|██████████| 3750/3750 [00:08<00:00, 425.13it/s]\n"
     ]
    },
    {
     "name": "stdout",
     "output_type": "stream",
     "text": [
      "Epoch 79/100, Loss: 0.5751\n",
      "Val MSE: 0.7258, Val MAE: 0.6111, Val R2: 0.8928\n"
     ]
    },
    {
     "name": "stderr",
     "output_type": "stream",
     "text": [
      "Epoch 80/100: 100%|██████████| 3750/3750 [00:08<00:00, 433.75it/s]\n"
     ]
    },
    {
     "name": "stdout",
     "output_type": "stream",
     "text": [
      "Epoch 80/100, Loss: 0.5725\n",
      "Val MSE: 0.7360, Val MAE: 0.5957, Val R2: 0.8913\n"
     ]
    },
    {
     "name": "stderr",
     "output_type": "stream",
     "text": [
      "Epoch 81/100: 100%|██████████| 3750/3750 [00:08<00:00, 439.27it/s]\n"
     ]
    },
    {
     "name": "stdout",
     "output_type": "stream",
     "text": [
      "Epoch 81/100, Loss: 0.5703\n",
      "Val MSE: 0.7409, Val MAE: 0.6086, Val R2: 0.8906\n"
     ]
    },
    {
     "name": "stderr",
     "output_type": "stream",
     "text": [
      "Epoch 82/100: 100%|██████████| 3750/3750 [00:08<00:00, 434.60it/s]\n"
     ]
    },
    {
     "name": "stdout",
     "output_type": "stream",
     "text": [
      "Epoch 82/100, Loss: 0.5734\n",
      "Val MSE: 0.7226, Val MAE: 0.5926, Val R2: 0.8933\n"
     ]
    },
    {
     "name": "stderr",
     "output_type": "stream",
     "text": [
      "Epoch 83/100: 100%|██████████| 3750/3750 [00:08<00:00, 429.55it/s]\n"
     ]
    },
    {
     "name": "stdout",
     "output_type": "stream",
     "text": [
      "Epoch 83/100, Loss: 0.5649\n",
      "Val MSE: 0.7328, Val MAE: 0.6071, Val R2: 0.8918\n"
     ]
    },
    {
     "name": "stderr",
     "output_type": "stream",
     "text": [
      "Epoch 84/100: 100%|██████████| 3750/3750 [00:08<00:00, 434.91it/s]\n"
     ]
    },
    {
     "name": "stdout",
     "output_type": "stream",
     "text": [
      "Epoch 84/100, Loss: 0.5670\n",
      "Val MSE: 0.7167, Val MAE: 0.5927, Val R2: 0.8942\n"
     ]
    },
    {
     "name": "stderr",
     "output_type": "stream",
     "text": [
      "Epoch 85/100: 100%|██████████| 3750/3750 [00:08<00:00, 434.50it/s]\n"
     ]
    },
    {
     "name": "stdout",
     "output_type": "stream",
     "text": [
      "Epoch 85/100, Loss: 0.5656\n",
      "Val MSE: 0.7320, Val MAE: 0.6092, Val R2: 0.8919\n"
     ]
    },
    {
     "name": "stderr",
     "output_type": "stream",
     "text": [
      "Epoch 86/100: 100%|██████████| 3750/3750 [00:08<00:00, 427.64it/s]\n"
     ]
    },
    {
     "name": "stdout",
     "output_type": "stream",
     "text": [
      "Epoch 86/100, Loss: 0.5619\n",
      "Val MSE: 0.7348, Val MAE: 0.6049, Val R2: 0.8915\n"
     ]
    },
    {
     "name": "stderr",
     "output_type": "stream",
     "text": [
      "Epoch 87/100: 100%|██████████| 3750/3750 [00:08<00:00, 435.73it/s]\n"
     ]
    },
    {
     "name": "stdout",
     "output_type": "stream",
     "text": [
      "Epoch 87/100, Loss: 0.5602\n",
      "Val MSE: 0.7283, Val MAE: 0.5926, Val R2: 0.8925\n"
     ]
    },
    {
     "name": "stderr",
     "output_type": "stream",
     "text": [
      "Epoch 88/100: 100%|██████████| 3750/3750 [00:08<00:00, 436.91it/s]\n"
     ]
    },
    {
     "name": "stdout",
     "output_type": "stream",
     "text": [
      "Epoch 88/100, Loss: 0.5635\n",
      "Val MSE: 0.7302, Val MAE: 0.6001, Val R2: 0.8922\n"
     ]
    },
    {
     "name": "stderr",
     "output_type": "stream",
     "text": [
      "Epoch 89/100: 100%|██████████| 3750/3750 [00:08<00:00, 432.92it/s]\n"
     ]
    },
    {
     "name": "stdout",
     "output_type": "stream",
     "text": [
      "Epoch 89/100, Loss: 0.5599\n",
      "Val MSE: 0.7551, Val MAE: 0.6165, Val R2: 0.8885\n"
     ]
    },
    {
     "name": "stderr",
     "output_type": "stream",
     "text": [
      "Epoch 90/100: 100%|██████████| 3750/3750 [00:08<00:00, 431.17it/s]\n"
     ]
    },
    {
     "name": "stdout",
     "output_type": "stream",
     "text": [
      "Epoch 90/100, Loss: 0.5576\n",
      "Val MSE: 0.7192, Val MAE: 0.6009, Val R2: 0.8938\n"
     ]
    },
    {
     "name": "stderr",
     "output_type": "stream",
     "text": [
      "Epoch 91/100: 100%|██████████| 3750/3750 [00:08<00:00, 443.05it/s]\n"
     ]
    },
    {
     "name": "stdout",
     "output_type": "stream",
     "text": [
      "Epoch 91/100, Loss: 0.5558\n",
      "Val MSE: 0.7559, Val MAE: 0.6226, Val R2: 0.8884\n"
     ]
    },
    {
     "name": "stderr",
     "output_type": "stream",
     "text": [
      "Epoch 92/100: 100%|██████████| 3750/3750 [00:08<00:00, 441.58it/s]\n"
     ]
    },
    {
     "name": "stdout",
     "output_type": "stream",
     "text": [
      "Epoch 92/100, Loss: 0.5580\n",
      "Val MSE: 0.7256, Val MAE: 0.6014, Val R2: 0.8929\n"
     ]
    },
    {
     "name": "stderr",
     "output_type": "stream",
     "text": [
      "Epoch 93/100: 100%|██████████| 3750/3750 [00:08<00:00, 428.27it/s]\n"
     ]
    },
    {
     "name": "stdout",
     "output_type": "stream",
     "text": [
      "Epoch 93/100, Loss: 0.5514\n",
      "Val MSE: 0.7157, Val MAE: 0.5972, Val R2: 0.8943\n"
     ]
    },
    {
     "name": "stderr",
     "output_type": "stream",
     "text": [
      "Epoch 94/100: 100%|██████████| 3750/3750 [00:08<00:00, 437.08it/s]\n"
     ]
    },
    {
     "name": "stdout",
     "output_type": "stream",
     "text": [
      "Epoch 94/100, Loss: 0.5513\n",
      "Val MSE: 0.7430, Val MAE: 0.6116, Val R2: 0.8903\n"
     ]
    },
    {
     "name": "stderr",
     "output_type": "stream",
     "text": [
      "Epoch 95/100: 100%|██████████| 3750/3750 [00:08<00:00, 438.74it/s]\n"
     ]
    },
    {
     "name": "stdout",
     "output_type": "stream",
     "text": [
      "Epoch 95/100, Loss: 0.5528\n",
      "Val MSE: 0.7123, Val MAE: 0.5999, Val R2: 0.8948\n"
     ]
    },
    {
     "name": "stderr",
     "output_type": "stream",
     "text": [
      "Epoch 96/100: 100%|██████████| 3750/3750 [00:08<00:00, 434.17it/s]\n"
     ]
    },
    {
     "name": "stdout",
     "output_type": "stream",
     "text": [
      "Epoch 96/100, Loss: 0.5494\n",
      "Val MSE: 0.7309, Val MAE: 0.6156, Val R2: 0.8921\n"
     ]
    },
    {
     "name": "stderr",
     "output_type": "stream",
     "text": [
      "Epoch 97/100: 100%|██████████| 3750/3750 [00:08<00:00, 428.78it/s]\n"
     ]
    },
    {
     "name": "stdout",
     "output_type": "stream",
     "text": [
      "Epoch 97/100, Loss: 0.5448\n",
      "Val MSE: 0.7246, Val MAE: 0.6044, Val R2: 0.8930\n"
     ]
    },
    {
     "name": "stderr",
     "output_type": "stream",
     "text": [
      "Epoch 98/100: 100%|██████████| 3750/3750 [00:08<00:00, 435.66it/s]\n"
     ]
    },
    {
     "name": "stdout",
     "output_type": "stream",
     "text": [
      "Epoch 98/100, Loss: 0.5488\n",
      "Val MSE: 0.7455, Val MAE: 0.6022, Val R2: 0.8899\n"
     ]
    },
    {
     "name": "stderr",
     "output_type": "stream",
     "text": [
      "Epoch 99/100: 100%|██████████| 3750/3750 [00:08<00:00, 430.52it/s]\n"
     ]
    },
    {
     "name": "stdout",
     "output_type": "stream",
     "text": [
      "Epoch 99/100, Loss: 0.5446\n",
      "Val MSE: 0.7626, Val MAE: 0.6396, Val R2: 0.8874\n"
     ]
    },
    {
     "name": "stderr",
     "output_type": "stream",
     "text": [
      "Epoch 100/100: 100%|██████████| 3750/3750 [00:08<00:00, 433.46it/s]\n"
     ]
    },
    {
     "name": "stdout",
     "output_type": "stream",
     "text": [
      "Epoch 100/100, Loss: 0.5441\n",
      "Val MSE: 0.7395, Val MAE: 0.6241, Val R2: 0.8908\n",
      "Training completed!\n"
     ]
    }
   ],
   "source": [
    "# Training loop\n",
    "print(\"Training regression model...\")\n",
    "best_val_mse = float('inf')\n",
    "for epoch in range(num_epochs):\n",
    "    model.train()\n",
    "    total_loss = 0\n",
    "    for batch_embeddings, batch_likes in tqdm(train_loader, desc=f\"Epoch {epoch+1}/{num_epochs}\"):\n",
    "        batch_embeddings, batch_likes = batch_embeddings.to(device), batch_likes.to(device)\n",
    "        optimizer.zero_grad()\n",
    "        outputs = model(batch_embeddings)\n",
    "        loss = criterion(outputs, batch_likes)\n",
    "        loss.backward()\n",
    "        optimizer.step()\n",
    "        total_loss += loss.item()\n",
    "    \n",
    "    # Validation\n",
    "    model.eval()\n",
    "    val_preds = []\n",
    "    val_true = []\n",
    "    with torch.no_grad():\n",
    "        for batch_embeddings, batch_likes in val_loader:\n",
    "            batch_embeddings, batch_likes = batch_embeddings.to(device), batch_likes.to(device)\n",
    "            outputs = model(batch_embeddings)\n",
    "            val_preds.extend(outputs.cpu().numpy())\n",
    "            val_true.extend(batch_likes.cpu().numpy())\n",
    "    \n",
    "    val_mse = mean_squared_error(val_true, val_preds)\n",
    "    val_mae = mean_absolute_error(val_true, val_preds)\n",
    "    val_r2 = r2_score(val_true, val_preds)\n",
    "    \n",
    "    print(f\"Epoch {epoch+1}/{num_epochs}, Loss: {total_loss/len(train_loader):.4f}\")\n",
    "    print(f\"Val MSE: {val_mse:.4f}, Val MAE: {val_mae:.4f}, Val R2: {val_r2:.4f}\")\n",
    "    \n",
    "    # Save the best model\n",
    "    if val_mse < best_val_mse:\n",
    "        best_val_mse = val_mse\n",
    "        torch.save(model.state_dict(), 'best_tweet_likes_regressor.pth')\n",
    "        print(\"New best model saved!\")\n",
    "\n",
    "print(\"Training completed!\")"
   ]
  },
  {
   "cell_type": "code",
   "execution_count": 34,
   "id": "09101a42",
   "metadata": {
    "execution": {
     "iopub.execute_input": "2024-10-12T10:08:05.684795Z",
     "iopub.status.busy": "2024-10-12T10:08:05.683994Z",
     "iopub.status.idle": "2024-10-12T10:08:06.628975Z",
     "shell.execute_reply": "2024-10-12T10:08:06.627788Z"
    },
    "papermill": {
     "duration": 5.573004,
     "end_time": "2024-10-12T10:08:06.631624",
     "exception": false,
     "start_time": "2024-10-12T10:08:01.058620",
     "status": "completed"
    },
    "tags": []
   },
   "outputs": [
    {
     "name": "stderr",
     "output_type": "stream",
     "text": [
      "/tmp/ipykernel_23/1035189463.py:13: FutureWarning: You are using `torch.load` with `weights_only=False` (the current default value), which uses the default pickle module implicitly. It is possible to construct malicious pickle data which will execute arbitrary code during unpickling (See https://github.com/pytorch/pytorch/blob/main/SECURITY.md#untrusted-models for more details). In a future release, the default value for `weights_only` will be flipped to `True`. This limits the functions that could be executed during unpickling. Arbitrary objects will no longer be allowed to be loaded via this mode unless they are explicitly allowlisted by the user via `torch.serialization.add_safe_globals`. We recommend you start setting `weights_only=True` for any use case where you don't have full control of the loaded file. Please open an issue on GitHub for any issues related to this experimental feature.\n",
      "  model.load_state_dict(torch.load('best_tweet_likes_regressor.pth'))\n"
     ]
    },
    {
     "name": "stdout",
     "output_type": "stream",
     "text": [
      "\n",
      "Test Set Evaluation (Original Scale):\n",
      "MSE: 2706654.38\n",
      "MAE: 411.86\n",
      "R2: 0.3899\n",
      "MAPE: inf%\n",
      "MdAPE: 57.96%\n"
     ]
    },
    {
     "name": "stderr",
     "output_type": "stream",
     "text": [
      "/tmp/ipykernel_23/1035189463.py:40: RuntimeWarning: divide by zero encountered in divide\n",
      "  return np.mean(np.abs((y_true - y_pred) / y_true)) * 100\n",
      "/tmp/ipykernel_23/1035189463.py:43: RuntimeWarning: divide by zero encountered in divide\n",
      "  return np.median(np.abs((y_true - y_pred) / y_true)) * 100\n"
     ]
    }
   ],
   "source": [
    "# Function to get predictions for new data\n",
    "def predict_likes(new_data):\n",
    "    model.eval()\n",
    "    with torch.no_grad():\n",
    "        new_data_scaled = scaler.transform(new_data)\n",
    "        embeddings = torch.tensor(new_data_scaled, dtype=torch.float32).to(device)\n",
    "        outputs = model(embeddings)\n",
    "        # Convert log predictions back to original scale\n",
    "        return np.expm1(outputs.cpu().numpy())\n",
    "\n",
    "# Example usage:\n",
    "# new_likes_predictions = predict_likes(new_embeddings)\n",
    "model.load_state_dict(torch.load('best_tweet_likes_regressor.pth'))\n",
    "# Evaluate on test set\n",
    "model.eval()\n",
    "test_preds = []\n",
    "test_true = y_val  # Using validation set as test set for this example\n",
    "with torch.no_grad():\n",
    "    for batch_embeddings, batch_likes in val_loader:\n",
    "        batch_embeddings = batch_embeddings.to(device)\n",
    "        outputs = model(batch_embeddings)\n",
    "        test_preds.extend(outputs.cpu().numpy())\n",
    "\n",
    "# Convert predictions back to original scale\n",
    "test_preds = np.expm1(test_preds)\n",
    "test_true = np.expm1(test_true)\n",
    "\n",
    "# Calculate metrics on original scale\n",
    "test_mse = mean_squared_error(test_true, test_preds)\n",
    "test_mae = mean_absolute_error(test_true, test_preds)\n",
    "test_r2 = r2_score(test_true, test_preds)\n",
    "\n",
    "print(\"\\nTest Set Evaluation (Original Scale):\")\n",
    "print(f\"MSE: {test_mse:.2f}\")\n",
    "print(f\"MAE: {test_mae:.2f}\")\n",
    "print(f\"R2: {test_r2:.4f}\")\n",
    "\n",
    "# Calculate custom metrics for skewed data\n",
    "def mean_absolute_percentage_error(y_true, y_pred):\n",
    "    return np.mean(np.abs((y_true - y_pred) / y_true)) * 100\n",
    "\n",
    "def median_absolute_percentage_error(y_true, y_pred):\n",
    "    return np.median(np.abs((y_true - y_pred) / y_true)) * 100\n",
    "\n",
    "mape = mean_absolute_percentage_error(test_true, test_preds)\n",
    "mdape = median_absolute_percentage_error(test_true, test_preds)\n",
    "\n",
    "print(f\"MAPE: {mape:.2f}%\")\n",
    "print(f\"MdAPE: {mdape:.2f}%\")"
   ]
  },
  {
   "cell_type": "code",
   "execution_count": 35,
   "id": "8c245a04",
   "metadata": {
    "execution": {
     "iopub.execute_input": "2024-10-12T10:08:15.997602Z",
     "iopub.status.busy": "2024-10-12T10:08:15.997198Z",
     "iopub.status.idle": "2024-10-12T10:08:16.013104Z",
     "shell.execute_reply": "2024-10-12T10:08:16.012236Z"
    },
    "papermill": {
     "duration": 4.695092,
     "end_time": "2024-10-12T10:08:16.014914",
     "exception": false,
     "start_time": "2024-10-12T10:08:11.319822",
     "status": "completed"
    },
    "tags": []
   },
   "outputs": [
    {
     "data": {
      "text/html": [
       "<div>\n",
       "<style scoped>\n",
       "    .dataframe tbody tr th:only-of-type {\n",
       "        vertical-align: middle;\n",
       "    }\n",
       "\n",
       "    .dataframe tbody tr th {\n",
       "        vertical-align: top;\n",
       "    }\n",
       "\n",
       "    .dataframe thead th {\n",
       "        text-align: right;\n",
       "    }\n",
       "</style>\n",
       "<table border=\"1\" class=\"dataframe\">\n",
       "  <thead>\n",
       "    <tr style=\"text-align: right;\">\n",
       "      <th></th>\n",
       "      <th>0</th>\n",
       "    </tr>\n",
       "  </thead>\n",
       "  <tbody>\n",
       "    <tr>\n",
       "      <th>count</th>\n",
       "      <td>60000.000000</td>\n",
       "    </tr>\n",
       "    <tr>\n",
       "      <th>mean</th>\n",
       "      <td>382.260773</td>\n",
       "    </tr>\n",
       "    <tr>\n",
       "      <th>std</th>\n",
       "      <td>1150.331299</td>\n",
       "    </tr>\n",
       "    <tr>\n",
       "      <th>min</th>\n",
       "      <td>-0.425246</td>\n",
       "    </tr>\n",
       "    <tr>\n",
       "      <th>25%</th>\n",
       "      <td>2.935600</td>\n",
       "    </tr>\n",
       "    <tr>\n",
       "      <th>50%</th>\n",
       "      <td>90.677559</td>\n",
       "    </tr>\n",
       "    <tr>\n",
       "      <th>75%</th>\n",
       "      <td>266.680550</td>\n",
       "    </tr>\n",
       "    <tr>\n",
       "      <th>max</th>\n",
       "      <td>42697.808594</td>\n",
       "    </tr>\n",
       "  </tbody>\n",
       "</table>\n",
       "</div>"
      ],
      "text/plain": [
       "                  0\n",
       "count  60000.000000\n",
       "mean     382.260773\n",
       "std     1150.331299\n",
       "min       -0.425246\n",
       "25%        2.935600\n",
       "50%       90.677559\n",
       "75%      266.680550\n",
       "max    42697.808594"
      ]
     },
     "execution_count": 35,
     "metadata": {},
     "output_type": "execute_result"
    }
   ],
   "source": [
    "temp_df = pd.DataFrame(test_preds)\n",
    "temp_df.describe()"
   ]
  },
  {
   "cell_type": "code",
   "execution_count": 36,
   "id": "1ee6255a",
   "metadata": {
    "execution": {
     "iopub.execute_input": "2024-10-12T10:08:25.313436Z",
     "iopub.status.busy": "2024-10-12T10:08:25.312813Z",
     "iopub.status.idle": "2024-10-12T10:08:25.327832Z",
     "shell.execute_reply": "2024-10-12T10:08:25.326906Z"
    },
    "papermill": {
     "duration": 4.662539,
     "end_time": "2024-10-12T10:08:25.329790",
     "exception": false,
     "start_time": "2024-10-12T10:08:20.667251",
     "status": "completed"
    },
    "tags": []
   },
   "outputs": [
    {
     "data": {
      "text/html": [
       "<div>\n",
       "<style scoped>\n",
       "    .dataframe tbody tr th:only-of-type {\n",
       "        vertical-align: middle;\n",
       "    }\n",
       "\n",
       "    .dataframe tbody tr th {\n",
       "        vertical-align: top;\n",
       "    }\n",
       "\n",
       "    .dataframe thead th {\n",
       "        text-align: right;\n",
       "    }\n",
       "</style>\n",
       "<table border=\"1\" class=\"dataframe\">\n",
       "  <thead>\n",
       "    <tr style=\"text-align: right;\">\n",
       "      <th></th>\n",
       "      <th>0</th>\n",
       "    </tr>\n",
       "  </thead>\n",
       "  <tbody>\n",
       "    <tr>\n",
       "      <th>count</th>\n",
       "      <td>60000.000000</td>\n",
       "    </tr>\n",
       "    <tr>\n",
       "      <th>mean</th>\n",
       "      <td>641.619100</td>\n",
       "    </tr>\n",
       "    <tr>\n",
       "      <th>std</th>\n",
       "      <td>2106.301879</td>\n",
       "    </tr>\n",
       "    <tr>\n",
       "      <th>min</th>\n",
       "      <td>0.000000</td>\n",
       "    </tr>\n",
       "    <tr>\n",
       "      <th>25%</th>\n",
       "      <td>3.000000</td>\n",
       "    </tr>\n",
       "    <tr>\n",
       "      <th>50%</th>\n",
       "      <td>77.000000</td>\n",
       "    </tr>\n",
       "    <tr>\n",
       "      <th>75%</th>\n",
       "      <td>364.000000</td>\n",
       "    </tr>\n",
       "    <tr>\n",
       "      <th>max</th>\n",
       "      <td>20000.000000</td>\n",
       "    </tr>\n",
       "  </tbody>\n",
       "</table>\n",
       "</div>"
      ],
      "text/plain": [
       "                  0\n",
       "count  60000.000000\n",
       "mean     641.619100\n",
       "std     2106.301879\n",
       "min        0.000000\n",
       "25%        3.000000\n",
       "50%       77.000000\n",
       "75%      364.000000\n",
       "max    20000.000000"
      ]
     },
     "execution_count": 36,
     "metadata": {},
     "output_type": "execute_result"
    }
   ],
   "source": [
    "temp_df = pd.DataFrame(test_true)\n",
    "temp_df.describe()"
   ]
  },
  {
   "cell_type": "code",
   "execution_count": 37,
   "id": "8a748232",
   "metadata": {
    "execution": {
     "iopub.execute_input": "2024-10-12T10:08:34.668901Z",
     "iopub.status.busy": "2024-10-12T10:08:34.668036Z",
     "iopub.status.idle": "2024-10-12T10:08:34.675760Z",
     "shell.execute_reply": "2024-10-12T10:08:34.674679Z"
    },
    "papermill": {
     "duration": 4.67834,
     "end_time": "2024-10-12T10:08:34.677732",
     "exception": false,
     "start_time": "2024-10-12T10:08:29.999392",
     "status": "completed"
    },
    "tags": []
   },
   "outputs": [
    {
     "name": "stdout",
     "output_type": "stream",
     "text": [
      "Pearson correlation: 0.6439143450701342\n"
     ]
    }
   ],
   "source": [
    "# Calculate Pearson correlation coefficient\n",
    "correlation = np.corrcoef(test_preds, test_true)[0,1]\n",
    "\n",
    "print(f\"Pearson correlation: {correlation}\")"
   ]
  },
  {
   "cell_type": "code",
   "execution_count": 38,
   "id": "c137f5b1",
   "metadata": {
    "execution": {
     "iopub.execute_input": "2024-10-12T10:08:44.055539Z",
     "iopub.status.busy": "2024-10-12T10:08:44.054658Z",
     "iopub.status.idle": "2024-10-12T10:08:44.059749Z",
     "shell.execute_reply": "2024-10-12T10:08:44.058794Z"
    },
    "papermill": {
     "duration": 4.679342,
     "end_time": "2024-10-12T10:08:44.061919",
     "exception": false,
     "start_time": "2024-10-12T10:08:39.382577",
     "status": "completed"
    },
    "tags": []
   },
   "outputs": [],
   "source": [
    "import matplotlib.pyplot as plt"
   ]
  },
  {
   "cell_type": "code",
   "execution_count": 39,
   "id": "c4397393",
   "metadata": {
    "execution": {
     "iopub.execute_input": "2024-10-12T10:08:53.394866Z",
     "iopub.status.busy": "2024-10-12T10:08:53.394451Z",
     "iopub.status.idle": "2024-10-12T10:08:53.896726Z",
     "shell.execute_reply": "2024-10-12T10:08:53.895796Z"
    },
    "papermill": {
     "duration": 5.179485,
     "end_time": "2024-10-12T10:08:53.898754",
     "exception": false,
     "start_time": "2024-10-12T10:08:48.719269",
     "status": "completed"
    },
    "tags": []
   },
   "outputs": [
    {
     "data": {
      "text/plain": [
       "<matplotlib.collections.PathCollection at 0x7c0bf0ec4c40>"
      ]
     },
     "execution_count": 39,
     "metadata": {},
     "output_type": "execute_result"
    },
    {
     "data": {
      "image/png": "[encoded data removed]",
      "text/plain": [
       "<Figure size 640x480 with 1 Axes>"
      ]
     },
     "metadata": {},
     "output_type": "display_data"
    }
   ],
   "source": [
    "plt.scatter(test_preds,test_true)"
   ]
  },
  {
   "cell_type": "code",
   "execution_count": 40,
   "id": "cb05ecb5",
   "metadata": {
    "execution": {
     "iopub.execute_input": "2024-10-12T10:09:03.287166Z",
     "iopub.status.busy": "2024-10-12T10:09:03.286424Z",
     "iopub.status.idle": "2024-10-12T10:09:05.031755Z",
     "shell.execute_reply": "2024-10-12T10:09:05.030733Z"
    },
    "papermill": {
     "duration": 6.448845,
     "end_time": "2024-10-12T10:09:05.034081",
     "exception": false,
     "start_time": "2024-10-12T10:08:58.585236",
     "status": "completed"
    },
    "scrolled": true,
    "tags": []
   },
   "outputs": [],
   "source": [
    "# Prepare data for classification\n",
    "X = np.stack(df['rich_embedding'])\n",
    "label_encoder = LabelEncoder()\n",
    "y = label_encoder.fit_transform(df['likes_binned'])  # Assuming 'y' column exists with class labels\n",
    "\n",
    "X_train, X_val, y_train, y_val = train_test_split(X, y, test_size=0.2, random_state=42)"
   ]
  },
  {
   "cell_type": "code",
   "execution_count": 41,
   "id": "c8ea1026",
   "metadata": {
    "execution": {
     "iopub.execute_input": "2024-10-12T10:09:14.321309Z",
     "iopub.status.busy": "2024-10-12T10:09:14.320925Z",
     "iopub.status.idle": "2024-10-12T10:09:14.340915Z",
     "shell.execute_reply": "2024-10-12T10:09:14.340035Z"
    },
    "papermill": {
     "duration": 4.618306,
     "end_time": "2024-10-12T10:09:14.342830",
     "exception": false,
     "start_time": "2024-10-12T10:09:09.724524",
     "status": "completed"
    },
    "scrolled": true,
    "tags": []
   },
   "outputs": [],
   "source": [
    "# Define a simple neural network for classification\n",
    "class TweetClassifier(nn.Module):\n",
    "    def __init__(self, input_dim, hidden_dim, num_classes):\n",
    "        super(TweetClassifier, self).__init__()\n",
    "        self.fc1 = nn.Linear(input_dim, hidden_dim)\n",
    "        self.fc2 = nn.Linear(hidden_dim, num_classes)\n",
    "        self.relu = nn.ReLU()\n",
    "        self.dropout = nn.Dropout(0.5)\n",
    "\n",
    "    def forward(self, x):\n",
    "        x = self.relu(self.fc1(x))\n",
    "        x = self.dropout(x)\n",
    "        x = self.fc2(x)\n",
    "        return x\n",
    "\n",
    "# Create dataset and dataloader\n",
    "class TweetDataset(Dataset):\n",
    "    def __init__(self, embeddings, labels):\n",
    "        self.embeddings = torch.tensor(embeddings, dtype=torch.float32)\n",
    "        self.labels = torch.tensor(labels, dtype=torch.long)\n",
    "\n",
    "    def __len__(self):\n",
    "        return len(self.labels)\n",
    "\n",
    "    def __getitem__(self, idx):\n",
    "        return self.embeddings[idx], self.labels[idx]\n",
    "\n",
    "# Hyperparameters\n",
    "input_dim = X_train.shape[1]\n",
    "hidden_dim = 256\n",
    "num_classes = len(np.unique(y))\n",
    "batch_size = 64\n",
    "num_epochs = 100\n",
    "learning_rate = 0.001"
   ]
  },
  {
   "cell_type": "code",
   "execution_count": 42,
   "id": "ef3a95ca",
   "metadata": {
    "execution": {
     "iopub.execute_input": "2024-10-12T10:09:23.685309Z",
     "iopub.status.busy": "2024-10-12T10:09:23.684924Z",
     "iopub.status.idle": "2024-10-12T10:09:23.692923Z",
     "shell.execute_reply": "2024-10-12T10:09:23.692185Z"
    },
    "papermill": {
     "duration": 4.670914,
     "end_time": "2024-10-12T10:09:23.694839",
     "exception": false,
     "start_time": "2024-10-12T10:09:19.023925",
     "status": "completed"
    },
    "scrolled": true,
    "tags": []
   },
   "outputs": [],
   "source": [
    "# Create model, optimizer, and loss function\n",
    "model = TweetClassifier(input_dim, hidden_dim, num_classes).to(device)\n",
    "optimizer = optim.Adam(model.parameters(), lr=learning_rate)\n",
    "criterion = nn.CrossEntropyLoss()"
   ]
  },
  {
   "cell_type": "code",
   "execution_count": 43,
   "id": "415bf629",
   "metadata": {
    "execution": {
     "iopub.execute_input": "2024-10-12T10:09:33.028104Z",
     "iopub.status.busy": "2024-10-12T10:09:33.027724Z",
     "iopub.status.idle": "2024-10-12T10:09:33.479076Z",
     "shell.execute_reply": "2024-10-12T10:09:33.478182Z"
    },
    "papermill": {
     "duration": 5.141119,
     "end_time": "2024-10-12T10:09:33.481622",
     "exception": false,
     "start_time": "2024-10-12T10:09:28.340503",
     "status": "completed"
    },
    "scrolled": true,
    "tags": []
   },
   "outputs": [],
   "source": [
    "# Create datasets and dataloaders\n",
    "train_dataset = TweetDataset(X_train, y_train)\n",
    "val_dataset = TweetDataset(X_val, y_val)\n",
    "train_loader = DataLoader(train_dataset, batch_size=batch_size, shuffle=True)\n",
    "val_loader = DataLoader(val_dataset, batch_size=batch_size)"
   ]
  },
  {
   "cell_type": "code",
   "execution_count": 44,
   "id": "d3f4d122",
   "metadata": {
    "execution": {
     "iopub.execute_input": "2024-10-12T10:09:42.787829Z",
     "iopub.status.busy": "2024-10-12T10:09:42.787045Z",
     "iopub.status.idle": "2024-10-12T10:24:36.791651Z",
     "shell.execute_reply": "2024-10-12T10:24:36.790235Z"
    },
    "papermill": {
     "duration": 898.689518,
     "end_time": "2024-10-12T10:24:36.793800",
     "exception": false,
     "start_time": "2024-10-12T10:09:38.104282",
     "status": "completed"
    },
    "scrolled": true,
    "tags": []
   },
   "outputs": [
    {
     "name": "stdout",
     "output_type": "stream",
     "text": [
      "Training classification model...\n"
     ]
    },
    {
     "name": "stderr",
     "output_type": "stream",
     "text": [
      "Epoch 1/100: 100%|██████████| 3750/3750 [00:07<00:00, 481.33it/s]\n",
      "/opt/conda/lib/python3.10/site-packages/sklearn/metrics/_classification.py:1344: UndefinedMetricWarning: Precision and F-score are ill-defined and being set to 0.0 in labels with no predicted samples. Use `zero_division` parameter to control this behavior.\n",
      "  _warn_prf(average, modifier, msg_start, len(result))\n"
     ]
    },
    {
     "name": "stdout",
     "output_type": "stream",
     "text": [
      "Epoch 1/100, Loss: 0.9465, Val Accuracy: 0.6825\n",
      "Precision: 0.6362, Recall: 0.6825, F1-score: 0.6482\n"
     ]
    },
    {
     "name": "stderr",
     "output_type": "stream",
     "text": [
      "Epoch 2/100: 100%|██████████| 3750/3750 [00:07<00:00, 486.11it/s]\n",
      "/opt/conda/lib/python3.10/site-packages/sklearn/metrics/_classification.py:1344: UndefinedMetricWarning: Precision and F-score are ill-defined and being set to 0.0 in labels with no predicted samples. Use `zero_division` parameter to control this behavior.\n",
      "  _warn_prf(average, modifier, msg_start, len(result))\n"
     ]
    },
    {
     "name": "stdout",
     "output_type": "stream",
     "text": [
      "Epoch 2/100, Loss: 0.8006, Val Accuracy: 0.6919\n",
      "Precision: 0.6417, Recall: 0.6919, F1-score: 0.6565\n"
     ]
    },
    {
     "name": "stderr",
     "output_type": "stream",
     "text": [
      "Epoch 3/100: 100%|██████████| 3750/3750 [00:07<00:00, 486.60it/s]\n",
      "/opt/conda/lib/python3.10/site-packages/sklearn/metrics/_classification.py:1344: UndefinedMetricWarning: Precision and F-score are ill-defined and being set to 0.0 in labels with no predicted samples. Use `zero_division` parameter to control this behavior.\n",
      "  _warn_prf(average, modifier, msg_start, len(result))\n"
     ]
    },
    {
     "name": "stdout",
     "output_type": "stream",
     "text": [
      "Epoch 3/100, Loss: 0.7854, Val Accuracy: 0.6995\n",
      "Precision: 0.6348, Recall: 0.6995, F1-score: 0.6611\n"
     ]
    },
    {
     "name": "stderr",
     "output_type": "stream",
     "text": [
      "Epoch 4/100: 100%|██████████| 3750/3750 [00:07<00:00, 483.38it/s]\n",
      "/opt/conda/lib/python3.10/site-packages/sklearn/metrics/_classification.py:1344: UndefinedMetricWarning: Precision and F-score are ill-defined and being set to 0.0 in labels with no predicted samples. Use `zero_division` parameter to control this behavior.\n",
      "  _warn_prf(average, modifier, msg_start, len(result))\n"
     ]
    },
    {
     "name": "stdout",
     "output_type": "stream",
     "text": [
      "Epoch 4/100, Loss: 0.7964, Val Accuracy: 0.6998\n",
      "Precision: 0.6292, Recall: 0.6998, F1-score: 0.6599\n"
     ]
    },
    {
     "name": "stderr",
     "output_type": "stream",
     "text": [
      "Epoch 5/100: 100%|██████████| 3750/3750 [00:07<00:00, 477.33it/s]\n",
      "/opt/conda/lib/python3.10/site-packages/sklearn/metrics/_classification.py:1344: UndefinedMetricWarning: Precision and F-score are ill-defined and being set to 0.0 in labels with no predicted samples. Use `zero_division` parameter to control this behavior.\n",
      "  _warn_prf(average, modifier, msg_start, len(result))\n"
     ]
    },
    {
     "name": "stdout",
     "output_type": "stream",
     "text": [
      "Epoch 5/100, Loss: 0.8005, Val Accuracy: 0.7019\n",
      "Precision: 0.6254, Recall: 0.7019, F1-score: 0.6601\n"
     ]
    },
    {
     "name": "stderr",
     "output_type": "stream",
     "text": [
      "Epoch 6/100: 100%|██████████| 3750/3750 [00:07<00:00, 478.72it/s]\n",
      "/opt/conda/lib/python3.10/site-packages/sklearn/metrics/_classification.py:1344: UndefinedMetricWarning: Precision and F-score are ill-defined and being set to 0.0 in labels with no predicted samples. Use `zero_division` parameter to control this behavior.\n",
      "  _warn_prf(average, modifier, msg_start, len(result))\n"
     ]
    },
    {
     "name": "stdout",
     "output_type": "stream",
     "text": [
      "Epoch 6/100, Loss: 0.7979, Val Accuracy: 0.6991\n",
      "Precision: 0.6412, Recall: 0.6991, F1-score: 0.6620\n"
     ]
    },
    {
     "name": "stderr",
     "output_type": "stream",
     "text": [
      "Epoch 7/100: 100%|██████████| 3750/3750 [00:07<00:00, 483.12it/s]\n",
      "/opt/conda/lib/python3.10/site-packages/sklearn/metrics/_classification.py:1344: UndefinedMetricWarning: Precision and F-score are ill-defined and being set to 0.0 in labels with no predicted samples. Use `zero_division` parameter to control this behavior.\n",
      "  _warn_prf(average, modifier, msg_start, len(result))\n"
     ]
    },
    {
     "name": "stdout",
     "output_type": "stream",
     "text": [
      "Epoch 7/100, Loss: 0.7979, Val Accuracy: 0.6830\n",
      "Precision: 0.6715, Recall: 0.6830, F1-score: 0.6513\n"
     ]
    },
    {
     "name": "stderr",
     "output_type": "stream",
     "text": [
      "Epoch 8/100: 100%|██████████| 3750/3750 [00:08<00:00, 458.71it/s]\n",
      "/opt/conda/lib/python3.10/site-packages/sklearn/metrics/_classification.py:1344: UndefinedMetricWarning: Precision and F-score are ill-defined and being set to 0.0 in labels with no predicted samples. Use `zero_division` parameter to control this behavior.\n",
      "  _warn_prf(average, modifier, msg_start, len(result))\n"
     ]
    },
    {
     "name": "stdout",
     "output_type": "stream",
     "text": [
      "Epoch 8/100, Loss: 0.7933, Val Accuracy: 0.6997\n",
      "Precision: 0.6566, Recall: 0.6997, F1-score: 0.6648\n"
     ]
    },
    {
     "name": "stderr",
     "output_type": "stream",
     "text": [
      "Epoch 9/100: 100%|██████████| 3750/3750 [00:07<00:00, 484.42it/s]\n",
      "/opt/conda/lib/python3.10/site-packages/sklearn/metrics/_classification.py:1344: UndefinedMetricWarning: Precision and F-score are ill-defined and being set to 0.0 in labels with no predicted samples. Use `zero_division` parameter to control this behavior.\n",
      "  _warn_prf(average, modifier, msg_start, len(result))\n"
     ]
    },
    {
     "name": "stdout",
     "output_type": "stream",
     "text": [
      "Epoch 9/100, Loss: 0.7935, Val Accuracy: 0.6972\n",
      "Precision: 0.6447, Recall: 0.6972, F1-score: 0.6611\n"
     ]
    },
    {
     "name": "stderr",
     "output_type": "stream",
     "text": [
      "Epoch 10/100: 100%|██████████| 3750/3750 [00:07<00:00, 488.47it/s]\n",
      "/opt/conda/lib/python3.10/site-packages/sklearn/metrics/_classification.py:1344: UndefinedMetricWarning: Precision and F-score are ill-defined and being set to 0.0 in labels with no predicted samples. Use `zero_division` parameter to control this behavior.\n",
      "  _warn_prf(average, modifier, msg_start, len(result))\n"
     ]
    },
    {
     "name": "stdout",
     "output_type": "stream",
     "text": [
      "Epoch 10/100, Loss: 0.7925, Val Accuracy: 0.7075\n",
      "Precision: 0.6402, Recall: 0.7075, F1-score: 0.6681\n"
     ]
    },
    {
     "name": "stderr",
     "output_type": "stream",
     "text": [
      "Epoch 11/100: 100%|██████████| 3750/3750 [00:07<00:00, 488.77it/s]\n",
      "/opt/conda/lib/python3.10/site-packages/sklearn/metrics/_classification.py:1344: UndefinedMetricWarning: Precision and F-score are ill-defined and being set to 0.0 in labels with no predicted samples. Use `zero_division` parameter to control this behavior.\n",
      "  _warn_prf(average, modifier, msg_start, len(result))\n"
     ]
    },
    {
     "name": "stdout",
     "output_type": "stream",
     "text": [
      "Epoch 11/100, Loss: 0.7905, Val Accuracy: 0.7071\n",
      "Precision: 0.6354, Recall: 0.7071, F1-score: 0.6666\n"
     ]
    },
    {
     "name": "stderr",
     "output_type": "stream",
     "text": [
      "Epoch 12/100: 100%|██████████| 3750/3750 [00:07<00:00, 473.21it/s]\n",
      "/opt/conda/lib/python3.10/site-packages/sklearn/metrics/_classification.py:1344: UndefinedMetricWarning: Precision and F-score are ill-defined and being set to 0.0 in labels with no predicted samples. Use `zero_division` parameter to control this behavior.\n",
      "  _warn_prf(average, modifier, msg_start, len(result))\n"
     ]
    },
    {
     "name": "stdout",
     "output_type": "stream",
     "text": [
      "Epoch 12/100, Loss: 0.7894, Val Accuracy: 0.7016\n",
      "Precision: 0.6199, Recall: 0.7016, F1-score: 0.6578\n"
     ]
    },
    {
     "name": "stderr",
     "output_type": "stream",
     "text": [
      "Epoch 13/100: 100%|██████████| 3750/3750 [00:07<00:00, 484.04it/s]\n",
      "/opt/conda/lib/python3.10/site-packages/sklearn/metrics/_classification.py:1344: UndefinedMetricWarning: Precision and F-score are ill-defined and being set to 0.0 in labels with no predicted samples. Use `zero_division` parameter to control this behavior.\n",
      "  _warn_prf(average, modifier, msg_start, len(result))\n"
     ]
    },
    {
     "name": "stdout",
     "output_type": "stream",
     "text": [
      "Epoch 13/100, Loss: 0.7876, Val Accuracy: 0.6969\n",
      "Precision: 0.6074, Recall: 0.6969, F1-score: 0.6490\n"
     ]
    },
    {
     "name": "stderr",
     "output_type": "stream",
     "text": [
      "Epoch 14/100: 100%|██████████| 3750/3750 [00:07<00:00, 482.44it/s]\n",
      "/opt/conda/lib/python3.10/site-packages/sklearn/metrics/_classification.py:1344: UndefinedMetricWarning: Precision and F-score are ill-defined and being set to 0.0 in labels with no predicted samples. Use `zero_division` parameter to control this behavior.\n",
      "  _warn_prf(average, modifier, msg_start, len(result))\n"
     ]
    },
    {
     "name": "stdout",
     "output_type": "stream",
     "text": [
      "Epoch 14/100, Loss: 0.7869, Val Accuracy: 0.6925\n",
      "Precision: 0.6692, Recall: 0.6925, F1-score: 0.6597\n"
     ]
    },
    {
     "name": "stderr",
     "output_type": "stream",
     "text": [
      "Epoch 15/100: 100%|██████████| 3750/3750 [00:07<00:00, 483.49it/s]\n",
      "/opt/conda/lib/python3.10/site-packages/sklearn/metrics/_classification.py:1344: UndefinedMetricWarning: Precision and F-score are ill-defined and being set to 0.0 in labels with no predicted samples. Use `zero_division` parameter to control this behavior.\n",
      "  _warn_prf(average, modifier, msg_start, len(result))\n"
     ]
    },
    {
     "name": "stdout",
     "output_type": "stream",
     "text": [
      "Epoch 15/100, Loss: 0.7870, Val Accuracy: 0.7067\n",
      "Precision: 0.6544, Recall: 0.7067, F1-score: 0.6702\n"
     ]
    },
    {
     "name": "stderr",
     "output_type": "stream",
     "text": [
      "Epoch 16/100: 100%|██████████| 3750/3750 [00:07<00:00, 469.72it/s]\n",
      "/opt/conda/lib/python3.10/site-packages/sklearn/metrics/_classification.py:1344: UndefinedMetricWarning: Precision and F-score are ill-defined and being set to 0.0 in labels with no predicted samples. Use `zero_division` parameter to control this behavior.\n",
      "  _warn_prf(average, modifier, msg_start, len(result))\n"
     ]
    },
    {
     "name": "stdout",
     "output_type": "stream",
     "text": [
      "Epoch 16/100, Loss: 0.7860, Val Accuracy: 0.6953\n",
      "Precision: 0.6719, Recall: 0.6953, F1-score: 0.6622\n"
     ]
    },
    {
     "name": "stderr",
     "output_type": "stream",
     "text": [
      "Epoch 17/100: 100%|██████████| 3750/3750 [00:07<00:00, 483.69it/s]\n",
      "/opt/conda/lib/python3.10/site-packages/sklearn/metrics/_classification.py:1344: UndefinedMetricWarning: Precision and F-score are ill-defined and being set to 0.0 in labels with no predicted samples. Use `zero_division` parameter to control this behavior.\n",
      "  _warn_prf(average, modifier, msg_start, len(result))\n"
     ]
    },
    {
     "name": "stdout",
     "output_type": "stream",
     "text": [
      "Epoch 17/100, Loss: 0.7865, Val Accuracy: 0.7122\n",
      "Precision: 0.6536, Recall: 0.7122, F1-score: 0.6744\n"
     ]
    },
    {
     "name": "stderr",
     "output_type": "stream",
     "text": [
      "Epoch 18/100: 100%|██████████| 3750/3750 [00:07<00:00, 481.96it/s]\n",
      "/opt/conda/lib/python3.10/site-packages/sklearn/metrics/_classification.py:1344: UndefinedMetricWarning: Precision and F-score are ill-defined and being set to 0.0 in labels with no predicted samples. Use `zero_division` parameter to control this behavior.\n",
      "  _warn_prf(average, modifier, msg_start, len(result))\n"
     ]
    },
    {
     "name": "stdout",
     "output_type": "stream",
     "text": [
      "Epoch 18/100, Loss: 0.7853, Val Accuracy: 0.7068\n",
      "Precision: 0.6449, Recall: 0.7068, F1-score: 0.6687\n"
     ]
    },
    {
     "name": "stderr",
     "output_type": "stream",
     "text": [
      "Epoch 19/100: 100%|██████████| 3750/3750 [00:07<00:00, 479.25it/s]\n",
      "/opt/conda/lib/python3.10/site-packages/sklearn/metrics/_classification.py:1344: UndefinedMetricWarning: Precision and F-score are ill-defined and being set to 0.0 in labels with no predicted samples. Use `zero_division` parameter to control this behavior.\n",
      "  _warn_prf(average, modifier, msg_start, len(result))\n"
     ]
    },
    {
     "name": "stdout",
     "output_type": "stream",
     "text": [
      "Epoch 19/100, Loss: 0.7857, Val Accuracy: 0.7131\n",
      "Precision: 0.6473, Recall: 0.7131, F1-score: 0.6738\n"
     ]
    },
    {
     "name": "stderr",
     "output_type": "stream",
     "text": [
      "Epoch 20/100: 100%|██████████| 3750/3750 [00:07<00:00, 484.26it/s]\n",
      "/opt/conda/lib/python3.10/site-packages/sklearn/metrics/_classification.py:1344: UndefinedMetricWarning: Precision and F-score are ill-defined and being set to 0.0 in labels with no predicted samples. Use `zero_division` parameter to control this behavior.\n",
      "  _warn_prf(average, modifier, msg_start, len(result))\n"
     ]
    },
    {
     "name": "stdout",
     "output_type": "stream",
     "text": [
      "Epoch 20/100, Loss: 0.7843, Val Accuracy: 0.7048\n",
      "Precision: 0.6614, Recall: 0.7048, F1-score: 0.6694\n"
     ]
    },
    {
     "name": "stderr",
     "output_type": "stream",
     "text": [
      "Epoch 21/100: 100%|██████████| 3750/3750 [00:07<00:00, 484.46it/s]\n",
      "/opt/conda/lib/python3.10/site-packages/sklearn/metrics/_classification.py:1344: UndefinedMetricWarning: Precision and F-score are ill-defined and being set to 0.0 in labels with no predicted samples. Use `zero_division` parameter to control this behavior.\n",
      "  _warn_prf(average, modifier, msg_start, len(result))\n"
     ]
    },
    {
     "name": "stdout",
     "output_type": "stream",
     "text": [
      "Epoch 21/100, Loss: 0.7834, Val Accuracy: 0.7057\n",
      "Precision: 0.6674, Recall: 0.7057, F1-score: 0.6709\n"
     ]
    },
    {
     "name": "stderr",
     "output_type": "stream",
     "text": [
      "Epoch 22/100: 100%|██████████| 3750/3750 [00:07<00:00, 484.39it/s]\n",
      "/opt/conda/lib/python3.10/site-packages/sklearn/metrics/_classification.py:1344: UndefinedMetricWarning: Precision and F-score are ill-defined and being set to 0.0 in labels with no predicted samples. Use `zero_division` parameter to control this behavior.\n",
      "  _warn_prf(average, modifier, msg_start, len(result))\n"
     ]
    },
    {
     "name": "stdout",
     "output_type": "stream",
     "text": [
      "Epoch 22/100, Loss: 0.7828, Val Accuracy: 0.7110\n",
      "Precision: 0.6322, Recall: 0.7110, F1-score: 0.6681\n"
     ]
    },
    {
     "name": "stderr",
     "output_type": "stream",
     "text": [
      "Epoch 23/100: 100%|██████████| 3750/3750 [00:07<00:00, 478.17it/s]\n",
      "/opt/conda/lib/python3.10/site-packages/sklearn/metrics/_classification.py:1344: UndefinedMetricWarning: Precision and F-score are ill-defined and being set to 0.0 in labels with no predicted samples. Use `zero_division` parameter to control this behavior.\n",
      "  _warn_prf(average, modifier, msg_start, len(result))\n"
     ]
    },
    {
     "name": "stdout",
     "output_type": "stream",
     "text": [
      "Epoch 23/100, Loss: 0.7837, Val Accuracy: 0.7148\n",
      "Precision: 0.6480, Recall: 0.7148, F1-score: 0.6753\n"
     ]
    },
    {
     "name": "stderr",
     "output_type": "stream",
     "text": [
      "Epoch 24/100: 100%|██████████| 3750/3750 [00:07<00:00, 469.03it/s]\n",
      "/opt/conda/lib/python3.10/site-packages/sklearn/metrics/_classification.py:1344: UndefinedMetricWarning: Precision and F-score are ill-defined and being set to 0.0 in labels with no predicted samples. Use `zero_division` parameter to control this behavior.\n",
      "  _warn_prf(average, modifier, msg_start, len(result))\n"
     ]
    },
    {
     "name": "stdout",
     "output_type": "stream",
     "text": [
      "Epoch 24/100, Loss: 0.7830, Val Accuracy: 0.7096\n",
      "Precision: 0.6539, Recall: 0.7096, F1-score: 0.6724\n"
     ]
    },
    {
     "name": "stderr",
     "output_type": "stream",
     "text": [
      "Epoch 25/100: 100%|██████████| 3750/3750 [00:07<00:00, 484.75it/s]\n",
      "/opt/conda/lib/python3.10/site-packages/sklearn/metrics/_classification.py:1344: UndefinedMetricWarning: Precision and F-score are ill-defined and being set to 0.0 in labels with no predicted samples. Use `zero_division` parameter to control this behavior.\n",
      "  _warn_prf(average, modifier, msg_start, len(result))\n"
     ]
    },
    {
     "name": "stdout",
     "output_type": "stream",
     "text": [
      "Epoch 25/100, Loss: 0.7815, Val Accuracy: 0.7144\n",
      "Precision: 0.6497, Recall: 0.7144, F1-score: 0.6753\n"
     ]
    },
    {
     "name": "stderr",
     "output_type": "stream",
     "text": [
      "Epoch 26/100: 100%|██████████| 3750/3750 [00:07<00:00, 478.29it/s]\n",
      "/opt/conda/lib/python3.10/site-packages/sklearn/metrics/_classification.py:1344: UndefinedMetricWarning: Precision and F-score are ill-defined and being set to 0.0 in labels with no predicted samples. Use `zero_division` parameter to control this behavior.\n",
      "  _warn_prf(average, modifier, msg_start, len(result))\n"
     ]
    },
    {
     "name": "stdout",
     "output_type": "stream",
     "text": [
      "Epoch 26/100, Loss: 0.7825, Val Accuracy: 0.7105\n",
      "Precision: 0.6617, Recall: 0.7105, F1-score: 0.6742\n"
     ]
    },
    {
     "name": "stderr",
     "output_type": "stream",
     "text": [
      "Epoch 27/100: 100%|██████████| 3750/3750 [00:07<00:00, 481.60it/s]\n",
      "/opt/conda/lib/python3.10/site-packages/sklearn/metrics/_classification.py:1344: UndefinedMetricWarning: Precision and F-score are ill-defined and being set to 0.0 in labels with no predicted samples. Use `zero_division` parameter to control this behavior.\n",
      "  _warn_prf(average, modifier, msg_start, len(result))\n"
     ]
    },
    {
     "name": "stdout",
     "output_type": "stream",
     "text": [
      "Epoch 27/100, Loss: 0.7801, Val Accuracy: 0.7031\n",
      "Precision: 0.6691, Recall: 0.7031, F1-score: 0.6689\n"
     ]
    },
    {
     "name": "stderr",
     "output_type": "stream",
     "text": [
      "Epoch 28/100: 100%|██████████| 3750/3750 [00:07<00:00, 476.29it/s]\n",
      "/opt/conda/lib/python3.10/site-packages/sklearn/metrics/_classification.py:1344: UndefinedMetricWarning: Precision and F-score are ill-defined and being set to 0.0 in labels with no predicted samples. Use `zero_division` parameter to control this behavior.\n",
      "  _warn_prf(average, modifier, msg_start, len(result))\n"
     ]
    },
    {
     "name": "stdout",
     "output_type": "stream",
     "text": [
      "Epoch 28/100, Loss: 0.7797, Val Accuracy: 0.7130\n",
      "Precision: 0.6471, Recall: 0.7130, F1-score: 0.6737\n"
     ]
    },
    {
     "name": "stderr",
     "output_type": "stream",
     "text": [
      "Epoch 29/100: 100%|██████████| 3750/3750 [00:07<00:00, 487.09it/s]\n",
      "/opt/conda/lib/python3.10/site-packages/sklearn/metrics/_classification.py:1344: UndefinedMetricWarning: Precision and F-score are ill-defined and being set to 0.0 in labels with no predicted samples. Use `zero_division` parameter to control this behavior.\n",
      "  _warn_prf(average, modifier, msg_start, len(result))\n"
     ]
    },
    {
     "name": "stdout",
     "output_type": "stream",
     "text": [
      "Epoch 29/100, Loss: 0.7807, Val Accuracy: 0.7132\n",
      "Precision: 0.6469, Recall: 0.7132, F1-score: 0.6739\n"
     ]
    },
    {
     "name": "stderr",
     "output_type": "stream",
     "text": [
      "Epoch 30/100: 100%|██████████| 3750/3750 [00:07<00:00, 479.70it/s]\n",
      "/opt/conda/lib/python3.10/site-packages/sklearn/metrics/_classification.py:1344: UndefinedMetricWarning: Precision and F-score are ill-defined and being set to 0.0 in labels with no predicted samples. Use `zero_division` parameter to control this behavior.\n",
      "  _warn_prf(average, modifier, msg_start, len(result))\n"
     ]
    },
    {
     "name": "stdout",
     "output_type": "stream",
     "text": [
      "Epoch 30/100, Loss: 0.7798, Val Accuracy: 0.7028\n",
      "Precision: 0.6133, Recall: 0.7028, F1-score: 0.6549\n"
     ]
    },
    {
     "name": "stderr",
     "output_type": "stream",
     "text": [
      "Epoch 31/100: 100%|██████████| 3750/3750 [00:07<00:00, 484.17it/s]\n",
      "/opt/conda/lib/python3.10/site-packages/sklearn/metrics/_classification.py:1344: UndefinedMetricWarning: Precision and F-score are ill-defined and being set to 0.0 in labels with no predicted samples. Use `zero_division` parameter to control this behavior.\n",
      "  _warn_prf(average, modifier, msg_start, len(result))\n"
     ]
    },
    {
     "name": "stdout",
     "output_type": "stream",
     "text": [
      "Epoch 31/100, Loss: 0.7789, Val Accuracy: 0.7151\n",
      "Precision: 0.6482, Recall: 0.7151, F1-score: 0.6755\n"
     ]
    },
    {
     "name": "stderr",
     "output_type": "stream",
     "text": [
      "Epoch 32/100: 100%|██████████| 3750/3750 [00:07<00:00, 475.93it/s]\n",
      "/opt/conda/lib/python3.10/site-packages/sklearn/metrics/_classification.py:1344: UndefinedMetricWarning: Precision and F-score are ill-defined and being set to 0.0 in labels with no predicted samples. Use `zero_division` parameter to control this behavior.\n",
      "  _warn_prf(average, modifier, msg_start, len(result))\n"
     ]
    },
    {
     "name": "stdout",
     "output_type": "stream",
     "text": [
      "Epoch 32/100, Loss: 0.7793, Val Accuracy: 0.6982\n",
      "Precision: 0.6066, Recall: 0.6982, F1-score: 0.6487\n"
     ]
    },
    {
     "name": "stderr",
     "output_type": "stream",
     "text": [
      "Epoch 33/100: 100%|██████████| 3750/3750 [00:07<00:00, 485.55it/s]\n",
      "/opt/conda/lib/python3.10/site-packages/sklearn/metrics/_classification.py:1344: UndefinedMetricWarning: Precision and F-score are ill-defined and being set to 0.0 in labels with no predicted samples. Use `zero_division` parameter to control this behavior.\n",
      "  _warn_prf(average, modifier, msg_start, len(result))\n"
     ]
    },
    {
     "name": "stdout",
     "output_type": "stream",
     "text": [
      "Epoch 33/100, Loss: 0.7801, Val Accuracy: 0.7146\n",
      "Precision: 0.6380, Recall: 0.7146, F1-score: 0.6724\n"
     ]
    },
    {
     "name": "stderr",
     "output_type": "stream",
     "text": [
      "Epoch 34/100: 100%|██████████| 3750/3750 [00:07<00:00, 476.42it/s]\n",
      "/opt/conda/lib/python3.10/site-packages/sklearn/metrics/_classification.py:1344: UndefinedMetricWarning: Precision and F-score are ill-defined and being set to 0.0 in labels with no predicted samples. Use `zero_division` parameter to control this behavior.\n",
      "  _warn_prf(average, modifier, msg_start, len(result))\n"
     ]
    },
    {
     "name": "stdout",
     "output_type": "stream",
     "text": [
      "Epoch 34/100, Loss: 0.7789, Val Accuracy: 0.7075\n",
      "Precision: 0.6638, Recall: 0.7075, F1-score: 0.6720\n"
     ]
    },
    {
     "name": "stderr",
     "output_type": "stream",
     "text": [
      "Epoch 35/100: 100%|██████████| 3750/3750 [00:07<00:00, 484.19it/s]\n",
      "/opt/conda/lib/python3.10/site-packages/sklearn/metrics/_classification.py:1344: UndefinedMetricWarning: Precision and F-score are ill-defined and being set to 0.0 in labels with no predicted samples. Use `zero_division` parameter to control this behavior.\n",
      "  _warn_prf(average, modifier, msg_start, len(result))\n"
     ]
    },
    {
     "name": "stdout",
     "output_type": "stream",
     "text": [
      "Epoch 35/100, Loss: 0.7800, Val Accuracy: 0.7117\n",
      "Precision: 0.6565, Recall: 0.7117, F1-score: 0.6745\n"
     ]
    },
    {
     "name": "stderr",
     "output_type": "stream",
     "text": [
      "Epoch 36/100: 100%|██████████| 3750/3750 [00:07<00:00, 479.75it/s]\n",
      "/opt/conda/lib/python3.10/site-packages/sklearn/metrics/_classification.py:1344: UndefinedMetricWarning: Precision and F-score are ill-defined and being set to 0.0 in labels with no predicted samples. Use `zero_division` parameter to control this behavior.\n",
      "  _warn_prf(average, modifier, msg_start, len(result))\n"
     ]
    },
    {
     "name": "stdout",
     "output_type": "stream",
     "text": [
      "Epoch 36/100, Loss: 0.7780, Val Accuracy: 0.7175\n",
      "Precision: 0.6545, Recall: 0.7175, F1-score: 0.6786\n"
     ]
    },
    {
     "name": "stderr",
     "output_type": "stream",
     "text": [
      "Epoch 37/100: 100%|██████████| 3750/3750 [00:07<00:00, 480.99it/s]\n",
      "/opt/conda/lib/python3.10/site-packages/sklearn/metrics/_classification.py:1344: UndefinedMetricWarning: Precision and F-score are ill-defined and being set to 0.0 in labels with no predicted samples. Use `zero_division` parameter to control this behavior.\n",
      "  _warn_prf(average, modifier, msg_start, len(result))\n"
     ]
    },
    {
     "name": "stdout",
     "output_type": "stream",
     "text": [
      "Epoch 37/100, Loss: 0.7796, Val Accuracy: 0.7116\n",
      "Precision: 0.6659, Recall: 0.7116, F1-score: 0.6756\n"
     ]
    },
    {
     "name": "stderr",
     "output_type": "stream",
     "text": [
      "Epoch 38/100: 100%|██████████| 3750/3750 [00:07<00:00, 484.30it/s]\n",
      "/opt/conda/lib/python3.10/site-packages/sklearn/metrics/_classification.py:1344: UndefinedMetricWarning: Precision and F-score are ill-defined and being set to 0.0 in labels with no predicted samples. Use `zero_division` parameter to control this behavior.\n",
      "  _warn_prf(average, modifier, msg_start, len(result))\n"
     ]
    },
    {
     "name": "stdout",
     "output_type": "stream",
     "text": [
      "Epoch 38/100, Loss: 0.7791, Val Accuracy: 0.7123\n",
      "Precision: 0.6333, Recall: 0.7123, F1-score: 0.6694\n"
     ]
    },
    {
     "name": "stderr",
     "output_type": "stream",
     "text": [
      "Epoch 39/100: 100%|██████████| 3750/3750 [00:07<00:00, 484.90it/s]\n",
      "/opt/conda/lib/python3.10/site-packages/sklearn/metrics/_classification.py:1344: UndefinedMetricWarning: Precision and F-score are ill-defined and being set to 0.0 in labels with no predicted samples. Use `zero_division` parameter to control this behavior.\n",
      "  _warn_prf(average, modifier, msg_start, len(result))\n"
     ]
    },
    {
     "name": "stdout",
     "output_type": "stream",
     "text": [
      "Epoch 39/100, Loss: 0.7787, Val Accuracy: 0.7133\n",
      "Precision: 0.6413, Recall: 0.7133, F1-score: 0.6725\n"
     ]
    },
    {
     "name": "stderr",
     "output_type": "stream",
     "text": [
      "Epoch 40/100: 100%|██████████| 3750/3750 [00:07<00:00, 477.84it/s]\n",
      "/opt/conda/lib/python3.10/site-packages/sklearn/metrics/_classification.py:1344: UndefinedMetricWarning: Precision and F-score are ill-defined and being set to 0.0 in labels with no predicted samples. Use `zero_division` parameter to control this behavior.\n",
      "  _warn_prf(average, modifier, msg_start, len(result))\n"
     ]
    },
    {
     "name": "stdout",
     "output_type": "stream",
     "text": [
      "Epoch 40/100, Loss: 0.7774, Val Accuracy: 0.7113\n",
      "Precision: 0.6421, Recall: 0.7113, F1-score: 0.6712\n"
     ]
    },
    {
     "name": "stderr",
     "output_type": "stream",
     "text": [
      "Epoch 41/100: 100%|██████████| 3750/3750 [00:07<00:00, 471.27it/s]\n",
      "/opt/conda/lib/python3.10/site-packages/sklearn/metrics/_classification.py:1344: UndefinedMetricWarning: Precision and F-score are ill-defined and being set to 0.0 in labels with no predicted samples. Use `zero_division` parameter to control this behavior.\n",
      "  _warn_prf(average, modifier, msg_start, len(result))\n"
     ]
    },
    {
     "name": "stdout",
     "output_type": "stream",
     "text": [
      "Epoch 41/100, Loss: 0.7784, Val Accuracy: 0.7148\n",
      "Precision: 0.6372, Recall: 0.7148, F1-score: 0.6723\n"
     ]
    },
    {
     "name": "stderr",
     "output_type": "stream",
     "text": [
      "Epoch 42/100: 100%|██████████| 3750/3750 [00:07<00:00, 481.76it/s]\n",
      "/opt/conda/lib/python3.10/site-packages/sklearn/metrics/_classification.py:1344: UndefinedMetricWarning: Precision and F-score are ill-defined and being set to 0.0 in labels with no predicted samples. Use `zero_division` parameter to control this behavior.\n",
      "  _warn_prf(average, modifier, msg_start, len(result))\n"
     ]
    },
    {
     "name": "stdout",
     "output_type": "stream",
     "text": [
      "Epoch 42/100, Loss: 0.7769, Val Accuracy: 0.7157\n",
      "Precision: 0.6492, Recall: 0.7157, F1-score: 0.6762\n"
     ]
    },
    {
     "name": "stderr",
     "output_type": "stream",
     "text": [
      "Epoch 43/100: 100%|██████████| 3750/3750 [00:07<00:00, 482.68it/s]\n",
      "/opt/conda/lib/python3.10/site-packages/sklearn/metrics/_classification.py:1344: UndefinedMetricWarning: Precision and F-score are ill-defined and being set to 0.0 in labels with no predicted samples. Use `zero_division` parameter to control this behavior.\n",
      "  _warn_prf(average, modifier, msg_start, len(result))\n"
     ]
    },
    {
     "name": "stdout",
     "output_type": "stream",
     "text": [
      "Epoch 43/100, Loss: 0.7773, Val Accuracy: 0.7164\n",
      "Precision: 0.6436, Recall: 0.7164, F1-score: 0.6753\n"
     ]
    },
    {
     "name": "stderr",
     "output_type": "stream",
     "text": [
      "Epoch 44/100: 100%|██████████| 3750/3750 [00:08<00:00, 466.38it/s]\n",
      "/opt/conda/lib/python3.10/site-packages/sklearn/metrics/_classification.py:1344: UndefinedMetricWarning: Precision and F-score are ill-defined and being set to 0.0 in labels with no predicted samples. Use `zero_division` parameter to control this behavior.\n",
      "  _warn_prf(average, modifier, msg_start, len(result))\n"
     ]
    },
    {
     "name": "stdout",
     "output_type": "stream",
     "text": [
      "Epoch 44/100, Loss: 0.7783, Val Accuracy: 0.7067\n",
      "Precision: 0.6203, Recall: 0.7067, F1-score: 0.6607\n"
     ]
    },
    {
     "name": "stderr",
     "output_type": "stream",
     "text": [
      "Epoch 45/100: 100%|██████████| 3750/3750 [00:07<00:00, 484.71it/s]\n",
      "/opt/conda/lib/python3.10/site-packages/sklearn/metrics/_classification.py:1344: UndefinedMetricWarning: Precision and F-score are ill-defined and being set to 0.0 in labels with no predicted samples. Use `zero_division` parameter to control this behavior.\n",
      "  _warn_prf(average, modifier, msg_start, len(result))\n"
     ]
    },
    {
     "name": "stdout",
     "output_type": "stream",
     "text": [
      "Epoch 45/100, Loss: 0.7776, Val Accuracy: 0.7174\n",
      "Precision: 0.6548, Recall: 0.7174, F1-score: 0.6785\n"
     ]
    },
    {
     "name": "stderr",
     "output_type": "stream",
     "text": [
      "Epoch 46/100: 100%|██████████| 3750/3750 [00:07<00:00, 488.82it/s]\n",
      "/opt/conda/lib/python3.10/site-packages/sklearn/metrics/_classification.py:1344: UndefinedMetricWarning: Precision and F-score are ill-defined and being set to 0.0 in labels with no predicted samples. Use `zero_division` parameter to control this behavior.\n",
      "  _warn_prf(average, modifier, msg_start, len(result))\n"
     ]
    },
    {
     "name": "stdout",
     "output_type": "stream",
     "text": [
      "Epoch 46/100, Loss: 0.7769, Val Accuracy: 0.7177\n",
      "Precision: 0.6438, Recall: 0.7177, F1-score: 0.6762\n"
     ]
    },
    {
     "name": "stderr",
     "output_type": "stream",
     "text": [
      "Epoch 47/100: 100%|██████████| 3750/3750 [00:07<00:00, 484.81it/s]\n",
      "/opt/conda/lib/python3.10/site-packages/sklearn/metrics/_classification.py:1344: UndefinedMetricWarning: Precision and F-score are ill-defined and being set to 0.0 in labels with no predicted samples. Use `zero_division` parameter to control this behavior.\n",
      "  _warn_prf(average, modifier, msg_start, len(result))\n"
     ]
    },
    {
     "name": "stdout",
     "output_type": "stream",
     "text": [
      "Epoch 47/100, Loss: 0.7762, Val Accuracy: 0.7151\n",
      "Precision: 0.6618, Recall: 0.7151, F1-score: 0.6780\n"
     ]
    },
    {
     "name": "stderr",
     "output_type": "stream",
     "text": [
      "Epoch 48/100: 100%|██████████| 3750/3750 [00:08<00:00, 451.98it/s]\n",
      "/opt/conda/lib/python3.10/site-packages/sklearn/metrics/_classification.py:1344: UndefinedMetricWarning: Precision and F-score are ill-defined and being set to 0.0 in labels with no predicted samples. Use `zero_division` parameter to control this behavior.\n",
      "  _warn_prf(average, modifier, msg_start, len(result))\n"
     ]
    },
    {
     "name": "stdout",
     "output_type": "stream",
     "text": [
      "Epoch 48/100, Loss: 0.7766, Val Accuracy: 0.7187\n",
      "Precision: 0.6562, Recall: 0.7187, F1-score: 0.6798\n"
     ]
    },
    {
     "name": "stderr",
     "output_type": "stream",
     "text": [
      "Epoch 49/100: 100%|██████████| 3750/3750 [00:07<00:00, 483.91it/s]\n",
      "/opt/conda/lib/python3.10/site-packages/sklearn/metrics/_classification.py:1344: UndefinedMetricWarning: Precision and F-score are ill-defined and being set to 0.0 in labels with no predicted samples. Use `zero_division` parameter to control this behavior.\n",
      "  _warn_prf(average, modifier, msg_start, len(result))\n"
     ]
    },
    {
     "name": "stdout",
     "output_type": "stream",
     "text": [
      "Epoch 49/100, Loss: 0.7766, Val Accuracy: 0.7180\n",
      "Precision: 0.6502, Recall: 0.7180, F1-score: 0.6781\n"
     ]
    },
    {
     "name": "stderr",
     "output_type": "stream",
     "text": [
      "Epoch 50/100: 100%|██████████| 3750/3750 [00:07<00:00, 480.96it/s]\n",
      "/opt/conda/lib/python3.10/site-packages/sklearn/metrics/_classification.py:1344: UndefinedMetricWarning: Precision and F-score are ill-defined and being set to 0.0 in labels with no predicted samples. Use `zero_division` parameter to control this behavior.\n",
      "  _warn_prf(average, modifier, msg_start, len(result))\n"
     ]
    },
    {
     "name": "stdout",
     "output_type": "stream",
     "text": [
      "Epoch 50/100, Loss: 0.7758, Val Accuracy: 0.7135\n",
      "Precision: 0.6682, Recall: 0.7135, F1-score: 0.6776\n"
     ]
    },
    {
     "name": "stderr",
     "output_type": "stream",
     "text": [
      "Epoch 51/100: 100%|██████████| 3750/3750 [00:07<00:00, 482.45it/s]\n",
      "/opt/conda/lib/python3.10/site-packages/sklearn/metrics/_classification.py:1344: UndefinedMetricWarning: Precision and F-score are ill-defined and being set to 0.0 in labels with no predicted samples. Use `zero_division` parameter to control this behavior.\n",
      "  _warn_prf(average, modifier, msg_start, len(result))\n"
     ]
    },
    {
     "name": "stdout",
     "output_type": "stream",
     "text": [
      "Epoch 51/100, Loss: 0.7760, Val Accuracy: 0.7125\n",
      "Precision: 0.6709, Recall: 0.7125, F1-score: 0.6769\n"
     ]
    },
    {
     "name": "stderr",
     "output_type": "stream",
     "text": [
      "Epoch 52/100: 100%|██████████| 3750/3750 [00:08<00:00, 467.13it/s]\n",
      "/opt/conda/lib/python3.10/site-packages/sklearn/metrics/_classification.py:1344: UndefinedMetricWarning: Precision and F-score are ill-defined and being set to 0.0 in labels with no predicted samples. Use `zero_division` parameter to control this behavior.\n",
      "  _warn_prf(average, modifier, msg_start, len(result))\n"
     ]
    },
    {
     "name": "stdout",
     "output_type": "stream",
     "text": [
      "Epoch 52/100, Loss: 0.7751, Val Accuracy: 0.7171\n",
      "Precision: 0.6490, Recall: 0.7171, F1-score: 0.6772\n"
     ]
    },
    {
     "name": "stderr",
     "output_type": "stream",
     "text": [
      "Epoch 53/100: 100%|██████████| 3750/3750 [00:07<00:00, 482.70it/s]\n",
      "/opt/conda/lib/python3.10/site-packages/sklearn/metrics/_classification.py:1344: UndefinedMetricWarning: Precision and F-score are ill-defined and being set to 0.0 in labels with no predicted samples. Use `zero_division` parameter to control this behavior.\n",
      "  _warn_prf(average, modifier, msg_start, len(result))\n"
     ]
    },
    {
     "name": "stdout",
     "output_type": "stream",
     "text": [
      "Epoch 53/100, Loss: 0.7754, Val Accuracy: 0.7069\n",
      "Precision: 0.6178, Recall: 0.7069, F1-score: 0.6593\n"
     ]
    },
    {
     "name": "stderr",
     "output_type": "stream",
     "text": [
      "Epoch 54/100: 100%|██████████| 3750/3750 [00:07<00:00, 483.16it/s]\n",
      "/opt/conda/lib/python3.10/site-packages/sklearn/metrics/_classification.py:1344: UndefinedMetricWarning: Precision and F-score are ill-defined and being set to 0.0 in labels with no predicted samples. Use `zero_division` parameter to control this behavior.\n",
      "  _warn_prf(average, modifier, msg_start, len(result))\n"
     ]
    },
    {
     "name": "stdout",
     "output_type": "stream",
     "text": [
      "Epoch 54/100, Loss: 0.7749, Val Accuracy: 0.7141\n",
      "Precision: 0.6597, Recall: 0.7141, F1-score: 0.6769\n"
     ]
    },
    {
     "name": "stderr",
     "output_type": "stream",
     "text": [
      "Epoch 55/100: 100%|██████████| 3750/3750 [00:07<00:00, 478.77it/s]\n",
      "/opt/conda/lib/python3.10/site-packages/sklearn/metrics/_classification.py:1344: UndefinedMetricWarning: Precision and F-score are ill-defined and being set to 0.0 in labels with no predicted samples. Use `zero_division` parameter to control this behavior.\n",
      "  _warn_prf(average, modifier, msg_start, len(result))\n"
     ]
    },
    {
     "name": "stdout",
     "output_type": "stream",
     "text": [
      "Epoch 55/100, Loss: 0.7744, Val Accuracy: 0.7059\n",
      "Precision: 0.6741, Recall: 0.7059, F1-score: 0.6717\n"
     ]
    },
    {
     "name": "stderr",
     "output_type": "stream",
     "text": [
      "Epoch 56/100: 100%|██████████| 3750/3750 [00:08<00:00, 466.91it/s]\n",
      "/opt/conda/lib/python3.10/site-packages/sklearn/metrics/_classification.py:1344: UndefinedMetricWarning: Precision and F-score are ill-defined and being set to 0.0 in labels with no predicted samples. Use `zero_division` parameter to control this behavior.\n",
      "  _warn_prf(average, modifier, msg_start, len(result))\n"
     ]
    },
    {
     "name": "stdout",
     "output_type": "stream",
     "text": [
      "Epoch 56/100, Loss: 0.7754, Val Accuracy: 0.7161\n",
      "Precision: 0.6663, Recall: 0.7161, F1-score: 0.6794\n"
     ]
    },
    {
     "name": "stderr",
     "output_type": "stream",
     "text": [
      "Epoch 57/100: 100%|██████████| 3750/3750 [00:07<00:00, 482.75it/s]\n",
      "/opt/conda/lib/python3.10/site-packages/sklearn/metrics/_classification.py:1344: UndefinedMetricWarning: Precision and F-score are ill-defined and being set to 0.0 in labels with no predicted samples. Use `zero_division` parameter to control this behavior.\n",
      "  _warn_prf(average, modifier, msg_start, len(result))\n"
     ]
    },
    {
     "name": "stdout",
     "output_type": "stream",
     "text": [
      "Epoch 57/100, Loss: 0.7742, Val Accuracy: 0.7196\n",
      "Precision: 0.6495, Recall: 0.7196, F1-score: 0.6790\n"
     ]
    },
    {
     "name": "stderr",
     "output_type": "stream",
     "text": [
      "Epoch 58/100: 100%|██████████| 3750/3750 [00:07<00:00, 476.11it/s]\n",
      "/opt/conda/lib/python3.10/site-packages/sklearn/metrics/_classification.py:1344: UndefinedMetricWarning: Precision and F-score are ill-defined and being set to 0.0 in labels with no predicted samples. Use `zero_division` parameter to control this behavior.\n",
      "  _warn_prf(average, modifier, msg_start, len(result))\n"
     ]
    },
    {
     "name": "stdout",
     "output_type": "stream",
     "text": [
      "Epoch 58/100, Loss: 0.7756, Val Accuracy: 0.7114\n",
      "Precision: 0.6636, Recall: 0.7114, F1-score: 0.6750\n"
     ]
    },
    {
     "name": "stderr",
     "output_type": "stream",
     "text": [
      "Epoch 59/100: 100%|██████████| 3750/3750 [00:07<00:00, 473.59it/s]\n",
      "/opt/conda/lib/python3.10/site-packages/sklearn/metrics/_classification.py:1344: UndefinedMetricWarning: Precision and F-score are ill-defined and being set to 0.0 in labels with no predicted samples. Use `zero_division` parameter to control this behavior.\n",
      "  _warn_prf(average, modifier, msg_start, len(result))\n"
     ]
    },
    {
     "name": "stdout",
     "output_type": "stream",
     "text": [
      "Epoch 59/100, Loss: 0.7754, Val Accuracy: 0.7184\n",
      "Precision: 0.6419, Recall: 0.7184, F1-score: 0.6761\n"
     ]
    },
    {
     "name": "stderr",
     "output_type": "stream",
     "text": [
      "Epoch 60/100: 100%|██████████| 3750/3750 [00:07<00:00, 471.01it/s]\n",
      "/opt/conda/lib/python3.10/site-packages/sklearn/metrics/_classification.py:1344: UndefinedMetricWarning: Precision and F-score are ill-defined and being set to 0.0 in labels with no predicted samples. Use `zero_division` parameter to control this behavior.\n",
      "  _warn_prf(average, modifier, msg_start, len(result))\n"
     ]
    },
    {
     "name": "stdout",
     "output_type": "stream",
     "text": [
      "Epoch 60/100, Loss: 0.7747, Val Accuracy: 0.7184\n",
      "Precision: 0.6511, Recall: 0.7184, F1-score: 0.6785\n"
     ]
    },
    {
     "name": "stderr",
     "output_type": "stream",
     "text": [
      "Epoch 61/100: 100%|██████████| 3750/3750 [00:07<00:00, 477.46it/s]\n",
      "/opt/conda/lib/python3.10/site-packages/sklearn/metrics/_classification.py:1344: UndefinedMetricWarning: Precision and F-score are ill-defined and being set to 0.0 in labels with no predicted samples. Use `zero_division` parameter to control this behavior.\n",
      "  _warn_prf(average, modifier, msg_start, len(result))\n"
     ]
    },
    {
     "name": "stdout",
     "output_type": "stream",
     "text": [
      "Epoch 61/100, Loss: 0.7753, Val Accuracy: 0.7189\n",
      "Precision: 0.6587, Recall: 0.7189, F1-score: 0.6805\n"
     ]
    },
    {
     "name": "stderr",
     "output_type": "stream",
     "text": [
      "Epoch 62/100: 100%|██████████| 3750/3750 [00:08<00:00, 468.34it/s]\n",
      "/opt/conda/lib/python3.10/site-packages/sklearn/metrics/_classification.py:1344: UndefinedMetricWarning: Precision and F-score are ill-defined and being set to 0.0 in labels with no predicted samples. Use `zero_division` parameter to control this behavior.\n",
      "  _warn_prf(average, modifier, msg_start, len(result))\n"
     ]
    },
    {
     "name": "stdout",
     "output_type": "stream",
     "text": [
      "Epoch 62/100, Loss: 0.7747, Val Accuracy: 0.7183\n",
      "Precision: 0.6536, Recall: 0.7183, F1-score: 0.6790\n"
     ]
    },
    {
     "name": "stderr",
     "output_type": "stream",
     "text": [
      "Epoch 63/100: 100%|██████████| 3750/3750 [00:07<00:00, 474.62it/s]\n",
      "/opt/conda/lib/python3.10/site-packages/sklearn/metrics/_classification.py:1344: UndefinedMetricWarning: Precision and F-score are ill-defined and being set to 0.0 in labels with no predicted samples. Use `zero_division` parameter to control this behavior.\n",
      "  _warn_prf(average, modifier, msg_start, len(result))\n"
     ]
    },
    {
     "name": "stdout",
     "output_type": "stream",
     "text": [
      "Epoch 63/100, Loss: 0.7750, Val Accuracy: 0.7176\n",
      "Precision: 0.6642, Recall: 0.7176, F1-score: 0.6803\n"
     ]
    },
    {
     "name": "stderr",
     "output_type": "stream",
     "text": [
      "Epoch 64/100: 100%|██████████| 3750/3750 [00:08<00:00, 463.72it/s]\n",
      "/opt/conda/lib/python3.10/site-packages/sklearn/metrics/_classification.py:1344: UndefinedMetricWarning: Precision and F-score are ill-defined and being set to 0.0 in labels with no predicted samples. Use `zero_division` parameter to control this behavior.\n",
      "  _warn_prf(average, modifier, msg_start, len(result))\n"
     ]
    },
    {
     "name": "stdout",
     "output_type": "stream",
     "text": [
      "Epoch 64/100, Loss: 0.7733, Val Accuracy: 0.7179\n",
      "Precision: 0.6611, Recall: 0.7179, F1-score: 0.6801\n"
     ]
    },
    {
     "name": "stderr",
     "output_type": "stream",
     "text": [
      "Epoch 65/100: 100%|██████████| 3750/3750 [00:07<00:00, 469.23it/s]\n",
      "/opt/conda/lib/python3.10/site-packages/sklearn/metrics/_classification.py:1344: UndefinedMetricWarning: Precision and F-score are ill-defined and being set to 0.0 in labels with no predicted samples. Use `zero_division` parameter to control this behavior.\n",
      "  _warn_prf(average, modifier, msg_start, len(result))\n"
     ]
    },
    {
     "name": "stdout",
     "output_type": "stream",
     "text": [
      "Epoch 65/100, Loss: 0.7741, Val Accuracy: 0.7175\n",
      "Precision: 0.6692, Recall: 0.7175, F1-score: 0.6809\n"
     ]
    },
    {
     "name": "stderr",
     "output_type": "stream",
     "text": [
      "Epoch 66/100: 100%|██████████| 3750/3750 [00:08<00:00, 460.60it/s]\n",
      "/opt/conda/lib/python3.10/site-packages/sklearn/metrics/_classification.py:1344: UndefinedMetricWarning: Precision and F-score are ill-defined and being set to 0.0 in labels with no predicted samples. Use `zero_division` parameter to control this behavior.\n",
      "  _warn_prf(average, modifier, msg_start, len(result))\n"
     ]
    },
    {
     "name": "stdout",
     "output_type": "stream",
     "text": [
      "Epoch 66/100, Loss: 0.7740, Val Accuracy: 0.7185\n",
      "Precision: 0.6545, Recall: 0.7185, F1-score: 0.6794\n"
     ]
    },
    {
     "name": "stderr",
     "output_type": "stream",
     "text": [
      "Epoch 67/100: 100%|██████████| 3750/3750 [00:08<00:00, 466.31it/s]\n",
      "/opt/conda/lib/python3.10/site-packages/sklearn/metrics/_classification.py:1344: UndefinedMetricWarning: Precision and F-score are ill-defined and being set to 0.0 in labels with no predicted samples. Use `zero_division` parameter to control this behavior.\n",
      "  _warn_prf(average, modifier, msg_start, len(result))\n"
     ]
    },
    {
     "name": "stdout",
     "output_type": "stream",
     "text": [
      "Epoch 67/100, Loss: 0.7759, Val Accuracy: 0.7168\n",
      "Precision: 0.6402, Recall: 0.7168, F1-score: 0.6745\n"
     ]
    },
    {
     "name": "stderr",
     "output_type": "stream",
     "text": [
      "Epoch 68/100: 100%|██████████| 3750/3750 [00:08<00:00, 451.33it/s]\n",
      "/opt/conda/lib/python3.10/site-packages/sklearn/metrics/_classification.py:1344: UndefinedMetricWarning: Precision and F-score are ill-defined and being set to 0.0 in labels with no predicted samples. Use `zero_division` parameter to control this behavior.\n",
      "  _warn_prf(average, modifier, msg_start, len(result))\n"
     ]
    },
    {
     "name": "stdout",
     "output_type": "stream",
     "text": [
      "Epoch 68/100, Loss: 0.7755, Val Accuracy: 0.7156\n",
      "Precision: 0.6694, Recall: 0.7156, F1-score: 0.6794\n"
     ]
    },
    {
     "name": "stderr",
     "output_type": "stream",
     "text": [
      "Epoch 69/100: 100%|██████████| 3750/3750 [00:08<00:00, 467.45it/s]\n",
      "/opt/conda/lib/python3.10/site-packages/sklearn/metrics/_classification.py:1344: UndefinedMetricWarning: Precision and F-score are ill-defined and being set to 0.0 in labels with no predicted samples. Use `zero_division` parameter to control this behavior.\n",
      "  _warn_prf(average, modifier, msg_start, len(result))\n"
     ]
    },
    {
     "name": "stdout",
     "output_type": "stream",
     "text": [
      "Epoch 69/100, Loss: 0.7733, Val Accuracy: 0.7144\n",
      "Precision: 0.6611, Recall: 0.7144, F1-score: 0.6774\n"
     ]
    },
    {
     "name": "stderr",
     "output_type": "stream",
     "text": [
      "Epoch 70/100: 100%|██████████| 3750/3750 [00:07<00:00, 469.31it/s]\n",
      "/opt/conda/lib/python3.10/site-packages/sklearn/metrics/_classification.py:1344: UndefinedMetricWarning: Precision and F-score are ill-defined and being set to 0.0 in labels with no predicted samples. Use `zero_division` parameter to control this behavior.\n",
      "  _warn_prf(average, modifier, msg_start, len(result))\n"
     ]
    },
    {
     "name": "stdout",
     "output_type": "stream",
     "text": [
      "Epoch 70/100, Loss: 0.7745, Val Accuracy: 0.7195\n",
      "Precision: 0.6479, Recall: 0.7195, F1-score: 0.6786\n"
     ]
    },
    {
     "name": "stderr",
     "output_type": "stream",
     "text": [
      "Epoch 71/100: 100%|██████████| 3750/3750 [00:08<00:00, 463.94it/s]\n",
      "/opt/conda/lib/python3.10/site-packages/sklearn/metrics/_classification.py:1344: UndefinedMetricWarning: Precision and F-score are ill-defined and being set to 0.0 in labels with no predicted samples. Use `zero_division` parameter to control this behavior.\n",
      "  _warn_prf(average, modifier, msg_start, len(result))\n"
     ]
    },
    {
     "name": "stdout",
     "output_type": "stream",
     "text": [
      "Epoch 71/100, Loss: 0.7745, Val Accuracy: 0.7156\n",
      "Precision: 0.6356, Recall: 0.7156, F1-score: 0.6723\n"
     ]
    },
    {
     "name": "stderr",
     "output_type": "stream",
     "text": [
      "Epoch 72/100: 100%|██████████| 3750/3750 [00:08<00:00, 459.07it/s]\n",
      "/opt/conda/lib/python3.10/site-packages/sklearn/metrics/_classification.py:1344: UndefinedMetricWarning: Precision and F-score are ill-defined and being set to 0.0 in labels with no predicted samples. Use `zero_division` parameter to control this behavior.\n",
      "  _warn_prf(average, modifier, msg_start, len(result))\n"
     ]
    },
    {
     "name": "stdout",
     "output_type": "stream",
     "text": [
      "Epoch 72/100, Loss: 0.7737, Val Accuracy: 0.7184\n",
      "Precision: 0.6677, Recall: 0.7184, F1-score: 0.6814\n"
     ]
    },
    {
     "name": "stderr",
     "output_type": "stream",
     "text": [
      "Epoch 73/100: 100%|██████████| 3750/3750 [00:08<00:00, 464.16it/s]\n",
      "/opt/conda/lib/python3.10/site-packages/sklearn/metrics/_classification.py:1344: UndefinedMetricWarning: Precision and F-score are ill-defined and being set to 0.0 in labels with no predicted samples. Use `zero_division` parameter to control this behavior.\n",
      "  _warn_prf(average, modifier, msg_start, len(result))\n"
     ]
    },
    {
     "name": "stdout",
     "output_type": "stream",
     "text": [
      "Epoch 73/100, Loss: 0.7745, Val Accuracy: 0.7206\n",
      "Precision: 0.6562, Recall: 0.7206, F1-score: 0.6812\n"
     ]
    },
    {
     "name": "stderr",
     "output_type": "stream",
     "text": [
      "Epoch 74/100: 100%|██████████| 3750/3750 [00:08<00:00, 464.80it/s]\n",
      "/opt/conda/lib/python3.10/site-packages/sklearn/metrics/_classification.py:1344: UndefinedMetricWarning: Precision and F-score are ill-defined and being set to 0.0 in labels with no predicted samples. Use `zero_division` parameter to control this behavior.\n",
      "  _warn_prf(average, modifier, msg_start, len(result))\n"
     ]
    },
    {
     "name": "stdout",
     "output_type": "stream",
     "text": [
      "Epoch 74/100, Loss: 0.7731, Val Accuracy: 0.7096\n",
      "Precision: 0.6723, Recall: 0.7096, F1-score: 0.6745\n"
     ]
    },
    {
     "name": "stderr",
     "output_type": "stream",
     "text": [
      "Epoch 75/100: 100%|██████████| 3750/3750 [00:08<00:00, 466.97it/s]\n",
      "/opt/conda/lib/python3.10/site-packages/sklearn/metrics/_classification.py:1344: UndefinedMetricWarning: Precision and F-score are ill-defined and being set to 0.0 in labels with no predicted samples. Use `zero_division` parameter to control this behavior.\n",
      "  _warn_prf(average, modifier, msg_start, len(result))\n"
     ]
    },
    {
     "name": "stdout",
     "output_type": "stream",
     "text": [
      "Epoch 75/100, Loss: 0.7729, Val Accuracy: 0.7197\n",
      "Precision: 0.6411, Recall: 0.7197, F1-score: 0.6767\n"
     ]
    },
    {
     "name": "stderr",
     "output_type": "stream",
     "text": [
      "Epoch 76/100: 100%|██████████| 3750/3750 [00:08<00:00, 450.61it/s]\n",
      "/opt/conda/lib/python3.10/site-packages/sklearn/metrics/_classification.py:1344: UndefinedMetricWarning: Precision and F-score are ill-defined and being set to 0.0 in labels with no predicted samples. Use `zero_division` parameter to control this behavior.\n",
      "  _warn_prf(average, modifier, msg_start, len(result))\n"
     ]
    },
    {
     "name": "stdout",
     "output_type": "stream",
     "text": [
      "Epoch 76/100, Loss: 0.7744, Val Accuracy: 0.7185\n",
      "Precision: 0.6421, Recall: 0.7185, F1-score: 0.6763\n"
     ]
    },
    {
     "name": "stderr",
     "output_type": "stream",
     "text": [
      "Epoch 77/100: 100%|██████████| 3750/3750 [00:07<00:00, 471.25it/s]\n",
      "/opt/conda/lib/python3.10/site-packages/sklearn/metrics/_classification.py:1344: UndefinedMetricWarning: Precision and F-score are ill-defined and being set to 0.0 in labels with no predicted samples. Use `zero_division` parameter to control this behavior.\n",
      "  _warn_prf(average, modifier, msg_start, len(result))\n"
     ]
    },
    {
     "name": "stdout",
     "output_type": "stream",
     "text": [
      "Epoch 77/100, Loss: 0.7739, Val Accuracy: 0.7203\n",
      "Precision: 0.6516, Recall: 0.7203, F1-score: 0.6801\n"
     ]
    },
    {
     "name": "stderr",
     "output_type": "stream",
     "text": [
      "Epoch 78/100: 100%|██████████| 3750/3750 [00:07<00:00, 478.27it/s]\n",
      "/opt/conda/lib/python3.10/site-packages/sklearn/metrics/_classification.py:1344: UndefinedMetricWarning: Precision and F-score are ill-defined and being set to 0.0 in labels with no predicted samples. Use `zero_division` parameter to control this behavior.\n",
      "  _warn_prf(average, modifier, msg_start, len(result))\n"
     ]
    },
    {
     "name": "stdout",
     "output_type": "stream",
     "text": [
      "Epoch 78/100, Loss: 0.7738, Val Accuracy: 0.7157\n",
      "Precision: 0.6338, Recall: 0.7157, F1-score: 0.6716\n"
     ]
    },
    {
     "name": "stderr",
     "output_type": "stream",
     "text": [
      "Epoch 79/100: 100%|██████████| 3750/3750 [00:07<00:00, 469.51it/s]\n",
      "/opt/conda/lib/python3.10/site-packages/sklearn/metrics/_classification.py:1344: UndefinedMetricWarning: Precision and F-score are ill-defined and being set to 0.0 in labels with no predicted samples. Use `zero_division` parameter to control this behavior.\n",
      "  _warn_prf(average, modifier, msg_start, len(result))\n"
     ]
    },
    {
     "name": "stdout",
     "output_type": "stream",
     "text": [
      "Epoch 79/100, Loss: 0.7733, Val Accuracy: 0.7209\n",
      "Precision: 0.6577, Recall: 0.7209, F1-score: 0.6818\n"
     ]
    },
    {
     "name": "stderr",
     "output_type": "stream",
     "text": [
      "Epoch 80/100: 100%|██████████| 3750/3750 [00:08<00:00, 456.91it/s]\n",
      "/opt/conda/lib/python3.10/site-packages/sklearn/metrics/_classification.py:1344: UndefinedMetricWarning: Precision and F-score are ill-defined and being set to 0.0 in labels with no predicted samples. Use `zero_division` parameter to control this behavior.\n",
      "  _warn_prf(average, modifier, msg_start, len(result))\n"
     ]
    },
    {
     "name": "stdout",
     "output_type": "stream",
     "text": [
      "Epoch 80/100, Loss: 0.7726, Val Accuracy: 0.7138\n",
      "Precision: 0.6745, Recall: 0.7138, F1-score: 0.6784\n"
     ]
    },
    {
     "name": "stderr",
     "output_type": "stream",
     "text": [
      "Epoch 81/100: 100%|██████████| 3750/3750 [00:07<00:00, 468.84it/s]\n",
      "/opt/conda/lib/python3.10/site-packages/sklearn/metrics/_classification.py:1344: UndefinedMetricWarning: Precision and F-score are ill-defined and being set to 0.0 in labels with no predicted samples. Use `zero_division` parameter to control this behavior.\n",
      "  _warn_prf(average, modifier, msg_start, len(result))\n"
     ]
    },
    {
     "name": "stdout",
     "output_type": "stream",
     "text": [
      "Epoch 81/100, Loss: 0.7724, Val Accuracy: 0.7207\n",
      "Precision: 0.6532, Recall: 0.7207, F1-score: 0.6806\n"
     ]
    },
    {
     "name": "stderr",
     "output_type": "stream",
     "text": [
      "Epoch 82/100: 100%|██████████| 3750/3750 [00:08<00:00, 466.65it/s]\n",
      "/opt/conda/lib/python3.10/site-packages/sklearn/metrics/_classification.py:1344: UndefinedMetricWarning: Precision and F-score are ill-defined and being set to 0.0 in labels with no predicted samples. Use `zero_division` parameter to control this behavior.\n",
      "  _warn_prf(average, modifier, msg_start, len(result))\n"
     ]
    },
    {
     "name": "stdout",
     "output_type": "stream",
     "text": [
      "Epoch 82/100, Loss: 0.7738, Val Accuracy: 0.7202\n",
      "Precision: 0.6591, Recall: 0.7202, F1-score: 0.6815\n"
     ]
    },
    {
     "name": "stderr",
     "output_type": "stream",
     "text": [
      "Epoch 83/100: 100%|██████████| 3750/3750 [00:08<00:00, 464.19it/s]\n",
      "/opt/conda/lib/python3.10/site-packages/sklearn/metrics/_classification.py:1344: UndefinedMetricWarning: Precision and F-score are ill-defined and being set to 0.0 in labels with no predicted samples. Use `zero_division` parameter to control this behavior.\n",
      "  _warn_prf(average, modifier, msg_start, len(result))\n"
     ]
    },
    {
     "name": "stdout",
     "output_type": "stream",
     "text": [
      "Epoch 83/100, Loss: 0.7732, Val Accuracy: 0.7186\n",
      "Precision: 0.6690, Recall: 0.7186, F1-score: 0.6817\n"
     ]
    },
    {
     "name": "stderr",
     "output_type": "stream",
     "text": [
      "Epoch 84/100: 100%|██████████| 3750/3750 [00:08<00:00, 461.32it/s]\n",
      "/opt/conda/lib/python3.10/site-packages/sklearn/metrics/_classification.py:1344: UndefinedMetricWarning: Precision and F-score are ill-defined and being set to 0.0 in labels with no predicted samples. Use `zero_division` parameter to control this behavior.\n",
      "  _warn_prf(average, modifier, msg_start, len(result))\n"
     ]
    },
    {
     "name": "stdout",
     "output_type": "stream",
     "text": [
      "Epoch 84/100, Loss: 0.7748, Val Accuracy: 0.7200\n",
      "Precision: 0.6609, Recall: 0.7200, F1-score: 0.6817\n"
     ]
    },
    {
     "name": "stderr",
     "output_type": "stream",
     "text": [
      "Epoch 85/100: 100%|██████████| 3750/3750 [00:07<00:00, 470.94it/s]\n",
      "/opt/conda/lib/python3.10/site-packages/sklearn/metrics/_classification.py:1344: UndefinedMetricWarning: Precision and F-score are ill-defined and being set to 0.0 in labels with no predicted samples. Use `zero_division` parameter to control this behavior.\n",
      "  _warn_prf(average, modifier, msg_start, len(result))\n"
     ]
    },
    {
     "name": "stdout",
     "output_type": "stream",
     "text": [
      "Epoch 85/100, Loss: 0.7726, Val Accuracy: 0.7200\n",
      "Precision: 0.6517, Recall: 0.7200, F1-score: 0.6798\n"
     ]
    },
    {
     "name": "stderr",
     "output_type": "stream",
     "text": [
      "Epoch 86/100: 100%|██████████| 3750/3750 [00:07<00:00, 473.99it/s]\n",
      "/opt/conda/lib/python3.10/site-packages/sklearn/metrics/_classification.py:1344: UndefinedMetricWarning: Precision and F-score are ill-defined and being set to 0.0 in labels with no predicted samples. Use `zero_division` parameter to control this behavior.\n",
      "  _warn_prf(average, modifier, msg_start, len(result))\n"
     ]
    },
    {
     "name": "stdout",
     "output_type": "stream",
     "text": [
      "Epoch 86/100, Loss: 0.7728, Val Accuracy: 0.7181\n",
      "Precision: 0.6402, Recall: 0.7181, F1-score: 0.6754\n"
     ]
    },
    {
     "name": "stderr",
     "output_type": "stream",
     "text": [
      "Epoch 87/100: 100%|██████████| 3750/3750 [00:08<00:00, 463.18it/s]\n",
      "/opt/conda/lib/python3.10/site-packages/sklearn/metrics/_classification.py:1344: UndefinedMetricWarning: Precision and F-score are ill-defined and being set to 0.0 in labels with no predicted samples. Use `zero_division` parameter to control this behavior.\n",
      "  _warn_prf(average, modifier, msg_start, len(result))\n"
     ]
    },
    {
     "name": "stdout",
     "output_type": "stream",
     "text": [
      "Epoch 87/100, Loss: 0.7724, Val Accuracy: 0.7208\n",
      "Precision: 0.6428, Recall: 0.7208, F1-score: 0.6780\n"
     ]
    },
    {
     "name": "stderr",
     "output_type": "stream",
     "text": [
      "Epoch 88/100: 100%|██████████| 3750/3750 [00:08<00:00, 457.98it/s]\n",
      "/opt/conda/lib/python3.10/site-packages/sklearn/metrics/_classification.py:1344: UndefinedMetricWarning: Precision and F-score are ill-defined and being set to 0.0 in labels with no predicted samples. Use `zero_division` parameter to control this behavior.\n",
      "  _warn_prf(average, modifier, msg_start, len(result))\n"
     ]
    },
    {
     "name": "stdout",
     "output_type": "stream",
     "text": [
      "Epoch 88/100, Loss: 0.7733, Val Accuracy: 0.7172\n",
      "Precision: 0.6672, Recall: 0.7172, F1-score: 0.6804\n"
     ]
    },
    {
     "name": "stderr",
     "output_type": "stream",
     "text": [
      "Epoch 89/100: 100%|██████████| 3750/3750 [00:07<00:00, 470.65it/s]\n",
      "/opt/conda/lib/python3.10/site-packages/sklearn/metrics/_classification.py:1344: UndefinedMetricWarning: Precision and F-score are ill-defined and being set to 0.0 in labels with no predicted samples. Use `zero_division` parameter to control this behavior.\n",
      "  _warn_prf(average, modifier, msg_start, len(result))\n"
     ]
    },
    {
     "name": "stdout",
     "output_type": "stream",
     "text": [
      "Epoch 89/100, Loss: 0.7728, Val Accuracy: 0.7194\n",
      "Precision: 0.6617, Recall: 0.7194, F1-score: 0.6814\n"
     ]
    },
    {
     "name": "stderr",
     "output_type": "stream",
     "text": [
      "Epoch 90/100: 100%|██████████| 3750/3750 [00:08<00:00, 467.74it/s]\n",
      "/opt/conda/lib/python3.10/site-packages/sklearn/metrics/_classification.py:1344: UndefinedMetricWarning: Precision and F-score are ill-defined and being set to 0.0 in labels with no predicted samples. Use `zero_division` parameter to control this behavior.\n",
      "  _warn_prf(average, modifier, msg_start, len(result))\n"
     ]
    },
    {
     "name": "stdout",
     "output_type": "stream",
     "text": [
      "Epoch 90/100, Loss: 0.7716, Val Accuracy: 0.7211\n",
      "Precision: 0.6583, Recall: 0.7211, F1-score: 0.6821\n"
     ]
    },
    {
     "name": "stderr",
     "output_type": "stream",
     "text": [
      "Epoch 91/100: 100%|██████████| 3750/3750 [00:08<00:00, 462.30it/s]\n",
      "/opt/conda/lib/python3.10/site-packages/sklearn/metrics/_classification.py:1344: UndefinedMetricWarning: Precision and F-score are ill-defined and being set to 0.0 in labels with no predicted samples. Use `zero_division` parameter to control this behavior.\n",
      "  _warn_prf(average, modifier, msg_start, len(result))\n"
     ]
    },
    {
     "name": "stdout",
     "output_type": "stream",
     "text": [
      "Epoch 91/100, Loss: 0.7725, Val Accuracy: 0.7198\n",
      "Precision: 0.6503, Recall: 0.7198, F1-score: 0.6795\n"
     ]
    },
    {
     "name": "stderr",
     "output_type": "stream",
     "text": [
      "Epoch 92/100: 100%|██████████| 3750/3750 [00:08<00:00, 468.23it/s]\n",
      "/opt/conda/lib/python3.10/site-packages/sklearn/metrics/_classification.py:1344: UndefinedMetricWarning: Precision and F-score are ill-defined and being set to 0.0 in labels with no predicted samples. Use `zero_division` parameter to control this behavior.\n",
      "  _warn_prf(average, modifier, msg_start, len(result))\n"
     ]
    },
    {
     "name": "stdout",
     "output_type": "stream",
     "text": [
      "Epoch 92/100, Loss: 0.7713, Val Accuracy: 0.7114\n",
      "Precision: 0.6232, Recall: 0.7114, F1-score: 0.6644\n"
     ]
    },
    {
     "name": "stderr",
     "output_type": "stream",
     "text": [
      "Epoch 93/100: 100%|██████████| 3750/3750 [00:07<00:00, 473.10it/s]\n",
      "/opt/conda/lib/python3.10/site-packages/sklearn/metrics/_classification.py:1344: UndefinedMetricWarning: Precision and F-score are ill-defined and being set to 0.0 in labels with no predicted samples. Use `zero_division` parameter to control this behavior.\n",
      "  _warn_prf(average, modifier, msg_start, len(result))\n"
     ]
    },
    {
     "name": "stdout",
     "output_type": "stream",
     "text": [
      "Epoch 93/100, Loss: 0.7736, Val Accuracy: 0.7176\n",
      "Precision: 0.6699, Recall: 0.7176, F1-score: 0.6811\n"
     ]
    },
    {
     "name": "stderr",
     "output_type": "stream",
     "text": [
      "Epoch 94/100: 100%|██████████| 3750/3750 [00:07<00:00, 469.67it/s]\n",
      "/opt/conda/lib/python3.10/site-packages/sklearn/metrics/_classification.py:1344: UndefinedMetricWarning: Precision and F-score are ill-defined and being set to 0.0 in labels with no predicted samples. Use `zero_division` parameter to control this behavior.\n",
      "  _warn_prf(average, modifier, msg_start, len(result))\n"
     ]
    },
    {
     "name": "stdout",
     "output_type": "stream",
     "text": [
      "Epoch 94/100, Loss: 0.7732, Val Accuracy: 0.7151\n",
      "Precision: 0.6685, Recall: 0.7151, F1-score: 0.6788\n"
     ]
    },
    {
     "name": "stderr",
     "output_type": "stream",
     "text": [
      "Epoch 95/100: 100%|██████████| 3750/3750 [00:07<00:00, 469.65it/s]\n",
      "/opt/conda/lib/python3.10/site-packages/sklearn/metrics/_classification.py:1344: UndefinedMetricWarning: Precision and F-score are ill-defined and being set to 0.0 in labels with no predicted samples. Use `zero_division` parameter to control this behavior.\n",
      "  _warn_prf(average, modifier, msg_start, len(result))\n"
     ]
    },
    {
     "name": "stdout",
     "output_type": "stream",
     "text": [
      "Epoch 95/100, Loss: 0.7721, Val Accuracy: 0.7163\n",
      "Precision: 0.6741, Recall: 0.7163, F1-score: 0.6804\n"
     ]
    },
    {
     "name": "stderr",
     "output_type": "stream",
     "text": [
      "Epoch 96/100: 100%|██████████| 3750/3750 [00:08<00:00, 467.90it/s]\n",
      "/opt/conda/lib/python3.10/site-packages/sklearn/metrics/_classification.py:1344: UndefinedMetricWarning: Precision and F-score are ill-defined and being set to 0.0 in labels with no predicted samples. Use `zero_division` parameter to control this behavior.\n",
      "  _warn_prf(average, modifier, msg_start, len(result))\n"
     ]
    },
    {
     "name": "stdout",
     "output_type": "stream",
     "text": [
      "Epoch 96/100, Loss: 0.7729, Val Accuracy: 0.7185\n",
      "Precision: 0.6550, Recall: 0.7185, F1-score: 0.6794\n"
     ]
    },
    {
     "name": "stderr",
     "output_type": "stream",
     "text": [
      "Epoch 97/100: 100%|██████████| 3750/3750 [00:07<00:00, 471.66it/s]\n",
      "/opt/conda/lib/python3.10/site-packages/sklearn/metrics/_classification.py:1344: UndefinedMetricWarning: Precision and F-score are ill-defined and being set to 0.0 in labels with no predicted samples. Use `zero_division` parameter to control this behavior.\n",
      "  _warn_prf(average, modifier, msg_start, len(result))\n"
     ]
    },
    {
     "name": "stdout",
     "output_type": "stream",
     "text": [
      "Epoch 97/100, Loss: 0.7712, Val Accuracy: 0.7195\n",
      "Precision: 0.6647, Recall: 0.7195, F1-score: 0.6819\n"
     ]
    },
    {
     "name": "stderr",
     "output_type": "stream",
     "text": [
      "Epoch 98/100: 100%|██████████| 3750/3750 [00:07<00:00, 477.03it/s]\n",
      "/opt/conda/lib/python3.10/site-packages/sklearn/metrics/_classification.py:1344: UndefinedMetricWarning: Precision and F-score are ill-defined and being set to 0.0 in labels with no predicted samples. Use `zero_division` parameter to control this behavior.\n",
      "  _warn_prf(average, modifier, msg_start, len(result))\n"
     ]
    },
    {
     "name": "stdout",
     "output_type": "stream",
     "text": [
      "Epoch 98/100, Loss: 0.7732, Val Accuracy: 0.7215\n",
      "Precision: 0.6627, Recall: 0.7215, F1-score: 0.6832\n"
     ]
    },
    {
     "name": "stderr",
     "output_type": "stream",
     "text": [
      "Epoch 99/100: 100%|██████████| 3750/3750 [00:08<00:00, 465.36it/s]\n",
      "/opt/conda/lib/python3.10/site-packages/sklearn/metrics/_classification.py:1344: UndefinedMetricWarning: Precision and F-score are ill-defined and being set to 0.0 in labels with no predicted samples. Use `zero_division` parameter to control this behavior.\n",
      "  _warn_prf(average, modifier, msg_start, len(result))\n"
     ]
    },
    {
     "name": "stdout",
     "output_type": "stream",
     "text": [
      "Epoch 99/100, Loss: 0.7710, Val Accuracy: 0.7109\n",
      "Precision: 0.6562, Recall: 0.7109, F1-score: 0.6736\n"
     ]
    },
    {
     "name": "stderr",
     "output_type": "stream",
     "text": [
      "Epoch 100/100: 100%|██████████| 3750/3750 [00:08<00:00, 462.99it/s]\n"
     ]
    },
    {
     "name": "stdout",
     "output_type": "stream",
     "text": [
      "Epoch 100/100, Loss: 0.7726, Val Accuracy: 0.7194\n",
      "Precision: 0.6606, Recall: 0.7194, F1-score: 0.6812\n",
      "Training completed!\n",
      "Model saved successfully!\n"
     ]
    },
    {
     "name": "stderr",
     "output_type": "stream",
     "text": [
      "/opt/conda/lib/python3.10/site-packages/sklearn/metrics/_classification.py:1344: UndefinedMetricWarning: Precision and F-score are ill-defined and being set to 0.0 in labels with no predicted samples. Use `zero_division` parameter to control this behavior.\n",
      "  _warn_prf(average, modifier, msg_start, len(result))\n"
     ]
    }
   ],
   "source": [
    "# Training loop\n",
    "print(\"Training classification model...\")\n",
    "for epoch in range(num_epochs):\n",
    "    model.train()\n",
    "    total_loss = 0\n",
    "    for batch_embeddings, batch_labels in tqdm(train_loader, desc=f\"Epoch {epoch+1}/{num_epochs}\"):\n",
    "        batch_embeddings, batch_labels = batch_embeddings.to(device), batch_labels.to(device)\n",
    "        optimizer.zero_grad()\n",
    "        outputs = model(batch_embeddings)\n",
    "        loss = criterion(outputs, batch_labels)\n",
    "        loss.backward()\n",
    "        optimizer.step()\n",
    "        total_loss += loss.item()\n",
    "    \n",
    "    # Validation\n",
    "    model.eval()\n",
    "    val_preds = []\n",
    "    val_true = []\n",
    "    with torch.no_grad():\n",
    "        for batch_embeddings, batch_labels in val_loader:\n",
    "            batch_embeddings, batch_labels = batch_embeddings.to(device), batch_labels.to(device)\n",
    "            outputs = model(batch_embeddings)\n",
    "            _, preds = torch.max(outputs, 1)\n",
    "            val_preds.extend(preds.cpu().numpy())\n",
    "            val_true.extend(batch_labels.cpu().numpy())\n",
    "    \n",
    "    val_accuracy = accuracy_score(val_true, val_preds)\n",
    "    precision, recall, f1, _ = precision_recall_fscore_support(val_true, val_preds, average='weighted')\n",
    "    \n",
    "    print(f\"Epoch {epoch+1}/{num_epochs}, Loss: {total_loss/len(train_loader):.4f}, Val Accuracy: {val_accuracy:.4f}\")\n",
    "    print(f\"Precision: {precision:.4f}, Recall: {recall:.4f}, F1-score: {f1:.4f}\")\n",
    "\n",
    "print(\"Training completed!\")\n",
    "\n",
    "# Save the model\n",
    "torch.save(model.state_dict(), 'tweet_classifier.pth')\n",
    "print(\"Model saved successfully!\")\n",
    "\n",
    "# Function to get predictions for new data\n",
    "def predict(new_data):\n",
    "    model.eval()\n",
    "    with torch.no_grad():\n",
    "        embeddings = torch.tensor(new_data, dtype=torch.float32).to(device)\n",
    "        outputs = model(embeddings)\n",
    "        _, preds = torch.max(outputs, 1)\n",
    "    return label_encoder.inverse_transform(preds.cpu().numpy())\n",
    "\n",
    "# Example usage:\n",
    "# new_predictions = predict(new_embeddings)"
   ]
  },
  {
   "cell_type": "code",
   "execution_count": null,
   "id": "37962e25",
   "metadata": {
    "papermill": {
     "duration": 5.395861,
     "end_time": "2024-10-12T10:24:47.793490",
     "exception": false,
     "start_time": "2024-10-12T10:24:42.397629",
     "status": "completed"
    },
    "tags": []
   },
   "outputs": [],
   "source": []
  },
  {
   "cell_type": "code",
   "execution_count": null,
   "id": "02ab4295",
   "metadata": {
    "papermill": {
     "duration": 5.388316,
     "end_time": "2024-10-12T10:24:58.624731",
     "exception": false,
     "start_time": "2024-10-12T10:24:53.236415",
     "status": "completed"
    },
    "tags": []
   },
   "outputs": [],
   "source": []
  }
 ],
 "metadata": {
  "kaggle": {
   "accelerator": "gpu",
   "dataSources": [
    {
     "datasetId": 5801331,
     "sourceId": 9526829,
     "sourceType": "datasetVersion"
    },
    {
     "datasetId": 5817858,
     "sourceId": 9548807,
     "sourceType": "datasetVersion"
    }
   ],
   "dockerImageVersionId": 30787,
   "isGpuEnabled": true,
   "isInternetEnabled": true,
   "language": "python",
   "sourceType": "notebook"
  },
  "kernelspec": {
   "display_name": "Python 3",
   "language": "python",
   "name": "python3"
  },
  "language_info": {
   "codemirror_mode": {
    "name": "ipython",
    "version": 3
   },
   "file_extension": ".py",
   "mimetype": "text/x-python",
   "name": "python",
   "nbconvert_exporter": "python",
   "pygments_lexer": "ipython3",
   "version": "3.10.14"
  },
  "papermill": {
   "default_parameters": {},
   "duration": 7345.775909,
   "end_time": "2024-10-12T10:25:07.349867",
   "environment_variables": {},
   "exception": null,
   "input_path": "__notebook__.ipynb",
   "output_path": "__notebook__.ipynb",
   "parameters": {},
   "start_time": "2024-10-12T08:22:41.573958",
   "version": "2.6.0"
  },
  "widgets": {
   "application/vnd.jupyter.widget-state+json": {
    "state": {
     "0d361e107fc846d58473b110d222a83b": {
      "model_module": "@jupyter-widgets/base",
      "model_module_version": "1.2.0",
      "model_name": "LayoutModel",
      "state": {
       "_model_module": "@jupyter-widgets/base",
       "_model_module_version": "1.2.0",
       "_model_name": "LayoutModel",
       "_view_count": null,
       "_view_module": "@jupyter-widgets/base",
       "_view_module_version": "1.2.0",
       "_view_name": "LayoutView",
       "align_content": null,
       "align_items": null,
       "align_self": null,
       "border": null,
       "bottom": null,
       "display": null,
       "flex": null,
       "flex_flow": null,
       "grid_area": null,
       "grid_auto_columns": null,
       "grid_auto_flow": null,
       "grid_auto_rows": null,
       "grid_column": null,
       "grid_gap": null,
       "grid_row": null,
       "grid_template_areas": null,
       "grid_template_columns": null,
       "grid_template_rows": null,
       "height": null,
       "justify_content": null,
       "justify_items": null,
       "left": null,
       "margin": null,
       "max_height": null,
       "max_width": null,
       "min_height": null,
       "min_width": null,
       "object_fit": null,
       "object_position": null,
       "order": null,
       "overflow": null,
       "overflow_x": null,
       "overflow_y": null,
       "padding": null,
       "right": null,
       "top": null,
       "visibility": null,
       "width": null
      }
     },
     "140adf9a8b294a54a13088fffbd3d210": {
      "model_module": "@jupyter-widgets/base",
      "model_module_version": "1.2.0",
      "model_name": "LayoutModel",
      "state": {
       "_model_module": "@jupyter-widgets/base",
       "_model_module_version": "1.2.0",
       "_model_name": "LayoutModel",
       "_view_count": null,
       "_view_module": "@jupyter-widgets/base",
       "_view_module_version": "1.2.0",
       "_view_name": "LayoutView",
       "align_content": null,
       "align_items": null,
       "align_self": null,
       "border": null,
       "bottom": null,
       "display": null,
       "flex": null,
       "flex_flow": null,
       "grid_area": null,
       "grid_auto_columns": null,
       "grid_auto_flow": null,
       "grid_auto_rows": null,
       "grid_column": null,
       "grid_gap": null,
       "grid_row": null,
       "grid_template_areas": null,
       "grid_template_columns": null,
       "grid_template_rows": null,
       "height": null,
       "justify_content": null,
       "justify_items": null,
       "left": null,
       "margin": null,
       "max_height": null,
       "max_width": null,
       "min_height": null,
       "min_width": null,
       "object_fit": null,
       "object_position": null,
       "order": null,
       "overflow": null,
       "overflow_x": null,
       "overflow_y": null,
       "padding": null,
       "right": null,
       "top": null,
       "visibility": null,
       "width": null
      }
     },
     "1a7bde94b2f54481824a09c7a930fde1": {
      "model_module": "@jupyter-widgets/controls",
      "model_module_version": "1.5.0",
      "model_name": "FloatProgressModel",
      "state": {
       "_dom_classes": [],
       "_model_module": "@jupyter-widgets/controls",
       "_model_module_version": "1.5.0",
       "_model_name": "FloatProgressModel",
       "_view_count": null,
       "_view_module": "@jupyter-widgets/controls",
       "_view_module_version": "1.5.0",
       "_view_name": "ProgressView",
       "bar_style": "success",
       "description": "",
       "description_tooltip": null,
       "layout": "IPY_MODEL_a2d8ccf7b1ef495b8b19568e07d9617f",
       "max": 898823.0,
       "min": 0.0,
       "orientation": "horizontal",
       "style": "IPY_MODEL_f898a6a59df44f73b8a3c91f3aac931b",
       "value": 898823.0
      }
     },
     "252ce2c75d144bec92083ceb96475706": {
      "model_module": "@jupyter-widgets/controls",
      "model_module_version": "1.5.0",
      "model_name": "HBoxModel",
      "state": {
       "_dom_classes": [],
       "_model_module": "@jupyter-widgets/controls",
       "_model_module_version": "1.5.0",
       "_model_name": "HBoxModel",
       "_view_count": null,
       "_view_module": "@jupyter-widgets/controls",
       "_view_module_version": "1.5.0",
       "_view_name": "HBoxView",
       "box_style": "",
       "children": [
        "IPY_MODEL_a2db562d529543418ceb53f7cfa36c1e",
        "IPY_MODEL_1a7bde94b2f54481824a09c7a930fde1",
        "IPY_MODEL_8cba7e9e370043698d0ccba5240ada4a"
       ],
       "layout": "IPY_MODEL_927b349c03ad4166b430d7074c14115d"
      }
     },
     "25a60b76c2a14ae69fb0d7ab9be3bdef": {
      "model_module": "@jupyter-widgets/base",
      "model_module_version": "1.2.0",
      "model_name": "LayoutModel",
      "state": {
       "_model_module": "@jupyter-widgets/base",
       "_model_module_version": "1.2.0",
       "_model_name": "LayoutModel",
       "_view_count": null,
       "_view_module": "@jupyter-widgets/base",
       "_view_module_version": "1.2.0",
       "_view_name": "LayoutView",
       "align_content": null,
       "align_items": null,
       "align_self": null,
       "border": null,
       "bottom": null,
       "display": null,
       "flex": null,
       "flex_flow": null,
       "grid_area": null,
       "grid_auto_columns": null,
       "grid_auto_flow": null,
       "grid_auto_rows": null,
       "grid_column": null,
       "grid_gap": null,
       "grid_row": null,
       "grid_template_areas": null,
       "grid_template_columns": null,
       "grid_template_rows": null,
       "height": null,
       "justify_content": null,
       "justify_items": null,
       "left": null,
       "margin": null,
       "max_height": null,
       "max_width": null,
       "min_height": null,
       "min_width": null,
       "object_fit": null,
       "object_position": null,
       "order": null,
       "overflow": null,
       "overflow_x": null,
       "overflow_y": null,
       "padding": null,
       "right": null,
       "top": null,
       "visibility": null,
       "width": null
      }
     },
     "262db235f3aa4bc99ed60929bc9b7935": {
      "model_module": "@jupyter-widgets/base",
      "model_module_version": "1.2.0",
      "model_name": "LayoutModel",
      "state": {
       "_model_module": "@jupyter-widgets/base",
       "_model_module_version": "1.2.0",
       "_model_name": "LayoutModel",
       "_view_count": null,
       "_view_module": "@jupyter-widgets/base",
       "_view_module_version": "1.2.0",
       "_view_name": "LayoutView",
       "align_content": null,
       "align_items": null,
       "align_self": null,
       "border": null,
       "bottom": null,
       "display": null,
       "flex": null,
       "flex_flow": null,
       "grid_area": null,
       "grid_auto_columns": null,
       "grid_auto_flow": null,
       "grid_auto_rows": null,
       "grid_column": null,
       "grid_gap": null,
       "grid_row": null,
       "grid_template_areas": null,
       "grid_template_columns": null,
       "grid_template_rows": null,
       "height": null,
       "justify_content": null,
       "justify_items": null,
       "left": null,
       "margin": null,
       "max_height": null,
       "max_width": null,
       "min_height": null,
       "min_width": null,
       "object_fit": null,
       "object_position": null,
       "order": null,
       "overflow": null,
       "overflow_x": null,
       "overflow_y": null,
       "padding": null,
       "right": null,
       "top": null,
       "visibility": null,
       "width": null
      }
     },
     "2ed17ee7aab849d4862d5dd8b34e5ebe": {
      "model_module": "@jupyter-widgets/controls",
      "model_module_version": "1.5.0",
      "model_name": "FloatProgressModel",
      "state": {
       "_dom_classes": [],
       "_model_module": "@jupyter-widgets/controls",
       "_model_module_version": "1.5.0",
       "_model_name": "FloatProgressModel",
       "_view_count": null,
       "_view_module": "@jupyter-widgets/controls",
       "_view_module_version": "1.5.0",
       "_view_name": "ProgressView",
       "bar_style": "success",
       "description": "",
       "description_tooltip": null,
       "layout": "IPY_MODEL_e852941616d343cf96ffe9d2bcbc456c",
       "max": 565.0,
       "min": 0.0,
       "orientation": "horizontal",
       "style": "IPY_MODEL_86ccdac1115846e79b4144996dfc6331",
       "value": 565.0
      }
     },
     "309bb55206cb433d809e9bcab60d9748": {
      "model_module": "@jupyter-widgets/controls",
      "model_module_version": "1.5.0",
      "model_name": "ProgressStyleModel",
      "state": {
       "_model_module": "@jupyter-widgets/controls",
       "_model_module_version": "1.5.0",
       "_model_name": "ProgressStyleModel",
       "_view_count": null,
       "_view_module": "@jupyter-widgets/base",
       "_view_module_version": "1.2.0",
       "_view_name": "StyleView",
       "bar_color": null,
       "description_width": ""
      }
     },
     "41b20c0560844e29a148a8e26cc0a2ee": {
      "model_module": "@jupyter-widgets/controls",
      "model_module_version": "1.5.0",
      "model_name": "HBoxModel",
      "state": {
       "_dom_classes": [],
       "_model_module": "@jupyter-widgets/controls",
       "_model_module_version": "1.5.0",
       "_model_name": "HBoxModel",
       "_view_count": null,
       "_view_module": "@jupyter-widgets/controls",
       "_view_module_version": "1.5.0",
       "_view_name": "HBoxView",
       "box_style": "",
       "children": [
        "IPY_MODEL_df951347f477461f9be28ce4bee31270",
        "IPY_MODEL_43da95bdeaf646ddb47ca580138a2a93",
        "IPY_MODEL_8d6b0a6e731d4a77a1364650c94c713e"
       ],
       "layout": "IPY_MODEL_f4bce7b8841642c3a69f5df8a66f9851"
      }
     },
     "43da95bdeaf646ddb47ca580138a2a93": {
      "model_module": "@jupyter-widgets/controls",
      "model_module_version": "1.5.0",
      "model_name": "FloatProgressModel",
      "state": {
       "_dom_classes": [],
       "_model_module": "@jupyter-widgets/controls",
       "_model_module_version": "1.5.0",
       "_model_name": "FloatProgressModel",
       "_view_count": null,
       "_view_module": "@jupyter-widgets/controls",
       "_view_module_version": "1.5.0",
       "_view_name": "ProgressView",
       "bar_style": "success",
       "description": "",
       "description_tooltip": null,
       "layout": "IPY_MODEL_25a60b76c2a14ae69fb0d7ab9be3bdef",
       "max": 456318.0,
       "min": 0.0,
       "orientation": "horizontal",
       "style": "IPY_MODEL_f5a620d5b9774d2f98156415399cacad",
       "value": 456318.0
      }
     },
     "54cd821d788a4e5c99aeffac918d4ed8": {
      "model_module": "@jupyter-widgets/controls",
      "model_module_version": "1.5.0",
      "model_name": "DescriptionStyleModel",
      "state": {
       "_model_module": "@jupyter-widgets/controls",
       "_model_module_version": "1.5.0",
       "_model_name": "DescriptionStyleModel",
       "_view_count": null,
       "_view_module": "@jupyter-widgets/base",
       "_view_module_version": "1.2.0",
       "_view_name": "StyleView",
       "description_width": ""
      }
     },
     "5595897fd52d44ffaf04ac5d3c37d598": {
      "model_module": "@jupyter-widgets/controls",
      "model_module_version": "1.5.0",
      "model_name": "DescriptionStyleModel",
      "state": {
       "_model_module": "@jupyter-widgets/controls",
       "_model_module_version": "1.5.0",
       "_model_name": "DescriptionStyleModel",
       "_view_count": null,
       "_view_module": "@jupyter-widgets/base",
       "_view_module_version": "1.2.0",
       "_view_name": "StyleView",
       "description_width": ""
      }
     },
     "5ad19b3fa1834e8fa71017f9435a3c58": {
      "model_module": "@jupyter-widgets/controls",
      "model_module_version": "1.5.0",
      "model_name": "HBoxModel",
      "state": {
       "_dom_classes": [],
       "_model_module": "@jupyter-widgets/controls",
       "_model_module_version": "1.5.0",
       "_model_name": "HBoxModel",
       "_view_count": null,
       "_view_module": "@jupyter-widgets/controls",
       "_view_module_version": "1.5.0",
       "_view_name": "HBoxView",
       "box_style": "",
       "children": [
        "IPY_MODEL_607d2d3f65ff415fa9febedd41378fe5",
        "IPY_MODEL_2ed17ee7aab849d4862d5dd8b34e5ebe",
        "IPY_MODEL_b9c818e50a0243c4a687c9cf478593ff"
       ],
       "layout": "IPY_MODEL_f99b3f17ed65496594ae9b2adb81ac20"
      }
     },
     "607d2d3f65ff415fa9febedd41378fe5": {
      "model_module": "@jupyter-widgets/controls",
      "model_module_version": "1.5.0",
      "model_name": "HTMLModel",
      "state": {
       "_dom_classes": [],
       "_model_module": "@jupyter-widgets/controls",
       "_model_module_version": "1.5.0",
       "_model_name": "HTMLModel",
       "_view_count": null,
       "_view_module": "@jupyter-widgets/controls",
       "_view_module_version": "1.5.0",
       "_view_name": "HTMLView",
       "description": "",
       "description_tooltip": null,
       "layout": "IPY_MODEL_c831e0aa32f4486c89a9d3b84cdd9f9a",
       "placeholder": "​",
       "style": "IPY_MODEL_54cd821d788a4e5c99aeffac918d4ed8",
       "value": "config.json: 100%"
      }
     },
     "66bd63630aea4d99bdc25e665227a91b": {
      "model_module": "@jupyter-widgets/controls",
      "model_module_version": "1.5.0",
      "model_name": "DescriptionStyleModel",
      "state": {
       "_model_module": "@jupyter-widgets/controls",
       "_model_module_version": "1.5.0",
       "_model_name": "DescriptionStyleModel",
       "_view_count": null,
       "_view_module": "@jupyter-widgets/base",
       "_view_module_version": "1.2.0",
       "_view_name": "StyleView",
       "description_width": ""
      }
     },
     "6ecb8d57497c420ab1de9aa0478ba6e5": {
      "model_module": "@jupyter-widgets/controls",
      "model_module_version": "1.5.0",
      "model_name": "HTMLModel",
      "state": {
       "_dom_classes": [],
       "_model_module": "@jupyter-widgets/controls",
       "_model_module_version": "1.5.0",
       "_model_name": "HTMLModel",
       "_view_count": null,
       "_view_module": "@jupyter-widgets/controls",
       "_view_module_version": "1.5.0",
       "_view_name": "HTMLView",
       "description": "",
       "description_tooltip": null,
       "layout": "IPY_MODEL_cf0e3d5aa1a24f41b30e7e81271ba5f1",
       "placeholder": "​",
       "style": "IPY_MODEL_87595bc478f14eb68b8212d40d6308d9",
       "value": " 501M/501M [00:08&lt;00:00, 55.7MB/s]"
      }
     },
     "800f49aa529347db96cbac4677a070a3": {
      "model_module": "@jupyter-widgets/controls",
      "model_module_version": "1.5.0",
      "model_name": "FloatProgressModel",
      "state": {
       "_dom_classes": [],
       "_model_module": "@jupyter-widgets/controls",
       "_model_module_version": "1.5.0",
       "_model_name": "FloatProgressModel",
       "_view_count": null,
       "_view_module": "@jupyter-widgets/controls",
       "_view_module_version": "1.5.0",
       "_view_name": "ProgressView",
       "bar_style": "success",
       "description": "",
       "description_tooltip": null,
       "layout": "IPY_MODEL_c4351d80fbf746fdb2324b95b7f3f1c0",
       "max": 501204462.0,
       "min": 0.0,
       "orientation": "horizontal",
       "style": "IPY_MODEL_309bb55206cb433d809e9bcab60d9748",
       "value": 501204462.0
      }
     },
     "838f49f39baf4f2fbd8bda700a3f1027": {
      "model_module": "@jupyter-widgets/controls",
      "model_module_version": "1.5.0",
      "model_name": "HTMLModel",
      "state": {
       "_dom_classes": [],
       "_model_module": "@jupyter-widgets/controls",
       "_model_module_version": "1.5.0",
       "_model_name": "HTMLModel",
       "_view_count": null,
       "_view_module": "@jupyter-widgets/controls",
       "_view_module_version": "1.5.0",
       "_view_name": "HTMLView",
       "description": "",
       "description_tooltip": null,
       "layout": "IPY_MODEL_e7733264cd924f21abf3b1b1c1ec25c3",
       "placeholder": "​",
       "style": "IPY_MODEL_5595897fd52d44ffaf04ac5d3c37d598",
       "value": "pytorch_model.bin: 100%"
      }
     },
     "8691f246191e48bcb964eb7e33907893": {
      "model_module": "@jupyter-widgets/controls",
      "model_module_version": "1.5.0",
      "model_name": "DescriptionStyleModel",
      "state": {
       "_model_module": "@jupyter-widgets/controls",
       "_model_module_version": "1.5.0",
       "_model_name": "DescriptionStyleModel",
       "_view_count": null,
       "_view_module": "@jupyter-widgets/base",
       "_view_module_version": "1.2.0",
       "_view_name": "StyleView",
       "description_width": ""
      }
     },
     "86ccdac1115846e79b4144996dfc6331": {
      "model_module": "@jupyter-widgets/controls",
      "model_module_version": "1.5.0",
      "model_name": "ProgressStyleModel",
      "state": {
       "_model_module": "@jupyter-widgets/controls",
       "_model_module_version": "1.5.0",
       "_model_name": "ProgressStyleModel",
       "_view_count": null,
       "_view_module": "@jupyter-widgets/base",
       "_view_module_version": "1.2.0",
       "_view_name": "StyleView",
       "bar_color": null,
       "description_width": ""
      }
     },
     "87595bc478f14eb68b8212d40d6308d9": {
      "model_module": "@jupyter-widgets/controls",
      "model_module_version": "1.5.0",
      "model_name": "DescriptionStyleModel",
      "state": {
       "_model_module": "@jupyter-widgets/controls",
       "_model_module_version": "1.5.0",
       "_model_name": "DescriptionStyleModel",
       "_view_count": null,
       "_view_module": "@jupyter-widgets/base",
       "_view_module_version": "1.2.0",
       "_view_name": "StyleView",
       "description_width": ""
      }
     },
     "8cba7e9e370043698d0ccba5240ada4a": {
      "model_module": "@jupyter-widgets/controls",
      "model_module_version": "1.5.0",
      "model_name": "HTMLModel",
      "state": {
       "_dom_classes": [],
       "_model_module": "@jupyter-widgets/controls",
       "_model_module_version": "1.5.0",
       "_model_name": "HTMLModel",
       "_view_count": null,
       "_view_module": "@jupyter-widgets/controls",
       "_view_module_version": "1.5.0",
       "_view_name": "HTMLView",
       "description": "",
       "description_tooltip": null,
       "layout": "IPY_MODEL_ef8d29e2b55d4e38a16c61ea20a822bb",
       "placeholder": "​",
       "style": "IPY_MODEL_c4c3ac5b7856474c912bdf3cc4fe43c2",
       "value": " 899k/899k [00:00&lt;00:00, 2.73MB/s]"
      }
     },
     "8d6b0a6e731d4a77a1364650c94c713e": {
      "model_module": "@jupyter-widgets/controls",
      "model_module_version": "1.5.0",
      "model_name": "HTMLModel",
      "state": {
       "_dom_classes": [],
       "_model_module": "@jupyter-widgets/controls",
       "_model_module_version": "1.5.0",
       "_model_name": "HTMLModel",
       "_view_count": null,
       "_view_module": "@jupyter-widgets/controls",
       "_view_module_version": "1.5.0",
       "_view_name": "HTMLView",
       "description": "",
       "description_tooltip": null,
       "layout": "IPY_MODEL_dd72ce91432646fa9820f15cf1baf184",
       "placeholder": "​",
       "style": "IPY_MODEL_8691f246191e48bcb964eb7e33907893",
       "value": " 456k/456k [00:00&lt;00:00, 1.86MB/s]"
      }
     },
     "927b349c03ad4166b430d7074c14115d": {
      "model_module": "@jupyter-widgets/base",
      "model_module_version": "1.2.0",
      "model_name": "LayoutModel",
      "state": {
       "_model_module": "@jupyter-widgets/base",
       "_model_module_version": "1.2.0",
       "_model_name": "LayoutModel",
       "_view_count": null,
       "_view_module": "@jupyter-widgets/base",
       "_view_module_version": "1.2.0",
       "_view_name": "LayoutView",
       "align_content": null,
       "align_items": null,
       "align_self": null,
       "border": null,
       "bottom": null,
       "display": null,
       "flex": null,
       "flex_flow": null,
       "grid_area": null,
       "grid_auto_columns": null,
       "grid_auto_flow": null,
       "grid_auto_rows": null,
       "grid_column": null,
       "grid_gap": null,
       "grid_row": null,
       "grid_template_areas": null,
       "grid_template_columns": null,
       "grid_template_rows": null,
       "height": null,
       "justify_content": null,
       "justify_items": null,
       "left": null,
       "margin": null,
       "max_height": null,
       "max_width": null,
       "min_height": null,
       "min_width": null,
       "object_fit": null,
       "object_position": null,
       "order": null,
       "overflow": null,
       "overflow_x": null,
       "overflow_y": null,
       "padding": null,
       "right": null,
       "top": null,
       "visibility": null,
       "width": null
      }
     },
     "949dd2cebe02476c848c7a3244ba4324": {
      "model_module": "@jupyter-widgets/controls",
      "model_module_version": "1.5.0",
      "model_name": "HBoxModel",
      "state": {
       "_dom_classes": [],
       "_model_module": "@jupyter-widgets/controls",
       "_model_module_version": "1.5.0",
       "_model_name": "HBoxModel",
       "_view_count": null,
       "_view_module": "@jupyter-widgets/controls",
       "_view_module_version": "1.5.0",
       "_view_name": "HBoxView",
       "box_style": "",
       "children": [
        "IPY_MODEL_838f49f39baf4f2fbd8bda700a3f1027",
        "IPY_MODEL_800f49aa529347db96cbac4677a070a3",
        "IPY_MODEL_6ecb8d57497c420ab1de9aa0478ba6e5"
       ],
       "layout": "IPY_MODEL_fddf8d7ea742400e9d1206ad976b6f92"
      }
     },
     "a2d8ccf7b1ef495b8b19568e07d9617f": {
      "model_module": "@jupyter-widgets/base",
      "model_module_version": "1.2.0",
      "model_name": "LayoutModel",
      "state": {
       "_model_module": "@jupyter-widgets/base",
       "_model_module_version": "1.2.0",
       "_model_name": "LayoutModel",
       "_view_count": null,
       "_view_module": "@jupyter-widgets/base",
       "_view_module_version": "1.2.0",
       "_view_name": "LayoutView",
       "align_content": null,
       "align_items": null,
       "align_self": null,
       "border": null,
       "bottom": null,
       "display": null,
       "flex": null,
       "flex_flow": null,
       "grid_area": null,
       "grid_auto_columns": null,
       "grid_auto_flow": null,
       "grid_auto_rows": null,
       "grid_column": null,
       "grid_gap": null,
       "grid_row": null,
       "grid_template_areas": null,
       "grid_template_columns": null,
       "grid_template_rows": null,
       "height": null,
       "justify_content": null,
       "justify_items": null,
       "left": null,
       "margin": null,
       "max_height": null,
       "max_width": null,
       "min_height": null,
       "min_width": null,
       "object_fit": null,
       "object_position": null,
       "order": null,
       "overflow": null,
       "overflow_x": null,
       "overflow_y": null,
       "padding": null,
       "right": null,
       "top": null,
       "visibility": null,
       "width": null
      }
     },
     "a2db562d529543418ceb53f7cfa36c1e": {
      "model_module": "@jupyter-widgets/controls",
      "model_module_version": "1.5.0",
      "model_name": "HTMLModel",
      "state": {
       "_dom_classes": [],
       "_model_module": "@jupyter-widgets/controls",
       "_model_module_version": "1.5.0",
       "_model_name": "HTMLModel",
       "_view_count": null,
       "_view_module": "@jupyter-widgets/controls",
       "_view_module_version": "1.5.0",
       "_view_name": "HTMLView",
       "description": "",
       "description_tooltip": null,
       "layout": "IPY_MODEL_0d361e107fc846d58473b110d222a83b",
       "placeholder": "​",
       "style": "IPY_MODEL_bd3e77253cc24717bb523df0b3940041",
       "value": "vocab.json: 100%"
      }
     },
     "b9c818e50a0243c4a687c9cf478593ff": {
      "model_module": "@jupyter-widgets/controls",
      "model_module_version": "1.5.0",
      "model_name": "HTMLModel",
      "state": {
       "_dom_classes": [],
       "_model_module": "@jupyter-widgets/controls",
       "_model_module_version": "1.5.0",
       "_model_name": "HTMLModel",
       "_view_count": null,
       "_view_module": "@jupyter-widgets/controls",
       "_view_module_version": "1.5.0",
       "_view_name": "HTMLView",
       "description": "",
       "description_tooltip": null,
       "layout": "IPY_MODEL_140adf9a8b294a54a13088fffbd3d210",
       "placeholder": "​",
       "style": "IPY_MODEL_66bd63630aea4d99bdc25e665227a91b",
       "value": " 565/565 [00:00&lt;00:00, 41.5kB/s]"
      }
     },
     "bd3e77253cc24717bb523df0b3940041": {
      "model_module": "@jupyter-widgets/controls",
      "model_module_version": "1.5.0",
      "model_name": "DescriptionStyleModel",
      "state": {
       "_model_module": "@jupyter-widgets/controls",
       "_model_module_version": "1.5.0",
       "_model_name": "DescriptionStyleModel",
       "_view_count": null,
       "_view_module": "@jupyter-widgets/base",
       "_view_module_version": "1.2.0",
       "_view_name": "StyleView",
       "description_width": ""
      }
     },
     "c4351d80fbf746fdb2324b95b7f3f1c0": {
      "model_module": "@jupyter-widgets/base",
      "model_module_version": "1.2.0",
      "model_name": "LayoutModel",
      "state": {
       "_model_module": "@jupyter-widgets/base",
       "_model_module_version": "1.2.0",
       "_model_name": "LayoutModel",
       "_view_count": null,
       "_view_module": "@jupyter-widgets/base",
       "_view_module_version": "1.2.0",
       "_view_name": "LayoutView",
       "align_content": null,
       "align_items": null,
       "align_self": null,
       "border": null,
       "bottom": null,
       "display": null,
       "flex": null,
       "flex_flow": null,
       "grid_area": null,
       "grid_auto_columns": null,
       "grid_auto_flow": null,
       "grid_auto_rows": null,
       "grid_column": null,
       "grid_gap": null,
       "grid_row": null,
       "grid_template_areas": null,
       "grid_template_columns": null,
       "grid_template_rows": null,
       "height": null,
       "justify_content": null,
       "justify_items": null,
       "left": null,
       "margin": null,
       "max_height": null,
       "max_width": null,
       "min_height": null,
       "min_width": null,
       "object_fit": null,
       "object_position": null,
       "order": null,
       "overflow": null,
       "overflow_x": null,
       "overflow_y": null,
       "padding": null,
       "right": null,
       "top": null,
       "visibility": null,
       "width": null
      }
     },
     "c4c3ac5b7856474c912bdf3cc4fe43c2": {
      "model_module": "@jupyter-widgets/controls",
      "model_module_version": "1.5.0",
      "model_name": "DescriptionStyleModel",
      "state": {
       "_model_module": "@jupyter-widgets/controls",
       "_model_module_version": "1.5.0",
       "_model_name": "DescriptionStyleModel",
       "_view_count": null,
       "_view_module": "@jupyter-widgets/base",
       "_view_module_version": "1.2.0",
       "_view_name": "StyleView",
       "description_width": ""
      }
     },
     "c831e0aa32f4486c89a9d3b84cdd9f9a": {
      "model_module": "@jupyter-widgets/base",
      "model_module_version": "1.2.0",
      "model_name": "LayoutModel",
      "state": {
       "_model_module": "@jupyter-widgets/base",
       "_model_module_version": "1.2.0",
       "_model_name": "LayoutModel",
       "_view_count": null,
       "_view_module": "@jupyter-widgets/base",
       "_view_module_version": "1.2.0",
       "_view_name": "LayoutView",
       "align_content": null,
       "align_items": null,
       "align_self": null,
       "border": null,
       "bottom": null,
       "display": null,
       "flex": null,
       "flex_flow": null,
       "grid_area": null,
       "grid_auto_columns": null,
       "grid_auto_flow": null,
       "grid_auto_rows": null,
       "grid_column": null,
       "grid_gap": null,
       "grid_row": null,
       "grid_template_areas": null,
       "grid_template_columns": null,
       "grid_template_rows": null,
       "height": null,
       "justify_content": null,
       "justify_items": null,
       "left": null,
       "margin": null,
       "max_height": null,
       "max_width": null,
       "min_height": null,
       "min_width": null,
       "object_fit": null,
       "object_position": null,
       "order": null,
       "overflow": null,
       "overflow_x": null,
       "overflow_y": null,
       "padding": null,
       "right": null,
       "top": null,
       "visibility": null,
       "width": null
      }
     },
     "c857618216df412da8946eeec12d945c": {
      "model_module": "@jupyter-widgets/controls",
      "model_module_version": "1.5.0",
      "model_name": "DescriptionStyleModel",
      "state": {
       "_model_module": "@jupyter-widgets/controls",
       "_model_module_version": "1.5.0",
       "_model_name": "DescriptionStyleModel",
       "_view_count": null,
       "_view_module": "@jupyter-widgets/base",
       "_view_module_version": "1.2.0",
       "_view_name": "StyleView",
       "description_width": ""
      }
     },
     "cf0e3d5aa1a24f41b30e7e81271ba5f1": {
      "model_module": "@jupyter-widgets/base",
      "model_module_version": "1.2.0",
      "model_name": "LayoutModel",
      "state": {
       "_model_module": "@jupyter-widgets/base",
       "_model_module_version": "1.2.0",
       "_model_name": "LayoutModel",
       "_view_count": null,
       "_view_module": "@jupyter-widgets/base",
       "_view_module_version": "1.2.0",
       "_view_name": "LayoutView",
       "align_content": null,
       "align_items": null,
       "align_self": null,
       "border": null,
       "bottom": null,
       "display": null,
       "flex": null,
       "flex_flow": null,
       "grid_area": null,
       "grid_auto_columns": null,
       "grid_auto_flow": null,
       "grid_auto_rows": null,
       "grid_column": null,
       "grid_gap": null,
       "grid_row": null,
       "grid_template_areas": null,
       "grid_template_columns": null,
       "grid_template_rows": null,
       "height": null,
       "justify_content": null,
       "justify_items": null,
       "left": null,
       "margin": null,
       "max_height": null,
       "max_width": null,
       "min_height": null,
       "min_width": null,
       "object_fit": null,
       "object_position": null,
       "order": null,
       "overflow": null,
       "overflow_x": null,
       "overflow_y": null,
       "padding": null,
       "right": null,
       "top": null,
       "visibility": null,
       "width": null
      }
     },
     "dd72ce91432646fa9820f15cf1baf184": {
      "model_module": "@jupyter-widgets/base",
      "model_module_version": "1.2.0",
      "model_name": "LayoutModel",
      "state": {
       "_model_module": "@jupyter-widgets/base",
       "_model_module_version": "1.2.0",
       "_model_name": "LayoutModel",
       "_view_count": null,
       "_view_module": "@jupyter-widgets/base",
       "_view_module_version": "1.2.0",
       "_view_name": "LayoutView",
       "align_content": null,
       "align_items": null,
       "align_self": null,
       "border": null,
       "bottom": null,
       "display": null,
       "flex": null,
       "flex_flow": null,
       "grid_area": null,
       "grid_auto_columns": null,
       "grid_auto_flow": null,
       "grid_auto_rows": null,
       "grid_column": null,
       "grid_gap": null,
       "grid_row": null,
       "grid_template_areas": null,
       "grid_template_columns": null,
       "grid_template_rows": null,
       "height": null,
       "justify_content": null,
       "justify_items": null,
       "left": null,
       "margin": null,
       "max_height": null,
       "max_width": null,
       "min_height": null,
       "min_width": null,
       "object_fit": null,
       "object_position": null,
       "order": null,
       "overflow": null,
       "overflow_x": null,
       "overflow_y": null,
       "padding": null,
       "right": null,
       "top": null,
       "visibility": null,
       "width": null
      }
     },
     "df951347f477461f9be28ce4bee31270": {
      "model_module": "@jupyter-widgets/controls",
      "model_module_version": "1.5.0",
      "model_name": "HTMLModel",
      "state": {
       "_dom_classes": [],
       "_model_module": "@jupyter-widgets/controls",
       "_model_module_version": "1.5.0",
       "_model_name": "HTMLModel",
       "_view_count": null,
       "_view_module": "@jupyter-widgets/controls",
       "_view_module_version": "1.5.0",
       "_view_name": "HTMLView",
       "description": "",
       "description_tooltip": null,
       "layout": "IPY_MODEL_262db235f3aa4bc99ed60929bc9b7935",
       "placeholder": "​",
       "style": "IPY_MODEL_c857618216df412da8946eeec12d945c",
       "value": "merges.txt: 100%"
      }
     },
     "e7733264cd924f21abf3b1b1c1ec25c3": {
      "model_module": "@jupyter-widgets/base",
      "model_module_version": "1.2.0",
      "model_name": "LayoutModel",
      "state": {
       "_model_module": "@jupyter-widgets/base",
       "_model_module_version": "1.2.0",
       "_model_name": "LayoutModel",
       "_view_count": null,
       "_view_module": "@jupyter-widgets/base",
       "_view_module_version": "1.2.0",
       "_view_name": "LayoutView",
       "align_content": null,
       "align_items": null,
       "align_self": null,
       "border": null,
       "bottom": null,
       "display": null,
       "flex": null,
       "flex_flow": null,
       "grid_area": null,
       "grid_auto_columns": null,
       "grid_auto_flow": null,
       "grid_auto_rows": null,
       "grid_column": null,
       "grid_gap": null,
       "grid_row": null,
       "grid_template_areas": null,
       "grid_template_columns": null,
       "grid_template_rows": null,
       "height": null,
       "justify_content": null,
       "justify_items": null,
       "left": null,
       "margin": null,
       "max_height": null,
       "max_width": null,
       "min_height": null,
       "min_width": null,
       "object_fit": null,
       "object_position": null,
       "order": null,
       "overflow": null,
       "overflow_x": null,
       "overflow_y": null,
       "padding": null,
       "right": null,
       "top": null,
       "visibility": null,
       "width": null
      }
     },
     "e852941616d343cf96ffe9d2bcbc456c": {
      "model_module": "@jupyter-widgets/base",
      "model_module_version": "1.2.0",
      "model_name": "LayoutModel",
      "state": {
       "_model_module": "@jupyter-widgets/base",
       "_model_module_version": "1.2.0",
       "_model_name": "LayoutModel",
       "_view_count": null,
       "_view_module": "@jupyter-widgets/base",
       "_view_module_version": "1.2.0",
       "_view_name": "LayoutView",
       "align_content": null,
       "align_items": null,
       "align_self": null,
       "border": null,
       "bottom": null,
       "display": null,
       "flex": null,
       "flex_flow": null,
       "grid_area": null,
       "grid_auto_columns": null,
       "grid_auto_flow": null,
       "grid_auto_rows": null,
       "grid_column": null,
       "grid_gap": null,
       "grid_row": null,
       "grid_template_areas": null,
       "grid_template_columns": null,
       "grid_template_rows": null,
       "height": null,
       "justify_content": null,
       "justify_items": null,
       "left": null,
       "margin": null,
       "max_height": null,
       "max_width": null,
       "min_height": null,
       "min_width": null,
       "object_fit": null,
       "object_position": null,
       "order": null,
       "overflow": null,
       "overflow_x": null,
       "overflow_y": null,
       "padding": null,
       "right": null,
       "top": null,
       "visibility": null,
       "width": null
      }
     },
     "ef8d29e2b55d4e38a16c61ea20a822bb": {
      "model_module": "@jupyter-widgets/base",
      "model_module_version": "1.2.0",
      "model_name": "LayoutModel",
      "state": {
       "_model_module": "@jupyter-widgets/base",
       "_model_module_version": "1.2.0",
       "_model_name": "LayoutModel",
       "_view_count": null,
       "_view_module": "@jupyter-widgets/base",
       "_view_module_version": "1.2.0",
       "_view_name": "LayoutView",
       "align_content": null,
       "align_items": null,
       "align_self": null,
       "border": null,
       "bottom": null,
       "display": null,
       "flex": null,
       "flex_flow": null,
       "grid_area": null,
       "grid_auto_columns": null,
       "grid_auto_flow": null,
       "grid_auto_rows": null,
       "grid_column": null,
       "grid_gap": null,
       "grid_row": null,
       "grid_template_areas": null,
       "grid_template_columns": null,
       "grid_template_rows": null,
       "height": null,
       "justify_content": null,
       "justify_items": null,
       "left": null,
       "margin": null,
       "max_height": null,
       "max_width": null,
       "min_height": null,
       "min_width": null,
       "object_fit": null,
       "object_position": null,
       "order": null,
       "overflow": null,
       "overflow_x": null,
       "overflow_y": null,
       "padding": null,
       "right": null,
       "top": null,
       "visibility": null,
       "width": null
      }
     },
     "f4bce7b8841642c3a69f5df8a66f9851": {
      "model_module": "@jupyter-widgets/base",
      "model_module_version": "1.2.0",
      "model_name": "LayoutModel",
      "state": {
       "_model_module": "@jupyter-widgets/base",
       "_model_module_version": "1.2.0",
       "_model_name": "LayoutModel",
       "_view_count": null,
       "_view_module": "@jupyter-widgets/base",
       "_view_module_version": "1.2.0",
       "_view_name": "LayoutView",
       "align_content": null,
       "align_items": null,
       "align_self": null,
       "border": null,
       "bottom": null,
       "display": null,
       "flex": null,
       "flex_flow": null,
       "grid_area": null,
       "grid_auto_columns": null,
       "grid_auto_flow": null,
       "grid_auto_rows": null,
       "grid_column": null,
       "grid_gap": null,
       "grid_row": null,
       "grid_template_areas": null,
       "grid_template_columns": null,
       "grid_template_rows": null,
       "height": null,
       "justify_content": null,
       "justify_items": null,
       "left": null,
       "margin": null,
       "max_height": null,
       "max_width": null,
       "min_height": null,
       "min_width": null,
       "object_fit": null,
       "object_position": null,
       "order": null,
       "overflow": null,
       "overflow_x": null,
       "overflow_y": null,
       "padding": null,
       "right": null,
       "top": null,
       "visibility": null,
       "width": null
      }
     },
     "f5a620d5b9774d2f98156415399cacad": {
      "model_module": "@jupyter-widgets/controls",
      "model_module_version": "1.5.0",
      "model_name": "ProgressStyleModel",
      "state": {
       "_model_module": "@jupyter-widgets/controls",
       "_model_module_version": "1.5.0",
       "_model_name": "ProgressStyleModel",
       "_view_count": null,
       "_view_module": "@jupyter-widgets/base",
       "_view_module_version": "1.2.0",
       "_view_name": "StyleView",
       "bar_color": null,
       "description_width": ""
      }
     },
     "f898a6a59df44f73b8a3c91f3aac931b": {
      "model_module": "@jupyter-widgets/controls",
      "model_module_version": "1.5.0",
      "model_name": "ProgressStyleModel",
      "state": {
       "_model_module": "@jupyter-widgets/controls",
       "_model_module_version": "1.5.0",
       "_model_name": "ProgressStyleModel",
       "_view_count": null,
       "_view_module": "@jupyter-widgets/base",
       "_view_module_version": "1.2.0",
       "_view_name": "StyleView",
       "bar_color": null,
       "description_width": ""
      }
     },
     "f99b3f17ed65496594ae9b2adb81ac20": {
      "model_module": "@jupyter-widgets/base",
      "model_module_version": "1.2.0",
      "model_name": "LayoutModel",
      "state": {
       "_model_module": "@jupyter-widgets/base",
       "_model_module_version": "1.2.0",
       "_model_name": "LayoutModel",
       "_view_count": null,
       "_view_module": "@jupyter-widgets/base",
       "_view_module_version": "1.2.0",
       "_view_name": "LayoutView",
       "align_content": null,
       "align_items": null,
       "align_self": null,
       "border": null,
       "bottom": null,
       "display": null,
       "flex": null,
       "flex_flow": null,
       "grid_area": null,
       "grid_auto_columns": null,
       "grid_auto_flow": null,
       "grid_auto_rows": null,
       "grid_column": null,
       "grid_gap": null,
       "grid_row": null,
       "grid_template_areas": null,
       "grid_template_columns": null,
       "grid_template_rows": null,
       "height": null,
       "justify_content": null,
       "justify_items": null,
       "left": null,
       "margin": null,
       "max_height": null,
       "max_width": null,
       "min_height": null,
       "min_width": null,
       "object_fit": null,
       "object_position": null,
       "order": null,
       "overflow": null,
       "overflow_x": null,
       "overflow_y": null,
       "padding": null,
       "right": null,
       "top": null,
       "visibility": null,
       "width": null
      }
     },
     "fddf8d7ea742400e9d1206ad976b6f92": {
      "model_module": "@jupyter-widgets/base",
      "model_module_version": "1.2.0",
      "model_name": "LayoutModel",
      "state": {
       "_model_module": "@jupyter-widgets/base",
       "_model_module_version": "1.2.0",
       "_model_name": "LayoutModel",
       "_view_count": null,
       "_view_module": "@jupyter-widgets/base",
       "_view_module_version": "1.2.0",
       "_view_name": "LayoutView",
       "align_content": null,
       "align_items": null,
       "align_self": null,
       "border": null,
       "bottom": null,
       "display": null,
       "flex": null,
       "flex_flow": null,
       "grid_area": null,
       "grid_auto_columns": null,
       "grid_auto_flow": null,
       "grid_auto_rows": null,
       "grid_column": null,
       "grid_gap": null,
       "grid_row": null,
       "grid_template_areas": null,
       "grid_template_columns": null,
       "grid_template_rows": null,
       "height": null,
       "justify_content": null,
       "justify_items": null,
       "left": null,
       "margin": null,
       "max_height": null,
       "max_width": null,
       "min_height": null,
       "min_width": null,
       "object_fit": null,
       "object_position": null,
       "order": null,
       "overflow": null,
       "overflow_x": null,
       "overflow_y": null,
       "padding": null,
       "right": null,
       "top": null,
       "visibility": null,
       "width": null
      }
     }
    },
    "version_major": 2,
    "version_minor": 0
   }
  }
 },
 "nbformat": 4,
 "nbformat_minor": 5
}
