{
 "cells": [
  {
   "cell_type": "code",
   "execution_count": 1,
   "id": "74d57823",
   "metadata": {
    "_cell_guid": "b1076dfc-b9ad-4769-8c92-a6c4dae69d19",
    "_uuid": "8f2839f25d086af736a60e9eeb907d3b93b6e0e5",
    "execution": {
     "iopub.execute_input": "2024-10-12T05:53:18.929818Z",
     "iopub.status.busy": "2024-10-12T05:53:18.928979Z",
     "iopub.status.idle": "2024-10-12T05:53:18.934266Z",
     "shell.execute_reply": "2024-10-12T05:53:18.933561Z"
    },
    "papermill": {
     "duration": 0.021434,
     "end_time": "2024-10-12T05:53:18.936150",
     "exception": false,
     "start_time": "2024-10-12T05:53:18.914716",
     "status": "completed"
    },
    "tags": []
   },
   "outputs": [],
   "source": [
    "# # This Python 3 environment comes with many helpful analytics libraries installed\n",
    "# # It is defined by the kaggle/python Docker image: https://github.com/kaggle/docker-python\n",
    "# # For example, here's several helpful packages to load\n",
    "\n",
    "# import numpy as np # linear algebra\n",
    "# import pandas as pd # data processing, CSV file I/O (e.g. pd.read_csv)\n",
    "\n",
    "# # Input data files are available in the read-only \"../input/\" directory\n",
    "# # For example, running this (by clicking run or pressing Shift+Enter) will list all files under the input directory\n",
    "\n",
    "# import os\n",
    "# for dirname, _, filenames in os.walk('/kaggle/input'):\n",
    "#     for filename in filenames:\n",
    "#         print(os.path.join(dirname, filename))\n",
    "\n",
    "# # You can write up to 20GB to the current directory (/kaggle/working/) that gets preserved as output when you create a version using \"Save & Run All\" \n",
    "# # You can also write temporary files to /kaggle/temp/, but they won't be saved outside of the current session"
   ]
  },
  {
   "cell_type": "code",
   "execution_count": 2,
   "id": "14a3351f",
   "metadata": {
    "execution": {
     "iopub.execute_input": "2024-10-12T05:53:18.963397Z",
     "iopub.status.busy": "2024-10-12T05:53:18.963070Z",
     "iopub.status.idle": "2024-10-12T05:53:19.712062Z",
     "shell.execute_reply": "2024-10-12T05:53:19.711303Z"
    },
    "papermill": {
     "duration": 0.764512,
     "end_time": "2024-10-12T05:53:19.714408",
     "exception": false,
     "start_time": "2024-10-12T05:53:18.949896",
     "status": "completed"
    },
    "tags": []
   },
   "outputs": [],
   "source": [
    "import pandas as pd"
   ]
  },
  {
   "cell_type": "code",
   "execution_count": 3,
   "id": "fcb12335",
   "metadata": {
    "execution": {
     "iopub.execute_input": "2024-10-12T05:53:19.741037Z",
     "iopub.status.busy": "2024-10-12T05:53:19.740584Z",
     "iopub.status.idle": "2024-10-12T05:53:19.744927Z",
     "shell.execute_reply": "2024-10-12T05:53:19.744115Z"
    },
    "papermill": {
     "duration": 0.019558,
     "end_time": "2024-10-12T05:53:19.746799",
     "exception": false,
     "start_time": "2024-10-12T05:53:19.727241",
     "status": "completed"
    },
    "tags": []
   },
   "outputs": [],
   "source": [
    "train_path = '/kaggle/input/adobetraindata/behaviour_simulation_train.csv'\n",
    "test_path = '/kaggle/input/inter-iit-mid-prep-adobe/problem_1_test_dataset/behaviour_simulation_test_company.xlsx'"
   ]
  },
  {
   "cell_type": "code",
   "execution_count": 4,
   "id": "c356d589",
   "metadata": {
    "execution": {
     "iopub.execute_input": "2024-10-12T05:53:19.772471Z",
     "iopub.status.busy": "2024-10-12T05:53:19.772128Z",
     "iopub.status.idle": "2024-10-12T05:53:22.145208Z",
     "shell.execute_reply": "2024-10-12T05:53:22.144133Z"
    },
    "papermill": {
     "duration": 2.38849,
     "end_time": "2024-10-12T05:53:22.147808",
     "exception": false,
     "start_time": "2024-10-12T05:53:19.759318",
     "status": "completed"
    },
    "tags": []
   },
   "outputs": [],
   "source": [
    "test_dataset = pd.read_excel(test_path)"
   ]
  },
  {
   "cell_type": "code",
   "execution_count": 5,
   "id": "6af84b66",
   "metadata": {
    "execution": {
     "iopub.execute_input": "2024-10-12T05:53:22.175276Z",
     "iopub.status.busy": "2024-10-12T05:53:22.174791Z",
     "iopub.status.idle": "2024-10-12T05:53:22.210468Z",
     "shell.execute_reply": "2024-10-12T05:53:22.209508Z"
    },
    "papermill": {
     "duration": 0.052411,
     "end_time": "2024-10-12T05:53:22.213028",
     "exception": false,
     "start_time": "2024-10-12T05:53:22.160617",
     "status": "completed"
    },
    "tags": []
   },
   "outputs": [
    {
     "name": "stdout",
     "output_type": "stream",
     "text": [
      "<class 'pandas.core.frame.DataFrame'>\n",
      "RangeIndex: 10000 entries, 0 to 9999\n",
      "Data columns (total 6 columns):\n",
      " #   Column            Non-Null Count  Dtype \n",
      "---  ------            --------------  ----- \n",
      " 0   id                10000 non-null  int64 \n",
      " 1   date              10000 non-null  object\n",
      " 2   content           10000 non-null  object\n",
      " 3   username          10000 non-null  object\n",
      " 4   media             10000 non-null  object\n",
      " 5   inferred company  10000 non-null  object\n",
      "dtypes: int64(1), object(5)\n",
      "memory usage: 468.9+ KB\n"
     ]
    }
   ],
   "source": [
    "test_dataset.info()"
   ]
  },
  {
   "cell_type": "code",
   "execution_count": 6,
   "id": "db5bad08",
   "metadata": {
    "execution": {
     "iopub.execute_input": "2024-10-12T05:53:22.240619Z",
     "iopub.status.busy": "2024-10-12T05:53:22.240303Z",
     "iopub.status.idle": "2024-10-12T05:53:26.619780Z",
     "shell.execute_reply": "2024-10-12T05:53:26.618728Z"
    },
    "papermill": {
     "duration": 4.395476,
     "end_time": "2024-10-12T05:53:26.622262",
     "exception": false,
     "start_time": "2024-10-12T05:53:22.226786",
     "status": "completed"
    },
    "tags": []
   },
   "outputs": [],
   "source": [
    "train_dataset = pd.read_csv(train_path)"
   ]
  },
  {
   "cell_type": "code",
   "execution_count": 7,
   "id": "64962c7d",
   "metadata": {
    "execution": {
     "iopub.execute_input": "2024-10-12T05:53:26.648236Z",
     "iopub.status.busy": "2024-10-12T05:53:26.647886Z",
     "iopub.status.idle": "2024-10-12T05:53:26.667347Z",
     "shell.execute_reply": "2024-10-12T05:53:26.666484Z"
    },
    "papermill": {
     "duration": 0.034679,
     "end_time": "2024-10-12T05:53:26.669413",
     "exception": false,
     "start_time": "2024-10-12T05:53:26.634734",
     "status": "completed"
    },
    "tags": []
   },
   "outputs": [
    {
     "data": {
      "text/html": [
       "<div>\n",
       "<style scoped>\n",
       "    .dataframe tbody tr th:only-of-type {\n",
       "        vertical-align: middle;\n",
       "    }\n",
       "\n",
       "    .dataframe tbody tr th {\n",
       "        vertical-align: top;\n",
       "    }\n",
       "\n",
       "    .dataframe thead th {\n",
       "        text-align: right;\n",
       "    }\n",
       "</style>\n",
       "<table border=\"1\" class=\"dataframe\">\n",
       "  <thead>\n",
       "    <tr style=\"text-align: right;\">\n",
       "      <th></th>\n",
       "      <th>id</th>\n",
       "      <th>date</th>\n",
       "      <th>likes</th>\n",
       "      <th>content</th>\n",
       "      <th>username</th>\n",
       "      <th>media</th>\n",
       "      <th>inferred company</th>\n",
       "    </tr>\n",
       "  </thead>\n",
       "  <tbody>\n",
       "    <tr>\n",
       "      <th>0</th>\n",
       "      <td>1</td>\n",
       "      <td>2020-12-12 00:47:00</td>\n",
       "      <td>1</td>\n",
       "      <td>Spend your weekend morning with a Ham, Egg, an...</td>\n",
       "      <td>TimHortonsPH</td>\n",
       "      <td>[Photo(previewUrl='https://pbs.twimg.com/media...</td>\n",
       "      <td>tim hortons</td>\n",
       "    </tr>\n",
       "    <tr>\n",
       "      <th>1</th>\n",
       "      <td>2</td>\n",
       "      <td>2018-06-30 10:04:20</td>\n",
       "      <td>2750</td>\n",
       "      <td>Watch rapper &lt;mention&gt; freestyle for over an H...</td>\n",
       "      <td>IndyMusic</td>\n",
       "      <td>[Photo(previewUrl='https://pbs.twimg.com/media...</td>\n",
       "      <td>independent</td>\n",
       "    </tr>\n",
       "    <tr>\n",
       "      <th>2</th>\n",
       "      <td>3</td>\n",
       "      <td>2020-09-29 19:47:28</td>\n",
       "      <td>57</td>\n",
       "      <td>Canadian Armenian community demands ban on mil...</td>\n",
       "      <td>CBCCanada</td>\n",
       "      <td>[Photo(previewUrl='https://pbs.twimg.com/media...</td>\n",
       "      <td>cbc</td>\n",
       "    </tr>\n",
       "    <tr>\n",
       "      <th>3</th>\n",
       "      <td>4</td>\n",
       "      <td>2020-10-01 11:40:09</td>\n",
       "      <td>152</td>\n",
       "      <td>1st in Europe to be devastated by COVID-19, It...</td>\n",
       "      <td>MKWilliamsRome</td>\n",
       "      <td>[Photo(previewUrl='https://pbs.twimg.com/media...</td>\n",
       "      <td>williams</td>\n",
       "    </tr>\n",
       "    <tr>\n",
       "      <th>4</th>\n",
       "      <td>5</td>\n",
       "      <td>2018-10-19 14:30:46</td>\n",
       "      <td>41</td>\n",
       "      <td>Congratulations to Pauletha Butts of &lt;mention&gt;...</td>\n",
       "      <td>BGISD</td>\n",
       "      <td>[Photo(previewUrl='https://pbs.twimg.com/media...</td>\n",
       "      <td>independent</td>\n",
       "    </tr>\n",
       "    <tr>\n",
       "      <th>...</th>\n",
       "      <td>...</td>\n",
       "      <td>...</td>\n",
       "      <td>...</td>\n",
       "      <td>...</td>\n",
       "      <td>...</td>\n",
       "      <td>...</td>\n",
       "      <td>...</td>\n",
       "    </tr>\n",
       "    <tr>\n",
       "      <th>299995</th>\n",
       "      <td>299996</td>\n",
       "      <td>2019-09-07 16:18:10</td>\n",
       "      <td>0</td>\n",
       "      <td>Barcelona Star Expected To Return Against Vale...</td>\n",
       "      <td>IndependentNGR</td>\n",
       "      <td>[Photo(previewUrl='https://pbs.twimg.com/media...</td>\n",
       "      <td>independent</td>\n",
       "    </tr>\n",
       "    <tr>\n",
       "      <th>299996</th>\n",
       "      <td>299997</td>\n",
       "      <td>2018-02-23 11:24:36</td>\n",
       "      <td>46</td>\n",
       "      <td>Kjeld Nuis of #NED is golden again... This tim...</td>\n",
       "      <td>CBCOlympics</td>\n",
       "      <td>[Video(thumbnailUrl='https://pbs.twimg.com/med...</td>\n",
       "      <td>cbc</td>\n",
       "    </tr>\n",
       "    <tr>\n",
       "      <th>299997</th>\n",
       "      <td>299998</td>\n",
       "      <td>2020-11-11 20:18:15</td>\n",
       "      <td>261</td>\n",
       "      <td>Grateful 🙌🏾 to have &lt;mention&gt; officially join ...</td>\n",
       "      <td>TeamCoachBuzz</td>\n",
       "      <td>[Photo(previewUrl='https://pbs.twimg.com/media...</td>\n",
       "      <td>williams</td>\n",
       "    </tr>\n",
       "    <tr>\n",
       "      <th>299998</th>\n",
       "      <td>299999</td>\n",
       "      <td>2019-10-29 10:44:00</td>\n",
       "      <td>119</td>\n",
       "      <td>The US Air Force's mysterious space plane just...</td>\n",
       "      <td>Independent</td>\n",
       "      <td>[Video(thumbnailUrl='https://pbs.twimg.com/med...</td>\n",
       "      <td>independent</td>\n",
       "    </tr>\n",
       "    <tr>\n",
       "      <th>299999</th>\n",
       "      <td>300000</td>\n",
       "      <td>2018-08-26 01:19:09</td>\n",
       "      <td>714</td>\n",
       "      <td>In 1967, he was shot down over Vietnam. By 200...</td>\n",
       "      <td>cnni</td>\n",
       "      <td>[Video(thumbnailUrl='https://pbs.twimg.com/ext...</td>\n",
       "      <td>cnn</td>\n",
       "    </tr>\n",
       "  </tbody>\n",
       "</table>\n",
       "<p>300000 rows × 7 columns</p>\n",
       "</div>"
      ],
      "text/plain": [
       "            id                 date  likes  \\\n",
       "0            1  2020-12-12 00:47:00      1   \n",
       "1            2  2018-06-30 10:04:20   2750   \n",
       "2            3  2020-09-29 19:47:28     57   \n",
       "3            4  2020-10-01 11:40:09    152   \n",
       "4            5  2018-10-19 14:30:46     41   \n",
       "...        ...                  ...    ...   \n",
       "299995  299996  2019-09-07 16:18:10      0   \n",
       "299996  299997  2018-02-23 11:24:36     46   \n",
       "299997  299998  2020-11-11 20:18:15    261   \n",
       "299998  299999  2019-10-29 10:44:00    119   \n",
       "299999  300000  2018-08-26 01:19:09    714   \n",
       "\n",
       "                                                  content        username  \\\n",
       "0       Spend your weekend morning with a Ham, Egg, an...    TimHortonsPH   \n",
       "1       Watch rapper <mention> freestyle for over an H...       IndyMusic   \n",
       "2       Canadian Armenian community demands ban on mil...       CBCCanada   \n",
       "3       1st in Europe to be devastated by COVID-19, It...  MKWilliamsRome   \n",
       "4       Congratulations to Pauletha Butts of <mention>...           BGISD   \n",
       "...                                                   ...             ...   \n",
       "299995  Barcelona Star Expected To Return Against Vale...  IndependentNGR   \n",
       "299996  Kjeld Nuis of #NED is golden again... This tim...     CBCOlympics   \n",
       "299997  Grateful 🙌🏾 to have <mention> officially join ...   TeamCoachBuzz   \n",
       "299998  The US Air Force's mysterious space plane just...     Independent   \n",
       "299999  In 1967, he was shot down over Vietnam. By 200...            cnni   \n",
       "\n",
       "                                                    media inferred company  \n",
       "0       [Photo(previewUrl='https://pbs.twimg.com/media...      tim hortons  \n",
       "1       [Photo(previewUrl='https://pbs.twimg.com/media...      independent  \n",
       "2       [Photo(previewUrl='https://pbs.twimg.com/media...              cbc  \n",
       "3       [Photo(previewUrl='https://pbs.twimg.com/media...         williams  \n",
       "4       [Photo(previewUrl='https://pbs.twimg.com/media...      independent  \n",
       "...                                                   ...              ...  \n",
       "299995  [Photo(previewUrl='https://pbs.twimg.com/media...      independent  \n",
       "299996  [Video(thumbnailUrl='https://pbs.twimg.com/med...              cbc  \n",
       "299997  [Photo(previewUrl='https://pbs.twimg.com/media...         williams  \n",
       "299998  [Video(thumbnailUrl='https://pbs.twimg.com/med...      independent  \n",
       "299999  [Video(thumbnailUrl='https://pbs.twimg.com/ext...              cnn  \n",
       "\n",
       "[300000 rows x 7 columns]"
      ]
     },
     "execution_count": 7,
     "metadata": {},
     "output_type": "execute_result"
    }
   ],
   "source": [
    "train_dataset"
   ]
  },
  {
   "cell_type": "code",
   "execution_count": 8,
   "id": "bae4360d",
   "metadata": {
    "execution": {
     "iopub.execute_input": "2024-10-12T05:53:26.696868Z",
     "iopub.status.busy": "2024-10-12T05:53:26.696569Z",
     "iopub.status.idle": "2024-10-12T05:53:28.718652Z",
     "shell.execute_reply": "2024-10-12T05:53:28.717625Z"
    },
    "papermill": {
     "duration": 2.038557,
     "end_time": "2024-10-12T05:53:28.721029",
     "exception": false,
     "start_time": "2024-10-12T05:53:26.682472",
     "status": "completed"
    },
    "tags": []
   },
   "outputs": [
    {
     "name": "stdout",
     "output_type": "stream",
     "text": [
      "count    300000.000000\n",
      "mean        643.547447\n",
      "std        2128.732465\n",
      "min           0.000000\n",
      "25%           3.000000\n",
      "50%          76.000000\n",
      "75%         364.000000\n",
      "max       20000.000000\n",
      "Name: likes_capped, dtype: float64\n",
      "likes_binned\n",
      "0-100     0.548557\n",
      "101-1k    0.327200\n",
      "1k-10k    0.111780\n",
      "10k+      0.012463\n",
      "Name: proportion, dtype: float64\n"
     ]
    }
   ],
   "source": [
    "import pandas as pd\n",
    "import numpy as np\n",
    "from sklearn.model_selection import train_test_split\n",
    "from sklearn.preprocessing import OneHotEncoder, FunctionTransformer, LabelEncoder\n",
    "from sklearn.compose import ColumnTransformer\n",
    "from sklearn.pipeline import Pipeline\n",
    "from sklearn.metrics import accuracy_score, f1_score, classification_report\n",
    "from sklearn.base import BaseEstimator, TransformerMixin\n",
    "import xgboost as xgb\n",
    "# Load data\n",
    "train_data = train_dataset.copy()\n",
    "test_data = test_dataset.copy()\n",
    "# Bin the likes into categories\n",
    "# Define the cap threshold\n",
    "cap_value = 20000\n",
    "# Apply the cap to the 'likes' column\n",
    "train_data['likes_capped'] = train_data['likes'].apply(lambda x: min(x, cap_value))\n",
    "# Check the distribution of the capped 'likes' column\n",
    "print(train_data['likes_capped'].describe())\n",
    "bins = [0, 100, 1000, 10000, 100000]\n",
    "labels = ['0-100', '101-1k','1k-10k','10k+']\n",
    "train_data['likes_binned'] = pd.cut(train_data['likes_capped'], bins=bins, labels=labels, include_lowest=True)\n",
    "# Sample 10% of the data, stratified by binned likes\n",
    "sample_fraction = 0.01  # Change this to 1.0 for 100%\n",
    "train_data_sampled, _ = train_test_split(train_data, test_size=1-sample_fraction, random_state=42, stratify=train_data['likes_binned'])\n",
    "train_data_sampled = train_data_sampled.reset_index(drop=1)\n",
    "train_data_sampled = train_data.copy()\n",
    "\n",
    "# Check distribution\n",
    "print(train_data_sampled['likes_binned'].value_counts(normalize=True))\n"
   ]
  },
  {
   "cell_type": "code",
   "execution_count": 9,
   "id": "aca9d41b",
   "metadata": {
    "execution": {
     "iopub.execute_input": "2024-10-12T05:53:28.748755Z",
     "iopub.status.busy": "2024-10-12T05:53:28.748326Z",
     "iopub.status.idle": "2024-10-12T05:53:48.784862Z",
     "shell.execute_reply": "2024-10-12T05:53:48.783749Z"
    },
    "papermill": {
     "duration": 20.052766,
     "end_time": "2024-10-12T05:53:48.787022",
     "exception": false,
     "start_time": "2024-10-12T05:53:28.734256",
     "status": "completed"
    },
    "scrolled": true,
    "tags": []
   },
   "outputs": [
    {
     "name": "stdout",
     "output_type": "stream",
     "text": [
      "Collecting node2vec\r\n",
      "  Downloading node2vec-0.5.0-py3-none-any.whl.metadata (849 bytes)\r\n",
      "Requirement already satisfied: gensim<5.0.0,>=4.3.0 in /opt/conda/lib/python3.10/site-packages (from node2vec) (4.3.3)\r\n",
      "Requirement already satisfied: joblib<2.0.0,>=1.4.0 in /opt/conda/lib/python3.10/site-packages (from node2vec) (1.4.2)\r\n",
      "Requirement already satisfied: networkx<4.0.0,>=3.1.0 in /opt/conda/lib/python3.10/site-packages (from node2vec) (3.3)\r\n",
      "Requirement already satisfied: numpy<2.0.0,>=1.24.0 in /opt/conda/lib/python3.10/site-packages (from node2vec) (1.26.4)\r\n",
      "Requirement already satisfied: tqdm<5.0.0,>=4.66.1 in /opt/conda/lib/python3.10/site-packages (from node2vec) (4.66.4)\r\n",
      "Collecting scipy<1.14.0,>=1.7.0 (from gensim<5.0.0,>=4.3.0->node2vec)\r\n",
      "  Downloading scipy-1.13.1-cp310-cp310-manylinux_2_17_x86_64.manylinux2014_x86_64.whl.metadata (60 kB)\r\n",
      "\u001b[2K     \u001b[90m━━━━━━━━━━━━━━━━━━━━━━━━━━━━━━━━━━━━━━━━\u001b[0m \u001b[32m60.6/60.6 kB\u001b[0m \u001b[31m2.3 MB/s\u001b[0m eta \u001b[36m0:00:00\u001b[0m\r\n",
      "\u001b[?25hRequirement already satisfied: smart-open>=1.8.1 in /opt/conda/lib/python3.10/site-packages (from gensim<5.0.0,>=4.3.0->node2vec) (7.0.4)\r\n",
      "Requirement already satisfied: wrapt in /opt/conda/lib/python3.10/site-packages (from smart-open>=1.8.1->gensim<5.0.0,>=4.3.0->node2vec) (1.16.0)\r\n",
      "Downloading node2vec-0.5.0-py3-none-any.whl (7.2 kB)\r\n",
      "Downloading scipy-1.13.1-cp310-cp310-manylinux_2_17_x86_64.manylinux2014_x86_64.whl (38.6 MB)\r\n",
      "\u001b[2K   \u001b[90m━━━━━━━━━━━━━━━━━━━━━━━━━━━━━━━━━━━━━━━━\u001b[0m \u001b[32m38.6/38.6 MB\u001b[0m \u001b[31m41.8 MB/s\u001b[0m eta \u001b[36m0:00:00\u001b[0m\r\n",
      "\u001b[?25hInstalling collected packages: scipy, node2vec\r\n",
      "  Attempting uninstall: scipy\r\n",
      "    Found existing installation: scipy 1.14.1\r\n",
      "    Uninstalling scipy-1.14.1:\r\n",
      "      Successfully uninstalled scipy-1.14.1\r\n",
      "\u001b[31mERROR: pip's dependency resolver does not currently take into account all the packages that are installed. This behaviour is the source of the following dependency conflicts.\r\n",
      "cuml 24.8.0 requires cupy-cuda11x>=12.0.0, which is not installed.\r\n",
      "cesium 0.12.3 requires numpy<3.0,>=2.0, but you have numpy 1.26.4 which is incompatible.\r\n",
      "libpysal 4.9.2 requires packaging>=22, but you have packaging 21.3 which is incompatible.\r\n",
      "libpysal 4.9.2 requires shapely>=2.0.1, but you have shapely 1.8.5.post1 which is incompatible.\r\n",
      "tsfresh 0.20.3 requires scipy>=1.14.0; python_version >= \"3.10\", but you have scipy 1.13.1 which is incompatible.\u001b[0m\u001b[31m\r\n",
      "\u001b[0mSuccessfully installed node2vec-0.5.0 scipy-1.13.1\r\n"
     ]
    }
   ],
   "source": [
    "!pip install node2vec"
   ]
  },
  {
   "cell_type": "code",
   "execution_count": 10,
   "id": "1d15ca5f",
   "metadata": {
    "execution": {
     "iopub.execute_input": "2024-10-12T05:53:48.817757Z",
     "iopub.status.busy": "2024-10-12T05:53:48.817406Z",
     "iopub.status.idle": "2024-10-12T05:54:10.639970Z",
     "shell.execute_reply": "2024-10-12T05:54:10.638945Z"
    },
    "papermill": {
     "duration": 21.840111,
     "end_time": "2024-10-12T05:54:10.642033",
     "exception": false,
     "start_time": "2024-10-12T05:53:48.801922",
     "status": "completed"
    },
    "scrolled": true,
    "tags": []
   },
   "outputs": [
    {
     "name": "stdout",
     "output_type": "stream",
     "text": [
      "[nltk_data] Downloading package stopwords to /usr/share/nltk_data...\n",
      "[nltk_data]   Package stopwords is already up-to-date!\n",
      "[nltk_data] Downloading package punkt to /usr/share/nltk_data...\n",
      "[nltk_data]   Package punkt is already up-to-date!\n"
     ]
    },
    {
     "data": {
      "text/plain": [
       "True"
      ]
     },
     "execution_count": 10,
     "metadata": {},
     "output_type": "execute_result"
    }
   ],
   "source": [
    "import pandas as pd\n",
    "import numpy as np\n",
    "import torch\n",
    "from transformers import AutoTokenizer, AutoModel\n",
    "from sklearn.preprocessing import OneHotEncoder\n",
    "from datetime import datetime\n",
    "import networkx as nx\n",
    "from node2vec import Node2Vec\n",
    "import re\n",
    "from nltk.tokenize import TweetTokenizer\n",
    "from nltk.corpus import stopwords\n",
    "import emoji\n",
    "\n",
    "# Ensure you've downloaded necessary NLTK data\n",
    "import nltk\n",
    "nltk.download('stopwords')\n",
    "nltk.download('punkt')"
   ]
  },
  {
   "cell_type": "code",
   "execution_count": 11,
   "id": "80137130",
   "metadata": {
    "execution": {
     "iopub.execute_input": "2024-10-12T05:54:10.672896Z",
     "iopub.status.busy": "2024-10-12T05:54:10.672338Z",
     "iopub.status.idle": "2024-10-12T05:54:10.680320Z",
     "shell.execute_reply": "2024-10-12T05:54:10.679471Z"
    },
    "papermill": {
     "duration": 0.02548,
     "end_time": "2024-10-12T05:54:10.682204",
     "exception": false,
     "start_time": "2024-10-12T05:54:10.656724",
     "status": "completed"
    },
    "tags": []
   },
   "outputs": [],
   "source": [
    "# def preprocess_text(text):\n",
    "#     # Convert to lowercase\n",
    "#     text = text.lower()\n",
    "#     # Remove URLs\n",
    "#     text = re.sub(r'http\\S+|www\\S+|https\\S+', '', text, flags=re.MULTILINE)\n",
    "#     # Remove user mentions\n",
    "#     text = re.sub(r'@\\w+', '', text)\n",
    "#     # Remove non-letter characters\n",
    "#     text = re.sub(r'[^a-zA-Z\\s]', '', text)\n",
    "#     # Remove extra spaces\n",
    "#     text = re.sub(r'\\s+', ' ', text).strip()\n",
    "#     # Remove stopwords\n",
    "#     stop_words = set(stopwords.words('english'))\n",
    "#     text = ' '.join([word for word in text.split() if word not in stop_words])\n",
    "#     return text\n",
    "\n",
    "# def get_roberta_embedding(text):\n",
    "#     inputs = tokenizer(text, return_tensors=\"pt\", truncation=True, padding=True, max_length=512)\n",
    "#     with torch.no_grad():\n",
    "#         outputs = model(**inputs)\n",
    "#     return outputs.last_hidden_state.mean(dim=1).numpy().flatten()\n",
    "\n",
    "# def get_datetime_features(date_str):\n",
    "#     date = datetime.strptime(date_str, \"%Y-%m-%d %H:%M:%S\")\n",
    "#     return np.array([\n",
    "#         date.year, date.month, date.day, date.hour, date.minute,\n",
    "#         date.weekday(), date.timetuple().tm_yday,\n",
    "#         np.sin(2 * np.pi * date.hour / 24),  # Cyclical encoding for hour\n",
    "#         np.cos(2 * np.pi * date.hour / 24),\n",
    "#         np.sin(2 * np.pi * date.month / 12),  # Cyclical encoding for month\n",
    "#         np.cos(2 * np.pi * date.month / 12)\n",
    "#     ])\n",
    "\n",
    "# def get_categorical_embedding(value, encoder):\n",
    "#     return encoder.transform([[value]]).toarray().flatten()\n",
    "\n",
    "# def create_graph_embedding(df):\n",
    "#     G = nx.Graph()\n",
    "#     for _, row in df.iterrows():\n",
    "#         G.add_edge(row['username'], row['inferred company'])\n",
    "#         for mention in re.findall(r'@(\\w+)', row['content']):\n",
    "#             G.add_edge(row['username'], mention)\n",
    "    \n",
    "#     node2vec = Node2Vec(G, dimensions=64, walk_length=30, num_walks=200, workers=4)\n",
    "#     model = node2vec.fit(window=10, min_count=1, batch_words=4)\n",
    "    \n",
    "#     def get_node_embedding(node):\n",
    "#         try:\n",
    "#             return model.wv[node]\n",
    "#         except KeyError:\n",
    "#             return np.zeros(64)\n",
    "    \n",
    "#     df['user_graph_embedding'] = df['username'].apply(get_node_embedding)\n",
    "#     df['company_graph_embedding'] = df['inferred company'].apply(get_node_embedding)\n",
    "#     return df\n",
    "\n",
    "# def extract_hashtags(text):\n",
    "#     return ' '.join(re.findall(r'#(\\w+)', text))\n",
    "\n",
    "# def extract_emoji(text):\n",
    "#     return ' '.join([c for c in text if c in emoji.UNICODE_EMOJI['en']])\n",
    "\n",
    "# # Load the data\n",
    "# df = pd.read_csv(\"tweets.csv\")\n",
    "\n",
    "# # Preprocess text\n",
    "# df['processed_content'] = df['content'].apply(preprocess_text)\n",
    "# df['hashtags'] = df['content'].apply(extract_hashtags)\n",
    "# df['emojis'] = df['content'].apply(extract_emoji)\n",
    "\n",
    "# # Combine all text data\n",
    "# df['combined_text'] = df.apply(lambda row: f\"{row['processed_content']} {row['username']} {row['inferred company']} {row['hashtags']} {row['emojis']}\", axis=1)\n",
    "\n",
    "# # Generate text embeddings\n",
    "# df['combined_embedding'] = df['combined_text'].apply(get_roberta_embedding)\n",
    "\n",
    "# # Generate datetime embeddings\n",
    "# df['datetime_embedding'] = df['date'].apply(get_datetime_features)\n",
    "\n",
    "# # Generate categorical embeddings\n",
    "# company_encoder = OneHotEncoder(sparse=False)\n",
    "# company_encoder.fit(df['inferred company'].values.reshape(-1, 1))\n",
    "# df['company_embedding'] = df['inferred company'].apply(lambda x: get_categorical_embedding(x, company_encoder))\n",
    "\n",
    "# # Generate graph embeddings\n",
    "# df = create_graph_embedding(df)\n",
    "\n",
    "# # Combine all embeddings\n",
    "# df['rich_embedding'] = df.apply(lambda row: np.concatenate([\n",
    "#     row['combined_embedding'],\n",
    "#     row['datetime_embedding'],\n",
    "#     row['company_embedding'],\n",
    "#     row['user_graph_embedding'],\n",
    "#     row['company_graph_embedding']\n",
    "# ]), axis=1)\n",
    "\n",
    "# print(\"Rich embeddings generated successfully!\")\n",
    "# print(f\"Shape of rich embedding: {df['rich_embedding'].iloc[0].shape}\")\n",
    "\n",
    "# # Optional: Dimensionality reduction if needed\n",
    "# # from sklearn.decomposition import PCA\n",
    "# # pca = PCA(n_components=100)\n",
    "# # df['reduced_embedding'] = list(pca.fit_transform(np.stack(df['rich_embedding'])))\n",
    "\n",
    "# # Save the embeddings\n",
    "# np.save('rich_tweet_embeddings.npy', np.stack(df['rich_embedding']))\n",
    "# df[['id', 'content', 'username', 'inferred company']].to_csv('tweet_metadata.csv', index=False)\n",
    "\n",
    "# print(\"Embeddings and metadata saved successfully!\")"
   ]
  },
  {
   "cell_type": "code",
   "execution_count": 12,
   "id": "de1c4a51",
   "metadata": {
    "execution": {
     "iopub.execute_input": "2024-10-12T05:54:10.713630Z",
     "iopub.status.busy": "2024-10-12T05:54:10.713349Z",
     "iopub.status.idle": "2024-10-12T05:54:10.717324Z",
     "shell.execute_reply": "2024-10-12T05:54:10.716423Z"
    },
    "papermill": {
     "duration": 0.022506,
     "end_time": "2024-10-12T05:54:10.719208",
     "exception": false,
     "start_time": "2024-10-12T05:54:10.696702",
     "status": "completed"
    },
    "tags": []
   },
   "outputs": [],
   "source": [
    "# tokenize_username('AAASouthJersey')"
   ]
  },
  {
   "cell_type": "code",
   "execution_count": 13,
   "id": "e9cdefc0",
   "metadata": {
    "execution": {
     "iopub.execute_input": "2024-10-12T05:54:10.749692Z",
     "iopub.status.busy": "2024-10-12T05:54:10.749058Z",
     "iopub.status.idle": "2024-10-12T05:54:10.753093Z",
     "shell.execute_reply": "2024-10-12T05:54:10.752218Z"
    },
    "papermill": {
     "duration": 0.021481,
     "end_time": "2024-10-12T05:54:10.755191",
     "exception": false,
     "start_time": "2024-10-12T05:54:10.733710",
     "status": "completed"
    },
    "scrolled": true,
    "tags": []
   },
   "outputs": [],
   "source": [
    "# set(df['username'])"
   ]
  },
  {
   "cell_type": "code",
   "execution_count": 14,
   "id": "9745a8a9",
   "metadata": {
    "execution": {
     "iopub.execute_input": "2024-10-12T05:54:10.785584Z",
     "iopub.status.busy": "2024-10-12T05:54:10.785281Z",
     "iopub.status.idle": "2024-10-12T05:54:29.578303Z",
     "shell.execute_reply": "2024-10-12T05:54:29.577508Z"
    },
    "papermill": {
     "duration": 18.810651,
     "end_time": "2024-10-12T05:54:29.580549",
     "exception": false,
     "start_time": "2024-10-12T05:54:10.769898",
     "status": "completed"
    },
    "scrolled": true,
    "tags": []
   },
   "outputs": [
    {
     "name": "stdout",
     "output_type": "stream",
     "text": [
      "Using device: cuda\n"
     ]
    },
    {
     "data": {
      "application/vnd.jupyter.widget-view+json": {
       "model_id": "87edea1f91544ca7af9f393952886e6c",
       "version_major": 2,
       "version_minor": 0
      },
      "text/plain": [
       "config.json:   0%|          | 0.00/565 [00:00<?, ?B/s]"
      ]
     },
     "metadata": {},
     "output_type": "display_data"
    },
    {
     "data": {
      "application/vnd.jupyter.widget-view+json": {
       "model_id": "a95bbd3898074753b989ea61e3361339",
       "version_major": 2,
       "version_minor": 0
      },
      "text/plain": [
       "vocab.json:   0%|          | 0.00/899k [00:00<?, ?B/s]"
      ]
     },
     "metadata": {},
     "output_type": "display_data"
    },
    {
     "data": {
      "application/vnd.jupyter.widget-view+json": {
       "model_id": "16564eaea7ce40b8a2fa32b57f551276",
       "version_major": 2,
       "version_minor": 0
      },
      "text/plain": [
       "merges.txt:   0%|          | 0.00/456k [00:00<?, ?B/s]"
      ]
     },
     "metadata": {},
     "output_type": "display_data"
    },
    {
     "name": "stderr",
     "output_type": "stream",
     "text": [
      "/opt/conda/lib/python3.10/site-packages/transformers/tokenization_utils_base.py:1617: FutureWarning: `clean_up_tokenization_spaces` was not set. It will be set to `True` by default. This behavior will be deprecated in transformers v4.45, and will be then set to `False` by default. For more details check this issue: https://github.com/huggingface/transformers/issues/31884\n",
      "  warnings.warn(\n"
     ]
    },
    {
     "data": {
      "application/vnd.jupyter.widget-view+json": {
       "model_id": "e5f5b494104b4f38a7e3d1b221b5a849",
       "version_major": 2,
       "version_minor": 0
      },
      "text/plain": [
       "pytorch_model.bin:   0%|          | 0.00/501M [00:00<?, ?B/s]"
      ]
     },
     "metadata": {},
     "output_type": "display_data"
    }
   ],
   "source": [
    "import pandas as pd\n",
    "import numpy as np\n",
    "import torch\n",
    "from transformers import AutoTokenizer, AutoModel, AutoModelForSequenceClassification, TrainingArguments, Trainer\n",
    "from sklearn.preprocessing import OneHotEncoder, LabelEncoder\n",
    "from sklearn.model_selection import train_test_split\n",
    "from datetime import datetime\n",
    "import networkx as nx\n",
    "from node2vec import Node2Vec\n",
    "import re\n",
    "from nltk.tokenize import TweetTokenizer\n",
    "from nltk.corpus import stopwords\n",
    "import emoji\n",
    "from tqdm import tqdm\n",
    "from torch.utils.data import Dataset, DataLoader\n",
    "import torch.nn as nn\n",
    "import torch.optim as optim\n",
    "from sklearn.metrics import accuracy_score, precision_recall_fscore_support\n",
    "\n",
    "# Check for GPU availability\n",
    "device = torch.device(\"cuda\" if torch.cuda.is_available() else \"cpu\")\n",
    "print(f\"Using device: {device}\")\n",
    "\n",
    "# Load specialized Twitter model\n",
    "model_name = \"cardiffnlp/twitter-roberta-base\"\n",
    "tokenizer = AutoTokenizer.from_pretrained(model_name)\n",
    "model = AutoModel.from_pretrained(model_name).to(device)"
   ]
  },
  {
   "cell_type": "code",
   "execution_count": 15,
   "id": "af9ada0d",
   "metadata": {
    "execution": {
     "iopub.execute_input": "2024-10-12T05:54:29.613718Z",
     "iopub.status.busy": "2024-10-12T05:54:29.613034Z",
     "iopub.status.idle": "2024-10-12T05:54:29.628330Z",
     "shell.execute_reply": "2024-10-12T05:54:29.627443Z"
    },
    "papermill": {
     "duration": 0.03395,
     "end_time": "2024-10-12T05:54:29.630253",
     "exception": false,
     "start_time": "2024-10-12T05:54:29.596303",
     "status": "completed"
    },
    "tags": []
   },
   "outputs": [],
   "source": [
    "def preprocess_text(text):\n",
    "    # Convert to lowercase\n",
    "    text = text.lower()\n",
    "    # Remove URLs\n",
    "    text = re.sub(r'http\\S+|www\\S+|https\\S+', '', text, flags=re.MULTILINE)\n",
    "    # Remove user mentions\n",
    "    text = re.sub(r'@\\w+', '', text)\n",
    "    # Remove non-letter characters\n",
    "    text = re.sub(r'[^a-zA-Z\\s]', '', text)\n",
    "    # Remove extra spaces\n",
    "    text = re.sub(r'\\s+', ' ', text).strip()\n",
    "    # Remove stopwords\n",
    "    stop_words = set(stopwords.words('english'))\n",
    "    text = ' '.join([word for word in text.split() if word not in stop_words])\n",
    "    return text\n",
    "\n",
    "def get_roberta_embedding(text):\n",
    "    inputs = tokenizer(text, return_tensors=\"pt\", truncation=True, padding=True, max_length=512).to(device)\n",
    "    with torch.no_grad():\n",
    "        outputs = model(**inputs)\n",
    "    return outputs.last_hidden_state.mean(dim=1).cpu().numpy().flatten()\n",
    "\n",
    "def get_datetime_features(date_str):\n",
    "    date = datetime.strptime(date_str, \"%Y-%m-%d %H:%M:%S\")\n",
    "    return np.array([\n",
    "        date.year, date.month, date.day, date.hour, date.minute,\n",
    "        date.weekday(), date.timetuple().tm_yday,\n",
    "        np.sin(2 * np.pi * date.hour / 24),  # Cyclical encoding for hour\n",
    "        np.cos(2 * np.pi * date.hour / 24),\n",
    "        np.sin(2 * np.pi * date.month / 12),  # Cyclical encoding for month\n",
    "        np.cos(2 * np.pi * date.month / 12)\n",
    "    ])\n",
    "\n",
    "def get_categorical_embedding(value, encoder):\n",
    "    return encoder.transform([[value]]).flatten()\n",
    "\n",
    "def create_graph_embedding(df):\n",
    "    G = nx.Graph()\n",
    "    for _, row in df.iterrows():\n",
    "        G.add_edge(row['username'], row['inferred company'])\n",
    "        for mention in re.findall(r'@(\\w+)', row['content']):\n",
    "            G.add_edge(row['username'], mention)\n",
    "    \n",
    "    node2vec = Node2Vec(G, dimensions=64, walk_length=30, num_walks=200, workers=4)\n",
    "    model = node2vec.fit(window=10, min_count=1, batch_words=4)\n",
    "    \n",
    "    def get_node_embedding(node):\n",
    "        try:\n",
    "            return model.wv[node]\n",
    "        except KeyError:\n",
    "            return np.zeros(64)\n",
    "    \n",
    "    df['user_graph_embedding'] = df['username'].apply(get_node_embedding)\n",
    "    df['company_graph_embedding'] = df['inferred company'].apply(get_node_embedding)\n",
    "    return df\n",
    "\n",
    "def extract_hashtags(text):\n",
    "    return ' '.join(re.findall(r'#(\\w+)', text))\n",
    "\n",
    "def extract_emoji(text):\n",
    "    return ' '.join([c for c in text if emoji.is_emoji(c)])"
   ]
  },
  {
   "cell_type": "code",
   "execution_count": 16,
   "id": "3c90961f",
   "metadata": {
    "execution": {
     "iopub.execute_input": "2024-10-12T05:54:29.662628Z",
     "iopub.status.busy": "2024-10-12T05:54:29.662006Z",
     "iopub.status.idle": "2024-10-12T05:54:29.666752Z",
     "shell.execute_reply": "2024-10-12T05:54:29.665898Z"
    },
    "papermill": {
     "duration": 0.023008,
     "end_time": "2024-10-12T05:54:29.668687",
     "exception": false,
     "start_time": "2024-10-12T05:54:29.645679",
     "status": "completed"
    },
    "tags": []
   },
   "outputs": [],
   "source": [
    "# # Label encode the binned categories\n",
    "# le = LabelEncoder()\n",
    "# y = le.fit_transform(train_data_sampled['likes_binned'])\n",
    "\n",
    "# # Define the groups based on the 'inferred_company'\n",
    "# groups = train_data_sampled['inferred company']\n",
    "\n",
    "# # Initialize GroupShuffleSplit with stratification\n",
    "# gss = StratifiedGroupKFold(n_splits=5,shuffle=True, random_state=42)\n",
    "# train_idx, val_idx = next(gss.split(train_data_sampled, train_data_sampled['likes_binned'], groups))\n",
    "# # Perform the split\n",
    "# # for train_idx, val_idx in gss.split(X_combined, y, groups):\n",
    "# X_train, X_val = train_data_sampled.iloc[train_idx].reset_index(drop=True), train_data_sampled.iloc[val_idx].reset_index(drop=True)\n",
    "# y_train, y_val = train_data_sampled['likes_capped'].iloc[train_idx].reset_index(drop=True), train_data_sampled['likes_capped'].iloc[val_idx].reset_index(drop=True)\n",
    "\n",
    "# # Ensure stratification within the group-based split\n",
    "# # print(f\"Training set class distribution: {np.bincount(y_train)}\")\n",
    "# # print(f\"Validation set class distribution: {np.bincount(y_val)}\")"
   ]
  },
  {
   "cell_type": "code",
   "execution_count": 17,
   "id": "eedc16f4",
   "metadata": {
    "execution": {
     "iopub.execute_input": "2024-10-12T05:54:29.700504Z",
     "iopub.status.busy": "2024-10-12T05:54:29.700010Z",
     "iopub.status.idle": "2024-10-12T05:55:41.610130Z",
     "shell.execute_reply": "2024-10-12T05:55:41.609343Z"
    },
    "papermill": {
     "duration": 71.928707,
     "end_time": "2024-10-12T05:55:41.612601",
     "exception": false,
     "start_time": "2024-10-12T05:54:29.683894",
     "status": "completed"
    },
    "tags": []
   },
   "outputs": [
    {
     "name": "stdout",
     "output_type": "stream",
     "text": [
      "Preprocessing train text...\n"
     ]
    }
   ],
   "source": [
    "# Load the data\n",
    "df = train_data_sampled.copy()\n",
    "\n",
    "# Preprocess text and combine data\n",
    "print(\"Preprocessing train text...\")\n",
    "df['processed_content'] = df['content'].apply(preprocess_text)\n",
    "df['hashtags'] = df['content'].apply(extract_hashtags)\n",
    "df['emojis'] = df['content'].apply(extract_emoji)\n",
    "df['combined_text'] = df.apply(lambda row: f\"{row['processed_content']} {row['username']} {row['inferred company']} {row['hashtags']} {row['emojis']}\", axis=1)"
   ]
  },
  {
   "cell_type": "code",
   "execution_count": 18,
   "id": "cf053663",
   "metadata": {
    "execution": {
     "iopub.execute_input": "2024-10-12T05:55:41.645483Z",
     "iopub.status.busy": "2024-10-12T05:55:41.644945Z",
     "iopub.status.idle": "2024-10-12T06:38:31.944426Z",
     "shell.execute_reply": "2024-10-12T06:38:31.943613Z"
    },
    "papermill": {
     "duration": 2570.318034,
     "end_time": "2024-10-12T06:38:31.946526",
     "exception": false,
     "start_time": "2024-10-12T05:55:41.628492",
     "status": "completed"
    },
    "tags": []
   },
   "outputs": [
    {
     "name": "stdout",
     "output_type": "stream",
     "text": [
      "Generating embeddings...\n"
     ]
    },
    {
     "name": "stderr",
     "output_type": "stream",
     "text": [
      "Generating text embeddings: 100%|██████████| 300000/300000 [42:50<00:00, 116.72it/s]\n"
     ]
    }
   ],
   "source": [
    "# Generate embeddings with progress bar\n",
    "print(\"Generating embeddings...\")\n",
    "embeddings = []\n",
    "for text in tqdm(df['combined_text'], desc=\"Generating text embeddings\"):\n",
    "    embeddings.append(get_roberta_embedding(text))\n",
    "df['combined_embedding'] = embeddings"
   ]
  },
  {
   "cell_type": "code",
   "execution_count": 19,
   "id": "379c0371",
   "metadata": {
    "execution": {
     "iopub.execute_input": "2024-10-12T06:38:35.945479Z",
     "iopub.status.busy": "2024-10-12T06:38:35.945053Z",
     "iopub.status.idle": "2024-10-12T06:38:44.080605Z",
     "shell.execute_reply": "2024-10-12T06:38:44.079760Z"
    },
    "papermill": {
     "duration": 10.155799,
     "end_time": "2024-10-12T06:38:44.082867",
     "exception": false,
     "start_time": "2024-10-12T06:38:33.927068",
     "status": "completed"
    },
    "tags": []
   },
   "outputs": [
    {
     "name": "stdout",
     "output_type": "stream",
     "text": [
      "Generating other embeddings...\n"
     ]
    }
   ],
   "source": [
    "# Generate other embeddings\n",
    "print(\"Generating other embeddings...\")\n",
    "df['datetime_embedding'] = df['date'].apply(get_datetime_features)\n",
    "\n",
    "# company_encoder = OneHotEncoder(sparse=False)\n",
    "# company_encoder.fit(df['inferred company'].values.reshape(-1, 1))\n",
    "# df['company_embedding'] = df['inferred company'].apply(lambda x: get_categorical_embedding(x, company_encoder))"
   ]
  },
  {
   "cell_type": "code",
   "execution_count": 20,
   "id": "6a272157",
   "metadata": {
    "execution": {
     "iopub.execute_input": "2024-10-12T06:38:48.179997Z",
     "iopub.status.busy": "2024-10-12T06:38:48.179620Z",
     "iopub.status.idle": "2024-10-12T07:19:43.785886Z",
     "shell.execute_reply": "2024-10-12T07:19:43.784948Z"
    },
    "papermill": {
     "duration": 2461.621942,
     "end_time": "2024-10-12T07:19:47.780211",
     "exception": false,
     "start_time": "2024-10-12T06:38:46.158269",
     "status": "completed"
    },
    "scrolled": true,
    "tags": []
   },
   "outputs": [
    {
     "name": "stderr",
     "output_type": "stream",
     "text": [
      "/opt/conda/lib/python3.10/site-packages/transformers/tokenization_utils_base.py:1617: FutureWarning: `clean_up_tokenization_spaces` was not set. It will be set to `True` by default. This behavior will be deprecated in transformers v4.45, and will be then set to `False` by default. For more details check this issue: https://github.com/huggingface/transformers/issues/31884\n",
      "  warnings.warn(\n",
      "Embedding Generation:   0%|          | 0/300000 [00:00<?, ?it/s]Asking to truncate to max_length but no maximum length is provided and the model has no predefined maximum length. Default to no truncation.\n",
      "Embedding Generation: 100%|██████████| 300000/300000 [40:40<00:00, 122.93it/s]\n"
     ]
    },
    {
     "name": "stdout",
     "output_type": "stream",
     "text": [
      "Training features generated successfully!\n",
      "Feature columns for use in neural network:\n",
      "Index(['id', 'date', 'likes', 'content', 'username', 'media',\n",
      "       'inferred company', 'likes_capped', 'likes_binned', 'processed_content',\n",
      "       'hashtags', 'emojis', 'combined_text', 'combined_embedding',\n",
      "       'datetime_embedding', 'tokenized_username', 'username_embedding',\n",
      "       'reduced_username_embedding'],\n",
      "      dtype='object')\n"
     ]
    }
   ],
   "source": [
    "import re\n",
    "import numpy as np\n",
    "import pandas as pd\n",
    "from collections import Counter\n",
    "from transformers import pipeline, AutoTokenizer, AutoModel\n",
    "from sklearn.decomposition import PCA\n",
    "import torch\n",
    "from tqdm import tqdm  # For progress tracking\n",
    "\n",
    "# Load the training data\n",
    "# df = pd.read_csv(\"train_tweets.csv\")\n",
    "\n",
    "device = torch.device('cuda' if torch.cuda.is_available() else 'cpu')  # Check for GPU\n",
    "\n",
    "# 1. Tokenize usernames and perform word frequency analysis\n",
    "def tokenize_username(username):\n",
    "    username = username.replace('_', ' ')\n",
    "    username_parts = re.findall(r'[A-Z][a-z]*|[a-z]+|\\d+', username)\n",
    "    return [word.lower() for word in username_parts]\n",
    "\n",
    "df['tokenized_username'] = df['username'].apply(tokenize_username)\n",
    "\n",
    "# 5. Username Embedding Generation using Pre-trained Model\n",
    "model_name = \"cardiffnlp/twitter-roberta-base\"\n",
    "tokenizer = AutoTokenizer.from_pretrained(model_name)\n",
    "model = AutoModel.from_pretrained(model_name).to(device)  # Move model to GPU\n",
    "\n",
    "def get_username_embedding(username):\n",
    "    tokenized = tokenizer(username, return_tensors=\"pt\", truncation=True, padding=True).to(device)  # Move inputs to GPU\n",
    "    with torch.no_grad():\n",
    "        outputs = model(**tokenized)\n",
    "    return outputs.last_hidden_state.mean(dim=1).cpu().numpy().flatten()  # Move back to CPU\n",
    "\n",
    "# Apply embedding generation with progress tracking\n",
    "df['username_embedding'] = [get_username_embedding(' '.join(tokenize_username(username))) for username in tqdm(df['username'], desc=\"Embedding Generation\")]\n",
    "\n",
    "# 6. Dimensionality Reduction with PCA\n",
    "pca = PCA(n_components=64)\n",
    "df['reduced_username_embedding'] = list(pca.fit_transform(np.stack(df['username_embedding'])))\n",
    "\n",
    "# 7. Feature List\n",
    "print(\"Training features generated successfully!\")\n",
    "print(\"Feature columns for use in neural network:\")\n",
    "print(df.columns)"
   ]
  },
  {
   "cell_type": "code",
   "execution_count": 21,
   "id": "258ad5f0",
   "metadata": {
    "execution": {
     "iopub.execute_input": "2024-10-12T07:19:55.596730Z",
     "iopub.status.busy": "2024-10-12T07:19:55.595971Z",
     "iopub.status.idle": "2024-10-12T07:20:03.948978Z",
     "shell.execute_reply": "2024-10-12T07:20:03.948022Z"
    },
    "papermill": {
     "duration": 12.307187,
     "end_time": "2024-10-12T07:20:03.951039",
     "exception": false,
     "start_time": "2024-10-12T07:19:51.643852",
     "status": "completed"
    },
    "tags": []
   },
   "outputs": [
    {
     "name": "stdout",
     "output_type": "stream",
     "text": [
      "Combining embeddings...\n",
      "Shape of rich embedding: (843,)\n"
     ]
    }
   ],
   "source": [
    "# Combine all embeddings\n",
    "print(\"Combining embeddings...\")\n",
    "df['rich_embedding'] = df.apply(lambda row: np.concatenate([\n",
    "    row['combined_embedding'],\n",
    "    row['datetime_embedding'],\n",
    "    row['reduced_username_embedding']\n",
    "    # row['company_embedding']\n",
    "    # row['user_graph_embedding'],\n",
    "    # row['company_graph_embedding']\n",
    "]), axis=1)\n",
    "\n",
    "print(f\"Shape of rich embedding: {df['rich_embedding'].iloc[0].shape}\")"
   ]
  },
  {
   "cell_type": "code",
   "execution_count": 22,
   "id": "d05ffe8e",
   "metadata": {
    "execution": {
     "iopub.execute_input": "2024-10-12T07:20:11.743995Z",
     "iopub.status.busy": "2024-10-12T07:20:11.743640Z",
     "iopub.status.idle": "2024-10-12T07:20:11.749720Z",
     "shell.execute_reply": "2024-10-12T07:20:11.748818Z"
    },
    "papermill": {
     "duration": 3.866163,
     "end_time": "2024-10-12T07:20:11.751813",
     "exception": false,
     "start_time": "2024-10-12T07:20:07.885650",
     "status": "completed"
    },
    "tags": []
   },
   "outputs": [
    {
     "data": {
      "text/plain": [
       "0.871115549732658"
      ]
     },
     "execution_count": 22,
     "metadata": {},
     "output_type": "execute_result"
    }
   ],
   "source": [
    "pca.explained_variance_ratio_.sum()"
   ]
  },
  {
   "cell_type": "code",
   "execution_count": 23,
   "id": "2f70c1da",
   "metadata": {
    "execution": {
     "iopub.execute_input": "2024-10-12T07:20:19.699715Z",
     "iopub.status.busy": "2024-10-12T07:20:19.698895Z",
     "iopub.status.idle": "2024-10-12T07:20:19.703151Z",
     "shell.execute_reply": "2024-10-12T07:20:19.702305Z"
    },
    "papermill": {
     "duration": 4.013729,
     "end_time": "2024-10-12T07:20:19.704977",
     "exception": false,
     "start_time": "2024-10-12T07:20:15.691248",
     "status": "completed"
    },
    "tags": []
   },
   "outputs": [],
   "source": [
    "# # Load the data\n",
    "# df = X_val\n",
    "\n",
    "# # Preprocess text and combine data\n",
    "# print(\"Preprocessing val text...\")\n",
    "# df['processed_content'] = df['content'].apply(preprocess_text)\n",
    "# df['hashtags'] = df['content'].apply(extract_hashtags)\n",
    "# df['emojis'] = df['content'].apply(extract_emoji)\n",
    "# df['combined_text'] = df.apply(lambda row: f\"{row['processed_content']} {row['username']} {row['inferred company']} {row['hashtags']} {row['emojis']}\", axis=1)"
   ]
  },
  {
   "cell_type": "code",
   "execution_count": 24,
   "id": "5285097b",
   "metadata": {
    "execution": {
     "iopub.execute_input": "2024-10-12T07:20:27.511884Z",
     "iopub.status.busy": "2024-10-12T07:20:27.511534Z",
     "iopub.status.idle": "2024-10-12T07:20:27.515743Z",
     "shell.execute_reply": "2024-10-12T07:20:27.514863Z"
    },
    "papermill": {
     "duration": 3.954304,
     "end_time": "2024-10-12T07:20:27.517565",
     "exception": false,
     "start_time": "2024-10-12T07:20:23.563261",
     "status": "completed"
    },
    "tags": []
   },
   "outputs": [],
   "source": [
    "# # Generate embeddings with progress bar\n",
    "# print(\"Generating embeddings...\")\n",
    "# embeddings = []\n",
    "# for text in tqdm(df['combined_text'], desc=\"Generating text embeddings\"):\n",
    "#     embeddings.append(get_roberta_embedding(text))\n",
    "# df['combined_embedding'] = embeddings"
   ]
  },
  {
   "cell_type": "code",
   "execution_count": 25,
   "id": "79af9623",
   "metadata": {
    "execution": {
     "iopub.execute_input": "2024-10-12T07:20:35.363401Z",
     "iopub.status.busy": "2024-10-12T07:20:35.363026Z",
     "iopub.status.idle": "2024-10-12T07:20:35.367481Z",
     "shell.execute_reply": "2024-10-12T07:20:35.366588Z"
    },
    "papermill": {
     "duration": 3.942523,
     "end_time": "2024-10-12T07:20:35.369320",
     "exception": false,
     "start_time": "2024-10-12T07:20:31.426797",
     "status": "completed"
    },
    "tags": []
   },
   "outputs": [],
   "source": [
    "# # Generate other embeddings\n",
    "# print(\"Generating other embeddings...\")\n",
    "# df['datetime_embedding'] = df['date'].apply(get_datetime_features)\n",
    "\n",
    "# # company_encoder = OneHotEncoder(sparse=False)\n",
    "# # company_encoder.fit(df['inferred company'].values.reshape(-1, 1))\n",
    "# df['company_embedding'] = df['inferred company'].apply(lambda x: get_categorical_embedding(x, company_encoder))"
   ]
  },
  {
   "cell_type": "code",
   "execution_count": 26,
   "id": "b4dd62be",
   "metadata": {
    "execution": {
     "iopub.execute_input": "2024-10-12T07:20:43.136675Z",
     "iopub.status.busy": "2024-10-12T07:20:43.136324Z",
     "iopub.status.idle": "2024-10-12T07:20:43.140804Z",
     "shell.execute_reply": "2024-10-12T07:20:43.139858Z"
    },
    "papermill": {
     "duration": 3.852622,
     "end_time": "2024-10-12T07:20:43.142656",
     "exception": false,
     "start_time": "2024-10-12T07:20:39.290034",
     "status": "completed"
    },
    "tags": []
   },
   "outputs": [],
   "source": [
    "# # Combine all embeddings\n",
    "# print(\"Combining embeddings...\")\n",
    "# df['rich_embedding'] = df.apply(lambda row: np.concatenate([\n",
    "#     row['combined_embedding'],\n",
    "#     row['datetime_embedding'],\n",
    "#     row['company_embedding']\n",
    "#     # row['user_graph_embedding'],\n",
    "#     # row['company_graph_embedding']\n",
    "# ]), axis=1)\n",
    "\n",
    "# print(f\"Shape of rich embedding: {df['rich_embedding'].iloc[0].shape}\")"
   ]
  },
  {
   "cell_type": "code",
   "execution_count": 27,
   "id": "05ff86c9",
   "metadata": {
    "execution": {
     "iopub.execute_input": "2024-10-12T07:20:51.010374Z",
     "iopub.status.busy": "2024-10-12T07:20:51.009620Z",
     "iopub.status.idle": "2024-10-12T07:20:51.013613Z",
     "shell.execute_reply": "2024-10-12T07:20:51.012685Z"
    },
    "papermill": {
     "duration": 3.920834,
     "end_time": "2024-10-12T07:20:51.015617",
     "exception": false,
     "start_time": "2024-10-12T07:20:47.094783",
     "status": "completed"
    },
    "scrolled": true,
    "tags": []
   },
   "outputs": [],
   "source": [
    "# print(\"Creating graph embeddings...\")\n",
    "# df = create_graph_embedding(df)"
   ]
  },
  {
   "cell_type": "code",
   "execution_count": 28,
   "id": "61901972",
   "metadata": {
    "execution": {
     "iopub.execute_input": "2024-10-12T07:20:58.843100Z",
     "iopub.status.busy": "2024-10-12T07:20:58.842426Z",
     "iopub.status.idle": "2024-10-12T07:21:00.515946Z",
     "shell.execute_reply": "2024-10-12T07:21:00.514894Z"
    },
    "papermill": {
     "duration": 5.529869,
     "end_time": "2024-10-12T07:21:00.518337",
     "exception": false,
     "start_time": "2024-10-12T07:20:54.988468",
     "status": "completed"
    },
    "tags": []
   },
   "outputs": [],
   "source": [
    "import pandas as pd\n",
    "import numpy as np\n",
    "import torch\n",
    "import torch.nn as nn\n",
    "import torch.optim as optim\n",
    "from torch.utils.data import Dataset, DataLoader\n",
    "from sklearn.model_selection import train_test_split\n",
    "from sklearn.preprocessing import StandardScaler\n",
    "from tqdm import tqdm\n",
    "from sklearn.metrics import mean_squared_error, mean_absolute_error, r2_score\n",
    "\n",
    "\n",
    "\n",
    "# Prepare data for regression\n",
    "X = np.stack(df['rich_embedding'])\n",
    "y = df['likes_capped'].values\n",
    "\n",
    "# Log transform the target variable to handle skewness\n",
    "y = np.log1p(y)  # log1p is used to handle zero values\n",
    "\n",
    "# Split the data\n",
    "X_train, X_val, y_train, y_val = train_test_split(X, y, test_size=0.2, random_state=42)"
   ]
  },
  {
   "cell_type": "code",
   "execution_count": 29,
   "id": "62ad18d8",
   "metadata": {
    "execution": {
     "iopub.execute_input": "2024-10-12T07:21:08.288940Z",
     "iopub.status.busy": "2024-10-12T07:21:08.288107Z",
     "iopub.status.idle": "2024-10-12T07:21:11.291776Z",
     "shell.execute_reply": "2024-10-12T07:21:11.290883Z"
    },
    "papermill": {
     "duration": 6.908179,
     "end_time": "2024-10-12T07:21:11.294268",
     "exception": false,
     "start_time": "2024-10-12T07:21:04.386089",
     "status": "completed"
    },
    "tags": []
   },
   "outputs": [],
   "source": [
    "# Scale the features\n",
    "scaler = StandardScaler()\n",
    "X_train_scaled = scaler.fit_transform(X_train)\n",
    "X_val_scaled = scaler.transform(X_val)"
   ]
  },
  {
   "cell_type": "code",
   "execution_count": 30,
   "id": "6822a3a2",
   "metadata": {
    "execution": {
     "iopub.execute_input": "2024-10-12T07:21:19.173197Z",
     "iopub.status.busy": "2024-10-12T07:21:19.172695Z",
     "iopub.status.idle": "2024-10-12T07:21:19.186610Z",
     "shell.execute_reply": "2024-10-12T07:21:19.185687Z"
    },
    "papermill": {
     "duration": 3.930673,
     "end_time": "2024-10-12T07:21:19.188849",
     "exception": false,
     "start_time": "2024-10-12T07:21:15.258176",
     "status": "completed"
    },
    "tags": []
   },
   "outputs": [],
   "source": [
    "# Define a neural network for regression\n",
    "class TweetLikesRegressor(nn.Module):\n",
    "    def __init__(self, input_dim, hidden_dim):\n",
    "        super(TweetLikesRegressor, self).__init__()\n",
    "        self.fc1 = nn.Linear(input_dim, hidden_dim)\n",
    "        self.fc2 = nn.Linear(hidden_dim, hidden_dim // 2)\n",
    "        self.fc3 = nn.Linear(hidden_dim // 2, 1)\n",
    "        self.relu = nn.ReLU()\n",
    "        self.dropout = nn.Dropout(0.3)\n",
    "    \n",
    "    def forward(self, x):\n",
    "        x = self.relu(self.fc1(x))\n",
    "        x = self.dropout(x)\n",
    "        x = self.relu(self.fc2(x))\n",
    "        x = self.dropout(x)\n",
    "        x = self.fc3(x)\n",
    "        return x.squeeze()\n",
    "\n",
    "# Create dataset and dataloader\n",
    "class TweetDataset(Dataset):\n",
    "    def __init__(self, embeddings, likes):\n",
    "        self.embeddings = torch.tensor(embeddings, dtype=torch.float32)\n",
    "        self.likes = torch.tensor(likes, dtype=torch.float32)\n",
    "    \n",
    "    def __len__(self):\n",
    "        return len(self.likes)\n",
    "    \n",
    "    def __getitem__(self, idx):\n",
    "        return self.embeddings[idx], self.likes[idx]\n",
    "\n",
    "# Hyperparameters\n",
    "input_dim = X_train.shape[1]\n",
    "hidden_dim = 256\n",
    "batch_size = 64\n",
    "num_epochs = 100\n",
    "learning_rate = 0.001"
   ]
  },
  {
   "cell_type": "code",
   "execution_count": 31,
   "id": "17c0687f",
   "metadata": {
    "execution": {
     "iopub.execute_input": "2024-10-12T07:21:27.043003Z",
     "iopub.status.busy": "2024-10-12T07:21:27.042646Z",
     "iopub.status.idle": "2024-10-12T07:21:27.054250Z",
     "shell.execute_reply": "2024-10-12T07:21:27.053530Z"
    },
    "papermill": {
     "duration": 3.953717,
     "end_time": "2024-10-12T07:21:27.056154",
     "exception": false,
     "start_time": "2024-10-12T07:21:23.102437",
     "status": "completed"
    },
    "tags": []
   },
   "outputs": [],
   "source": [
    "# Create model, optimizer, and loss function\n",
    "model = TweetLikesRegressor(input_dim, hidden_dim).to(device)\n",
    "optimizer = optim.Adam(model.parameters(), lr=learning_rate)\n",
    "criterion = nn.MSELoss()"
   ]
  },
  {
   "cell_type": "code",
   "execution_count": 32,
   "id": "55dbbb8d",
   "metadata": {
    "execution": {
     "iopub.execute_input": "2024-10-12T07:21:34.923147Z",
     "iopub.status.busy": "2024-10-12T07:21:34.922459Z",
     "iopub.status.idle": "2024-10-12T07:21:35.311895Z",
     "shell.execute_reply": "2024-10-12T07:21:35.311023Z"
    },
    "papermill": {
     "duration": 4.355444,
     "end_time": "2024-10-12T07:21:35.314309",
     "exception": false,
     "start_time": "2024-10-12T07:21:30.958865",
     "status": "completed"
    },
    "tags": []
   },
   "outputs": [],
   "source": [
    "# Create datasets and dataloaders\n",
    "train_dataset = TweetDataset(X_train_scaled, y_train)\n",
    "val_dataset = TweetDataset(X_val_scaled, y_val)\n",
    "train_loader = DataLoader(train_dataset, batch_size=batch_size, shuffle=True)\n",
    "val_loader = DataLoader(val_dataset, batch_size=batch_size)"
   ]
  },
  {
   "cell_type": "code",
   "execution_count": 33,
   "id": "cc2f21e8",
   "metadata": {
    "execution": {
     "iopub.execute_input": "2024-10-12T07:21:43.120840Z",
     "iopub.status.busy": "2024-10-12T07:21:43.119948Z",
     "iopub.status.idle": "2024-10-12T07:37:50.025426Z",
     "shell.execute_reply": "2024-10-12T07:37:50.024492Z"
    },
    "papermill": {
     "duration": 973.058399,
     "end_time": "2024-10-12T07:37:52.254715",
     "exception": false,
     "start_time": "2024-10-12T07:21:39.196316",
     "status": "completed"
    },
    "scrolled": true,
    "tags": []
   },
   "outputs": [
    {
     "name": "stdout",
     "output_type": "stream",
     "text": [
      "Training regression model...\n"
     ]
    },
    {
     "name": "stderr",
     "output_type": "stream",
     "text": [
      "Epoch 1/100: 100%|██████████| 3750/3750 [00:08<00:00, 419.32it/s]\n"
     ]
    },
    {
     "name": "stdout",
     "output_type": "stream",
     "text": [
      "Epoch 1/100, Loss: 1.6618\n",
      "Val MSE: 1.0882, Val MAE: 0.7479, Val R2: 0.8393\n",
      "New best model saved!\n"
     ]
    },
    {
     "name": "stderr",
     "output_type": "stream",
     "text": [
      "Epoch 2/100: 100%|██████████| 3750/3750 [00:08<00:00, 436.19it/s]\n"
     ]
    },
    {
     "name": "stdout",
     "output_type": "stream",
     "text": [
      "Epoch 2/100, Loss: 1.2666\n",
      "Val MSE: 1.0197, Val MAE: 0.7180, Val R2: 0.8494\n",
      "New best model saved!\n"
     ]
    },
    {
     "name": "stderr",
     "output_type": "stream",
     "text": [
      "Epoch 3/100: 100%|██████████| 3750/3750 [00:08<00:00, 433.66it/s]\n"
     ]
    },
    {
     "name": "stdout",
     "output_type": "stream",
     "text": [
      "Epoch 3/100, Loss: 1.1497\n",
      "Val MSE: 1.0054, Val MAE: 0.7480, Val R2: 0.8515\n",
      "New best model saved!\n"
     ]
    },
    {
     "name": "stderr",
     "output_type": "stream",
     "text": [
      "Epoch 4/100: 100%|██████████| 3750/3750 [00:08<00:00, 421.82it/s]\n"
     ]
    },
    {
     "name": "stdout",
     "output_type": "stream",
     "text": [
      "Epoch 4/100, Loss: 1.0796\n",
      "Val MSE: 0.8593, Val MAE: 0.6669, Val R2: 0.8731\n",
      "New best model saved!\n"
     ]
    },
    {
     "name": "stderr",
     "output_type": "stream",
     "text": [
      "Epoch 5/100: 100%|██████████| 3750/3750 [00:08<00:00, 434.29it/s]\n"
     ]
    },
    {
     "name": "stdout",
     "output_type": "stream",
     "text": [
      "Epoch 5/100, Loss: 1.0290\n",
      "Val MSE: 0.8622, Val MAE: 0.6779, Val R2: 0.8727\n"
     ]
    },
    {
     "name": "stderr",
     "output_type": "stream",
     "text": [
      "Epoch 6/100: 100%|██████████| 3750/3750 [00:08<00:00, 436.48it/s]\n"
     ]
    },
    {
     "name": "stdout",
     "output_type": "stream",
     "text": [
      "Epoch 6/100, Loss: 0.9814\n",
      "Val MSE: 0.8234, Val MAE: 0.6507, Val R2: 0.8784\n",
      "New best model saved!\n"
     ]
    },
    {
     "name": "stderr",
     "output_type": "stream",
     "text": [
      "Epoch 7/100: 100%|██████████| 3750/3750 [00:08<00:00, 430.06it/s]\n"
     ]
    },
    {
     "name": "stdout",
     "output_type": "stream",
     "text": [
      "Epoch 7/100, Loss: 0.9554\n",
      "Val MSE: 0.8238, Val MAE: 0.6607, Val R2: 0.8784\n"
     ]
    },
    {
     "name": "stderr",
     "output_type": "stream",
     "text": [
      "Epoch 8/100: 100%|██████████| 3750/3750 [00:08<00:00, 431.26it/s]\n"
     ]
    },
    {
     "name": "stdout",
     "output_type": "stream",
     "text": [
      "Epoch 8/100, Loss: 0.9324\n",
      "Val MSE: 0.8195, Val MAE: 0.6409, Val R2: 0.8790\n",
      "New best model saved!\n"
     ]
    },
    {
     "name": "stderr",
     "output_type": "stream",
     "text": [
      "Epoch 9/100: 100%|██████████| 3750/3750 [00:08<00:00, 439.29it/s]\n"
     ]
    },
    {
     "name": "stdout",
     "output_type": "stream",
     "text": [
      "Epoch 9/100, Loss: 0.9068\n",
      "Val MSE: 0.7945, Val MAE: 0.6548, Val R2: 0.8827\n",
      "New best model saved!\n"
     ]
    },
    {
     "name": "stderr",
     "output_type": "stream",
     "text": [
      "Epoch 10/100: 100%|██████████| 3750/3750 [00:08<00:00, 440.94it/s]\n"
     ]
    },
    {
     "name": "stdout",
     "output_type": "stream",
     "text": [
      "Epoch 10/100, Loss: 0.8898\n",
      "Val MSE: 0.7739, Val MAE: 0.6205, Val R2: 0.8857\n",
      "New best model saved!\n"
     ]
    },
    {
     "name": "stderr",
     "output_type": "stream",
     "text": [
      "Epoch 11/100: 100%|██████████| 3750/3750 [00:08<00:00, 419.79it/s]\n"
     ]
    },
    {
     "name": "stdout",
     "output_type": "stream",
     "text": [
      "Epoch 11/100, Loss: 0.8699\n",
      "Val MSE: 0.8044, Val MAE: 0.6616, Val R2: 0.8812\n"
     ]
    },
    {
     "name": "stderr",
     "output_type": "stream",
     "text": [
      "Epoch 12/100: 100%|██████████| 3750/3750 [00:08<00:00, 439.16it/s]\n"
     ]
    },
    {
     "name": "stdout",
     "output_type": "stream",
     "text": [
      "Epoch 12/100, Loss: 0.8571\n",
      "Val MSE: 0.7714, Val MAE: 0.6384, Val R2: 0.8861\n",
      "New best model saved!\n"
     ]
    },
    {
     "name": "stderr",
     "output_type": "stream",
     "text": [
      "Epoch 13/100: 100%|██████████| 3750/3750 [00:08<00:00, 439.59it/s]\n"
     ]
    },
    {
     "name": "stdout",
     "output_type": "stream",
     "text": [
      "Epoch 13/100, Loss: 0.8479\n",
      "Val MSE: 0.8616, Val MAE: 0.7027, Val R2: 0.8728\n"
     ]
    },
    {
     "name": "stderr",
     "output_type": "stream",
     "text": [
      "Epoch 14/100: 100%|██████████| 3750/3750 [00:08<00:00, 432.83it/s]\n"
     ]
    },
    {
     "name": "stdout",
     "output_type": "stream",
     "text": [
      "Epoch 14/100, Loss: 0.8319\n",
      "Val MSE: 0.7382, Val MAE: 0.6179, Val R2: 0.8910\n",
      "New best model saved!\n"
     ]
    },
    {
     "name": "stderr",
     "output_type": "stream",
     "text": [
      "Epoch 15/100: 100%|██████████| 3750/3750 [00:08<00:00, 427.70it/s]\n"
     ]
    },
    {
     "name": "stdout",
     "output_type": "stream",
     "text": [
      "Epoch 15/100, Loss: 0.8213\n",
      "Val MSE: 0.8006, Val MAE: 0.6218, Val R2: 0.8818\n"
     ]
    },
    {
     "name": "stderr",
     "output_type": "stream",
     "text": [
      "Epoch 16/100: 100%|██████████| 3750/3750 [00:08<00:00, 437.08it/s]\n"
     ]
    },
    {
     "name": "stdout",
     "output_type": "stream",
     "text": [
      "Epoch 16/100, Loss: 0.8090\n",
      "Val MSE: 0.7411, Val MAE: 0.6010, Val R2: 0.8906\n"
     ]
    },
    {
     "name": "stderr",
     "output_type": "stream",
     "text": [
      "Epoch 17/100: 100%|██████████| 3750/3750 [00:08<00:00, 437.28it/s]\n"
     ]
    },
    {
     "name": "stdout",
     "output_type": "stream",
     "text": [
      "Epoch 17/100, Loss: 0.8027\n",
      "Val MSE: 0.7348, Val MAE: 0.6133, Val R2: 0.8915\n",
      "New best model saved!\n"
     ]
    },
    {
     "name": "stderr",
     "output_type": "stream",
     "text": [
      "Epoch 18/100: 100%|██████████| 3750/3750 [00:08<00:00, 421.79it/s]\n"
     ]
    },
    {
     "name": "stdout",
     "output_type": "stream",
     "text": [
      "Epoch 18/100, Loss: 0.7952\n",
      "Val MSE: 0.7491, Val MAE: 0.6078, Val R2: 0.8894\n"
     ]
    },
    {
     "name": "stderr",
     "output_type": "stream",
     "text": [
      "Epoch 19/100: 100%|██████████| 3750/3750 [00:08<00:00, 440.06it/s]\n"
     ]
    },
    {
     "name": "stdout",
     "output_type": "stream",
     "text": [
      "Epoch 19/100, Loss: 0.7852\n",
      "Val MSE: 0.7431, Val MAE: 0.6009, Val R2: 0.8903\n"
     ]
    },
    {
     "name": "stderr",
     "output_type": "stream",
     "text": [
      "Epoch 20/100: 100%|██████████| 3750/3750 [00:08<00:00, 438.01it/s]\n"
     ]
    },
    {
     "name": "stdout",
     "output_type": "stream",
     "text": [
      "Epoch 20/100, Loss: 0.7782\n",
      "Val MSE: 0.7316, Val MAE: 0.6201, Val R2: 0.8920\n",
      "New best model saved!\n"
     ]
    },
    {
     "name": "stderr",
     "output_type": "stream",
     "text": [
      "Epoch 21/100: 100%|██████████| 3750/3750 [00:08<00:00, 430.62it/s]\n"
     ]
    },
    {
     "name": "stdout",
     "output_type": "stream",
     "text": [
      "Epoch 21/100, Loss: 0.7726\n",
      "Val MSE: 0.7741, Val MAE: 0.6145, Val R2: 0.8857\n"
     ]
    },
    {
     "name": "stderr",
     "output_type": "stream",
     "text": [
      "Epoch 22/100: 100%|██████████| 3750/3750 [00:08<00:00, 433.79it/s]\n"
     ]
    },
    {
     "name": "stdout",
     "output_type": "stream",
     "text": [
      "Epoch 22/100, Loss: 0.7657\n",
      "Val MSE: 0.7157, Val MAE: 0.6071, Val R2: 0.8943\n",
      "New best model saved!\n"
     ]
    },
    {
     "name": "stderr",
     "output_type": "stream",
     "text": [
      "Epoch 23/100: 100%|██████████| 3750/3750 [00:08<00:00, 439.43it/s]\n"
     ]
    },
    {
     "name": "stdout",
     "output_type": "stream",
     "text": [
      "Epoch 23/100, Loss: 0.7603\n",
      "Val MSE: 0.7213, Val MAE: 0.6129, Val R2: 0.8935\n"
     ]
    },
    {
     "name": "stderr",
     "output_type": "stream",
     "text": [
      "Epoch 24/100: 100%|██████████| 3750/3750 [00:08<00:00, 431.56it/s]\n"
     ]
    },
    {
     "name": "stdout",
     "output_type": "stream",
     "text": [
      "Epoch 24/100, Loss: 0.7547\n",
      "Val MSE: 0.7502, Val MAE: 0.6056, Val R2: 0.8892\n"
     ]
    },
    {
     "name": "stderr",
     "output_type": "stream",
     "text": [
      "Epoch 25/100: 100%|██████████| 3750/3750 [00:08<00:00, 436.11it/s]\n"
     ]
    },
    {
     "name": "stdout",
     "output_type": "stream",
     "text": [
      "Epoch 25/100, Loss: 0.7485\n",
      "Val MSE: 0.7245, Val MAE: 0.6085, Val R2: 0.8930\n"
     ]
    },
    {
     "name": "stderr",
     "output_type": "stream",
     "text": [
      "Epoch 26/100: 100%|██████████| 3750/3750 [00:08<00:00, 438.46it/s]\n"
     ]
    },
    {
     "name": "stdout",
     "output_type": "stream",
     "text": [
      "Epoch 26/100, Loss: 0.7423\n",
      "Val MSE: 0.7186, Val MAE: 0.5944, Val R2: 0.8939\n"
     ]
    },
    {
     "name": "stderr",
     "output_type": "stream",
     "text": [
      "Epoch 27/100: 100%|██████████| 3750/3750 [00:08<00:00, 439.66it/s]\n"
     ]
    },
    {
     "name": "stdout",
     "output_type": "stream",
     "text": [
      "Epoch 27/100, Loss: 0.7384\n",
      "Val MSE: 0.7104, Val MAE: 0.5990, Val R2: 0.8951\n",
      "New best model saved!\n"
     ]
    },
    {
     "name": "stderr",
     "output_type": "stream",
     "text": [
      "Epoch 28/100: 100%|██████████| 3750/3750 [00:08<00:00, 432.56it/s]\n"
     ]
    },
    {
     "name": "stdout",
     "output_type": "stream",
     "text": [
      "Epoch 28/100, Loss: 0.7330\n",
      "Val MSE: 0.7587, Val MAE: 0.6139, Val R2: 0.8880\n"
     ]
    },
    {
     "name": "stderr",
     "output_type": "stream",
     "text": [
      "Epoch 29/100: 100%|██████████| 3750/3750 [00:08<00:00, 423.74it/s]\n"
     ]
    },
    {
     "name": "stdout",
     "output_type": "stream",
     "text": [
      "Epoch 29/100, Loss: 0.7267\n",
      "Val MSE: 0.7062, Val MAE: 0.5961, Val R2: 0.8957\n",
      "New best model saved!\n"
     ]
    },
    {
     "name": "stderr",
     "output_type": "stream",
     "text": [
      "Epoch 30/100: 100%|██████████| 3750/3750 [00:08<00:00, 439.80it/s]\n"
     ]
    },
    {
     "name": "stdout",
     "output_type": "stream",
     "text": [
      "Epoch 30/100, Loss: 0.7230\n",
      "Val MSE: 0.7119, Val MAE: 0.6074, Val R2: 0.8949\n"
     ]
    },
    {
     "name": "stderr",
     "output_type": "stream",
     "text": [
      "Epoch 31/100: 100%|██████████| 3750/3750 [00:08<00:00, 433.40it/s]\n"
     ]
    },
    {
     "name": "stdout",
     "output_type": "stream",
     "text": [
      "Epoch 31/100, Loss: 0.7178\n",
      "Val MSE: 0.7063, Val MAE: 0.6039, Val R2: 0.8957\n"
     ]
    },
    {
     "name": "stderr",
     "output_type": "stream",
     "text": [
      "Epoch 32/100: 100%|██████████| 3750/3750 [00:08<00:00, 436.23it/s]\n"
     ]
    },
    {
     "name": "stdout",
     "output_type": "stream",
     "text": [
      "Epoch 32/100, Loss: 0.7154\n",
      "Val MSE: 0.7264, Val MAE: 0.5917, Val R2: 0.8927\n"
     ]
    },
    {
     "name": "stderr",
     "output_type": "stream",
     "text": [
      "Epoch 33/100: 100%|██████████| 3750/3750 [00:08<00:00, 438.29it/s]\n"
     ]
    },
    {
     "name": "stdout",
     "output_type": "stream",
     "text": [
      "Epoch 33/100, Loss: 0.7082\n",
      "Val MSE: 0.7119, Val MAE: 0.5870, Val R2: 0.8949\n"
     ]
    },
    {
     "name": "stderr",
     "output_type": "stream",
     "text": [
      "Epoch 34/100: 100%|██████████| 3750/3750 [00:08<00:00, 431.80it/s]\n"
     ]
    },
    {
     "name": "stdout",
     "output_type": "stream",
     "text": [
      "Epoch 34/100, Loss: 0.7088\n",
      "Val MSE: 0.7199, Val MAE: 0.5990, Val R2: 0.8937\n"
     ]
    },
    {
     "name": "stderr",
     "output_type": "stream",
     "text": [
      "Epoch 35/100: 100%|██████████| 3750/3750 [00:08<00:00, 430.25it/s]\n"
     ]
    },
    {
     "name": "stdout",
     "output_type": "stream",
     "text": [
      "Epoch 35/100, Loss: 0.6992\n",
      "Val MSE: 0.7018, Val MAE: 0.6000, Val R2: 0.8964\n",
      "New best model saved!\n"
     ]
    },
    {
     "name": "stderr",
     "output_type": "stream",
     "text": [
      "Epoch 36/100: 100%|██████████| 3750/3750 [00:08<00:00, 422.50it/s]\n"
     ]
    },
    {
     "name": "stdout",
     "output_type": "stream",
     "text": [
      "Epoch 36/100, Loss: 0.6961\n",
      "Val MSE: 0.7118, Val MAE: 0.6018, Val R2: 0.8949\n"
     ]
    },
    {
     "name": "stderr",
     "output_type": "stream",
     "text": [
      "Epoch 37/100: 100%|██████████| 3750/3750 [00:08<00:00, 435.02it/s]\n"
     ]
    },
    {
     "name": "stdout",
     "output_type": "stream",
     "text": [
      "Epoch 37/100, Loss: 0.6922\n",
      "Val MSE: 0.7047, Val MAE: 0.5860, Val R2: 0.8959\n"
     ]
    },
    {
     "name": "stderr",
     "output_type": "stream",
     "text": [
      "Epoch 38/100: 100%|██████████| 3750/3750 [00:08<00:00, 439.41it/s]\n"
     ]
    },
    {
     "name": "stdout",
     "output_type": "stream",
     "text": [
      "Epoch 38/100, Loss: 0.6867\n",
      "Val MSE: 0.7109, Val MAE: 0.6109, Val R2: 0.8950\n"
     ]
    },
    {
     "name": "stderr",
     "output_type": "stream",
     "text": [
      "Epoch 39/100: 100%|██████████| 3750/3750 [00:08<00:00, 432.05it/s]\n"
     ]
    },
    {
     "name": "stdout",
     "output_type": "stream",
     "text": [
      "Epoch 39/100, Loss: 0.6858\n",
      "Val MSE: 0.7058, Val MAE: 0.5897, Val R2: 0.8958\n"
     ]
    },
    {
     "name": "stderr",
     "output_type": "stream",
     "text": [
      "Epoch 40/100: 100%|██████████| 3750/3750 [00:08<00:00, 435.09it/s]\n"
     ]
    },
    {
     "name": "stdout",
     "output_type": "stream",
     "text": [
      "Epoch 40/100, Loss: 0.6819\n",
      "Val MSE: 0.7028, Val MAE: 0.6060, Val R2: 0.8962\n"
     ]
    },
    {
     "name": "stderr",
     "output_type": "stream",
     "text": [
      "Epoch 41/100: 100%|██████████| 3750/3750 [00:08<00:00, 431.65it/s]\n"
     ]
    },
    {
     "name": "stdout",
     "output_type": "stream",
     "text": [
      "Epoch 41/100, Loss: 0.6798\n",
      "Val MSE: 0.6974, Val MAE: 0.5910, Val R2: 0.8970\n",
      "New best model saved!\n"
     ]
    },
    {
     "name": "stderr",
     "output_type": "stream",
     "text": [
      "Epoch 42/100: 100%|██████████| 3750/3750 [00:08<00:00, 437.60it/s]\n"
     ]
    },
    {
     "name": "stdout",
     "output_type": "stream",
     "text": [
      "Epoch 42/100, Loss: 0.6724\n",
      "Val MSE: 0.7142, Val MAE: 0.5885, Val R2: 0.8945\n"
     ]
    },
    {
     "name": "stderr",
     "output_type": "stream",
     "text": [
      "Epoch 43/100: 100%|██████████| 3750/3750 [00:08<00:00, 431.59it/s]\n"
     ]
    },
    {
     "name": "stdout",
     "output_type": "stream",
     "text": [
      "Epoch 43/100, Loss: 0.6739\n",
      "Val MSE: 0.7458, Val MAE: 0.6373, Val R2: 0.8899\n"
     ]
    },
    {
     "name": "stderr",
     "output_type": "stream",
     "text": [
      "Epoch 44/100: 100%|██████████| 3750/3750 [00:08<00:00, 434.02it/s]\n"
     ]
    },
    {
     "name": "stdout",
     "output_type": "stream",
     "text": [
      "Epoch 44/100, Loss: 0.6699\n",
      "Val MSE: 0.7136, Val MAE: 0.5889, Val R2: 0.8946\n"
     ]
    },
    {
     "name": "stderr",
     "output_type": "stream",
     "text": [
      "Epoch 45/100: 100%|██████████| 3750/3750 [00:08<00:00, 438.73it/s]\n"
     ]
    },
    {
     "name": "stdout",
     "output_type": "stream",
     "text": [
      "Epoch 45/100, Loss: 0.6646\n",
      "Val MSE: 0.7326, Val MAE: 0.5980, Val R2: 0.8918\n"
     ]
    },
    {
     "name": "stderr",
     "output_type": "stream",
     "text": [
      "Epoch 46/100: 100%|██████████| 3750/3750 [00:08<00:00, 439.10it/s]\n"
     ]
    },
    {
     "name": "stdout",
     "output_type": "stream",
     "text": [
      "Epoch 46/100, Loss: 0.6645\n",
      "Val MSE: 0.7110, Val MAE: 0.6063, Val R2: 0.8950\n"
     ]
    },
    {
     "name": "stderr",
     "output_type": "stream",
     "text": [
      "Epoch 47/100: 100%|██████████| 3750/3750 [00:08<00:00, 424.02it/s]\n"
     ]
    },
    {
     "name": "stdout",
     "output_type": "stream",
     "text": [
      "Epoch 47/100, Loss: 0.6606\n",
      "Val MSE: 0.7111, Val MAE: 0.6040, Val R2: 0.8950\n"
     ]
    },
    {
     "name": "stderr",
     "output_type": "stream",
     "text": [
      "Epoch 48/100: 100%|██████████| 3750/3750 [00:08<00:00, 436.54it/s]\n"
     ]
    },
    {
     "name": "stdout",
     "output_type": "stream",
     "text": [
      "Epoch 48/100, Loss: 0.6616\n",
      "Val MSE: 0.7009, Val MAE: 0.5979, Val R2: 0.8965\n"
     ]
    },
    {
     "name": "stderr",
     "output_type": "stream",
     "text": [
      "Epoch 49/100: 100%|██████████| 3750/3750 [00:08<00:00, 436.94it/s]\n"
     ]
    },
    {
     "name": "stdout",
     "output_type": "stream",
     "text": [
      "Epoch 49/100, Loss: 0.6545\n",
      "Val MSE: 0.6997, Val MAE: 0.5907, Val R2: 0.8967\n"
     ]
    },
    {
     "name": "stderr",
     "output_type": "stream",
     "text": [
      "Epoch 50/100: 100%|██████████| 3750/3750 [00:08<00:00, 430.24it/s]\n"
     ]
    },
    {
     "name": "stdout",
     "output_type": "stream",
     "text": [
      "Epoch 50/100, Loss: 0.6526\n",
      "Val MSE: 0.7084, Val MAE: 0.5907, Val R2: 0.8954\n"
     ]
    },
    {
     "name": "stderr",
     "output_type": "stream",
     "text": [
      "Epoch 51/100: 100%|██████████| 3750/3750 [00:08<00:00, 437.34it/s]\n"
     ]
    },
    {
     "name": "stdout",
     "output_type": "stream",
     "text": [
      "Epoch 51/100, Loss: 0.6509\n",
      "Val MSE: 0.7457, Val MAE: 0.6162, Val R2: 0.8899\n"
     ]
    },
    {
     "name": "stderr",
     "output_type": "stream",
     "text": [
      "Epoch 52/100: 100%|██████████| 3750/3750 [00:08<00:00, 437.80it/s]\n"
     ]
    },
    {
     "name": "stdout",
     "output_type": "stream",
     "text": [
      "Epoch 52/100, Loss: 0.6473\n",
      "Val MSE: 0.7481, Val MAE: 0.5992, Val R2: 0.8896\n"
     ]
    },
    {
     "name": "stderr",
     "output_type": "stream",
     "text": [
      "Epoch 53/100: 100%|██████████| 3750/3750 [00:08<00:00, 436.31it/s]\n"
     ]
    },
    {
     "name": "stdout",
     "output_type": "stream",
     "text": [
      "Epoch 53/100, Loss: 0.6456\n",
      "Val MSE: 0.7384, Val MAE: 0.6123, Val R2: 0.8910\n"
     ]
    },
    {
     "name": "stderr",
     "output_type": "stream",
     "text": [
      "Epoch 54/100: 100%|██████████| 3750/3750 [00:09<00:00, 413.48it/s]\n"
     ]
    },
    {
     "name": "stdout",
     "output_type": "stream",
     "text": [
      "Epoch 54/100, Loss: 0.6432\n",
      "Val MSE: 0.7146, Val MAE: 0.6055, Val R2: 0.8945\n"
     ]
    },
    {
     "name": "stderr",
     "output_type": "stream",
     "text": [
      "Epoch 55/100: 100%|██████████| 3750/3750 [00:08<00:00, 439.09it/s]\n"
     ]
    },
    {
     "name": "stdout",
     "output_type": "stream",
     "text": [
      "Epoch 55/100, Loss: 0.6401\n",
      "Val MSE: 0.7229, Val MAE: 0.6169, Val R2: 0.8933\n"
     ]
    },
    {
     "name": "stderr",
     "output_type": "stream",
     "text": [
      "Epoch 56/100: 100%|██████████| 3750/3750 [00:08<00:00, 440.17it/s]\n"
     ]
    },
    {
     "name": "stdout",
     "output_type": "stream",
     "text": [
      "Epoch 56/100, Loss: 0.6388\n",
      "Val MSE: 0.7152, Val MAE: 0.6082, Val R2: 0.8944\n"
     ]
    },
    {
     "name": "stderr",
     "output_type": "stream",
     "text": [
      "Epoch 57/100: 100%|██████████| 3750/3750 [00:08<00:00, 423.15it/s]\n"
     ]
    },
    {
     "name": "stdout",
     "output_type": "stream",
     "text": [
      "Epoch 57/100, Loss: 0.6359\n",
      "Val MSE: 0.7386, Val MAE: 0.5961, Val R2: 0.8909\n"
     ]
    },
    {
     "name": "stderr",
     "output_type": "stream",
     "text": [
      "Epoch 58/100: 100%|██████████| 3750/3750 [00:08<00:00, 441.02it/s]\n"
     ]
    },
    {
     "name": "stdout",
     "output_type": "stream",
     "text": [
      "Epoch 58/100, Loss: 0.6326\n",
      "Val MSE: 0.7060, Val MAE: 0.6051, Val R2: 0.8958\n"
     ]
    },
    {
     "name": "stderr",
     "output_type": "stream",
     "text": [
      "Epoch 59/100: 100%|██████████| 3750/3750 [00:08<00:00, 439.53it/s]\n"
     ]
    },
    {
     "name": "stdout",
     "output_type": "stream",
     "text": [
      "Epoch 59/100, Loss: 0.6297\n",
      "Val MSE: 0.7050, Val MAE: 0.5944, Val R2: 0.8959\n"
     ]
    },
    {
     "name": "stderr",
     "output_type": "stream",
     "text": [
      "Epoch 60/100: 100%|██████████| 3750/3750 [00:08<00:00, 433.11it/s]\n"
     ]
    },
    {
     "name": "stdout",
     "output_type": "stream",
     "text": [
      "Epoch 60/100, Loss: 0.6322\n",
      "Val MSE: 0.7055, Val MAE: 0.6064, Val R2: 0.8958\n"
     ]
    },
    {
     "name": "stderr",
     "output_type": "stream",
     "text": [
      "Epoch 61/100: 100%|██████████| 3750/3750 [00:08<00:00, 433.43it/s]\n"
     ]
    },
    {
     "name": "stdout",
     "output_type": "stream",
     "text": [
      "Epoch 61/100, Loss: 0.6240\n",
      "Val MSE: 0.7065, Val MAE: 0.5933, Val R2: 0.8957\n"
     ]
    },
    {
     "name": "stderr",
     "output_type": "stream",
     "text": [
      "Epoch 62/100: 100%|██████████| 3750/3750 [00:08<00:00, 438.64it/s]\n"
     ]
    },
    {
     "name": "stdout",
     "output_type": "stream",
     "text": [
      "Epoch 62/100, Loss: 0.6246\n",
      "Val MSE: 0.7048, Val MAE: 0.5862, Val R2: 0.8959\n"
     ]
    },
    {
     "name": "stderr",
     "output_type": "stream",
     "text": [
      "Epoch 63/100: 100%|██████████| 3750/3750 [00:08<00:00, 438.72it/s]\n"
     ]
    },
    {
     "name": "stdout",
     "output_type": "stream",
     "text": [
      "Epoch 63/100, Loss: 0.6209\n",
      "Val MSE: 0.7232, Val MAE: 0.5951, Val R2: 0.8932\n"
     ]
    },
    {
     "name": "stderr",
     "output_type": "stream",
     "text": [
      "Epoch 64/100: 100%|██████████| 3750/3750 [00:08<00:00, 429.41it/s]\n"
     ]
    },
    {
     "name": "stdout",
     "output_type": "stream",
     "text": [
      "Epoch 64/100, Loss: 0.6223\n",
      "Val MSE: 0.7020, Val MAE: 0.5965, Val R2: 0.8964\n"
     ]
    },
    {
     "name": "stderr",
     "output_type": "stream",
     "text": [
      "Epoch 65/100: 100%|██████████| 3750/3750 [00:08<00:00, 434.91it/s]\n"
     ]
    },
    {
     "name": "stdout",
     "output_type": "stream",
     "text": [
      "Epoch 65/100, Loss: 0.6145\n",
      "Val MSE: 0.7031, Val MAE: 0.5958, Val R2: 0.8962\n"
     ]
    },
    {
     "name": "stderr",
     "output_type": "stream",
     "text": [
      "Epoch 66/100: 100%|██████████| 3750/3750 [00:08<00:00, 436.93it/s]\n"
     ]
    },
    {
     "name": "stdout",
     "output_type": "stream",
     "text": [
      "Epoch 66/100, Loss: 0.6146\n",
      "Val MSE: 0.7080, Val MAE: 0.6022, Val R2: 0.8955\n"
     ]
    },
    {
     "name": "stderr",
     "output_type": "stream",
     "text": [
      "Epoch 67/100: 100%|██████████| 3750/3750 [00:08<00:00, 424.13it/s]\n"
     ]
    },
    {
     "name": "stdout",
     "output_type": "stream",
     "text": [
      "Epoch 67/100, Loss: 0.6178\n",
      "Val MSE: 0.7347, Val MAE: 0.6015, Val R2: 0.8915\n"
     ]
    },
    {
     "name": "stderr",
     "output_type": "stream",
     "text": [
      "Epoch 68/100: 100%|██████████| 3750/3750 [00:08<00:00, 432.50it/s]\n"
     ]
    },
    {
     "name": "stdout",
     "output_type": "stream",
     "text": [
      "Epoch 68/100, Loss: 0.6151\n",
      "Val MSE: 0.7090, Val MAE: 0.6077, Val R2: 0.8953\n"
     ]
    },
    {
     "name": "stderr",
     "output_type": "stream",
     "text": [
      "Epoch 69/100: 100%|██████████| 3750/3750 [00:08<00:00, 436.52it/s]\n"
     ]
    },
    {
     "name": "stdout",
     "output_type": "stream",
     "text": [
      "Epoch 69/100, Loss: 0.6126\n",
      "Val MSE: 0.7230, Val MAE: 0.6134, Val R2: 0.8932\n"
     ]
    },
    {
     "name": "stderr",
     "output_type": "stream",
     "text": [
      "Epoch 70/100: 100%|██████████| 3750/3750 [00:08<00:00, 429.85it/s]\n"
     ]
    },
    {
     "name": "stdout",
     "output_type": "stream",
     "text": [
      "Epoch 70/100, Loss: 0.6152\n",
      "Val MSE: 0.7035, Val MAE: 0.5905, Val R2: 0.8961\n"
     ]
    },
    {
     "name": "stderr",
     "output_type": "stream",
     "text": [
      "Epoch 71/100: 100%|██████████| 3750/3750 [00:08<00:00, 435.05it/s]\n"
     ]
    },
    {
     "name": "stdout",
     "output_type": "stream",
     "text": [
      "Epoch 71/100, Loss: 0.6060\n",
      "Val MSE: 0.7302, Val MAE: 0.6108, Val R2: 0.8922\n"
     ]
    },
    {
     "name": "stderr",
     "output_type": "stream",
     "text": [
      "Epoch 72/100: 100%|██████████| 3750/3750 [00:08<00:00, 430.63it/s]\n"
     ]
    },
    {
     "name": "stdout",
     "output_type": "stream",
     "text": [
      "Epoch 72/100, Loss: 0.6048\n",
      "Val MSE: 0.7141, Val MAE: 0.6051, Val R2: 0.8946\n"
     ]
    },
    {
     "name": "stderr",
     "output_type": "stream",
     "text": [
      "Epoch 73/100: 100%|██████████| 3750/3750 [00:08<00:00, 429.70it/s]\n"
     ]
    },
    {
     "name": "stdout",
     "output_type": "stream",
     "text": [
      "Epoch 73/100, Loss: 0.6023\n",
      "Val MSE: 0.7273, Val MAE: 0.5907, Val R2: 0.8926\n"
     ]
    },
    {
     "name": "stderr",
     "output_type": "stream",
     "text": [
      "Epoch 74/100: 100%|██████████| 3750/3750 [00:08<00:00, 436.62it/s]\n"
     ]
    },
    {
     "name": "stdout",
     "output_type": "stream",
     "text": [
      "Epoch 74/100, Loss: 0.6007\n",
      "Val MSE: 0.7008, Val MAE: 0.5936, Val R2: 0.8965\n"
     ]
    },
    {
     "name": "stderr",
     "output_type": "stream",
     "text": [
      "Epoch 75/100: 100%|██████████| 3750/3750 [00:08<00:00, 429.74it/s]\n"
     ]
    },
    {
     "name": "stdout",
     "output_type": "stream",
     "text": [
      "Epoch 75/100, Loss: 0.5978\n",
      "Val MSE: 0.7191, Val MAE: 0.5902, Val R2: 0.8938\n"
     ]
    },
    {
     "name": "stderr",
     "output_type": "stream",
     "text": [
      "Epoch 76/100: 100%|██████████| 3750/3750 [00:08<00:00, 436.23it/s]\n"
     ]
    },
    {
     "name": "stdout",
     "output_type": "stream",
     "text": [
      "Epoch 76/100, Loss: 0.5978\n",
      "Val MSE: 0.7345, Val MAE: 0.6021, Val R2: 0.8916\n"
     ]
    },
    {
     "name": "stderr",
     "output_type": "stream",
     "text": [
      "Epoch 77/100: 100%|██████████| 3750/3750 [00:08<00:00, 429.28it/s]\n"
     ]
    },
    {
     "name": "stdout",
     "output_type": "stream",
     "text": [
      "Epoch 77/100, Loss: 0.5960\n",
      "Val MSE: 0.7126, Val MAE: 0.5973, Val R2: 0.8948\n"
     ]
    },
    {
     "name": "stderr",
     "output_type": "stream",
     "text": [
      "Epoch 78/100: 100%|██████████| 3750/3750 [00:08<00:00, 434.73it/s]\n"
     ]
    },
    {
     "name": "stdout",
     "output_type": "stream",
     "text": [
      "Epoch 78/100, Loss: 0.5918\n",
      "Val MSE: 0.7073, Val MAE: 0.5986, Val R2: 0.8956\n"
     ]
    },
    {
     "name": "stderr",
     "output_type": "stream",
     "text": [
      "Epoch 79/100: 100%|██████████| 3750/3750 [00:08<00:00, 433.92it/s]\n"
     ]
    },
    {
     "name": "stdout",
     "output_type": "stream",
     "text": [
      "Epoch 79/100, Loss: 0.5896\n",
      "Val MSE: 0.7583, Val MAE: 0.6460, Val R2: 0.8880\n"
     ]
    },
    {
     "name": "stderr",
     "output_type": "stream",
     "text": [
      "Epoch 80/100: 100%|██████████| 3750/3750 [00:08<00:00, 432.00it/s]\n"
     ]
    },
    {
     "name": "stdout",
     "output_type": "stream",
     "text": [
      "Epoch 80/100, Loss: 0.5906\n",
      "Val MSE: 0.7071, Val MAE: 0.5949, Val R2: 0.8956\n"
     ]
    },
    {
     "name": "stderr",
     "output_type": "stream",
     "text": [
      "Epoch 81/100: 100%|██████████| 3750/3750 [00:08<00:00, 435.37it/s]\n"
     ]
    },
    {
     "name": "stdout",
     "output_type": "stream",
     "text": [
      "Epoch 81/100, Loss: 0.5860\n",
      "Val MSE: 0.7868, Val MAE: 0.6157, Val R2: 0.8838\n"
     ]
    },
    {
     "name": "stderr",
     "output_type": "stream",
     "text": [
      "Epoch 82/100: 100%|██████████| 3750/3750 [00:08<00:00, 430.27it/s]\n"
     ]
    },
    {
     "name": "stdout",
     "output_type": "stream",
     "text": [
      "Epoch 82/100, Loss: 0.5842\n",
      "Val MSE: 0.7008, Val MAE: 0.5842, Val R2: 0.8965\n"
     ]
    },
    {
     "name": "stderr",
     "output_type": "stream",
     "text": [
      "Epoch 83/100: 100%|██████████| 3750/3750 [00:08<00:00, 430.69it/s]\n"
     ]
    },
    {
     "name": "stdout",
     "output_type": "stream",
     "text": [
      "Epoch 83/100, Loss: 0.5868\n",
      "Val MSE: 0.7074, Val MAE: 0.5946, Val R2: 0.8955\n"
     ]
    },
    {
     "name": "stderr",
     "output_type": "stream",
     "text": [
      "Epoch 84/100: 100%|██████████| 3750/3750 [00:08<00:00, 436.54it/s]\n"
     ]
    },
    {
     "name": "stdout",
     "output_type": "stream",
     "text": [
      "Epoch 84/100, Loss: 0.5877\n",
      "Val MSE: 0.7170, Val MAE: 0.5921, Val R2: 0.8941\n"
     ]
    },
    {
     "name": "stderr",
     "output_type": "stream",
     "text": [
      "Epoch 85/100: 100%|██████████| 3750/3750 [00:08<00:00, 437.73it/s]\n"
     ]
    },
    {
     "name": "stdout",
     "output_type": "stream",
     "text": [
      "Epoch 85/100, Loss: 0.5839\n",
      "Val MSE: 0.7477, Val MAE: 0.6359, Val R2: 0.8896\n"
     ]
    },
    {
     "name": "stderr",
     "output_type": "stream",
     "text": [
      "Epoch 86/100: 100%|██████████| 3750/3750 [00:08<00:00, 423.73it/s]\n"
     ]
    },
    {
     "name": "stdout",
     "output_type": "stream",
     "text": [
      "Epoch 86/100, Loss: 0.5818\n",
      "Val MSE: 0.7144, Val MAE: 0.6080, Val R2: 0.8945\n"
     ]
    },
    {
     "name": "stderr",
     "output_type": "stream",
     "text": [
      "Epoch 87/100: 100%|██████████| 3750/3750 [00:08<00:00, 437.79it/s]\n"
     ]
    },
    {
     "name": "stdout",
     "output_type": "stream",
     "text": [
      "Epoch 87/100, Loss: 0.5792\n",
      "Val MSE: 0.7000, Val MAE: 0.5862, Val R2: 0.8966\n"
     ]
    },
    {
     "name": "stderr",
     "output_type": "stream",
     "text": [
      "Epoch 88/100: 100%|██████████| 3750/3750 [00:08<00:00, 437.91it/s]\n"
     ]
    },
    {
     "name": "stdout",
     "output_type": "stream",
     "text": [
      "Epoch 88/100, Loss: 0.5816\n",
      "Val MSE: 0.7083, Val MAE: 0.5923, Val R2: 0.8954\n"
     ]
    },
    {
     "name": "stderr",
     "output_type": "stream",
     "text": [
      "Epoch 89/100: 100%|██████████| 3750/3750 [00:08<00:00, 436.94it/s]\n"
     ]
    },
    {
     "name": "stdout",
     "output_type": "stream",
     "text": [
      "Epoch 89/100, Loss: 0.5751\n",
      "Val MSE: 0.7377, Val MAE: 0.6242, Val R2: 0.8911\n"
     ]
    },
    {
     "name": "stderr",
     "output_type": "stream",
     "text": [
      "Epoch 90/100: 100%|██████████| 3750/3750 [00:08<00:00, 425.20it/s]\n"
     ]
    },
    {
     "name": "stdout",
     "output_type": "stream",
     "text": [
      "Epoch 90/100, Loss: 0.5752\n",
      "Val MSE: 0.7237, Val MAE: 0.5904, Val R2: 0.8932\n"
     ]
    },
    {
     "name": "stderr",
     "output_type": "stream",
     "text": [
      "Epoch 91/100: 100%|██████████| 3750/3750 [00:08<00:00, 436.32it/s]\n"
     ]
    },
    {
     "name": "stdout",
     "output_type": "stream",
     "text": [
      "Epoch 91/100, Loss: 0.5727\n",
      "Val MSE: 0.7123, Val MAE: 0.6005, Val R2: 0.8948\n"
     ]
    },
    {
     "name": "stderr",
     "output_type": "stream",
     "text": [
      "Epoch 92/100: 100%|██████████| 3750/3750 [00:08<00:00, 438.79it/s]\n"
     ]
    },
    {
     "name": "stdout",
     "output_type": "stream",
     "text": [
      "Epoch 92/100, Loss: 0.5706\n",
      "Val MSE: 0.7188, Val MAE: 0.6085, Val R2: 0.8939\n"
     ]
    },
    {
     "name": "stderr",
     "output_type": "stream",
     "text": [
      "Epoch 93/100: 100%|██████████| 3750/3750 [00:08<00:00, 432.27it/s]\n"
     ]
    },
    {
     "name": "stdout",
     "output_type": "stream",
     "text": [
      "Epoch 93/100, Loss: 0.5699\n",
      "Val MSE: 0.7120, Val MAE: 0.6008, Val R2: 0.8949\n"
     ]
    },
    {
     "name": "stderr",
     "output_type": "stream",
     "text": [
      "Epoch 94/100: 100%|██████████| 3750/3750 [00:08<00:00, 435.08it/s]\n"
     ]
    },
    {
     "name": "stdout",
     "output_type": "stream",
     "text": [
      "Epoch 94/100, Loss: 0.5639\n",
      "Val MSE: 0.7223, Val MAE: 0.5955, Val R2: 0.8934\n"
     ]
    },
    {
     "name": "stderr",
     "output_type": "stream",
     "text": [
      "Epoch 95/100: 100%|██████████| 3750/3750 [00:08<00:00, 436.19it/s]\n"
     ]
    },
    {
     "name": "stdout",
     "output_type": "stream",
     "text": [
      "Epoch 95/100, Loss: 0.5666\n",
      "Val MSE: 0.7255, Val MAE: 0.5919, Val R2: 0.8929\n"
     ]
    },
    {
     "name": "stderr",
     "output_type": "stream",
     "text": [
      "Epoch 96/100: 100%|██████████| 3750/3750 [00:08<00:00, 433.72it/s]\n"
     ]
    },
    {
     "name": "stdout",
     "output_type": "stream",
     "text": [
      "Epoch 96/100, Loss: 0.5656\n",
      "Val MSE: 0.7229, Val MAE: 0.5989, Val R2: 0.8933\n"
     ]
    },
    {
     "name": "stderr",
     "output_type": "stream",
     "text": [
      "Epoch 97/100: 100%|██████████| 3750/3750 [00:08<00:00, 429.66it/s]\n"
     ]
    },
    {
     "name": "stdout",
     "output_type": "stream",
     "text": [
      "Epoch 97/100, Loss: 0.5664\n",
      "Val MSE: 0.7190, Val MAE: 0.5997, Val R2: 0.8938\n"
     ]
    },
    {
     "name": "stderr",
     "output_type": "stream",
     "text": [
      "Epoch 98/100: 100%|██████████| 3750/3750 [00:08<00:00, 437.96it/s]\n"
     ]
    },
    {
     "name": "stdout",
     "output_type": "stream",
     "text": [
      "Epoch 98/100, Loss: 0.5632\n",
      "Val MSE: 0.7261, Val MAE: 0.6179, Val R2: 0.8928\n"
     ]
    },
    {
     "name": "stderr",
     "output_type": "stream",
     "text": [
      "Epoch 99/100: 100%|██████████| 3750/3750 [00:08<00:00, 431.90it/s]\n"
     ]
    },
    {
     "name": "stdout",
     "output_type": "stream",
     "text": [
      "Epoch 99/100, Loss: 0.5613\n",
      "Val MSE: 0.7297, Val MAE: 0.6140, Val R2: 0.8923\n"
     ]
    },
    {
     "name": "stderr",
     "output_type": "stream",
     "text": [
      "Epoch 100/100: 100%|██████████| 3750/3750 [00:08<00:00, 420.40it/s]\n"
     ]
    },
    {
     "name": "stdout",
     "output_type": "stream",
     "text": [
      "Epoch 100/100, Loss: 0.5589\n",
      "Val MSE: 0.7546, Val MAE: 0.6002, Val R2: 0.8886\n",
      "Training completed!\n"
     ]
    }
   ],
   "source": [
    "# Training loop\n",
    "print(\"Training regression model...\")\n",
    "best_val_mse = float('inf')\n",
    "for epoch in range(num_epochs):\n",
    "    model.train()\n",
    "    total_loss = 0\n",
    "    for batch_embeddings, batch_likes in tqdm(train_loader, desc=f\"Epoch {epoch+1}/{num_epochs}\"):\n",
    "        batch_embeddings, batch_likes = batch_embeddings.to(device), batch_likes.to(device)\n",
    "        optimizer.zero_grad()\n",
    "        outputs = model(batch_embeddings)\n",
    "        loss = criterion(outputs, batch_likes)\n",
    "        loss.backward()\n",
    "        optimizer.step()\n",
    "        total_loss += loss.item()\n",
    "    \n",
    "    # Validation\n",
    "    model.eval()\n",
    "    val_preds = []\n",
    "    val_true = []\n",
    "    with torch.no_grad():\n",
    "        for batch_embeddings, batch_likes in val_loader:\n",
    "            batch_embeddings, batch_likes = batch_embeddings.to(device), batch_likes.to(device)\n",
    "            outputs = model(batch_embeddings)\n",
    "            val_preds.extend(outputs.cpu().numpy())\n",
    "            val_true.extend(batch_likes.cpu().numpy())\n",
    "    \n",
    "    val_mse = mean_squared_error(val_true, val_preds)\n",
    "    val_mae = mean_absolute_error(val_true, val_preds)\n",
    "    val_r2 = r2_score(val_true, val_preds)\n",
    "    \n",
    "    print(f\"Epoch {epoch+1}/{num_epochs}, Loss: {total_loss/len(train_loader):.4f}\")\n",
    "    print(f\"Val MSE: {val_mse:.4f}, Val MAE: {val_mae:.4f}, Val R2: {val_r2:.4f}\")\n",
    "    \n",
    "    # Save the best model\n",
    "    if val_mse < best_val_mse:\n",
    "        best_val_mse = val_mse\n",
    "        torch.save(model.state_dict(), 'best_tweet_likes_regressor.pth')\n",
    "        print(\"New best model saved!\")\n",
    "\n",
    "print(\"Training completed!\")"
   ]
  },
  {
   "cell_type": "code",
   "execution_count": 34,
   "id": "26bd2c03",
   "metadata": {
    "execution": {
     "iopub.execute_input": "2024-10-12T07:38:01.511609Z",
     "iopub.status.busy": "2024-10-12T07:38:01.510862Z",
     "iopub.status.idle": "2024-10-12T07:38:02.462793Z",
     "shell.execute_reply": "2024-10-12T07:38:02.461820Z"
    },
    "papermill": {
     "duration": 5.579825,
     "end_time": "2024-10-12T07:38:02.465913",
     "exception": false,
     "start_time": "2024-10-12T07:37:56.886088",
     "status": "completed"
    },
    "tags": []
   },
   "outputs": [
    {
     "name": "stderr",
     "output_type": "stream",
     "text": [
      "/tmp/ipykernel_23/1035189463.py:13: FutureWarning: You are using `torch.load` with `weights_only=False` (the current default value), which uses the default pickle module implicitly. It is possible to construct malicious pickle data which will execute arbitrary code during unpickling (See https://github.com/pytorch/pytorch/blob/main/SECURITY.md#untrusted-models for more details). In a future release, the default value for `weights_only` will be flipped to `True`. This limits the functions that could be executed during unpickling. Arbitrary objects will no longer be allowed to be loaded via this mode unless they are explicitly allowlisted by the user via `torch.serialization.add_safe_globals`. We recommend you start setting `weights_only=True` for any use case where you don't have full control of the loaded file. Please open an issue on GitHub for any issues related to this experimental feature.\n",
      "  model.load_state_dict(torch.load('best_tweet_likes_regressor.pth'))\n"
     ]
    },
    {
     "name": "stdout",
     "output_type": "stream",
     "text": [
      "\n",
      "Test Set Evaluation (Original Scale):\n",
      "MSE: 2776206.53\n",
      "MAE: 417.56\n",
      "R2: 0.3742\n",
      "MAPE: inf%\n",
      "MdAPE: 59.54%\n"
     ]
    },
    {
     "name": "stderr",
     "output_type": "stream",
     "text": [
      "/tmp/ipykernel_23/1035189463.py:40: RuntimeWarning: divide by zero encountered in divide\n",
      "  return np.mean(np.abs((y_true - y_pred) / y_true)) * 100\n",
      "/tmp/ipykernel_23/1035189463.py:43: RuntimeWarning: divide by zero encountered in divide\n",
      "  return np.median(np.abs((y_true - y_pred) / y_true)) * 100\n"
     ]
    }
   ],
   "source": [
    "# Function to get predictions for new data\n",
    "def predict_likes(new_data):\n",
    "    model.eval()\n",
    "    with torch.no_grad():\n",
    "        new_data_scaled = scaler.transform(new_data)\n",
    "        embeddings = torch.tensor(new_data_scaled, dtype=torch.float32).to(device)\n",
    "        outputs = model(embeddings)\n",
    "        # Convert log predictions back to original scale\n",
    "        return np.expm1(outputs.cpu().numpy())\n",
    "\n",
    "# Example usage:\n",
    "# new_likes_predictions = predict_likes(new_embeddings)\n",
    "model.load_state_dict(torch.load('best_tweet_likes_regressor.pth'))\n",
    "# Evaluate on test set\n",
    "model.eval()\n",
    "test_preds = []\n",
    "test_true = y_val  # Using validation set as test set for this example\n",
    "with torch.no_grad():\n",
    "    for batch_embeddings, batch_likes in val_loader:\n",
    "        batch_embeddings = batch_embeddings.to(device)\n",
    "        outputs = model(batch_embeddings)\n",
    "        test_preds.extend(outputs.cpu().numpy())\n",
    "\n",
    "# Convert predictions back to original scale\n",
    "test_preds = np.expm1(test_preds)\n",
    "test_true = np.expm1(test_true)\n",
    "\n",
    "# Calculate metrics on original scale\n",
    "test_mse = mean_squared_error(test_true, test_preds)\n",
    "test_mae = mean_absolute_error(test_true, test_preds)\n",
    "test_r2 = r2_score(test_true, test_preds)\n",
    "\n",
    "print(\"\\nTest Set Evaluation (Original Scale):\")\n",
    "print(f\"MSE: {test_mse:.2f}\")\n",
    "print(f\"MAE: {test_mae:.2f}\")\n",
    "print(f\"R2: {test_r2:.4f}\")\n",
    "\n",
    "# Calculate custom metrics for skewed data\n",
    "def mean_absolute_percentage_error(y_true, y_pred):\n",
    "    return np.mean(np.abs((y_true - y_pred) / y_true)) * 100\n",
    "\n",
    "def median_absolute_percentage_error(y_true, y_pred):\n",
    "    return np.median(np.abs((y_true - y_pred) / y_true)) * 100\n",
    "\n",
    "mape = mean_absolute_percentage_error(test_true, test_preds)\n",
    "mdape = median_absolute_percentage_error(test_true, test_preds)\n",
    "\n",
    "print(f\"MAPE: {mape:.2f}%\")\n",
    "print(f\"MdAPE: {mdape:.2f}%\")"
   ]
  },
  {
   "cell_type": "code",
   "execution_count": 35,
   "id": "e522b5f3",
   "metadata": {
    "execution": {
     "iopub.execute_input": "2024-10-12T07:38:11.751610Z",
     "iopub.status.busy": "2024-10-12T07:38:11.750845Z",
     "iopub.status.idle": "2024-10-12T07:38:11.766104Z",
     "shell.execute_reply": "2024-10-12T07:38:11.765183Z"
    },
    "papermill": {
     "duration": 4.625659,
     "end_time": "2024-10-12T07:38:11.768170",
     "exception": false,
     "start_time": "2024-10-12T07:38:07.142511",
     "status": "completed"
    },
    "tags": []
   },
   "outputs": [
    {
     "data": {
      "text/html": [
       "<div>\n",
       "<style scoped>\n",
       "    .dataframe tbody tr th:only-of-type {\n",
       "        vertical-align: middle;\n",
       "    }\n",
       "\n",
       "    .dataframe tbody tr th {\n",
       "        vertical-align: top;\n",
       "    }\n",
       "\n",
       "    .dataframe thead th {\n",
       "        text-align: right;\n",
       "    }\n",
       "</style>\n",
       "<table border=\"1\" class=\"dataframe\">\n",
       "  <thead>\n",
       "    <tr style=\"text-align: right;\">\n",
       "      <th></th>\n",
       "      <th>0</th>\n",
       "    </tr>\n",
       "  </thead>\n",
       "  <tbody>\n",
       "    <tr>\n",
       "      <th>count</th>\n",
       "      <td>60000.000000</td>\n",
       "    </tr>\n",
       "    <tr>\n",
       "      <th>mean</th>\n",
       "      <td>435.686462</td>\n",
       "    </tr>\n",
       "    <tr>\n",
       "      <th>std</th>\n",
       "      <td>1547.666504</td>\n",
       "    </tr>\n",
       "    <tr>\n",
       "      <th>min</th>\n",
       "      <td>-0.538110</td>\n",
       "    </tr>\n",
       "    <tr>\n",
       "      <th>25%</th>\n",
       "      <td>2.682504</td>\n",
       "    </tr>\n",
       "    <tr>\n",
       "      <th>50%</th>\n",
       "      <td>95.246822</td>\n",
       "    </tr>\n",
       "    <tr>\n",
       "      <th>75%</th>\n",
       "      <td>281.454330</td>\n",
       "    </tr>\n",
       "    <tr>\n",
       "      <th>max</th>\n",
       "      <td>71928.179688</td>\n",
       "    </tr>\n",
       "  </tbody>\n",
       "</table>\n",
       "</div>"
      ],
      "text/plain": [
       "                  0\n",
       "count  60000.000000\n",
       "mean     435.686462\n",
       "std     1547.666504\n",
       "min       -0.538110\n",
       "25%        2.682504\n",
       "50%       95.246822\n",
       "75%      281.454330\n",
       "max    71928.179688"
      ]
     },
     "execution_count": 35,
     "metadata": {},
     "output_type": "execute_result"
    }
   ],
   "source": [
    "temp_df = pd.DataFrame(test_preds)\n",
    "temp_df.describe()"
   ]
  },
  {
   "cell_type": "code",
   "execution_count": 36,
   "id": "09cbfc91",
   "metadata": {
    "execution": {
     "iopub.execute_input": "2024-10-12T07:38:21.070506Z",
     "iopub.status.busy": "2024-10-12T07:38:21.070101Z",
     "iopub.status.idle": "2024-10-12T07:38:21.084698Z",
     "shell.execute_reply": "2024-10-12T07:38:21.083819Z"
    },
    "papermill": {
     "duration": 4.623669,
     "end_time": "2024-10-12T07:38:21.086586",
     "exception": false,
     "start_time": "2024-10-12T07:38:16.462917",
     "status": "completed"
    },
    "tags": []
   },
   "outputs": [
    {
     "data": {
      "text/html": [
       "<div>\n",
       "<style scoped>\n",
       "    .dataframe tbody tr th:only-of-type {\n",
       "        vertical-align: middle;\n",
       "    }\n",
       "\n",
       "    .dataframe tbody tr th {\n",
       "        vertical-align: top;\n",
       "    }\n",
       "\n",
       "    .dataframe thead th {\n",
       "        text-align: right;\n",
       "    }\n",
       "</style>\n",
       "<table border=\"1\" class=\"dataframe\">\n",
       "  <thead>\n",
       "    <tr style=\"text-align: right;\">\n",
       "      <th></th>\n",
       "      <th>0</th>\n",
       "    </tr>\n",
       "  </thead>\n",
       "  <tbody>\n",
       "    <tr>\n",
       "      <th>count</th>\n",
       "      <td>60000.000000</td>\n",
       "    </tr>\n",
       "    <tr>\n",
       "      <th>mean</th>\n",
       "      <td>641.619100</td>\n",
       "    </tr>\n",
       "    <tr>\n",
       "      <th>std</th>\n",
       "      <td>2106.301879</td>\n",
       "    </tr>\n",
       "    <tr>\n",
       "      <th>min</th>\n",
       "      <td>0.000000</td>\n",
       "    </tr>\n",
       "    <tr>\n",
       "      <th>25%</th>\n",
       "      <td>3.000000</td>\n",
       "    </tr>\n",
       "    <tr>\n",
       "      <th>50%</th>\n",
       "      <td>77.000000</td>\n",
       "    </tr>\n",
       "    <tr>\n",
       "      <th>75%</th>\n",
       "      <td>364.000000</td>\n",
       "    </tr>\n",
       "    <tr>\n",
       "      <th>max</th>\n",
       "      <td>20000.000000</td>\n",
       "    </tr>\n",
       "  </tbody>\n",
       "</table>\n",
       "</div>"
      ],
      "text/plain": [
       "                  0\n",
       "count  60000.000000\n",
       "mean     641.619100\n",
       "std     2106.301879\n",
       "min        0.000000\n",
       "25%        3.000000\n",
       "50%       77.000000\n",
       "75%      364.000000\n",
       "max    20000.000000"
      ]
     },
     "execution_count": 36,
     "metadata": {},
     "output_type": "execute_result"
    }
   ],
   "source": [
    "temp_df = pd.DataFrame(test_true)\n",
    "temp_df.describe()"
   ]
  },
  {
   "cell_type": "code",
   "execution_count": 37,
   "id": "77b439ca",
   "metadata": {
    "execution": {
     "iopub.execute_input": "2024-10-12T07:38:30.340517Z",
     "iopub.status.busy": "2024-10-12T07:38:30.339598Z",
     "iopub.status.idle": "2024-10-12T07:38:30.347392Z",
     "shell.execute_reply": "2024-10-12T07:38:30.346469Z"
    },
    "papermill": {
     "duration": 4.61953,
     "end_time": "2024-10-12T07:38:30.349287",
     "exception": false,
     "start_time": "2024-10-12T07:38:25.729757",
     "status": "completed"
    },
    "tags": []
   },
   "outputs": [
    {
     "name": "stdout",
     "output_type": "stream",
     "text": [
      "Pearson correlation: 0.6285460581789757\n"
     ]
    }
   ],
   "source": [
    "# Calculate Pearson correlation coefficient\n",
    "correlation = np.corrcoef(test_preds, test_true)[0,1]\n",
    "\n",
    "print(f\"Pearson correlation: {correlation}\")"
   ]
  },
  {
   "cell_type": "code",
   "execution_count": 38,
   "id": "0336e890",
   "metadata": {
    "execution": {
     "iopub.execute_input": "2024-10-12T07:38:39.605516Z",
     "iopub.status.busy": "2024-10-12T07:38:39.604790Z",
     "iopub.status.idle": "2024-10-12T07:38:39.609091Z",
     "shell.execute_reply": "2024-10-12T07:38:39.608238Z"
    },
    "papermill": {
     "duration": 4.624597,
     "end_time": "2024-10-12T07:38:39.611026",
     "exception": false,
     "start_time": "2024-10-12T07:38:34.986429",
     "status": "completed"
    },
    "tags": []
   },
   "outputs": [],
   "source": [
    "import matplotlib.pyplot as plt"
   ]
  },
  {
   "cell_type": "code",
   "execution_count": 39,
   "id": "c4fabbb1",
   "metadata": {
    "execution": {
     "iopub.execute_input": "2024-10-12T07:38:48.973874Z",
     "iopub.status.busy": "2024-10-12T07:38:48.973490Z",
     "iopub.status.idle": "2024-10-12T07:38:49.500413Z",
     "shell.execute_reply": "2024-10-12T07:38:49.499478Z"
    },
    "papermill": {
     "duration": 5.161929,
     "end_time": "2024-10-12T07:38:49.502389",
     "exception": false,
     "start_time": "2024-10-12T07:38:44.340460",
     "status": "completed"
    },
    "tags": []
   },
   "outputs": [
    {
     "data": {
      "text/plain": [
       "<matplotlib.collections.PathCollection at 0x7a2c15418850>"
      ]
     },
     "execution_count": 39,
     "metadata": {},
     "output_type": "execute_result"
    },
    {
     "data": {
      "image/png": "[encoded data removed]",
      "text/plain": [
       "<Figure size 640x480 with 1 Axes>"
      ]
     },
     "metadata": {},
     "output_type": "display_data"
    }
   ],
   "source": [
    "plt.scatter(test_preds,test_true)"
   ]
  },
  {
   "cell_type": "code",
   "execution_count": 40,
   "id": "a478d2a3",
   "metadata": {
    "execution": {
     "iopub.execute_input": "2024-10-12T07:38:58.813638Z",
     "iopub.status.busy": "2024-10-12T07:38:58.812907Z",
     "iopub.status.idle": "2024-10-12T07:39:00.580247Z",
     "shell.execute_reply": "2024-10-12T07:39:00.579224Z"
    },
    "papermill": {
     "duration": 6.409553,
     "end_time": "2024-10-12T07:39:00.582744",
     "exception": false,
     "start_time": "2024-10-12T07:38:54.173191",
     "status": "completed"
    },
    "scrolled": true,
    "tags": []
   },
   "outputs": [],
   "source": [
    "# Prepare data for classification\n",
    "X = np.stack(df['rich_embedding'])\n",
    "label_encoder = LabelEncoder()\n",
    "y = label_encoder.fit_transform(df['likes_binned'])  # Assuming 'y' column exists with class labels\n",
    "\n",
    "X_train, X_val, y_train, y_val = train_test_split(X, y, test_size=0.2, random_state=42)"
   ]
  },
  {
   "cell_type": "code",
   "execution_count": 41,
   "id": "4068a144",
   "metadata": {
    "execution": {
     "iopub.execute_input": "2024-10-12T07:39:09.807269Z",
     "iopub.status.busy": "2024-10-12T07:39:09.806428Z",
     "iopub.status.idle": "2024-10-12T07:39:09.827063Z",
     "shell.execute_reply": "2024-10-12T07:39:09.826210Z"
    },
    "papermill": {
     "duration": 4.582478,
     "end_time": "2024-10-12T07:39:09.829065",
     "exception": false,
     "start_time": "2024-10-12T07:39:05.246587",
     "status": "completed"
    },
    "scrolled": true,
    "tags": []
   },
   "outputs": [],
   "source": [
    "# Define a simple neural network for classification\n",
    "class TweetClassifier(nn.Module):\n",
    "    def __init__(self, input_dim, hidden_dim, num_classes):\n",
    "        super(TweetClassifier, self).__init__()\n",
    "        self.fc1 = nn.Linear(input_dim, hidden_dim)\n",
    "        self.fc2 = nn.Linear(hidden_dim, num_classes)\n",
    "        self.relu = nn.ReLU()\n",
    "        self.dropout = nn.Dropout(0.5)\n",
    "\n",
    "    def forward(self, x):\n",
    "        x = self.relu(self.fc1(x))\n",
    "        x = self.dropout(x)\n",
    "        x = self.fc2(x)\n",
    "        return x\n",
    "\n",
    "# Create dataset and dataloader\n",
    "class TweetDataset(Dataset):\n",
    "    def __init__(self, embeddings, labels):\n",
    "        self.embeddings = torch.tensor(embeddings, dtype=torch.float32)\n",
    "        self.labels = torch.tensor(labels, dtype=torch.long)\n",
    "\n",
    "    def __len__(self):\n",
    "        return len(self.labels)\n",
    "\n",
    "    def __getitem__(self, idx):\n",
    "        return self.embeddings[idx], self.labels[idx]\n",
    "\n",
    "# Hyperparameters\n",
    "input_dim = X_train.shape[1]\n",
    "hidden_dim = 256\n",
    "num_classes = len(np.unique(y))\n",
    "batch_size = 64\n",
    "num_epochs = 100\n",
    "learning_rate = 0.001"
   ]
  },
  {
   "cell_type": "code",
   "execution_count": 42,
   "id": "407793ac",
   "metadata": {
    "execution": {
     "iopub.execute_input": "2024-10-12T07:39:19.178617Z",
     "iopub.status.busy": "2024-10-12T07:39:19.177891Z",
     "iopub.status.idle": "2024-10-12T07:39:19.185844Z",
     "shell.execute_reply": "2024-10-12T07:39:19.184961Z"
    },
    "papermill": {
     "duration": 4.693054,
     "end_time": "2024-10-12T07:39:19.187763",
     "exception": false,
     "start_time": "2024-10-12T07:39:14.494709",
     "status": "completed"
    },
    "scrolled": true,
    "tags": []
   },
   "outputs": [],
   "source": [
    "# Create model, optimizer, and loss function\n",
    "model = TweetClassifier(input_dim, hidden_dim, num_classes).to(device)\n",
    "optimizer = optim.Adam(model.parameters(), lr=learning_rate)\n",
    "criterion = nn.CrossEntropyLoss()"
   ]
  },
  {
   "cell_type": "code",
   "execution_count": 43,
   "id": "5b464b68",
   "metadata": {
    "execution": {
     "iopub.execute_input": "2024-10-12T07:39:28.454093Z",
     "iopub.status.busy": "2024-10-12T07:39:28.453716Z",
     "iopub.status.idle": "2024-10-12T07:39:28.904649Z",
     "shell.execute_reply": "2024-10-12T07:39:28.903615Z"
    },
    "papermill": {
     "duration": 5.082134,
     "end_time": "2024-10-12T07:39:28.907139",
     "exception": false,
     "start_time": "2024-10-12T07:39:23.825005",
     "status": "completed"
    },
    "scrolled": true,
    "tags": []
   },
   "outputs": [],
   "source": [
    "# Create datasets and dataloaders\n",
    "train_dataset = TweetDataset(X_train, y_train)\n",
    "val_dataset = TweetDataset(X_val, y_val)\n",
    "train_loader = DataLoader(train_dataset, batch_size=batch_size, shuffle=True)\n",
    "val_loader = DataLoader(val_dataset, batch_size=batch_size)"
   ]
  },
  {
   "cell_type": "code",
   "execution_count": 44,
   "id": "c2d269e2",
   "metadata": {
    "execution": {
     "iopub.execute_input": "2024-10-12T07:39:38.224556Z",
     "iopub.status.busy": "2024-10-12T07:39:38.223851Z",
     "iopub.status.idle": "2024-10-12T07:54:24.554692Z",
     "shell.execute_reply": "2024-10-12T07:54:24.553594Z"
    },
    "papermill": {
     "duration": 890.998126,
     "end_time": "2024-10-12T07:54:24.556692",
     "exception": false,
     "start_time": "2024-10-12T07:39:33.558566",
     "status": "completed"
    },
    "scrolled": true,
    "tags": []
   },
   "outputs": [
    {
     "name": "stdout",
     "output_type": "stream",
     "text": [
      "Training classification model...\n"
     ]
    },
    {
     "name": "stderr",
     "output_type": "stream",
     "text": [
      "Epoch 1/100: 100%|██████████| 3750/3750 [00:07<00:00, 485.80it/s]\n",
      "/opt/conda/lib/python3.10/site-packages/sklearn/metrics/_classification.py:1344: UndefinedMetricWarning: Precision and F-score are ill-defined and being set to 0.0 in labels with no predicted samples. Use `zero_division` parameter to control this behavior.\n",
      "  _warn_prf(average, modifier, msg_start, len(result))\n"
     ]
    },
    {
     "name": "stdout",
     "output_type": "stream",
     "text": [
      "Epoch 1/100, Loss: 0.9239, Val Accuracy: 0.6934\n",
      "Precision: 0.6282, Recall: 0.6934, F1-score: 0.6551\n"
     ]
    },
    {
     "name": "stderr",
     "output_type": "stream",
     "text": [
      "Epoch 2/100: 100%|██████████| 3750/3750 [00:07<00:00, 481.53it/s]\n",
      "/opt/conda/lib/python3.10/site-packages/sklearn/metrics/_classification.py:1344: UndefinedMetricWarning: Precision and F-score are ill-defined and being set to 0.0 in labels with no predicted samples. Use `zero_division` parameter to control this behavior.\n",
      "  _warn_prf(average, modifier, msg_start, len(result))\n"
     ]
    },
    {
     "name": "stdout",
     "output_type": "stream",
     "text": [
      "Epoch 2/100, Loss: 0.8105, Val Accuracy: 0.6976\n",
      "Precision: 0.6110, Recall: 0.6976, F1-score: 0.6514\n"
     ]
    },
    {
     "name": "stderr",
     "output_type": "stream",
     "text": [
      "Epoch 3/100: 100%|██████████| 3750/3750 [00:07<00:00, 482.49it/s]\n",
      "/opt/conda/lib/python3.10/site-packages/sklearn/metrics/_classification.py:1344: UndefinedMetricWarning: Precision and F-score are ill-defined and being set to 0.0 in labels with no predicted samples. Use `zero_division` parameter to control this behavior.\n",
      "  _warn_prf(average, modifier, msg_start, len(result))\n"
     ]
    },
    {
     "name": "stdout",
     "output_type": "stream",
     "text": [
      "Epoch 3/100, Loss: 0.8022, Val Accuracy: 0.7006\n",
      "Precision: 0.6253, Recall: 0.7006, F1-score: 0.6592\n"
     ]
    },
    {
     "name": "stderr",
     "output_type": "stream",
     "text": [
      "Epoch 4/100: 100%|██████████| 3750/3750 [00:07<00:00, 485.34it/s]\n",
      "/opt/conda/lib/python3.10/site-packages/sklearn/metrics/_classification.py:1344: UndefinedMetricWarning: Precision and F-score are ill-defined and being set to 0.0 in labels with no predicted samples. Use `zero_division` parameter to control this behavior.\n",
      "  _warn_prf(average, modifier, msg_start, len(result))\n"
     ]
    },
    {
     "name": "stdout",
     "output_type": "stream",
     "text": [
      "Epoch 4/100, Loss: 0.7995, Val Accuracy: 0.6924\n",
      "Precision: 0.6023, Recall: 0.6924, F1-score: 0.6439\n"
     ]
    },
    {
     "name": "stderr",
     "output_type": "stream",
     "text": [
      "Epoch 5/100: 100%|██████████| 3750/3750 [00:07<00:00, 478.78it/s]\n",
      "/opt/conda/lib/python3.10/site-packages/sklearn/metrics/_classification.py:1344: UndefinedMetricWarning: Precision and F-score are ill-defined and being set to 0.0 in labels with no predicted samples. Use `zero_division` parameter to control this behavior.\n",
      "  _warn_prf(average, modifier, msg_start, len(result))\n"
     ]
    },
    {
     "name": "stdout",
     "output_type": "stream",
     "text": [
      "Epoch 5/100, Loss: 0.7961, Val Accuracy: 0.7023\n",
      "Precision: 0.6490, Recall: 0.7023, F1-score: 0.6659\n"
     ]
    },
    {
     "name": "stderr",
     "output_type": "stream",
     "text": [
      "Epoch 6/100: 100%|██████████| 3750/3750 [00:07<00:00, 486.94it/s]\n",
      "/opt/conda/lib/python3.10/site-packages/sklearn/metrics/_classification.py:1344: UndefinedMetricWarning: Precision and F-score are ill-defined and being set to 0.0 in labels with no predicted samples. Use `zero_division` parameter to control this behavior.\n",
      "  _warn_prf(average, modifier, msg_start, len(result))\n"
     ]
    },
    {
     "name": "stdout",
     "output_type": "stream",
     "text": [
      "Epoch 6/100, Loss: 0.7942, Val Accuracy: 0.6990\n",
      "Precision: 0.6583, Recall: 0.6990, F1-score: 0.6644\n"
     ]
    },
    {
     "name": "stderr",
     "output_type": "stream",
     "text": [
      "Epoch 7/100: 100%|██████████| 3750/3750 [00:07<00:00, 488.85it/s]\n",
      "/opt/conda/lib/python3.10/site-packages/sklearn/metrics/_classification.py:1344: UndefinedMetricWarning: Precision and F-score are ill-defined and being set to 0.0 in labels with no predicted samples. Use `zero_division` parameter to control this behavior.\n",
      "  _warn_prf(average, modifier, msg_start, len(result))\n"
     ]
    },
    {
     "name": "stdout",
     "output_type": "stream",
     "text": [
      "Epoch 7/100, Loss: 0.7934, Val Accuracy: 0.7037\n",
      "Precision: 0.6506, Recall: 0.7037, F1-score: 0.6673\n"
     ]
    },
    {
     "name": "stderr",
     "output_type": "stream",
     "text": [
      "Epoch 8/100: 100%|██████████| 3750/3750 [00:07<00:00, 478.79it/s]\n",
      "/opt/conda/lib/python3.10/site-packages/sklearn/metrics/_classification.py:1344: UndefinedMetricWarning: Precision and F-score are ill-defined and being set to 0.0 in labels with no predicted samples. Use `zero_division` parameter to control this behavior.\n",
      "  _warn_prf(average, modifier, msg_start, len(result))\n"
     ]
    },
    {
     "name": "stdout",
     "output_type": "stream",
     "text": [
      "Epoch 8/100, Loss: 0.7892, Val Accuracy: 0.7081\n",
      "Precision: 0.6519, Recall: 0.7081, F1-score: 0.6709\n"
     ]
    },
    {
     "name": "stderr",
     "output_type": "stream",
     "text": [
      "Epoch 9/100: 100%|██████████| 3750/3750 [00:07<00:00, 480.94it/s]\n",
      "/opt/conda/lib/python3.10/site-packages/sklearn/metrics/_classification.py:1344: UndefinedMetricWarning: Precision and F-score are ill-defined and being set to 0.0 in labels with no predicted samples. Use `zero_division` parameter to control this behavior.\n",
      "  _warn_prf(average, modifier, msg_start, len(result))\n"
     ]
    },
    {
     "name": "stdout",
     "output_type": "stream",
     "text": [
      "Epoch 9/100, Loss: 0.7873, Val Accuracy: 0.7074\n",
      "Precision: 0.6562, Recall: 0.7074, F1-score: 0.6710\n"
     ]
    },
    {
     "name": "stderr",
     "output_type": "stream",
     "text": [
      "Epoch 10/100: 100%|██████████| 3750/3750 [00:07<00:00, 484.83it/s]\n",
      "/opt/conda/lib/python3.10/site-packages/sklearn/metrics/_classification.py:1344: UndefinedMetricWarning: Precision and F-score are ill-defined and being set to 0.0 in labels with no predicted samples. Use `zero_division` parameter to control this behavior.\n",
      "  _warn_prf(average, modifier, msg_start, len(result))\n"
     ]
    },
    {
     "name": "stdout",
     "output_type": "stream",
     "text": [
      "Epoch 10/100, Loss: 0.7866, Val Accuracy: 0.7114\n",
      "Precision: 0.6323, Recall: 0.7114, F1-score: 0.6684\n"
     ]
    },
    {
     "name": "stderr",
     "output_type": "stream",
     "text": [
      "Epoch 11/100: 100%|██████████| 3750/3750 [00:07<00:00, 486.22it/s]\n",
      "/opt/conda/lib/python3.10/site-packages/sklearn/metrics/_classification.py:1344: UndefinedMetricWarning: Precision and F-score are ill-defined and being set to 0.0 in labels with no predicted samples. Use `zero_division` parameter to control this behavior.\n",
      "  _warn_prf(average, modifier, msg_start, len(result))\n"
     ]
    },
    {
     "name": "stdout",
     "output_type": "stream",
     "text": [
      "Epoch 11/100, Loss: 0.7863, Val Accuracy: 0.7102\n",
      "Precision: 0.6570, Recall: 0.7102, F1-score: 0.6734\n"
     ]
    },
    {
     "name": "stderr",
     "output_type": "stream",
     "text": [
      "Epoch 12/100: 100%|██████████| 3750/3750 [00:08<00:00, 450.78it/s]\n",
      "/opt/conda/lib/python3.10/site-packages/sklearn/metrics/_classification.py:1344: UndefinedMetricWarning: Precision and F-score are ill-defined and being set to 0.0 in labels with no predicted samples. Use `zero_division` parameter to control this behavior.\n",
      "  _warn_prf(average, modifier, msg_start, len(result))\n"
     ]
    },
    {
     "name": "stdout",
     "output_type": "stream",
     "text": [
      "Epoch 12/100, Loss: 0.7841, Val Accuracy: 0.7093\n",
      "Precision: 0.6598, Recall: 0.7093, F1-score: 0.6730\n"
     ]
    },
    {
     "name": "stderr",
     "output_type": "stream",
     "text": [
      "Epoch 13/100: 100%|██████████| 3750/3750 [00:07<00:00, 485.46it/s]\n",
      "/opt/conda/lib/python3.10/site-packages/sklearn/metrics/_classification.py:1344: UndefinedMetricWarning: Precision and F-score are ill-defined and being set to 0.0 in labels with no predicted samples. Use `zero_division` parameter to control this behavior.\n",
      "  _warn_prf(average, modifier, msg_start, len(result))\n"
     ]
    },
    {
     "name": "stdout",
     "output_type": "stream",
     "text": [
      "Epoch 13/100, Loss: 0.7847, Val Accuracy: 0.7123\n",
      "Precision: 0.6372, Recall: 0.7123, F1-score: 0.6706\n"
     ]
    },
    {
     "name": "stderr",
     "output_type": "stream",
     "text": [
      "Epoch 14/100: 100%|██████████| 3750/3750 [00:07<00:00, 483.09it/s]\n",
      "/opt/conda/lib/python3.10/site-packages/sklearn/metrics/_classification.py:1344: UndefinedMetricWarning: Precision and F-score are ill-defined and being set to 0.0 in labels with no predicted samples. Use `zero_division` parameter to control this behavior.\n",
      "  _warn_prf(average, modifier, msg_start, len(result))\n"
     ]
    },
    {
     "name": "stdout",
     "output_type": "stream",
     "text": [
      "Epoch 14/100, Loss: 0.7828, Val Accuracy: 0.7070\n",
      "Precision: 0.6215, Recall: 0.7070, F1-score: 0.6614\n"
     ]
    },
    {
     "name": "stderr",
     "output_type": "stream",
     "text": [
      "Epoch 15/100: 100%|██████████| 3750/3750 [00:07<00:00, 480.84it/s]\n",
      "/opt/conda/lib/python3.10/site-packages/sklearn/metrics/_classification.py:1344: UndefinedMetricWarning: Precision and F-score are ill-defined and being set to 0.0 in labels with no predicted samples. Use `zero_division` parameter to control this behavior.\n",
      "  _warn_prf(average, modifier, msg_start, len(result))\n"
     ]
    },
    {
     "name": "stdout",
     "output_type": "stream",
     "text": [
      "Epoch 15/100, Loss: 0.7831, Val Accuracy: 0.7129\n",
      "Precision: 0.6604, Recall: 0.7129, F1-score: 0.6760\n"
     ]
    },
    {
     "name": "stderr",
     "output_type": "stream",
     "text": [
      "Epoch 16/100: 100%|██████████| 3750/3750 [00:08<00:00, 451.92it/s]\n",
      "/opt/conda/lib/python3.10/site-packages/sklearn/metrics/_classification.py:1344: UndefinedMetricWarning: Precision and F-score are ill-defined and being set to 0.0 in labels with no predicted samples. Use `zero_division` parameter to control this behavior.\n",
      "  _warn_prf(average, modifier, msg_start, len(result))\n"
     ]
    },
    {
     "name": "stdout",
     "output_type": "stream",
     "text": [
      "Epoch 16/100, Loss: 0.7814, Val Accuracy: 0.7117\n",
      "Precision: 0.6385, Recall: 0.7117, F1-score: 0.6706\n"
     ]
    },
    {
     "name": "stderr",
     "output_type": "stream",
     "text": [
      "Epoch 17/100: 100%|██████████| 3750/3750 [00:07<00:00, 479.80it/s]\n",
      "/opt/conda/lib/python3.10/site-packages/sklearn/metrics/_classification.py:1344: UndefinedMetricWarning: Precision and F-score are ill-defined and being set to 0.0 in labels with no predicted samples. Use `zero_division` parameter to control this behavior.\n",
      "  _warn_prf(average, modifier, msg_start, len(result))\n"
     ]
    },
    {
     "name": "stdout",
     "output_type": "stream",
     "text": [
      "Epoch 17/100, Loss: 0.7827, Val Accuracy: 0.7052\n",
      "Precision: 0.6162, Recall: 0.7052, F1-score: 0.6577\n"
     ]
    },
    {
     "name": "stderr",
     "output_type": "stream",
     "text": [
      "Epoch 18/100: 100%|██████████| 3750/3750 [00:07<00:00, 484.12it/s]\n",
      "/opt/conda/lib/python3.10/site-packages/sklearn/metrics/_classification.py:1344: UndefinedMetricWarning: Precision and F-score are ill-defined and being set to 0.0 in labels with no predicted samples. Use `zero_division` parameter to control this behavior.\n",
      "  _warn_prf(average, modifier, msg_start, len(result))\n"
     ]
    },
    {
     "name": "stdout",
     "output_type": "stream",
     "text": [
      "Epoch 18/100, Loss: 0.7815, Val Accuracy: 0.7065\n",
      "Precision: 0.6162, Recall: 0.7065, F1-score: 0.6582\n"
     ]
    },
    {
     "name": "stderr",
     "output_type": "stream",
     "text": [
      "Epoch 19/100: 100%|██████████| 3750/3750 [00:07<00:00, 475.89it/s]\n",
      "/opt/conda/lib/python3.10/site-packages/sklearn/metrics/_classification.py:1344: UndefinedMetricWarning: Precision and F-score are ill-defined and being set to 0.0 in labels with no predicted samples. Use `zero_division` parameter to control this behavior.\n",
      "  _warn_prf(average, modifier, msg_start, len(result))\n"
     ]
    },
    {
     "name": "stdout",
     "output_type": "stream",
     "text": [
      "Epoch 19/100, Loss: 0.7807, Val Accuracy: 0.7120\n",
      "Precision: 0.6585, Recall: 0.7120, F1-score: 0.6750\n"
     ]
    },
    {
     "name": "stderr",
     "output_type": "stream",
     "text": [
      "Epoch 20/100: 100%|██████████| 3750/3750 [00:07<00:00, 480.58it/s]\n",
      "/opt/conda/lib/python3.10/site-packages/sklearn/metrics/_classification.py:1344: UndefinedMetricWarning: Precision and F-score are ill-defined and being set to 0.0 in labels with no predicted samples. Use `zero_division` parameter to control this behavior.\n",
      "  _warn_prf(average, modifier, msg_start, len(result))\n"
     ]
    },
    {
     "name": "stdout",
     "output_type": "stream",
     "text": [
      "Epoch 20/100, Loss: 0.7800, Val Accuracy: 0.7147\n",
      "Precision: 0.6433, Recall: 0.7147, F1-score: 0.6740\n"
     ]
    },
    {
     "name": "stderr",
     "output_type": "stream",
     "text": [
      "Epoch 21/100: 100%|██████████| 3750/3750 [00:07<00:00, 482.52it/s]\n",
      "/opt/conda/lib/python3.10/site-packages/sklearn/metrics/_classification.py:1344: UndefinedMetricWarning: Precision and F-score are ill-defined and being set to 0.0 in labels with no predicted samples. Use `zero_division` parameter to control this behavior.\n",
      "  _warn_prf(average, modifier, msg_start, len(result))\n"
     ]
    },
    {
     "name": "stdout",
     "output_type": "stream",
     "text": [
      "Epoch 21/100, Loss: 0.7787, Val Accuracy: 0.7082\n",
      "Precision: 0.6600, Recall: 0.7082, F1-score: 0.6722\n"
     ]
    },
    {
     "name": "stderr",
     "output_type": "stream",
     "text": [
      "Epoch 22/100: 100%|██████████| 3750/3750 [00:07<00:00, 476.39it/s]\n",
      "/opt/conda/lib/python3.10/site-packages/sklearn/metrics/_classification.py:1344: UndefinedMetricWarning: Precision and F-score are ill-defined and being set to 0.0 in labels with no predicted samples. Use `zero_division` parameter to control this behavior.\n",
      "  _warn_prf(average, modifier, msg_start, len(result))\n"
     ]
    },
    {
     "name": "stdout",
     "output_type": "stream",
     "text": [
      "Epoch 22/100, Loss: 0.7788, Val Accuracy: 0.7160\n",
      "Precision: 0.6499, Recall: 0.7160, F1-score: 0.6765\n"
     ]
    },
    {
     "name": "stderr",
     "output_type": "stream",
     "text": [
      "Epoch 23/100: 100%|██████████| 3750/3750 [00:07<00:00, 474.74it/s]\n",
      "/opt/conda/lib/python3.10/site-packages/sklearn/metrics/_classification.py:1344: UndefinedMetricWarning: Precision and F-score are ill-defined and being set to 0.0 in labels with no predicted samples. Use `zero_division` parameter to control this behavior.\n",
      "  _warn_prf(average, modifier, msg_start, len(result))\n"
     ]
    },
    {
     "name": "stdout",
     "output_type": "stream",
     "text": [
      "Epoch 23/100, Loss: 0.7783, Val Accuracy: 0.7181\n",
      "Precision: 0.6482, Recall: 0.7181, F1-score: 0.6777\n"
     ]
    },
    {
     "name": "stderr",
     "output_type": "stream",
     "text": [
      "Epoch 24/100: 100%|██████████| 3750/3750 [00:07<00:00, 471.42it/s]\n",
      "/opt/conda/lib/python3.10/site-packages/sklearn/metrics/_classification.py:1344: UndefinedMetricWarning: Precision and F-score are ill-defined and being set to 0.0 in labels with no predicted samples. Use `zero_division` parameter to control this behavior.\n",
      "  _warn_prf(average, modifier, msg_start, len(result))\n"
     ]
    },
    {
     "name": "stdout",
     "output_type": "stream",
     "text": [
      "Epoch 24/100, Loss: 0.7771, Val Accuracy: 0.7190\n",
      "Precision: 0.6470, Recall: 0.7190, F1-score: 0.6780\n"
     ]
    },
    {
     "name": "stderr",
     "output_type": "stream",
     "text": [
      "Epoch 25/100: 100%|██████████| 3750/3750 [00:07<00:00, 482.48it/s]\n",
      "/opt/conda/lib/python3.10/site-packages/sklearn/metrics/_classification.py:1344: UndefinedMetricWarning: Precision and F-score are ill-defined and being set to 0.0 in labels with no predicted samples. Use `zero_division` parameter to control this behavior.\n",
      "  _warn_prf(average, modifier, msg_start, len(result))\n"
     ]
    },
    {
     "name": "stdout",
     "output_type": "stream",
     "text": [
      "Epoch 25/100, Loss: 0.7779, Val Accuracy: 0.7147\n",
      "Precision: 0.6629, Recall: 0.7147, F1-score: 0.6778\n"
     ]
    },
    {
     "name": "stderr",
     "output_type": "stream",
     "text": [
      "Epoch 26/100: 100%|██████████| 3750/3750 [00:07<00:00, 479.59it/s]\n",
      "/opt/conda/lib/python3.10/site-packages/sklearn/metrics/_classification.py:1344: UndefinedMetricWarning: Precision and F-score are ill-defined and being set to 0.0 in labels with no predicted samples. Use `zero_division` parameter to control this behavior.\n",
      "  _warn_prf(average, modifier, msg_start, len(result))\n"
     ]
    },
    {
     "name": "stdout",
     "output_type": "stream",
     "text": [
      "Epoch 26/100, Loss: 0.7777, Val Accuracy: 0.7150\n",
      "Precision: 0.6303, Recall: 0.7150, F1-score: 0.6698\n"
     ]
    },
    {
     "name": "stderr",
     "output_type": "stream",
     "text": [
      "Epoch 27/100: 100%|██████████| 3750/3750 [00:07<00:00, 479.56it/s]\n",
      "/opt/conda/lib/python3.10/site-packages/sklearn/metrics/_classification.py:1344: UndefinedMetricWarning: Precision and F-score are ill-defined and being set to 0.0 in labels with no predicted samples. Use `zero_division` parameter to control this behavior.\n",
      "  _warn_prf(average, modifier, msg_start, len(result))\n"
     ]
    },
    {
     "name": "stdout",
     "output_type": "stream",
     "text": [
      "Epoch 27/100, Loss: 0.7759, Val Accuracy: 0.7151\n",
      "Precision: 0.6375, Recall: 0.7151, F1-score: 0.6726\n"
     ]
    },
    {
     "name": "stderr",
     "output_type": "stream",
     "text": [
      "Epoch 28/100: 100%|██████████| 3750/3750 [00:07<00:00, 470.08it/s]\n",
      "/opt/conda/lib/python3.10/site-packages/sklearn/metrics/_classification.py:1344: UndefinedMetricWarning: Precision and F-score are ill-defined and being set to 0.0 in labels with no predicted samples. Use `zero_division` parameter to control this behavior.\n",
      "  _warn_prf(average, modifier, msg_start, len(result))\n"
     ]
    },
    {
     "name": "stdout",
     "output_type": "stream",
     "text": [
      "Epoch 28/100, Loss: 0.7770, Val Accuracy: 0.7194\n",
      "Precision: 0.6515, Recall: 0.7194, F1-score: 0.6793\n"
     ]
    },
    {
     "name": "stderr",
     "output_type": "stream",
     "text": [
      "Epoch 29/100: 100%|██████████| 3750/3750 [00:07<00:00, 482.04it/s]\n",
      "/opt/conda/lib/python3.10/site-packages/sklearn/metrics/_classification.py:1344: UndefinedMetricWarning: Precision and F-score are ill-defined and being set to 0.0 in labels with no predicted samples. Use `zero_division` parameter to control this behavior.\n",
      "  _warn_prf(average, modifier, msg_start, len(result))\n"
     ]
    },
    {
     "name": "stdout",
     "output_type": "stream",
     "text": [
      "Epoch 29/100, Loss: 0.7767, Val Accuracy: 0.7058\n",
      "Precision: 0.6796, Recall: 0.7058, F1-score: 0.6720\n"
     ]
    },
    {
     "name": "stderr",
     "output_type": "stream",
     "text": [
      "Epoch 30/100: 100%|██████████| 3750/3750 [00:07<00:00, 474.64it/s]\n",
      "/opt/conda/lib/python3.10/site-packages/sklearn/metrics/_classification.py:1344: UndefinedMetricWarning: Precision and F-score are ill-defined and being set to 0.0 in labels with no predicted samples. Use `zero_division` parameter to control this behavior.\n",
      "  _warn_prf(average, modifier, msg_start, len(result))\n"
     ]
    },
    {
     "name": "stdout",
     "output_type": "stream",
     "text": [
      "Epoch 30/100, Loss: 0.7761, Val Accuracy: 0.7161\n",
      "Precision: 0.6323, Recall: 0.7161, F1-score: 0.6713\n"
     ]
    },
    {
     "name": "stderr",
     "output_type": "stream",
     "text": [
      "Epoch 31/100: 100%|██████████| 3750/3750 [00:08<00:00, 460.93it/s]\n",
      "/opt/conda/lib/python3.10/site-packages/sklearn/metrics/_classification.py:1344: UndefinedMetricWarning: Precision and F-score are ill-defined and being set to 0.0 in labels with no predicted samples. Use `zero_division` parameter to control this behavior.\n",
      "  _warn_prf(average, modifier, msg_start, len(result))\n"
     ]
    },
    {
     "name": "stdout",
     "output_type": "stream",
     "text": [
      "Epoch 31/100, Loss: 0.7750, Val Accuracy: 0.7192\n",
      "Precision: 0.6471, Recall: 0.7192, F1-score: 0.6782\n"
     ]
    },
    {
     "name": "stderr",
     "output_type": "stream",
     "text": [
      "Epoch 32/100: 100%|██████████| 3750/3750 [00:07<00:00, 471.00it/s]\n",
      "/opt/conda/lib/python3.10/site-packages/sklearn/metrics/_classification.py:1344: UndefinedMetricWarning: Precision and F-score are ill-defined and being set to 0.0 in labels with no predicted samples. Use `zero_division` parameter to control this behavior.\n",
      "  _warn_prf(average, modifier, msg_start, len(result))\n"
     ]
    },
    {
     "name": "stdout",
     "output_type": "stream",
     "text": [
      "Epoch 32/100, Loss: 0.7749, Val Accuracy: 0.7152\n",
      "Precision: 0.6311, Recall: 0.7152, F1-score: 0.6702\n"
     ]
    },
    {
     "name": "stderr",
     "output_type": "stream",
     "text": [
      "Epoch 33/100: 100%|██████████| 3750/3750 [00:07<00:00, 482.43it/s]\n",
      "/opt/conda/lib/python3.10/site-packages/sklearn/metrics/_classification.py:1344: UndefinedMetricWarning: Precision and F-score are ill-defined and being set to 0.0 in labels with no predicted samples. Use `zero_division` parameter to control this behavior.\n",
      "  _warn_prf(average, modifier, msg_start, len(result))\n"
     ]
    },
    {
     "name": "stdout",
     "output_type": "stream",
     "text": [
      "Epoch 33/100, Loss: 0.7743, Val Accuracy: 0.7182\n",
      "Precision: 0.6647, Recall: 0.7182, F1-score: 0.6809\n"
     ]
    },
    {
     "name": "stderr",
     "output_type": "stream",
     "text": [
      "Epoch 34/100: 100%|██████████| 3750/3750 [00:07<00:00, 474.07it/s]\n",
      "/opt/conda/lib/python3.10/site-packages/sklearn/metrics/_classification.py:1344: UndefinedMetricWarning: Precision and F-score are ill-defined and being set to 0.0 in labels with no predicted samples. Use `zero_division` parameter to control this behavior.\n",
      "  _warn_prf(average, modifier, msg_start, len(result))\n"
     ]
    },
    {
     "name": "stdout",
     "output_type": "stream",
     "text": [
      "Epoch 34/100, Loss: 0.7752, Val Accuracy: 0.7194\n",
      "Precision: 0.6628, Recall: 0.7194, F1-score: 0.6814\n"
     ]
    },
    {
     "name": "stderr",
     "output_type": "stream",
     "text": [
      "Epoch 35/100: 100%|██████████| 3750/3750 [00:07<00:00, 480.11it/s]\n",
      "/opt/conda/lib/python3.10/site-packages/sklearn/metrics/_classification.py:1344: UndefinedMetricWarning: Precision and F-score are ill-defined and being set to 0.0 in labels with no predicted samples. Use `zero_division` parameter to control this behavior.\n",
      "  _warn_prf(average, modifier, msg_start, len(result))\n"
     ]
    },
    {
     "name": "stdout",
     "output_type": "stream",
     "text": [
      "Epoch 35/100, Loss: 0.7743, Val Accuracy: 0.7208\n",
      "Precision: 0.6422, Recall: 0.7208, F1-score: 0.6778\n"
     ]
    },
    {
     "name": "stderr",
     "output_type": "stream",
     "text": [
      "Epoch 36/100: 100%|██████████| 3750/3750 [00:07<00:00, 474.46it/s]\n",
      "/opt/conda/lib/python3.10/site-packages/sklearn/metrics/_classification.py:1344: UndefinedMetricWarning: Precision and F-score are ill-defined and being set to 0.0 in labels with no predicted samples. Use `zero_division` parameter to control this behavior.\n",
      "  _warn_prf(average, modifier, msg_start, len(result))\n"
     ]
    },
    {
     "name": "stdout",
     "output_type": "stream",
     "text": [
      "Epoch 36/100, Loss: 0.7724, Val Accuracy: 0.7217\n",
      "Precision: 0.6496, Recall: 0.7217, F1-score: 0.6806\n"
     ]
    },
    {
     "name": "stderr",
     "output_type": "stream",
     "text": [
      "Epoch 37/100: 100%|██████████| 3750/3750 [00:07<00:00, 472.70it/s]\n",
      "/opt/conda/lib/python3.10/site-packages/sklearn/metrics/_classification.py:1344: UndefinedMetricWarning: Precision and F-score are ill-defined and being set to 0.0 in labels with no predicted samples. Use `zero_division` parameter to control this behavior.\n",
      "  _warn_prf(average, modifier, msg_start, len(result))\n"
     ]
    },
    {
     "name": "stdout",
     "output_type": "stream",
     "text": [
      "Epoch 37/100, Loss: 0.7728, Val Accuracy: 0.7184\n",
      "Precision: 0.6683, Recall: 0.7184, F1-score: 0.6815\n"
     ]
    },
    {
     "name": "stderr",
     "output_type": "stream",
     "text": [
      "Epoch 38/100: 100%|██████████| 3750/3750 [00:07<00:00, 478.78it/s]\n",
      "/opt/conda/lib/python3.10/site-packages/sklearn/metrics/_classification.py:1344: UndefinedMetricWarning: Precision and F-score are ill-defined and being set to 0.0 in labels with no predicted samples. Use `zero_division` parameter to control this behavior.\n",
      "  _warn_prf(average, modifier, msg_start, len(result))\n"
     ]
    },
    {
     "name": "stdout",
     "output_type": "stream",
     "text": [
      "Epoch 38/100, Loss: 0.7743, Val Accuracy: 0.7197\n",
      "Precision: 0.6400, Recall: 0.7197, F1-score: 0.6763\n"
     ]
    },
    {
     "name": "stderr",
     "output_type": "stream",
     "text": [
      "Epoch 39/100: 100%|██████████| 3750/3750 [00:07<00:00, 477.18it/s]\n",
      "/opt/conda/lib/python3.10/site-packages/sklearn/metrics/_classification.py:1344: UndefinedMetricWarning: Precision and F-score are ill-defined and being set to 0.0 in labels with no predicted samples. Use `zero_division` parameter to control this behavior.\n",
      "  _warn_prf(average, modifier, msg_start, len(result))\n"
     ]
    },
    {
     "name": "stdout",
     "output_type": "stream",
     "text": [
      "Epoch 39/100, Loss: 0.7725, Val Accuracy: 0.7183\n",
      "Precision: 0.6712, Recall: 0.7183, F1-score: 0.6818\n"
     ]
    },
    {
     "name": "stderr",
     "output_type": "stream",
     "text": [
      "Epoch 40/100: 100%|██████████| 3750/3750 [00:08<00:00, 465.29it/s]\n",
      "/opt/conda/lib/python3.10/site-packages/sklearn/metrics/_classification.py:1344: UndefinedMetricWarning: Precision and F-score are ill-defined and being set to 0.0 in labels with no predicted samples. Use `zero_division` parameter to control this behavior.\n",
      "  _warn_prf(average, modifier, msg_start, len(result))\n"
     ]
    },
    {
     "name": "stdout",
     "output_type": "stream",
     "text": [
      "Epoch 40/100, Loss: 0.7720, Val Accuracy: 0.7208\n",
      "Precision: 0.6444, Recall: 0.7208, F1-score: 0.6785\n"
     ]
    },
    {
     "name": "stderr",
     "output_type": "stream",
     "text": [
      "Epoch 41/100: 100%|██████████| 3750/3750 [00:07<00:00, 473.51it/s]\n",
      "/opt/conda/lib/python3.10/site-packages/sklearn/metrics/_classification.py:1344: UndefinedMetricWarning: Precision and F-score are ill-defined and being set to 0.0 in labels with no predicted samples. Use `zero_division` parameter to control this behavior.\n",
      "  _warn_prf(average, modifier, msg_start, len(result))\n"
     ]
    },
    {
     "name": "stdout",
     "output_type": "stream",
     "text": [
      "Epoch 41/100, Loss: 0.7706, Val Accuracy: 0.7214\n",
      "Precision: 0.6512, Recall: 0.7214, F1-score: 0.6808\n"
     ]
    },
    {
     "name": "stderr",
     "output_type": "stream",
     "text": [
      "Epoch 42/100: 100%|██████████| 3750/3750 [00:07<00:00, 474.70it/s]\n",
      "/opt/conda/lib/python3.10/site-packages/sklearn/metrics/_classification.py:1344: UndefinedMetricWarning: Precision and F-score are ill-defined and being set to 0.0 in labels with no predicted samples. Use `zero_division` parameter to control this behavior.\n",
      "  _warn_prf(average, modifier, msg_start, len(result))\n"
     ]
    },
    {
     "name": "stdout",
     "output_type": "stream",
     "text": [
      "Epoch 42/100, Loss: 0.7717, Val Accuracy: 0.7225\n",
      "Precision: 0.6484, Recall: 0.7225, F1-score: 0.6808\n"
     ]
    },
    {
     "name": "stderr",
     "output_type": "stream",
     "text": [
      "Epoch 43/100: 100%|██████████| 3750/3750 [00:07<00:00, 480.29it/s]\n",
      "/opt/conda/lib/python3.10/site-packages/sklearn/metrics/_classification.py:1344: UndefinedMetricWarning: Precision and F-score are ill-defined and being set to 0.0 in labels with no predicted samples. Use `zero_division` parameter to control this behavior.\n",
      "  _warn_prf(average, modifier, msg_start, len(result))\n"
     ]
    },
    {
     "name": "stdout",
     "output_type": "stream",
     "text": [
      "Epoch 43/100, Loss: 0.7711, Val Accuracy: 0.7233\n",
      "Precision: 0.6515, Recall: 0.7233, F1-score: 0.6822\n"
     ]
    },
    {
     "name": "stderr",
     "output_type": "stream",
     "text": [
      "Epoch 44/100: 100%|██████████| 3750/3750 [00:07<00:00, 475.04it/s]\n",
      "/opt/conda/lib/python3.10/site-packages/sklearn/metrics/_classification.py:1344: UndefinedMetricWarning: Precision and F-score are ill-defined and being set to 0.0 in labels with no predicted samples. Use `zero_division` parameter to control this behavior.\n",
      "  _warn_prf(average, modifier, msg_start, len(result))\n"
     ]
    },
    {
     "name": "stdout",
     "output_type": "stream",
     "text": [
      "Epoch 44/100, Loss: 0.7706, Val Accuracy: 0.7196\n",
      "Precision: 0.6490, Recall: 0.7196, F1-score: 0.6789\n"
     ]
    },
    {
     "name": "stderr",
     "output_type": "stream",
     "text": [
      "Epoch 45/100: 100%|██████████| 3750/3750 [00:07<00:00, 479.09it/s]\n",
      "/opt/conda/lib/python3.10/site-packages/sklearn/metrics/_classification.py:1344: UndefinedMetricWarning: Precision and F-score are ill-defined and being set to 0.0 in labels with no predicted samples. Use `zero_division` parameter to control this behavior.\n",
      "  _warn_prf(average, modifier, msg_start, len(result))\n"
     ]
    },
    {
     "name": "stdout",
     "output_type": "stream",
     "text": [
      "Epoch 45/100, Loss: 0.7718, Val Accuracy: 0.7200\n",
      "Precision: 0.6686, Recall: 0.7200, F1-score: 0.6828\n"
     ]
    },
    {
     "name": "stderr",
     "output_type": "stream",
     "text": [
      "Epoch 46/100: 100%|██████████| 3750/3750 [00:07<00:00, 481.26it/s]\n",
      "/opt/conda/lib/python3.10/site-packages/sklearn/metrics/_classification.py:1344: UndefinedMetricWarning: Precision and F-score are ill-defined and being set to 0.0 in labels with no predicted samples. Use `zero_division` parameter to control this behavior.\n",
      "  _warn_prf(average, modifier, msg_start, len(result))\n"
     ]
    },
    {
     "name": "stdout",
     "output_type": "stream",
     "text": [
      "Epoch 46/100, Loss: 0.7715, Val Accuracy: 0.7204\n",
      "Precision: 0.6418, Recall: 0.7204, F1-score: 0.6774\n"
     ]
    },
    {
     "name": "stderr",
     "output_type": "stream",
     "text": [
      "Epoch 47/100: 100%|██████████| 3750/3750 [00:07<00:00, 479.87it/s]\n",
      "/opt/conda/lib/python3.10/site-packages/sklearn/metrics/_classification.py:1344: UndefinedMetricWarning: Precision and F-score are ill-defined and being set to 0.0 in labels with no predicted samples. Use `zero_division` parameter to control this behavior.\n",
      "  _warn_prf(average, modifier, msg_start, len(result))\n"
     ]
    },
    {
     "name": "stdout",
     "output_type": "stream",
     "text": [
      "Epoch 47/100, Loss: 0.7713, Val Accuracy: 0.7209\n",
      "Precision: 0.6556, Recall: 0.7209, F1-score: 0.6814\n"
     ]
    },
    {
     "name": "stderr",
     "output_type": "stream",
     "text": [
      "Epoch 48/100: 100%|██████████| 3750/3750 [00:07<00:00, 470.38it/s]\n",
      "/opt/conda/lib/python3.10/site-packages/sklearn/metrics/_classification.py:1344: UndefinedMetricWarning: Precision and F-score are ill-defined and being set to 0.0 in labels with no predicted samples. Use `zero_division` parameter to control this behavior.\n",
      "  _warn_prf(average, modifier, msg_start, len(result))\n"
     ]
    },
    {
     "name": "stdout",
     "output_type": "stream",
     "text": [
      "Epoch 48/100, Loss: 0.7699, Val Accuracy: 0.7138\n",
      "Precision: 0.6679, Recall: 0.7138, F1-score: 0.6778\n"
     ]
    },
    {
     "name": "stderr",
     "output_type": "stream",
     "text": [
      "Epoch 49/100: 100%|██████████| 3750/3750 [00:07<00:00, 485.17it/s]\n",
      "/opt/conda/lib/python3.10/site-packages/sklearn/metrics/_classification.py:1344: UndefinedMetricWarning: Precision and F-score are ill-defined and being set to 0.0 in labels with no predicted samples. Use `zero_division` parameter to control this behavior.\n",
      "  _warn_prf(average, modifier, msg_start, len(result))\n"
     ]
    },
    {
     "name": "stdout",
     "output_type": "stream",
     "text": [
      "Epoch 49/100, Loss: 0.7706, Val Accuracy: 0.7218\n",
      "Precision: 0.6593, Recall: 0.7218, F1-score: 0.6828\n"
     ]
    },
    {
     "name": "stderr",
     "output_type": "stream",
     "text": [
      "Epoch 50/100: 100%|██████████| 3750/3750 [00:07<00:00, 482.27it/s]\n",
      "/opt/conda/lib/python3.10/site-packages/sklearn/metrics/_classification.py:1344: UndefinedMetricWarning: Precision and F-score are ill-defined and being set to 0.0 in labels with no predicted samples. Use `zero_division` parameter to control this behavior.\n",
      "  _warn_prf(average, modifier, msg_start, len(result))\n"
     ]
    },
    {
     "name": "stdout",
     "output_type": "stream",
     "text": [
      "Epoch 50/100, Loss: 0.7730, Val Accuracy: 0.7173\n",
      "Precision: 0.6330, Recall: 0.7173, F1-score: 0.6722\n"
     ]
    },
    {
     "name": "stderr",
     "output_type": "stream",
     "text": [
      "Epoch 51/100: 100%|██████████| 3750/3750 [00:07<00:00, 480.61it/s]\n",
      "/opt/conda/lib/python3.10/site-packages/sklearn/metrics/_classification.py:1344: UndefinedMetricWarning: Precision and F-score are ill-defined and being set to 0.0 in labels with no predicted samples. Use `zero_division` parameter to control this behavior.\n",
      "  _warn_prf(average, modifier, msg_start, len(result))\n"
     ]
    },
    {
     "name": "stdout",
     "output_type": "stream",
     "text": [
      "Epoch 51/100, Loss: 0.7702, Val Accuracy: 0.7041\n",
      "Precision: 0.6864, Recall: 0.7041, F1-score: 0.6708\n"
     ]
    },
    {
     "name": "stderr",
     "output_type": "stream",
     "text": [
      "Epoch 52/100: 100%|██████████| 3750/3750 [00:07<00:00, 474.84it/s]\n",
      "/opt/conda/lib/python3.10/site-packages/sklearn/metrics/_classification.py:1344: UndefinedMetricWarning: Precision and F-score are ill-defined and being set to 0.0 in labels with no predicted samples. Use `zero_division` parameter to control this behavior.\n",
      "  _warn_prf(average, modifier, msg_start, len(result))\n"
     ]
    },
    {
     "name": "stdout",
     "output_type": "stream",
     "text": [
      "Epoch 52/100, Loss: 0.7702, Val Accuracy: 0.7178\n",
      "Precision: 0.6694, Recall: 0.7178, F1-score: 0.6811\n"
     ]
    },
    {
     "name": "stderr",
     "output_type": "stream",
     "text": [
      "Epoch 53/100: 100%|██████████| 3750/3750 [00:07<00:00, 480.77it/s]\n",
      "/opt/conda/lib/python3.10/site-packages/sklearn/metrics/_classification.py:1344: UndefinedMetricWarning: Precision and F-score are ill-defined and being set to 0.0 in labels with no predicted samples. Use `zero_division` parameter to control this behavior.\n",
      "  _warn_prf(average, modifier, msg_start, len(result))\n"
     ]
    },
    {
     "name": "stdout",
     "output_type": "stream",
     "text": [
      "Epoch 53/100, Loss: 0.7705, Val Accuracy: 0.7225\n",
      "Precision: 0.6542, Recall: 0.7225, F1-score: 0.6822\n"
     ]
    },
    {
     "name": "stderr",
     "output_type": "stream",
     "text": [
      "Epoch 54/100: 100%|██████████| 3750/3750 [00:07<00:00, 481.60it/s]\n",
      "/opt/conda/lib/python3.10/site-packages/sklearn/metrics/_classification.py:1344: UndefinedMetricWarning: Precision and F-score are ill-defined and being set to 0.0 in labels with no predicted samples. Use `zero_division` parameter to control this behavior.\n",
      "  _warn_prf(average, modifier, msg_start, len(result))\n"
     ]
    },
    {
     "name": "stdout",
     "output_type": "stream",
     "text": [
      "Epoch 54/100, Loss: 0.7708, Val Accuracy: 0.7238\n",
      "Precision: 0.6461, Recall: 0.7238, F1-score: 0.6810\n"
     ]
    },
    {
     "name": "stderr",
     "output_type": "stream",
     "text": [
      "Epoch 55/100: 100%|██████████| 3750/3750 [00:07<00:00, 478.20it/s]\n",
      "/opt/conda/lib/python3.10/site-packages/sklearn/metrics/_classification.py:1344: UndefinedMetricWarning: Precision and F-score are ill-defined and being set to 0.0 in labels with no predicted samples. Use `zero_division` parameter to control this behavior.\n",
      "  _warn_prf(average, modifier, msg_start, len(result))\n"
     ]
    },
    {
     "name": "stdout",
     "output_type": "stream",
     "text": [
      "Epoch 55/100, Loss: 0.7697, Val Accuracy: 0.7235\n",
      "Precision: 0.6598, Recall: 0.7235, F1-score: 0.6841\n"
     ]
    },
    {
     "name": "stderr",
     "output_type": "stream",
     "text": [
      "Epoch 56/100: 100%|██████████| 3750/3750 [00:08<00:00, 468.38it/s]\n",
      "/opt/conda/lib/python3.10/site-packages/sklearn/metrics/_classification.py:1344: UndefinedMetricWarning: Precision and F-score are ill-defined and being set to 0.0 in labels with no predicted samples. Use `zero_division` parameter to control this behavior.\n",
      "  _warn_prf(average, modifier, msg_start, len(result))\n"
     ]
    },
    {
     "name": "stdout",
     "output_type": "stream",
     "text": [
      "Epoch 56/100, Loss: 0.7699, Val Accuracy: 0.7096\n",
      "Precision: 0.6715, Recall: 0.7096, F1-score: 0.6746\n"
     ]
    },
    {
     "name": "stderr",
     "output_type": "stream",
     "text": [
      "Epoch 57/100: 100%|██████████| 3750/3750 [00:07<00:00, 478.08it/s]\n",
      "/opt/conda/lib/python3.10/site-packages/sklearn/metrics/_classification.py:1344: UndefinedMetricWarning: Precision and F-score are ill-defined and being set to 0.0 in labels with no predicted samples. Use `zero_division` parameter to control this behavior.\n",
      "  _warn_prf(average, modifier, msg_start, len(result))\n"
     ]
    },
    {
     "name": "stdout",
     "output_type": "stream",
     "text": [
      "Epoch 57/100, Loss: 0.7695, Val Accuracy: 0.7157\n",
      "Precision: 0.6306, Recall: 0.7157, F1-score: 0.6702\n"
     ]
    },
    {
     "name": "stderr",
     "output_type": "stream",
     "text": [
      "Epoch 58/100: 100%|██████████| 3750/3750 [00:07<00:00, 482.88it/s]\n",
      "/opt/conda/lib/python3.10/site-packages/sklearn/metrics/_classification.py:1344: UndefinedMetricWarning: Precision and F-score are ill-defined and being set to 0.0 in labels with no predicted samples. Use `zero_division` parameter to control this behavior.\n",
      "  _warn_prf(average, modifier, msg_start, len(result))\n"
     ]
    },
    {
     "name": "stdout",
     "output_type": "stream",
     "text": [
      "Epoch 58/100, Loss: 0.7707, Val Accuracy: 0.7238\n",
      "Precision: 0.6486, Recall: 0.7238, F1-score: 0.6817\n"
     ]
    },
    {
     "name": "stderr",
     "output_type": "stream",
     "text": [
      "Epoch 59/100: 100%|██████████| 3750/3750 [00:07<00:00, 475.94it/s]\n",
      "/opt/conda/lib/python3.10/site-packages/sklearn/metrics/_classification.py:1344: UndefinedMetricWarning: Precision and F-score are ill-defined and being set to 0.0 in labels with no predicted samples. Use `zero_division` parameter to control this behavior.\n",
      "  _warn_prf(average, modifier, msg_start, len(result))\n"
     ]
    },
    {
     "name": "stdout",
     "output_type": "stream",
     "text": [
      "Epoch 59/100, Loss: 0.7701, Val Accuracy: 0.7224\n",
      "Precision: 0.6456, Recall: 0.7224, F1-score: 0.6799\n"
     ]
    },
    {
     "name": "stderr",
     "output_type": "stream",
     "text": [
      "Epoch 60/100: 100%|██████████| 3750/3750 [00:07<00:00, 472.05it/s]\n",
      "/opt/conda/lib/python3.10/site-packages/sklearn/metrics/_classification.py:1344: UndefinedMetricWarning: Precision and F-score are ill-defined and being set to 0.0 in labels with no predicted samples. Use `zero_division` parameter to control this behavior.\n",
      "  _warn_prf(average, modifier, msg_start, len(result))\n"
     ]
    },
    {
     "name": "stdout",
     "output_type": "stream",
     "text": [
      "Epoch 60/100, Loss: 0.7697, Val Accuracy: 0.7234\n",
      "Precision: 0.6504, Recall: 0.7234, F1-score: 0.6819\n"
     ]
    },
    {
     "name": "stderr",
     "output_type": "stream",
     "text": [
      "Epoch 61/100: 100%|██████████| 3750/3750 [00:07<00:00, 486.92it/s]\n",
      "/opt/conda/lib/python3.10/site-packages/sklearn/metrics/_classification.py:1344: UndefinedMetricWarning: Precision and F-score are ill-defined and being set to 0.0 in labels with no predicted samples. Use `zero_division` parameter to control this behavior.\n",
      "  _warn_prf(average, modifier, msg_start, len(result))\n"
     ]
    },
    {
     "name": "stdout",
     "output_type": "stream",
     "text": [
      "Epoch 61/100, Loss: 0.7691, Val Accuracy: 0.7214\n",
      "Precision: 0.6422, Recall: 0.7214, F1-score: 0.6782\n"
     ]
    },
    {
     "name": "stderr",
     "output_type": "stream",
     "text": [
      "Epoch 62/100: 100%|██████████| 3750/3750 [00:07<00:00, 477.16it/s]\n",
      "/opt/conda/lib/python3.10/site-packages/sklearn/metrics/_classification.py:1344: UndefinedMetricWarning: Precision and F-score are ill-defined and being set to 0.0 in labels with no predicted samples. Use `zero_division` parameter to control this behavior.\n",
      "  _warn_prf(average, modifier, msg_start, len(result))\n"
     ]
    },
    {
     "name": "stdout",
     "output_type": "stream",
     "text": [
      "Epoch 62/100, Loss: 0.7692, Val Accuracy: 0.7228\n",
      "Precision: 0.6488, Recall: 0.7228, F1-score: 0.6812\n"
     ]
    },
    {
     "name": "stderr",
     "output_type": "stream",
     "text": [
      "Epoch 63/100: 100%|██████████| 3750/3750 [00:07<00:00, 481.34it/s]\n",
      "/opt/conda/lib/python3.10/site-packages/sklearn/metrics/_classification.py:1344: UndefinedMetricWarning: Precision and F-score are ill-defined and being set to 0.0 in labels with no predicted samples. Use `zero_division` parameter to control this behavior.\n",
      "  _warn_prf(average, modifier, msg_start, len(result))\n"
     ]
    },
    {
     "name": "stdout",
     "output_type": "stream",
     "text": [
      "Epoch 63/100, Loss: 0.7684, Val Accuracy: 0.7213\n",
      "Precision: 0.6425, Recall: 0.7213, F1-score: 0.6782\n"
     ]
    },
    {
     "name": "stderr",
     "output_type": "stream",
     "text": [
      "Epoch 64/100: 100%|██████████| 3750/3750 [00:07<00:00, 476.41it/s]\n",
      "/opt/conda/lib/python3.10/site-packages/sklearn/metrics/_classification.py:1344: UndefinedMetricWarning: Precision and F-score are ill-defined and being set to 0.0 in labels with no predicted samples. Use `zero_division` parameter to control this behavior.\n",
      "  _warn_prf(average, modifier, msg_start, len(result))\n"
     ]
    },
    {
     "name": "stdout",
     "output_type": "stream",
     "text": [
      "Epoch 64/100, Loss: 0.7686, Val Accuracy: 0.7236\n",
      "Precision: 0.6607, Recall: 0.7236, F1-score: 0.6844\n"
     ]
    },
    {
     "name": "stderr",
     "output_type": "stream",
     "text": [
      "Epoch 65/100: 100%|██████████| 3750/3750 [00:07<00:00, 480.69it/s]\n",
      "/opt/conda/lib/python3.10/site-packages/sklearn/metrics/_classification.py:1344: UndefinedMetricWarning: Precision and F-score are ill-defined and being set to 0.0 in labels with no predicted samples. Use `zero_division` parameter to control this behavior.\n",
      "  _warn_prf(average, modifier, msg_start, len(result))\n"
     ]
    },
    {
     "name": "stdout",
     "output_type": "stream",
     "text": [
      "Epoch 65/100, Loss: 0.7692, Val Accuracy: 0.7248\n",
      "Precision: 0.6560, Recall: 0.7248, F1-score: 0.6844\n"
     ]
    },
    {
     "name": "stderr",
     "output_type": "stream",
     "text": [
      "Epoch 66/100: 100%|██████████| 3750/3750 [00:07<00:00, 480.44it/s]\n",
      "/opt/conda/lib/python3.10/site-packages/sklearn/metrics/_classification.py:1344: UndefinedMetricWarning: Precision and F-score are ill-defined and being set to 0.0 in labels with no predicted samples. Use `zero_division` parameter to control this behavior.\n",
      "  _warn_prf(average, modifier, msg_start, len(result))\n"
     ]
    },
    {
     "name": "stdout",
     "output_type": "stream",
     "text": [
      "Epoch 66/100, Loss: 0.7685, Val Accuracy: 0.7216\n",
      "Precision: 0.6655, Recall: 0.7216, F1-score: 0.6836\n"
     ]
    },
    {
     "name": "stderr",
     "output_type": "stream",
     "text": [
      "Epoch 67/100: 100%|██████████| 3750/3750 [00:07<00:00, 481.01it/s]\n",
      "/opt/conda/lib/python3.10/site-packages/sklearn/metrics/_classification.py:1344: UndefinedMetricWarning: Precision and F-score are ill-defined and being set to 0.0 in labels with no predicted samples. Use `zero_division` parameter to control this behavior.\n",
      "  _warn_prf(average, modifier, msg_start, len(result))\n"
     ]
    },
    {
     "name": "stdout",
     "output_type": "stream",
     "text": [
      "Epoch 67/100, Loss: 0.7696, Val Accuracy: 0.7206\n",
      "Precision: 0.6620, Recall: 0.7206, F1-score: 0.6823\n"
     ]
    },
    {
     "name": "stderr",
     "output_type": "stream",
     "text": [
      "Epoch 68/100: 100%|██████████| 3750/3750 [00:07<00:00, 471.63it/s]\n",
      "/opt/conda/lib/python3.10/site-packages/sklearn/metrics/_classification.py:1344: UndefinedMetricWarning: Precision and F-score are ill-defined and being set to 0.0 in labels with no predicted samples. Use `zero_division` parameter to control this behavior.\n",
      "  _warn_prf(average, modifier, msg_start, len(result))\n"
     ]
    },
    {
     "name": "stdout",
     "output_type": "stream",
     "text": [
      "Epoch 68/100, Loss: 0.7691, Val Accuracy: 0.7235\n",
      "Precision: 0.6621, Recall: 0.7235, F1-score: 0.6846\n"
     ]
    },
    {
     "name": "stderr",
     "output_type": "stream",
     "text": [
      "Epoch 69/100: 100%|██████████| 3750/3750 [00:07<00:00, 477.48it/s]\n",
      "/opt/conda/lib/python3.10/site-packages/sklearn/metrics/_classification.py:1344: UndefinedMetricWarning: Precision and F-score are ill-defined and being set to 0.0 in labels with no predicted samples. Use `zero_division` parameter to control this behavior.\n",
      "  _warn_prf(average, modifier, msg_start, len(result))\n"
     ]
    },
    {
     "name": "stdout",
     "output_type": "stream",
     "text": [
      "Epoch 69/100, Loss: 0.7690, Val Accuracy: 0.7234\n",
      "Precision: 0.6604, Recall: 0.7234, F1-score: 0.6842\n"
     ]
    },
    {
     "name": "stderr",
     "output_type": "stream",
     "text": [
      "Epoch 70/100: 100%|██████████| 3750/3750 [00:07<00:00, 483.94it/s]\n",
      "/opt/conda/lib/python3.10/site-packages/sklearn/metrics/_classification.py:1344: UndefinedMetricWarning: Precision and F-score are ill-defined and being set to 0.0 in labels with no predicted samples. Use `zero_division` parameter to control this behavior.\n",
      "  _warn_prf(average, modifier, msg_start, len(result))\n"
     ]
    },
    {
     "name": "stdout",
     "output_type": "stream",
     "text": [
      "Epoch 70/100, Loss: 0.7686, Val Accuracy: 0.7137\n",
      "Precision: 0.6757, Recall: 0.7137, F1-score: 0.6784\n"
     ]
    },
    {
     "name": "stderr",
     "output_type": "stream",
     "text": [
      "Epoch 71/100: 100%|██████████| 3750/3750 [00:07<00:00, 483.42it/s]\n",
      "/opt/conda/lib/python3.10/site-packages/sklearn/metrics/_classification.py:1344: UndefinedMetricWarning: Precision and F-score are ill-defined and being set to 0.0 in labels with no predicted samples. Use `zero_division` parameter to control this behavior.\n",
      "  _warn_prf(average, modifier, msg_start, len(result))\n"
     ]
    },
    {
     "name": "stdout",
     "output_type": "stream",
     "text": [
      "Epoch 71/100, Loss: 0.7688, Val Accuracy: 0.7211\n",
      "Precision: 0.6413, Recall: 0.7211, F1-score: 0.6776\n"
     ]
    },
    {
     "name": "stderr",
     "output_type": "stream",
     "text": [
      "Epoch 72/100: 100%|██████████| 3750/3750 [00:07<00:00, 473.92it/s]\n",
      "/opt/conda/lib/python3.10/site-packages/sklearn/metrics/_classification.py:1344: UndefinedMetricWarning: Precision and F-score are ill-defined and being set to 0.0 in labels with no predicted samples. Use `zero_division` parameter to control this behavior.\n",
      "  _warn_prf(average, modifier, msg_start, len(result))\n"
     ]
    },
    {
     "name": "stdout",
     "output_type": "stream",
     "text": [
      "Epoch 72/100, Loss: 0.7686, Val Accuracy: 0.7186\n",
      "Precision: 0.6774, Recall: 0.7186, F1-score: 0.6827\n"
     ]
    },
    {
     "name": "stderr",
     "output_type": "stream",
     "text": [
      "Epoch 73/100: 100%|██████████| 3750/3750 [00:07<00:00, 478.24it/s]\n",
      "/opt/conda/lib/python3.10/site-packages/sklearn/metrics/_classification.py:1344: UndefinedMetricWarning: Precision and F-score are ill-defined and being set to 0.0 in labels with no predicted samples. Use `zero_division` parameter to control this behavior.\n",
      "  _warn_prf(average, modifier, msg_start, len(result))\n"
     ]
    },
    {
     "name": "stdout",
     "output_type": "stream",
     "text": [
      "Epoch 73/100, Loss: 0.7674, Val Accuracy: 0.7221\n",
      "Precision: 0.6707, Recall: 0.7221, F1-score: 0.6848\n"
     ]
    },
    {
     "name": "stderr",
     "output_type": "stream",
     "text": [
      "Epoch 74/100: 100%|██████████| 3750/3750 [00:07<00:00, 483.98it/s]\n",
      "/opt/conda/lib/python3.10/site-packages/sklearn/metrics/_classification.py:1344: UndefinedMetricWarning: Precision and F-score are ill-defined and being set to 0.0 in labels with no predicted samples. Use `zero_division` parameter to control this behavior.\n",
      "  _warn_prf(average, modifier, msg_start, len(result))\n"
     ]
    },
    {
     "name": "stdout",
     "output_type": "stream",
     "text": [
      "Epoch 74/100, Loss: 0.7666, Val Accuracy: 0.7204\n",
      "Precision: 0.6375, Recall: 0.7204, F1-score: 0.6758\n"
     ]
    },
    {
     "name": "stderr",
     "output_type": "stream",
     "text": [
      "Epoch 75/100: 100%|██████████| 3750/3750 [00:07<00:00, 487.97it/s]\n",
      "/opt/conda/lib/python3.10/site-packages/sklearn/metrics/_classification.py:1344: UndefinedMetricWarning: Precision and F-score are ill-defined and being set to 0.0 in labels with no predicted samples. Use `zero_division` parameter to control this behavior.\n",
      "  _warn_prf(average, modifier, msg_start, len(result))\n"
     ]
    },
    {
     "name": "stdout",
     "output_type": "stream",
     "text": [
      "Epoch 75/100, Loss: 0.7675, Val Accuracy: 0.7245\n",
      "Precision: 0.6530, Recall: 0.7245, F1-score: 0.6834\n"
     ]
    },
    {
     "name": "stderr",
     "output_type": "stream",
     "text": [
      "Epoch 76/100: 100%|██████████| 3750/3750 [00:08<00:00, 466.92it/s]\n",
      "/opt/conda/lib/python3.10/site-packages/sklearn/metrics/_classification.py:1344: UndefinedMetricWarning: Precision and F-score are ill-defined and being set to 0.0 in labels with no predicted samples. Use `zero_division` parameter to control this behavior.\n",
      "  _warn_prf(average, modifier, msg_start, len(result))\n"
     ]
    },
    {
     "name": "stdout",
     "output_type": "stream",
     "text": [
      "Epoch 76/100, Loss: 0.7661, Val Accuracy: 0.7173\n",
      "Precision: 0.6679, Recall: 0.7173, F1-score: 0.6806\n"
     ]
    },
    {
     "name": "stderr",
     "output_type": "stream",
     "text": [
      "Epoch 77/100: 100%|██████████| 3750/3750 [00:07<00:00, 485.03it/s]\n",
      "/opt/conda/lib/python3.10/site-packages/sklearn/metrics/_classification.py:1344: UndefinedMetricWarning: Precision and F-score are ill-defined and being set to 0.0 in labels with no predicted samples. Use `zero_division` parameter to control this behavior.\n",
      "  _warn_prf(average, modifier, msg_start, len(result))\n"
     ]
    },
    {
     "name": "stdout",
     "output_type": "stream",
     "text": [
      "Epoch 77/100, Loss: 0.7674, Val Accuracy: 0.7170\n",
      "Precision: 0.6721, Recall: 0.7170, F1-score: 0.6809\n"
     ]
    },
    {
     "name": "stderr",
     "output_type": "stream",
     "text": [
      "Epoch 78/100: 100%|██████████| 3750/3750 [00:07<00:00, 485.55it/s]\n",
      "/opt/conda/lib/python3.10/site-packages/sklearn/metrics/_classification.py:1344: UndefinedMetricWarning: Precision and F-score are ill-defined and being set to 0.0 in labels with no predicted samples. Use `zero_division` parameter to control this behavior.\n",
      "  _warn_prf(average, modifier, msg_start, len(result))\n"
     ]
    },
    {
     "name": "stdout",
     "output_type": "stream",
     "text": [
      "Epoch 78/100, Loss: 0.7677, Val Accuracy: 0.7192\n",
      "Precision: 0.6693, Recall: 0.7192, F1-score: 0.6824\n"
     ]
    },
    {
     "name": "stderr",
     "output_type": "stream",
     "text": [
      "Epoch 79/100: 100%|██████████| 3750/3750 [00:07<00:00, 484.67it/s]\n",
      "/opt/conda/lib/python3.10/site-packages/sklearn/metrics/_classification.py:1344: UndefinedMetricWarning: Precision and F-score are ill-defined and being set to 0.0 in labels with no predicted samples. Use `zero_division` parameter to control this behavior.\n",
      "  _warn_prf(average, modifier, msg_start, len(result))\n"
     ]
    },
    {
     "name": "stdout",
     "output_type": "stream",
     "text": [
      "Epoch 79/100, Loss: 0.7662, Val Accuracy: 0.7250\n",
      "Precision: 0.6569, Recall: 0.7250, F1-score: 0.6847\n"
     ]
    },
    {
     "name": "stderr",
     "output_type": "stream",
     "text": [
      "Epoch 80/100: 100%|██████████| 3750/3750 [00:08<00:00, 455.52it/s]\n",
      "/opt/conda/lib/python3.10/site-packages/sklearn/metrics/_classification.py:1344: UndefinedMetricWarning: Precision and F-score are ill-defined and being set to 0.0 in labels with no predicted samples. Use `zero_division` parameter to control this behavior.\n",
      "  _warn_prf(average, modifier, msg_start, len(result))\n"
     ]
    },
    {
     "name": "stdout",
     "output_type": "stream",
     "text": [
      "Epoch 80/100, Loss: 0.7677, Val Accuracy: 0.7228\n",
      "Precision: 0.6663, Recall: 0.7228, F1-score: 0.6847\n"
     ]
    },
    {
     "name": "stderr",
     "output_type": "stream",
     "text": [
      "Epoch 81/100: 100%|██████████| 3750/3750 [00:07<00:00, 486.03it/s]\n",
      "/opt/conda/lib/python3.10/site-packages/sklearn/metrics/_classification.py:1344: UndefinedMetricWarning: Precision and F-score are ill-defined and being set to 0.0 in labels with no predicted samples. Use `zero_division` parameter to control this behavior.\n",
      "  _warn_prf(average, modifier, msg_start, len(result))\n"
     ]
    },
    {
     "name": "stdout",
     "output_type": "stream",
     "text": [
      "Epoch 81/100, Loss: 0.7677, Val Accuracy: 0.7168\n",
      "Precision: 0.6766, Recall: 0.7168, F1-score: 0.6812\n"
     ]
    },
    {
     "name": "stderr",
     "output_type": "stream",
     "text": [
      "Epoch 82/100: 100%|██████████| 3750/3750 [00:07<00:00, 482.79it/s]\n",
      "/opt/conda/lib/python3.10/site-packages/sklearn/metrics/_classification.py:1344: UndefinedMetricWarning: Precision and F-score are ill-defined and being set to 0.0 in labels with no predicted samples. Use `zero_division` parameter to control this behavior.\n",
      "  _warn_prf(average, modifier, msg_start, len(result))\n"
     ]
    },
    {
     "name": "stdout",
     "output_type": "stream",
     "text": [
      "Epoch 82/100, Loss: 0.7674, Val Accuracy: 0.7261\n",
      "Precision: 0.6618, Recall: 0.7261, F1-score: 0.6865\n"
     ]
    },
    {
     "name": "stderr",
     "output_type": "stream",
     "text": [
      "Epoch 83/100: 100%|██████████| 3750/3750 [00:07<00:00, 485.94it/s]\n",
      "/opt/conda/lib/python3.10/site-packages/sklearn/metrics/_classification.py:1344: UndefinedMetricWarning: Precision and F-score are ill-defined and being set to 0.0 in labels with no predicted samples. Use `zero_division` parameter to control this behavior.\n",
      "  _warn_prf(average, modifier, msg_start, len(result))\n"
     ]
    },
    {
     "name": "stdout",
     "output_type": "stream",
     "text": [
      "Epoch 83/100, Loss: 0.7673, Val Accuracy: 0.7238\n",
      "Precision: 0.6573, Recall: 0.7238, F1-score: 0.6839\n"
     ]
    },
    {
     "name": "stderr",
     "output_type": "stream",
     "text": [
      "Epoch 84/100: 100%|██████████| 3750/3750 [00:07<00:00, 476.82it/s]\n",
      "/opt/conda/lib/python3.10/site-packages/sklearn/metrics/_classification.py:1344: UndefinedMetricWarning: Precision and F-score are ill-defined and being set to 0.0 in labels with no predicted samples. Use `zero_division` parameter to control this behavior.\n",
      "  _warn_prf(average, modifier, msg_start, len(result))\n"
     ]
    },
    {
     "name": "stdout",
     "output_type": "stream",
     "text": [
      "Epoch 84/100, Loss: 0.7676, Val Accuracy: 0.7253\n",
      "Precision: 0.6579, Recall: 0.7253, F1-score: 0.6851\n"
     ]
    },
    {
     "name": "stderr",
     "output_type": "stream",
     "text": [
      "Epoch 85/100: 100%|██████████| 3750/3750 [00:07<00:00, 481.37it/s]\n",
      "/opt/conda/lib/python3.10/site-packages/sklearn/metrics/_classification.py:1344: UndefinedMetricWarning: Precision and F-score are ill-defined and being set to 0.0 in labels with no predicted samples. Use `zero_division` parameter to control this behavior.\n",
      "  _warn_prf(average, modifier, msg_start, len(result))\n"
     ]
    },
    {
     "name": "stdout",
     "output_type": "stream",
     "text": [
      "Epoch 85/100, Loss: 0.7655, Val Accuracy: 0.7222\n",
      "Precision: 0.6703, Recall: 0.7222, F1-score: 0.6849\n"
     ]
    },
    {
     "name": "stderr",
     "output_type": "stream",
     "text": [
      "Epoch 86/100: 100%|██████████| 3750/3750 [00:07<00:00, 485.04it/s]\n",
      "/opt/conda/lib/python3.10/site-packages/sklearn/metrics/_classification.py:1344: UndefinedMetricWarning: Precision and F-score are ill-defined and being set to 0.0 in labels with no predicted samples. Use `zero_division` parameter to control this behavior.\n",
      "  _warn_prf(average, modifier, msg_start, len(result))\n"
     ]
    },
    {
     "name": "stdout",
     "output_type": "stream",
     "text": [
      "Epoch 86/100, Loss: 0.7669, Val Accuracy: 0.7207\n",
      "Precision: 0.6657, Recall: 0.7207, F1-score: 0.6830\n"
     ]
    },
    {
     "name": "stderr",
     "output_type": "stream",
     "text": [
      "Epoch 87/100: 100%|██████████| 3750/3750 [00:07<00:00, 477.64it/s]\n",
      "/opt/conda/lib/python3.10/site-packages/sklearn/metrics/_classification.py:1344: UndefinedMetricWarning: Precision and F-score are ill-defined and being set to 0.0 in labels with no predicted samples. Use `zero_division` parameter to control this behavior.\n",
      "  _warn_prf(average, modifier, msg_start, len(result))\n"
     ]
    },
    {
     "name": "stdout",
     "output_type": "stream",
     "text": [
      "Epoch 87/100, Loss: 0.7682, Val Accuracy: 0.7206\n",
      "Precision: 0.6360, Recall: 0.7206, F1-score: 0.6753\n"
     ]
    },
    {
     "name": "stderr",
     "output_type": "stream",
     "text": [
      "Epoch 88/100: 100%|██████████| 3750/3750 [00:07<00:00, 481.08it/s]\n",
      "/opt/conda/lib/python3.10/site-packages/sklearn/metrics/_classification.py:1344: UndefinedMetricWarning: Precision and F-score are ill-defined and being set to 0.0 in labels with no predicted samples. Use `zero_division` parameter to control this behavior.\n",
      "  _warn_prf(average, modifier, msg_start, len(result))\n"
     ]
    },
    {
     "name": "stdout",
     "output_type": "stream",
     "text": [
      "Epoch 88/100, Loss: 0.7672, Val Accuracy: 0.7200\n",
      "Precision: 0.6781, Recall: 0.7200, F1-score: 0.6840\n"
     ]
    },
    {
     "name": "stderr",
     "output_type": "stream",
     "text": [
      "Epoch 89/100: 100%|██████████| 3750/3750 [00:07<00:00, 483.65it/s]\n",
      "/opt/conda/lib/python3.10/site-packages/sklearn/metrics/_classification.py:1344: UndefinedMetricWarning: Precision and F-score are ill-defined and being set to 0.0 in labels with no predicted samples. Use `zero_division` parameter to control this behavior.\n",
      "  _warn_prf(average, modifier, msg_start, len(result))\n"
     ]
    },
    {
     "name": "stdout",
     "output_type": "stream",
     "text": [
      "Epoch 89/100, Loss: 0.7675, Val Accuracy: 0.7238\n",
      "Precision: 0.6637, Recall: 0.7238, F1-score: 0.6851\n"
     ]
    },
    {
     "name": "stderr",
     "output_type": "stream",
     "text": [
      "Epoch 90/100: 100%|██████████| 3750/3750 [00:07<00:00, 486.78it/s]\n",
      "/opt/conda/lib/python3.10/site-packages/sklearn/metrics/_classification.py:1344: UndefinedMetricWarning: Precision and F-score are ill-defined and being set to 0.0 in labels with no predicted samples. Use `zero_division` parameter to control this behavior.\n",
      "  _warn_prf(average, modifier, msg_start, len(result))\n"
     ]
    },
    {
     "name": "stdout",
     "output_type": "stream",
     "text": [
      "Epoch 90/100, Loss: 0.7670, Val Accuracy: 0.7238\n",
      "Precision: 0.6703, Recall: 0.7238, F1-score: 0.6861\n"
     ]
    },
    {
     "name": "stderr",
     "output_type": "stream",
     "text": [
      "Epoch 91/100: 100%|██████████| 3750/3750 [00:07<00:00, 477.18it/s]\n",
      "/opt/conda/lib/python3.10/site-packages/sklearn/metrics/_classification.py:1344: UndefinedMetricWarning: Precision and F-score are ill-defined and being set to 0.0 in labels with no predicted samples. Use `zero_division` parameter to control this behavior.\n",
      "  _warn_prf(average, modifier, msg_start, len(result))\n"
     ]
    },
    {
     "name": "stdout",
     "output_type": "stream",
     "text": [
      "Epoch 91/100, Loss: 0.7667, Val Accuracy: 0.7250\n",
      "Precision: 0.6600, Recall: 0.7250, F1-score: 0.6854\n"
     ]
    },
    {
     "name": "stderr",
     "output_type": "stream",
     "text": [
      "Epoch 92/100: 100%|██████████| 3750/3750 [00:07<00:00, 477.38it/s]\n",
      "/opt/conda/lib/python3.10/site-packages/sklearn/metrics/_classification.py:1344: UndefinedMetricWarning: Precision and F-score are ill-defined and being set to 0.0 in labels with no predicted samples. Use `zero_division` parameter to control this behavior.\n",
      "  _warn_prf(average, modifier, msg_start, len(result))\n"
     ]
    },
    {
     "name": "stdout",
     "output_type": "stream",
     "text": [
      "Epoch 92/100, Loss: 0.7666, Val Accuracy: 0.7224\n",
      "Precision: 0.6714, Recall: 0.7224, F1-score: 0.6851\n"
     ]
    },
    {
     "name": "stderr",
     "output_type": "stream",
     "text": [
      "Epoch 93/100: 100%|██████████| 3750/3750 [00:07<00:00, 486.19it/s]\n",
      "/opt/conda/lib/python3.10/site-packages/sklearn/metrics/_classification.py:1344: UndefinedMetricWarning: Precision and F-score are ill-defined and being set to 0.0 in labels with no predicted samples. Use `zero_division` parameter to control this behavior.\n",
      "  _warn_prf(average, modifier, msg_start, len(result))\n"
     ]
    },
    {
     "name": "stdout",
     "output_type": "stream",
     "text": [
      "Epoch 93/100, Loss: 0.7665, Val Accuracy: 0.7208\n",
      "Precision: 0.6759, Recall: 0.7208, F1-score: 0.6844\n"
     ]
    },
    {
     "name": "stderr",
     "output_type": "stream",
     "text": [
      "Epoch 94/100: 100%|██████████| 3750/3750 [00:07<00:00, 479.24it/s]\n",
      "/opt/conda/lib/python3.10/site-packages/sklearn/metrics/_classification.py:1344: UndefinedMetricWarning: Precision and F-score are ill-defined and being set to 0.0 in labels with no predicted samples. Use `zero_division` parameter to control this behavior.\n",
      "  _warn_prf(average, modifier, msg_start, len(result))\n"
     ]
    },
    {
     "name": "stdout",
     "output_type": "stream",
     "text": [
      "Epoch 94/100, Loss: 0.7660, Val Accuracy: 0.7217\n",
      "Precision: 0.6654, Recall: 0.7217, F1-score: 0.6837\n"
     ]
    },
    {
     "name": "stderr",
     "output_type": "stream",
     "text": [
      "Epoch 95/100: 100%|██████████| 3750/3750 [00:07<00:00, 485.71it/s]\n",
      "/opt/conda/lib/python3.10/site-packages/sklearn/metrics/_classification.py:1344: UndefinedMetricWarning: Precision and F-score are ill-defined and being set to 0.0 in labels with no predicted samples. Use `zero_division` parameter to control this behavior.\n",
      "  _warn_prf(average, modifier, msg_start, len(result))\n"
     ]
    },
    {
     "name": "stdout",
     "output_type": "stream",
     "text": [
      "Epoch 95/100, Loss: 0.7666, Val Accuracy: 0.7127\n",
      "Precision: 0.6238, Recall: 0.7127, F1-score: 0.6653\n"
     ]
    },
    {
     "name": "stderr",
     "output_type": "stream",
     "text": [
      "Epoch 96/100: 100%|██████████| 3750/3750 [00:07<00:00, 474.42it/s]\n",
      "/opt/conda/lib/python3.10/site-packages/sklearn/metrics/_classification.py:1344: UndefinedMetricWarning: Precision and F-score are ill-defined and being set to 0.0 in labels with no predicted samples. Use `zero_division` parameter to control this behavior.\n",
      "  _warn_prf(average, modifier, msg_start, len(result))\n"
     ]
    },
    {
     "name": "stdout",
     "output_type": "stream",
     "text": [
      "Epoch 96/100, Loss: 0.7660, Val Accuracy: 0.7181\n",
      "Precision: 0.6780, Recall: 0.7181, F1-score: 0.6824\n"
     ]
    },
    {
     "name": "stderr",
     "output_type": "stream",
     "text": [
      "Epoch 97/100: 100%|██████████| 3750/3750 [00:07<00:00, 485.44it/s]\n",
      "/opt/conda/lib/python3.10/site-packages/sklearn/metrics/_classification.py:1344: UndefinedMetricWarning: Precision and F-score are ill-defined and being set to 0.0 in labels with no predicted samples. Use `zero_division` parameter to control this behavior.\n",
      "  _warn_prf(average, modifier, msg_start, len(result))\n"
     ]
    },
    {
     "name": "stdout",
     "output_type": "stream",
     "text": [
      "Epoch 97/100, Loss: 0.7659, Val Accuracy: 0.7018\n",
      "Precision: 0.6882, Recall: 0.7018, F1-score: 0.6689\n"
     ]
    },
    {
     "name": "stderr",
     "output_type": "stream",
     "text": [
      "Epoch 98/100: 100%|██████████| 3750/3750 [00:07<00:00, 478.69it/s]\n",
      "/opt/conda/lib/python3.10/site-packages/sklearn/metrics/_classification.py:1344: UndefinedMetricWarning: Precision and F-score are ill-defined and being set to 0.0 in labels with no predicted samples. Use `zero_division` parameter to control this behavior.\n",
      "  _warn_prf(average, modifier, msg_start, len(result))\n"
     ]
    },
    {
     "name": "stdout",
     "output_type": "stream",
     "text": [
      "Epoch 98/100, Loss: 0.7667, Val Accuracy: 0.7211\n",
      "Precision: 0.6403, Recall: 0.7211, F1-score: 0.6773\n"
     ]
    },
    {
     "name": "stderr",
     "output_type": "stream",
     "text": [
      "Epoch 99/100: 100%|██████████| 3750/3750 [00:07<00:00, 481.81it/s]\n",
      "/opt/conda/lib/python3.10/site-packages/sklearn/metrics/_classification.py:1344: UndefinedMetricWarning: Precision and F-score are ill-defined and being set to 0.0 in labels with no predicted samples. Use `zero_division` parameter to control this behavior.\n",
      "  _warn_prf(average, modifier, msg_start, len(result))\n"
     ]
    },
    {
     "name": "stdout",
     "output_type": "stream",
     "text": [
      "Epoch 99/100, Loss: 0.7657, Val Accuracy: 0.7256\n",
      "Precision: 0.6524, Recall: 0.7256, F1-score: 0.6840\n"
     ]
    },
    {
     "name": "stderr",
     "output_type": "stream",
     "text": [
      "Epoch 100/100: 100%|██████████| 3750/3750 [00:08<00:00, 467.82it/s]\n"
     ]
    },
    {
     "name": "stdout",
     "output_type": "stream",
     "text": [
      "Epoch 100/100, Loss: 0.7661, Val Accuracy: 0.7242\n",
      "Precision: 0.6471, Recall: 0.7242, F1-score: 0.6816\n",
      "Training completed!\n",
      "Model saved successfully!\n"
     ]
    },
    {
     "name": "stderr",
     "output_type": "stream",
     "text": [
      "/opt/conda/lib/python3.10/site-packages/sklearn/metrics/_classification.py:1344: UndefinedMetricWarning: Precision and F-score are ill-defined and being set to 0.0 in labels with no predicted samples. Use `zero_division` parameter to control this behavior.\n",
      "  _warn_prf(average, modifier, msg_start, len(result))\n"
     ]
    }
   ],
   "source": [
    "# Training loop\n",
    "print(\"Training classification model...\")\n",
    "for epoch in range(num_epochs):\n",
    "    model.train()\n",
    "    total_loss = 0\n",
    "    for batch_embeddings, batch_labels in tqdm(train_loader, desc=f\"Epoch {epoch+1}/{num_epochs}\"):\n",
    "        batch_embeddings, batch_labels = batch_embeddings.to(device), batch_labels.to(device)\n",
    "        optimizer.zero_grad()\n",
    "        outputs = model(batch_embeddings)\n",
    "        loss = criterion(outputs, batch_labels)\n",
    "        loss.backward()\n",
    "        optimizer.step()\n",
    "        total_loss += loss.item()\n",
    "    \n",
    "    # Validation\n",
    "    model.eval()\n",
    "    val_preds = []\n",
    "    val_true = []\n",
    "    with torch.no_grad():\n",
    "        for batch_embeddings, batch_labels in val_loader:\n",
    "            batch_embeddings, batch_labels = batch_embeddings.to(device), batch_labels.to(device)\n",
    "            outputs = model(batch_embeddings)\n",
    "            _, preds = torch.max(outputs, 1)\n",
    "            val_preds.extend(preds.cpu().numpy())\n",
    "            val_true.extend(batch_labels.cpu().numpy())\n",
    "    \n",
    "    val_accuracy = accuracy_score(val_true, val_preds)\n",
    "    precision, recall, f1, _ = precision_recall_fscore_support(val_true, val_preds, average='weighted')\n",
    "    \n",
    "    print(f\"Epoch {epoch+1}/{num_epochs}, Loss: {total_loss/len(train_loader):.4f}, Val Accuracy: {val_accuracy:.4f}\")\n",
    "    print(f\"Precision: {precision:.4f}, Recall: {recall:.4f}, F1-score: {f1:.4f}\")\n",
    "\n",
    "print(\"Training completed!\")\n",
    "\n",
    "# Save the model\n",
    "torch.save(model.state_dict(), 'tweet_classifier.pth')\n",
    "print(\"Model saved successfully!\")\n",
    "\n",
    "# Function to get predictions for new data\n",
    "def predict(new_data):\n",
    "    model.eval()\n",
    "    with torch.no_grad():\n",
    "        embeddings = torch.tensor(new_data, dtype=torch.float32).to(device)\n",
    "        outputs = model(embeddings)\n",
    "        _, preds = torch.max(outputs, 1)\n",
    "    return label_encoder.inverse_transform(preds.cpu().numpy())\n",
    "\n",
    "# Example usage:\n",
    "# new_predictions = predict(new_embeddings)"
   ]
  },
  {
   "cell_type": "code",
   "execution_count": null,
   "id": "4e938984",
   "metadata": {
    "papermill": {
     "duration": 5.359979,
     "end_time": "2024-10-12T07:54:35.246568",
     "exception": false,
     "start_time": "2024-10-12T07:54:29.886589",
     "status": "completed"
    },
    "tags": []
   },
   "outputs": [],
   "source": []
  },
  {
   "cell_type": "code",
   "execution_count": null,
   "id": "abe79a17",
   "metadata": {
    "papermill": {
     "duration": 5.250715,
     "end_time": "2024-10-12T07:54:45.906204",
     "exception": false,
     "start_time": "2024-10-12T07:54:40.655489",
     "status": "completed"
    },
    "tags": []
   },
   "outputs": [],
   "source": []
  }
 ],
 "metadata": {
  "kaggle": {
   "accelerator": "none",
   "dataSources": [
    {
     "datasetId": 5801331,
     "sourceId": 9526829,
     "sourceType": "datasetVersion"
    },
    {
     "datasetId": 5817858,
     "sourceId": 9548807,
     "sourceType": "datasetVersion"
    }
   ],
   "dockerImageVersionId": 30787,
   "isGpuEnabled": false,
   "isInternetEnabled": true,
   "language": "python",
   "sourceType": "notebook"
  },
  "kernelspec": {
   "display_name": "Python 3",
   "language": "python",
   "name": "python3"
  },
  "language_info": {
   "codemirror_mode": {
    "name": "ipython",
    "version": 3
   },
   "file_extension": ".py",
   "mimetype": "text/x-python",
   "name": "python",
   "nbconvert_exporter": "python",
   "pygments_lexer": "ipython3",
   "version": "3.10.14"
  },
  "papermill": {
   "default_parameters": {},
   "duration": 7298.711692,
   "end_time": "2024-10-12T07:54:54.956311",
   "environment_variables": {},
   "exception": null,
   "input_path": "__notebook__.ipynb",
   "output_path": "__notebook__.ipynb",
   "parameters": {},
   "start_time": "2024-10-12T05:53:16.244619",
   "version": "2.6.0"
  },
  "widgets": {
   "application/vnd.jupyter.widget-state+json": {
    "state": {
     "03a063e5e4824f9a921ea6b6abb17c15": {
      "model_module": "@jupyter-widgets/base",
      "model_module_version": "1.2.0",
      "model_name": "LayoutModel",
      "state": {
       "_model_module": "@jupyter-widgets/base",
       "_model_module_version": "1.2.0",
       "_model_name": "LayoutModel",
       "_view_count": null,
       "_view_module": "@jupyter-widgets/base",
       "_view_module_version": "1.2.0",
       "_view_name": "LayoutView",
       "align_content": null,
       "align_items": null,
       "align_self": null,
       "border": null,
       "bottom": null,
       "display": null,
       "flex": null,
       "flex_flow": null,
       "grid_area": null,
       "grid_auto_columns": null,
       "grid_auto_flow": null,
       "grid_auto_rows": null,
       "grid_column": null,
       "grid_gap": null,
       "grid_row": null,
       "grid_template_areas": null,
       "grid_template_columns": null,
       "grid_template_rows": null,
       "height": null,
       "justify_content": null,
       "justify_items": null,
       "left": null,
       "margin": null,
       "max_height": null,
       "max_width": null,
       "min_height": null,
       "min_width": null,
       "object_fit": null,
       "object_position": null,
       "order": null,
       "overflow": null,
       "overflow_x": null,
       "overflow_y": null,
       "padding": null,
       "right": null,
       "top": null,
       "visibility": null,
       "width": null
      }
     },
     "137f431191f14dc5933bdff00f2bc812": {
      "model_module": "@jupyter-widgets/base",
      "model_module_version": "1.2.0",
      "model_name": "LayoutModel",
      "state": {
       "_model_module": "@jupyter-widgets/base",
       "_model_module_version": "1.2.0",
       "_model_name": "LayoutModel",
       "_view_count": null,
       "_view_module": "@jupyter-widgets/base",
       "_view_module_version": "1.2.0",
       "_view_name": "LayoutView",
       "align_content": null,
       "align_items": null,
       "align_self": null,
       "border": null,
       "bottom": null,
       "display": null,
       "flex": null,
       "flex_flow": null,
       "grid_area": null,
       "grid_auto_columns": null,
       "grid_auto_flow": null,
       "grid_auto_rows": null,
       "grid_column": null,
       "grid_gap": null,
       "grid_row": null,
       "grid_template_areas": null,
       "grid_template_columns": null,
       "grid_template_rows": null,
       "height": null,
       "justify_content": null,
       "justify_items": null,
       "left": null,
       "margin": null,
       "max_height": null,
       "max_width": null,
       "min_height": null,
       "min_width": null,
       "object_fit": null,
       "object_position": null,
       "order": null,
       "overflow": null,
       "overflow_x": null,
       "overflow_y": null,
       "padding": null,
       "right": null,
       "top": null,
       "visibility": null,
       "width": null
      }
     },
     "1592e87411e44606baf174e80cfbc77f": {
      "model_module": "@jupyter-widgets/base",
      "model_module_version": "1.2.0",
      "model_name": "LayoutModel",
      "state": {
       "_model_module": "@jupyter-widgets/base",
       "_model_module_version": "1.2.0",
       "_model_name": "LayoutModel",
       "_view_count": null,
       "_view_module": "@jupyter-widgets/base",
       "_view_module_version": "1.2.0",
       "_view_name": "LayoutView",
       "align_content": null,
       "align_items": null,
       "align_self": null,
       "border": null,
       "bottom": null,
       "display": null,
       "flex": null,
       "flex_flow": null,
       "grid_area": null,
       "grid_auto_columns": null,
       "grid_auto_flow": null,
       "grid_auto_rows": null,
       "grid_column": null,
       "grid_gap": null,
       "grid_row": null,
       "grid_template_areas": null,
       "grid_template_columns": null,
       "grid_template_rows": null,
       "height": null,
       "justify_content": null,
       "justify_items": null,
       "left": null,
       "margin": null,
       "max_height": null,
       "max_width": null,
       "min_height": null,
       "min_width": null,
       "object_fit": null,
       "object_position": null,
       "order": null,
       "overflow": null,
       "overflow_x": null,
       "overflow_y": null,
       "padding": null,
       "right": null,
       "top": null,
       "visibility": null,
       "width": null
      }
     },
     "16564eaea7ce40b8a2fa32b57f551276": {
      "model_module": "@jupyter-widgets/controls",
      "model_module_version": "1.5.0",
      "model_name": "HBoxModel",
      "state": {
       "_dom_classes": [],
       "_model_module": "@jupyter-widgets/controls",
       "_model_module_version": "1.5.0",
       "_model_name": "HBoxModel",
       "_view_count": null,
       "_view_module": "@jupyter-widgets/controls",
       "_view_module_version": "1.5.0",
       "_view_name": "HBoxView",
       "box_style": "",
       "children": [
        "IPY_MODEL_a098e040a10b4f0d98c5d0bbd5495d4e",
        "IPY_MODEL_7f5c8041d4e04ee488cafceeb612fc50",
        "IPY_MODEL_d350b23cdab04af1bd73cb13b49c60be"
       ],
       "layout": "IPY_MODEL_83ac07334d4a43678f537acfc84fc37c"
      }
     },
     "27c046fa71b5426a8553aea33d3be1da": {
      "model_module": "@jupyter-widgets/controls",
      "model_module_version": "1.5.0",
      "model_name": "FloatProgressModel",
      "state": {
       "_dom_classes": [],
       "_model_module": "@jupyter-widgets/controls",
       "_model_module_version": "1.5.0",
       "_model_name": "FloatProgressModel",
       "_view_count": null,
       "_view_module": "@jupyter-widgets/controls",
       "_view_module_version": "1.5.0",
       "_view_name": "ProgressView",
       "bar_style": "success",
       "description": "",
       "description_tooltip": null,
       "layout": "IPY_MODEL_ce8686b6192341489b634146d8ec8226",
       "max": 501204462.0,
       "min": 0.0,
       "orientation": "horizontal",
       "style": "IPY_MODEL_f701137375bd41f1bd0fd4d4e533dd31",
       "value": 501204462.0
      }
     },
     "439c67df1b8642c7af08ebd136814775": {
      "model_module": "@jupyter-widgets/controls",
      "model_module_version": "1.5.0",
      "model_name": "HTMLModel",
      "state": {
       "_dom_classes": [],
       "_model_module": "@jupyter-widgets/controls",
       "_model_module_version": "1.5.0",
       "_model_name": "HTMLModel",
       "_view_count": null,
       "_view_module": "@jupyter-widgets/controls",
       "_view_module_version": "1.5.0",
       "_view_name": "HTMLView",
       "description": "",
       "description_tooltip": null,
       "layout": "IPY_MODEL_03a063e5e4824f9a921ea6b6abb17c15",
       "placeholder": "​",
       "style": "IPY_MODEL_8e87ee7577694fb2a118a61f7f259848",
       "value": "vocab.json: 100%"
      }
     },
     "47015324f5c247e39f6b1e97ffb9f9bd": {
      "model_module": "@jupyter-widgets/controls",
      "model_module_version": "1.5.0",
      "model_name": "DescriptionStyleModel",
      "state": {
       "_model_module": "@jupyter-widgets/controls",
       "_model_module_version": "1.5.0",
       "_model_name": "DescriptionStyleModel",
       "_view_count": null,
       "_view_module": "@jupyter-widgets/base",
       "_view_module_version": "1.2.0",
       "_view_name": "StyleView",
       "description_width": ""
      }
     },
     "61dc3d1f55464521906db750a4316858": {
      "model_module": "@jupyter-widgets/base",
      "model_module_version": "1.2.0",
      "model_name": "LayoutModel",
      "state": {
       "_model_module": "@jupyter-widgets/base",
       "_model_module_version": "1.2.0",
       "_model_name": "LayoutModel",
       "_view_count": null,
       "_view_module": "@jupyter-widgets/base",
       "_view_module_version": "1.2.0",
       "_view_name": "LayoutView",
       "align_content": null,
       "align_items": null,
       "align_self": null,
       "border": null,
       "bottom": null,
       "display": null,
       "flex": null,
       "flex_flow": null,
       "grid_area": null,
       "grid_auto_columns": null,
       "grid_auto_flow": null,
       "grid_auto_rows": null,
       "grid_column": null,
       "grid_gap": null,
       "grid_row": null,
       "grid_template_areas": null,
       "grid_template_columns": null,
       "grid_template_rows": null,
       "height": null,
       "justify_content": null,
       "justify_items": null,
       "left": null,
       "margin": null,
       "max_height": null,
       "max_width": null,
       "min_height": null,
       "min_width": null,
       "object_fit": null,
       "object_position": null,
       "order": null,
       "overflow": null,
       "overflow_x": null,
       "overflow_y": null,
       "padding": null,
       "right": null,
       "top": null,
       "visibility": null,
       "width": null
      }
     },
     "67eccb9e5ee04670bea60b8899f9f919": {
      "model_module": "@jupyter-widgets/base",
      "model_module_version": "1.2.0",
      "model_name": "LayoutModel",
      "state": {
       "_model_module": "@jupyter-widgets/base",
       "_model_module_version": "1.2.0",
       "_model_name": "LayoutModel",
       "_view_count": null,
       "_view_module": "@jupyter-widgets/base",
       "_view_module_version": "1.2.0",
       "_view_name": "LayoutView",
       "align_content": null,
       "align_items": null,
       "align_self": null,
       "border": null,
       "bottom": null,
       "display": null,
       "flex": null,
       "flex_flow": null,
       "grid_area": null,
       "grid_auto_columns": null,
       "grid_auto_flow": null,
       "grid_auto_rows": null,
       "grid_column": null,
       "grid_gap": null,
       "grid_row": null,
       "grid_template_areas": null,
       "grid_template_columns": null,
       "grid_template_rows": null,
       "height": null,
       "justify_content": null,
       "justify_items": null,
       "left": null,
       "margin": null,
       "max_height": null,
       "max_width": null,
       "min_height": null,
       "min_width": null,
       "object_fit": null,
       "object_position": null,
       "order": null,
       "overflow": null,
       "overflow_x": null,
       "overflow_y": null,
       "padding": null,
       "right": null,
       "top": null,
       "visibility": null,
       "width": null
      }
     },
     "688677c5406e4bdfb81094bbacd2608b": {
      "model_module": "@jupyter-widgets/base",
      "model_module_version": "1.2.0",
      "model_name": "LayoutModel",
      "state": {
       "_model_module": "@jupyter-widgets/base",
       "_model_module_version": "1.2.0",
       "_model_name": "LayoutModel",
       "_view_count": null,
       "_view_module": "@jupyter-widgets/base",
       "_view_module_version": "1.2.0",
       "_view_name": "LayoutView",
       "align_content": null,
       "align_items": null,
       "align_self": null,
       "border": null,
       "bottom": null,
       "display": null,
       "flex": null,
       "flex_flow": null,
       "grid_area": null,
       "grid_auto_columns": null,
       "grid_auto_flow": null,
       "grid_auto_rows": null,
       "grid_column": null,
       "grid_gap": null,
       "grid_row": null,
       "grid_template_areas": null,
       "grid_template_columns": null,
       "grid_template_rows": null,
       "height": null,
       "justify_content": null,
       "justify_items": null,
       "left": null,
       "margin": null,
       "max_height": null,
       "max_width": null,
       "min_height": null,
       "min_width": null,
       "object_fit": null,
       "object_position": null,
       "order": null,
       "overflow": null,
       "overflow_x": null,
       "overflow_y": null,
       "padding": null,
       "right": null,
       "top": null,
       "visibility": null,
       "width": null
      }
     },
     "6de9d6c3f7c5417f94e98e8c9980e58f": {
      "model_module": "@jupyter-widgets/base",
      "model_module_version": "1.2.0",
      "model_name": "LayoutModel",
      "state": {
       "_model_module": "@jupyter-widgets/base",
       "_model_module_version": "1.2.0",
       "_model_name": "LayoutModel",
       "_view_count": null,
       "_view_module": "@jupyter-widgets/base",
       "_view_module_version": "1.2.0",
       "_view_name": "LayoutView",
       "align_content": null,
       "align_items": null,
       "align_self": null,
       "border": null,
       "bottom": null,
       "display": null,
       "flex": null,
       "flex_flow": null,
       "grid_area": null,
       "grid_auto_columns": null,
       "grid_auto_flow": null,
       "grid_auto_rows": null,
       "grid_column": null,
       "grid_gap": null,
       "grid_row": null,
       "grid_template_areas": null,
       "grid_template_columns": null,
       "grid_template_rows": null,
       "height": null,
       "justify_content": null,
       "justify_items": null,
       "left": null,
       "margin": null,
       "max_height": null,
       "max_width": null,
       "min_height": null,
       "min_width": null,
       "object_fit": null,
       "object_position": null,
       "order": null,
       "overflow": null,
       "overflow_x": null,
       "overflow_y": null,
       "padding": null,
       "right": null,
       "top": null,
       "visibility": null,
       "width": null
      }
     },
     "71886322d32f492cb66359010f4630f5": {
      "model_module": "@jupyter-widgets/controls",
      "model_module_version": "1.5.0",
      "model_name": "ProgressStyleModel",
      "state": {
       "_model_module": "@jupyter-widgets/controls",
       "_model_module_version": "1.5.0",
       "_model_name": "ProgressStyleModel",
       "_view_count": null,
       "_view_module": "@jupyter-widgets/base",
       "_view_module_version": "1.2.0",
       "_view_name": "StyleView",
       "bar_color": null,
       "description_width": ""
      }
     },
     "741735d62834440d8618f15bd80093f4": {
      "model_module": "@jupyter-widgets/controls",
      "model_module_version": "1.5.0",
      "model_name": "HTMLModel",
      "state": {
       "_dom_classes": [],
       "_model_module": "@jupyter-widgets/controls",
       "_model_module_version": "1.5.0",
       "_model_name": "HTMLModel",
       "_view_count": null,
       "_view_module": "@jupyter-widgets/controls",
       "_view_module_version": "1.5.0",
       "_view_name": "HTMLView",
       "description": "",
       "description_tooltip": null,
       "layout": "IPY_MODEL_e12019a1ecdd4d4ea09089a1d71fa6fd",
       "placeholder": "​",
       "style": "IPY_MODEL_e52c2e3fdf834c0e83e663f5109ae499",
       "value": "config.json: 100%"
      }
     },
     "7808cff3e9424123b58015379cdbd4bb": {
      "model_module": "@jupyter-widgets/controls",
      "model_module_version": "1.5.0",
      "model_name": "HTMLModel",
      "state": {
       "_dom_classes": [],
       "_model_module": "@jupyter-widgets/controls",
       "_model_module_version": "1.5.0",
       "_model_name": "HTMLModel",
       "_view_count": null,
       "_view_module": "@jupyter-widgets/controls",
       "_view_module_version": "1.5.0",
       "_view_name": "HTMLView",
       "description": "",
       "description_tooltip": null,
       "layout": "IPY_MODEL_ef1bc4b2a42e4d7b80b32f958b8cb5b6",
       "placeholder": "​",
       "style": "IPY_MODEL_d2e23bd709974c4cb109f856a4df8768",
       "value": " 899k/899k [00:00&lt;00:00, 12.9MB/s]"
      }
     },
     "7f5c8041d4e04ee488cafceeb612fc50": {
      "model_module": "@jupyter-widgets/controls",
      "model_module_version": "1.5.0",
      "model_name": "FloatProgressModel",
      "state": {
       "_dom_classes": [],
       "_model_module": "@jupyter-widgets/controls",
       "_model_module_version": "1.5.0",
       "_model_name": "FloatProgressModel",
       "_view_count": null,
       "_view_module": "@jupyter-widgets/controls",
       "_view_module_version": "1.5.0",
       "_view_name": "ProgressView",
       "bar_style": "success",
       "description": "",
       "description_tooltip": null,
       "layout": "IPY_MODEL_b5e2f6ce4e30421b94596005869e25e8",
       "max": 456318.0,
       "min": 0.0,
       "orientation": "horizontal",
       "style": "IPY_MODEL_71886322d32f492cb66359010f4630f5",
       "value": 456318.0
      }
     },
     "83ac07334d4a43678f537acfc84fc37c": {
      "model_module": "@jupyter-widgets/base",
      "model_module_version": "1.2.0",
      "model_name": "LayoutModel",
      "state": {
       "_model_module": "@jupyter-widgets/base",
       "_model_module_version": "1.2.0",
       "_model_name": "LayoutModel",
       "_view_count": null,
       "_view_module": "@jupyter-widgets/base",
       "_view_module_version": "1.2.0",
       "_view_name": "LayoutView",
       "align_content": null,
       "align_items": null,
       "align_self": null,
       "border": null,
       "bottom": null,
       "display": null,
       "flex": null,
       "flex_flow": null,
       "grid_area": null,
       "grid_auto_columns": null,
       "grid_auto_flow": null,
       "grid_auto_rows": null,
       "grid_column": null,
       "grid_gap": null,
       "grid_row": null,
       "grid_template_areas": null,
       "grid_template_columns": null,
       "grid_template_rows": null,
       "height": null,
       "justify_content": null,
       "justify_items": null,
       "left": null,
       "margin": null,
       "max_height": null,
       "max_width": null,
       "min_height": null,
       "min_width": null,
       "object_fit": null,
       "object_position": null,
       "order": null,
       "overflow": null,
       "overflow_x": null,
       "overflow_y": null,
       "padding": null,
       "right": null,
       "top": null,
       "visibility": null,
       "width": null
      }
     },
     "87edea1f91544ca7af9f393952886e6c": {
      "model_module": "@jupyter-widgets/controls",
      "model_module_version": "1.5.0",
      "model_name": "HBoxModel",
      "state": {
       "_dom_classes": [],
       "_model_module": "@jupyter-widgets/controls",
       "_model_module_version": "1.5.0",
       "_model_name": "HBoxModel",
       "_view_count": null,
       "_view_module": "@jupyter-widgets/controls",
       "_view_module_version": "1.5.0",
       "_view_name": "HBoxView",
       "box_style": "",
       "children": [
        "IPY_MODEL_741735d62834440d8618f15bd80093f4",
        "IPY_MODEL_ad8a9d916d2242afb0bbbad39b8c5fae",
        "IPY_MODEL_aae18285b198430094e6f29be67c433c"
       ],
       "layout": "IPY_MODEL_67eccb9e5ee04670bea60b8899f9f919"
      }
     },
     "8e87ee7577694fb2a118a61f7f259848": {
      "model_module": "@jupyter-widgets/controls",
      "model_module_version": "1.5.0",
      "model_name": "DescriptionStyleModel",
      "state": {
       "_model_module": "@jupyter-widgets/controls",
       "_model_module_version": "1.5.0",
       "_model_name": "DescriptionStyleModel",
       "_view_count": null,
       "_view_module": "@jupyter-widgets/base",
       "_view_module_version": "1.2.0",
       "_view_name": "StyleView",
       "description_width": ""
      }
     },
     "9bb3c388fd124890bab362eb322d8827": {
      "model_module": "@jupyter-widgets/controls",
      "model_module_version": "1.5.0",
      "model_name": "FloatProgressModel",
      "state": {
       "_dom_classes": [],
       "_model_module": "@jupyter-widgets/controls",
       "_model_module_version": "1.5.0",
       "_model_name": "FloatProgressModel",
       "_view_count": null,
       "_view_module": "@jupyter-widgets/controls",
       "_view_module_version": "1.5.0",
       "_view_name": "ProgressView",
       "bar_style": "success",
       "description": "",
       "description_tooltip": null,
       "layout": "IPY_MODEL_a90cd513c2b04e8ab500acbf8e6fc126",
       "max": 898823.0,
       "min": 0.0,
       "orientation": "horizontal",
       "style": "IPY_MODEL_a7bce2858cf940d5bba7c1b8a0beb930",
       "value": 898823.0
      }
     },
     "9fe57cba95bc435b86f562c11ad8a98c": {
      "model_module": "@jupyter-widgets/controls",
      "model_module_version": "1.5.0",
      "model_name": "HTMLModel",
      "state": {
       "_dom_classes": [],
       "_model_module": "@jupyter-widgets/controls",
       "_model_module_version": "1.5.0",
       "_model_name": "HTMLModel",
       "_view_count": null,
       "_view_module": "@jupyter-widgets/controls",
       "_view_module_version": "1.5.0",
       "_view_name": "HTMLView",
       "description": "",
       "description_tooltip": null,
       "layout": "IPY_MODEL_ebbd616cdcf14e0bbf452bd7cd8e8b69",
       "placeholder": "​",
       "style": "IPY_MODEL_e953aaf0cd7c479a99bd2c9863d92cb2",
       "value": "pytorch_model.bin: 100%"
      }
     },
     "a098e040a10b4f0d98c5d0bbd5495d4e": {
      "model_module": "@jupyter-widgets/controls",
      "model_module_version": "1.5.0",
      "model_name": "HTMLModel",
      "state": {
       "_dom_classes": [],
       "_model_module": "@jupyter-widgets/controls",
       "_model_module_version": "1.5.0",
       "_model_name": "HTMLModel",
       "_view_count": null,
       "_view_module": "@jupyter-widgets/controls",
       "_view_module_version": "1.5.0",
       "_view_name": "HTMLView",
       "description": "",
       "description_tooltip": null,
       "layout": "IPY_MODEL_61dc3d1f55464521906db750a4316858",
       "placeholder": "​",
       "style": "IPY_MODEL_ab4c22878b1149e2bd04b4dd6b4fb5e3",
       "value": "merges.txt: 100%"
      }
     },
     "a7bce2858cf940d5bba7c1b8a0beb930": {
      "model_module": "@jupyter-widgets/controls",
      "model_module_version": "1.5.0",
      "model_name": "ProgressStyleModel",
      "state": {
       "_model_module": "@jupyter-widgets/controls",
       "_model_module_version": "1.5.0",
       "_model_name": "ProgressStyleModel",
       "_view_count": null,
       "_view_module": "@jupyter-widgets/base",
       "_view_module_version": "1.2.0",
       "_view_name": "StyleView",
       "bar_color": null,
       "description_width": ""
      }
     },
     "a90cd513c2b04e8ab500acbf8e6fc126": {
      "model_module": "@jupyter-widgets/base",
      "model_module_version": "1.2.0",
      "model_name": "LayoutModel",
      "state": {
       "_model_module": "@jupyter-widgets/base",
       "_model_module_version": "1.2.0",
       "_model_name": "LayoutModel",
       "_view_count": null,
       "_view_module": "@jupyter-widgets/base",
       "_view_module_version": "1.2.0",
       "_view_name": "LayoutView",
       "align_content": null,
       "align_items": null,
       "align_self": null,
       "border": null,
       "bottom": null,
       "display": null,
       "flex": null,
       "flex_flow": null,
       "grid_area": null,
       "grid_auto_columns": null,
       "grid_auto_flow": null,
       "grid_auto_rows": null,
       "grid_column": null,
       "grid_gap": null,
       "grid_row": null,
       "grid_template_areas": null,
       "grid_template_columns": null,
       "grid_template_rows": null,
       "height": null,
       "justify_content": null,
       "justify_items": null,
       "left": null,
       "margin": null,
       "max_height": null,
       "max_width": null,
       "min_height": null,
       "min_width": null,
       "object_fit": null,
       "object_position": null,
       "order": null,
       "overflow": null,
       "overflow_x": null,
       "overflow_y": null,
       "padding": null,
       "right": null,
       "top": null,
       "visibility": null,
       "width": null
      }
     },
     "a95bbd3898074753b989ea61e3361339": {
      "model_module": "@jupyter-widgets/controls",
      "model_module_version": "1.5.0",
      "model_name": "HBoxModel",
      "state": {
       "_dom_classes": [],
       "_model_module": "@jupyter-widgets/controls",
       "_model_module_version": "1.5.0",
       "_model_name": "HBoxModel",
       "_view_count": null,
       "_view_module": "@jupyter-widgets/controls",
       "_view_module_version": "1.5.0",
       "_view_name": "HBoxView",
       "box_style": "",
       "children": [
        "IPY_MODEL_439c67df1b8642c7af08ebd136814775",
        "IPY_MODEL_9bb3c388fd124890bab362eb322d8827",
        "IPY_MODEL_7808cff3e9424123b58015379cdbd4bb"
       ],
       "layout": "IPY_MODEL_137f431191f14dc5933bdff00f2bc812"
      }
     },
     "aae18285b198430094e6f29be67c433c": {
      "model_module": "@jupyter-widgets/controls",
      "model_module_version": "1.5.0",
      "model_name": "HTMLModel",
      "state": {
       "_dom_classes": [],
       "_model_module": "@jupyter-widgets/controls",
       "_model_module_version": "1.5.0",
       "_model_name": "HTMLModel",
       "_view_count": null,
       "_view_module": "@jupyter-widgets/controls",
       "_view_module_version": "1.5.0",
       "_view_name": "HTMLView",
       "description": "",
       "description_tooltip": null,
       "layout": "IPY_MODEL_1592e87411e44606baf174e80cfbc77f",
       "placeholder": "​",
       "style": "IPY_MODEL_47015324f5c247e39f6b1e97ffb9f9bd",
       "value": " 565/565 [00:00&lt;00:00, 45.4kB/s]"
      }
     },
     "ab4c22878b1149e2bd04b4dd6b4fb5e3": {
      "model_module": "@jupyter-widgets/controls",
      "model_module_version": "1.5.0",
      "model_name": "DescriptionStyleModel",
      "state": {
       "_model_module": "@jupyter-widgets/controls",
       "_model_module_version": "1.5.0",
       "_model_name": "DescriptionStyleModel",
       "_view_count": null,
       "_view_module": "@jupyter-widgets/base",
       "_view_module_version": "1.2.0",
       "_view_name": "StyleView",
       "description_width": ""
      }
     },
     "ac7e48ce639f4939912592dcc1b53ada": {
      "model_module": "@jupyter-widgets/base",
      "model_module_version": "1.2.0",
      "model_name": "LayoutModel",
      "state": {
       "_model_module": "@jupyter-widgets/base",
       "_model_module_version": "1.2.0",
       "_model_name": "LayoutModel",
       "_view_count": null,
       "_view_module": "@jupyter-widgets/base",
       "_view_module_version": "1.2.0",
       "_view_name": "LayoutView",
       "align_content": null,
       "align_items": null,
       "align_self": null,
       "border": null,
       "bottom": null,
       "display": null,
       "flex": null,
       "flex_flow": null,
       "grid_area": null,
       "grid_auto_columns": null,
       "grid_auto_flow": null,
       "grid_auto_rows": null,
       "grid_column": null,
       "grid_gap": null,
       "grid_row": null,
       "grid_template_areas": null,
       "grid_template_columns": null,
       "grid_template_rows": null,
       "height": null,
       "justify_content": null,
       "justify_items": null,
       "left": null,
       "margin": null,
       "max_height": null,
       "max_width": null,
       "min_height": null,
       "min_width": null,
       "object_fit": null,
       "object_position": null,
       "order": null,
       "overflow": null,
       "overflow_x": null,
       "overflow_y": null,
       "padding": null,
       "right": null,
       "top": null,
       "visibility": null,
       "width": null
      }
     },
     "ad8a9d916d2242afb0bbbad39b8c5fae": {
      "model_module": "@jupyter-widgets/controls",
      "model_module_version": "1.5.0",
      "model_name": "FloatProgressModel",
      "state": {
       "_dom_classes": [],
       "_model_module": "@jupyter-widgets/controls",
       "_model_module_version": "1.5.0",
       "_model_name": "FloatProgressModel",
       "_view_count": null,
       "_view_module": "@jupyter-widgets/controls",
       "_view_module_version": "1.5.0",
       "_view_name": "ProgressView",
       "bar_style": "success",
       "description": "",
       "description_tooltip": null,
       "layout": "IPY_MODEL_688677c5406e4bdfb81094bbacd2608b",
       "max": 565.0,
       "min": 0.0,
       "orientation": "horizontal",
       "style": "IPY_MODEL_d0621710f199461fa1f18c16539c49b0",
       "value": 565.0
      }
     },
     "b5e2f6ce4e30421b94596005869e25e8": {
      "model_module": "@jupyter-widgets/base",
      "model_module_version": "1.2.0",
      "model_name": "LayoutModel",
      "state": {
       "_model_module": "@jupyter-widgets/base",
       "_model_module_version": "1.2.0",
       "_model_name": "LayoutModel",
       "_view_count": null,
       "_view_module": "@jupyter-widgets/base",
       "_view_module_version": "1.2.0",
       "_view_name": "LayoutView",
       "align_content": null,
       "align_items": null,
       "align_self": null,
       "border": null,
       "bottom": null,
       "display": null,
       "flex": null,
       "flex_flow": null,
       "grid_area": null,
       "grid_auto_columns": null,
       "grid_auto_flow": null,
       "grid_auto_rows": null,
       "grid_column": null,
       "grid_gap": null,
       "grid_row": null,
       "grid_template_areas": null,
       "grid_template_columns": null,
       "grid_template_rows": null,
       "height": null,
       "justify_content": null,
       "justify_items": null,
       "left": null,
       "margin": null,
       "max_height": null,
       "max_width": null,
       "min_height": null,
       "min_width": null,
       "object_fit": null,
       "object_position": null,
       "order": null,
       "overflow": null,
       "overflow_x": null,
       "overflow_y": null,
       "padding": null,
       "right": null,
       "top": null,
       "visibility": null,
       "width": null
      }
     },
     "b823990fdb2f47f592ffb8d6673e84dd": {
      "model_module": "@jupyter-widgets/controls",
      "model_module_version": "1.5.0",
      "model_name": "DescriptionStyleModel",
      "state": {
       "_model_module": "@jupyter-widgets/controls",
       "_model_module_version": "1.5.0",
       "_model_name": "DescriptionStyleModel",
       "_view_count": null,
       "_view_module": "@jupyter-widgets/base",
       "_view_module_version": "1.2.0",
       "_view_name": "StyleView",
       "description_width": ""
      }
     },
     "ce8686b6192341489b634146d8ec8226": {
      "model_module": "@jupyter-widgets/base",
      "model_module_version": "1.2.0",
      "model_name": "LayoutModel",
      "state": {
       "_model_module": "@jupyter-widgets/base",
       "_model_module_version": "1.2.0",
       "_model_name": "LayoutModel",
       "_view_count": null,
       "_view_module": "@jupyter-widgets/base",
       "_view_module_version": "1.2.0",
       "_view_name": "LayoutView",
       "align_content": null,
       "align_items": null,
       "align_self": null,
       "border": null,
       "bottom": null,
       "display": null,
       "flex": null,
       "flex_flow": null,
       "grid_area": null,
       "grid_auto_columns": null,
       "grid_auto_flow": null,
       "grid_auto_rows": null,
       "grid_column": null,
       "grid_gap": null,
       "grid_row": null,
       "grid_template_areas": null,
       "grid_template_columns": null,
       "grid_template_rows": null,
       "height": null,
       "justify_content": null,
       "justify_items": null,
       "left": null,
       "margin": null,
       "max_height": null,
       "max_width": null,
       "min_height": null,
       "min_width": null,
       "object_fit": null,
       "object_position": null,
       "order": null,
       "overflow": null,
       "overflow_x": null,
       "overflow_y": null,
       "padding": null,
       "right": null,
       "top": null,
       "visibility": null,
       "width": null
      }
     },
     "d0621710f199461fa1f18c16539c49b0": {
      "model_module": "@jupyter-widgets/controls",
      "model_module_version": "1.5.0",
      "model_name": "ProgressStyleModel",
      "state": {
       "_model_module": "@jupyter-widgets/controls",
       "_model_module_version": "1.5.0",
       "_model_name": "ProgressStyleModel",
       "_view_count": null,
       "_view_module": "@jupyter-widgets/base",
       "_view_module_version": "1.2.0",
       "_view_name": "StyleView",
       "bar_color": null,
       "description_width": ""
      }
     },
     "d2e23bd709974c4cb109f856a4df8768": {
      "model_module": "@jupyter-widgets/controls",
      "model_module_version": "1.5.0",
      "model_name": "DescriptionStyleModel",
      "state": {
       "_model_module": "@jupyter-widgets/controls",
       "_model_module_version": "1.5.0",
       "_model_name": "DescriptionStyleModel",
       "_view_count": null,
       "_view_module": "@jupyter-widgets/base",
       "_view_module_version": "1.2.0",
       "_view_name": "StyleView",
       "description_width": ""
      }
     },
     "d350b23cdab04af1bd73cb13b49c60be": {
      "model_module": "@jupyter-widgets/controls",
      "model_module_version": "1.5.0",
      "model_name": "HTMLModel",
      "state": {
       "_dom_classes": [],
       "_model_module": "@jupyter-widgets/controls",
       "_model_module_version": "1.5.0",
       "_model_name": "HTMLModel",
       "_view_count": null,
       "_view_module": "@jupyter-widgets/controls",
       "_view_module_version": "1.5.0",
       "_view_name": "HTMLView",
       "description": "",
       "description_tooltip": null,
       "layout": "IPY_MODEL_ac7e48ce639f4939912592dcc1b53ada",
       "placeholder": "​",
       "style": "IPY_MODEL_e34320c25c864b0d9111c156d31c1c4e",
       "value": " 456k/456k [00:00&lt;00:00, 26.4MB/s]"
      }
     },
     "de971b7c19434f4ca6b59084ecdb1bc3": {
      "model_module": "@jupyter-widgets/controls",
      "model_module_version": "1.5.0",
      "model_name": "HTMLModel",
      "state": {
       "_dom_classes": [],
       "_model_module": "@jupyter-widgets/controls",
       "_model_module_version": "1.5.0",
       "_model_name": "HTMLModel",
       "_view_count": null,
       "_view_module": "@jupyter-widgets/controls",
       "_view_module_version": "1.5.0",
       "_view_name": "HTMLView",
       "description": "",
       "description_tooltip": null,
       "layout": "IPY_MODEL_6de9d6c3f7c5417f94e98e8c9980e58f",
       "placeholder": "​",
       "style": "IPY_MODEL_b823990fdb2f47f592ffb8d6673e84dd",
       "value": " 501M/501M [00:01&lt;00:00, 315MB/s]"
      }
     },
     "e12019a1ecdd4d4ea09089a1d71fa6fd": {
      "model_module": "@jupyter-widgets/base",
      "model_module_version": "1.2.0",
      "model_name": "LayoutModel",
      "state": {
       "_model_module": "@jupyter-widgets/base",
       "_model_module_version": "1.2.0",
       "_model_name": "LayoutModel",
       "_view_count": null,
       "_view_module": "@jupyter-widgets/base",
       "_view_module_version": "1.2.0",
       "_view_name": "LayoutView",
       "align_content": null,
       "align_items": null,
       "align_self": null,
       "border": null,
       "bottom": null,
       "display": null,
       "flex": null,
       "flex_flow": null,
       "grid_area": null,
       "grid_auto_columns": null,
       "grid_auto_flow": null,
       "grid_auto_rows": null,
       "grid_column": null,
       "grid_gap": null,
       "grid_row": null,
       "grid_template_areas": null,
       "grid_template_columns": null,
       "grid_template_rows": null,
       "height": null,
       "justify_content": null,
       "justify_items": null,
       "left": null,
       "margin": null,
       "max_height": null,
       "max_width": null,
       "min_height": null,
       "min_width": null,
       "object_fit": null,
       "object_position": null,
       "order": null,
       "overflow": null,
       "overflow_x": null,
       "overflow_y": null,
       "padding": null,
       "right": null,
       "top": null,
       "visibility": null,
       "width": null
      }
     },
     "e34320c25c864b0d9111c156d31c1c4e": {
      "model_module": "@jupyter-widgets/controls",
      "model_module_version": "1.5.0",
      "model_name": "DescriptionStyleModel",
      "state": {
       "_model_module": "@jupyter-widgets/controls",
       "_model_module_version": "1.5.0",
       "_model_name": "DescriptionStyleModel",
       "_view_count": null,
       "_view_module": "@jupyter-widgets/base",
       "_view_module_version": "1.2.0",
       "_view_name": "StyleView",
       "description_width": ""
      }
     },
     "e52c2e3fdf834c0e83e663f5109ae499": {
      "model_module": "@jupyter-widgets/controls",
      "model_module_version": "1.5.0",
      "model_name": "DescriptionStyleModel",
      "state": {
       "_model_module": "@jupyter-widgets/controls",
       "_model_module_version": "1.5.0",
       "_model_name": "DescriptionStyleModel",
       "_view_count": null,
       "_view_module": "@jupyter-widgets/base",
       "_view_module_version": "1.2.0",
       "_view_name": "StyleView",
       "description_width": ""
      }
     },
     "e5f5b494104b4f38a7e3d1b221b5a849": {
      "model_module": "@jupyter-widgets/controls",
      "model_module_version": "1.5.0",
      "model_name": "HBoxModel",
      "state": {
       "_dom_classes": [],
       "_model_module": "@jupyter-widgets/controls",
       "_model_module_version": "1.5.0",
       "_model_name": "HBoxModel",
       "_view_count": null,
       "_view_module": "@jupyter-widgets/controls",
       "_view_module_version": "1.5.0",
       "_view_name": "HBoxView",
       "box_style": "",
       "children": [
        "IPY_MODEL_9fe57cba95bc435b86f562c11ad8a98c",
        "IPY_MODEL_27c046fa71b5426a8553aea33d3be1da",
        "IPY_MODEL_de971b7c19434f4ca6b59084ecdb1bc3"
       ],
       "layout": "IPY_MODEL_f33fc3529f754065977ebb66a8d2eacc"
      }
     },
     "e953aaf0cd7c479a99bd2c9863d92cb2": {
      "model_module": "@jupyter-widgets/controls",
      "model_module_version": "1.5.0",
      "model_name": "DescriptionStyleModel",
      "state": {
       "_model_module": "@jupyter-widgets/controls",
       "_model_module_version": "1.5.0",
       "_model_name": "DescriptionStyleModel",
       "_view_count": null,
       "_view_module": "@jupyter-widgets/base",
       "_view_module_version": "1.2.0",
       "_view_name": "StyleView",
       "description_width": ""
      }
     },
     "ebbd616cdcf14e0bbf452bd7cd8e8b69": {
      "model_module": "@jupyter-widgets/base",
      "model_module_version": "1.2.0",
      "model_name": "LayoutModel",
      "state": {
       "_model_module": "@jupyter-widgets/base",
       "_model_module_version": "1.2.0",
       "_model_name": "LayoutModel",
       "_view_count": null,
       "_view_module": "@jupyter-widgets/base",
       "_view_module_version": "1.2.0",
       "_view_name": "LayoutView",
       "align_content": null,
       "align_items": null,
       "align_self": null,
       "border": null,
       "bottom": null,
       "display": null,
       "flex": null,
       "flex_flow": null,
       "grid_area": null,
       "grid_auto_columns": null,
       "grid_auto_flow": null,
       "grid_auto_rows": null,
       "grid_column": null,
       "grid_gap": null,
       "grid_row": null,
       "grid_template_areas": null,
       "grid_template_columns": null,
       "grid_template_rows": null,
       "height": null,
       "justify_content": null,
       "justify_items": null,
       "left": null,
       "margin": null,
       "max_height": null,
       "max_width": null,
       "min_height": null,
       "min_width": null,
       "object_fit": null,
       "object_position": null,
       "order": null,
       "overflow": null,
       "overflow_x": null,
       "overflow_y": null,
       "padding": null,
       "right": null,
       "top": null,
       "visibility": null,
       "width": null
      }
     },
     "ef1bc4b2a42e4d7b80b32f958b8cb5b6": {
      "model_module": "@jupyter-widgets/base",
      "model_module_version": "1.2.0",
      "model_name": "LayoutModel",
      "state": {
       "_model_module": "@jupyter-widgets/base",
       "_model_module_version": "1.2.0",
       "_model_name": "LayoutModel",
       "_view_count": null,
       "_view_module": "@jupyter-widgets/base",
       "_view_module_version": "1.2.0",
       "_view_name": "LayoutView",
       "align_content": null,
       "align_items": null,
       "align_self": null,
       "border": null,
       "bottom": null,
       "display": null,
       "flex": null,
       "flex_flow": null,
       "grid_area": null,
       "grid_auto_columns": null,
       "grid_auto_flow": null,
       "grid_auto_rows": null,
       "grid_column": null,
       "grid_gap": null,
       "grid_row": null,
       "grid_template_areas": null,
       "grid_template_columns": null,
       "grid_template_rows": null,
       "height": null,
       "justify_content": null,
       "justify_items": null,
       "left": null,
       "margin": null,
       "max_height": null,
       "max_width": null,
       "min_height": null,
       "min_width": null,
       "object_fit": null,
       "object_position": null,
       "order": null,
       "overflow": null,
       "overflow_x": null,
       "overflow_y": null,
       "padding": null,
       "right": null,
       "top": null,
       "visibility": null,
       "width": null
      }
     },
     "f33fc3529f754065977ebb66a8d2eacc": {
      "model_module": "@jupyter-widgets/base",
      "model_module_version": "1.2.0",
      "model_name": "LayoutModel",
      "state": {
       "_model_module": "@jupyter-widgets/base",
       "_model_module_version": "1.2.0",
       "_model_name": "LayoutModel",
       "_view_count": null,
       "_view_module": "@jupyter-widgets/base",
       "_view_module_version": "1.2.0",
       "_view_name": "LayoutView",
       "align_content": null,
       "align_items": null,
       "align_self": null,
       "border": null,
       "bottom": null,
       "display": null,
       "flex": null,
       "flex_flow": null,
       "grid_area": null,
       "grid_auto_columns": null,
       "grid_auto_flow": null,
       "grid_auto_rows": null,
       "grid_column": null,
       "grid_gap": null,
       "grid_row": null,
       "grid_template_areas": null,
       "grid_template_columns": null,
       "grid_template_rows": null,
       "height": null,
       "justify_content": null,
       "justify_items": null,
       "left": null,
       "margin": null,
       "max_height": null,
       "max_width": null,
       "min_height": null,
       "min_width": null,
       "object_fit": null,
       "object_position": null,
       "order": null,
       "overflow": null,
       "overflow_x": null,
       "overflow_y": null,
       "padding": null,
       "right": null,
       "top": null,
       "visibility": null,
       "width": null
      }
     },
     "f701137375bd41f1bd0fd4d4e533dd31": {
      "model_module": "@jupyter-widgets/controls",
      "model_module_version": "1.5.0",
      "model_name": "ProgressStyleModel",
      "state": {
       "_model_module": "@jupyter-widgets/controls",
       "_model_module_version": "1.5.0",
       "_model_name": "ProgressStyleModel",
       "_view_count": null,
       "_view_module": "@jupyter-widgets/base",
       "_view_module_version": "1.2.0",
       "_view_name": "StyleView",
       "bar_color": null,
       "description_width": ""
      }
     }
    },
    "version_major": 2,
    "version_minor": 0
   }
  }
 },
 "nbformat": 4,
 "nbformat_minor": 5
}
