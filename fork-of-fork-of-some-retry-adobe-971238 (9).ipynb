{
 "cells": [
  {
   "cell_type": "code",
   "execution_count": 1,
   "id": "e94b8615",
   "metadata": {
    "_cell_guid": "b1076dfc-b9ad-4769-8c92-a6c4dae69d19",
    "_uuid": "8f2839f25d086af736a60e9eeb907d3b93b6e0e5",
    "execution": {
     "iopub.execute_input": "2024-10-12T13:49:47.189959Z",
     "iopub.status.busy": "2024-10-12T13:49:47.189623Z",
     "iopub.status.idle": "2024-10-12T13:49:47.194674Z",
     "shell.execute_reply": "2024-10-12T13:49:47.193840Z"
    },
    "papermill": {
     "duration": 0.021087,
     "end_time": "2024-10-12T13:49:47.196649",
     "exception": false,
     "start_time": "2024-10-12T13:49:47.175562",
     "status": "completed"
    },
    "tags": []
   },
   "outputs": [],
   "source": [
    "# # This Python 3 environment comes with many helpful analytics libraries installed\n",
    "# # It is defined by the kaggle/python Docker image: https://github.com/kaggle/docker-python\n",
    "# # For example, here's several helpful packages to load\n",
    "\n",
    "# import numpy as np # linear algebra\n",
    "# import pandas as pd # data processing, CSV file I/O (e.g. pd.read_csv)\n",
    "\n",
    "# # Input data files are available in the read-only \"../input/\" directory\n",
    "# # For example, running this (by clicking run or pressing Shift+Enter) will list all files under the input directory\n",
    "\n",
    "# import os\n",
    "# for dirname, _, filenames in os.walk('/kaggle/input'):\n",
    "#     for filename in filenames:\n",
    "#         print(os.path.join(dirname, filename))\n",
    "\n",
    "# # You can write up to 20GB to the current directory (/kaggle/working/) that gets preserved as output when you create a version using \"Save & Run All\" \n",
    "# # You can also write temporary files to /kaggle/temp/, but they won't be saved outside of the current session"
   ]
  },
  {
   "cell_type": "code",
   "execution_count": 2,
   "id": "05a0ae6e",
   "metadata": {
    "execution": {
     "iopub.execute_input": "2024-10-12T13:49:47.223597Z",
     "iopub.status.busy": "2024-10-12T13:49:47.222890Z",
     "iopub.status.idle": "2024-10-12T13:49:47.980745Z",
     "shell.execute_reply": "2024-10-12T13:49:47.979820Z"
    },
    "papermill": {
     "duration": 0.773715,
     "end_time": "2024-10-12T13:49:47.983509",
     "exception": false,
     "start_time": "2024-10-12T13:49:47.209794",
     "status": "completed"
    },
    "tags": []
   },
   "outputs": [],
   "source": [
    "import pandas as pd"
   ]
  },
  {
   "cell_type": "code",
   "execution_count": 3,
   "id": "ae21dad1",
   "metadata": {
    "execution": {
     "iopub.execute_input": "2024-10-12T13:49:48.016544Z",
     "iopub.status.busy": "2024-10-12T13:49:48.016084Z",
     "iopub.status.idle": "2024-10-12T13:49:48.020449Z",
     "shell.execute_reply": "2024-10-12T13:49:48.019546Z"
    },
    "papermill": {
     "duration": 0.021394,
     "end_time": "2024-10-12T13:49:48.022450",
     "exception": false,
     "start_time": "2024-10-12T13:49:48.001056",
     "status": "completed"
    },
    "tags": []
   },
   "outputs": [],
   "source": [
    "train_path = '/kaggle/input/adobetraindata/behaviour_simulation_train.csv'\n",
    "test_path = '/kaggle/input/inter-iit-mid-prep-adobe/problem_1_test_dataset/behaviour_simulation_test_company.xlsx'"
   ]
  },
  {
   "cell_type": "code",
   "execution_count": 4,
   "id": "4387d3a5",
   "metadata": {
    "execution": {
     "iopub.execute_input": "2024-10-12T13:49:48.048727Z",
     "iopub.status.busy": "2024-10-12T13:49:48.047965Z",
     "iopub.status.idle": "2024-10-12T13:49:50.423494Z",
     "shell.execute_reply": "2024-10-12T13:49:50.422685Z"
    },
    "papermill": {
     "duration": 2.391339,
     "end_time": "2024-10-12T13:49:50.425909",
     "exception": false,
     "start_time": "2024-10-12T13:49:48.034570",
     "status": "completed"
    },
    "tags": []
   },
   "outputs": [],
   "source": [
    "test_dataset = pd.read_excel(test_path)"
   ]
  },
  {
   "cell_type": "code",
   "execution_count": 5,
   "id": "a25c47df",
   "metadata": {
    "execution": {
     "iopub.execute_input": "2024-10-12T13:49:50.451941Z",
     "iopub.status.busy": "2024-10-12T13:49:50.451535Z",
     "iopub.status.idle": "2024-10-12T13:49:50.483695Z",
     "shell.execute_reply": "2024-10-12T13:49:50.482660Z"
    },
    "papermill": {
     "duration": 0.047394,
     "end_time": "2024-10-12T13:49:50.485765",
     "exception": false,
     "start_time": "2024-10-12T13:49:50.438371",
     "status": "completed"
    },
    "tags": []
   },
   "outputs": [
    {
     "name": "stdout",
     "output_type": "stream",
     "text": [
      "<class 'pandas.core.frame.DataFrame'>\n",
      "RangeIndex: 10000 entries, 0 to 9999\n",
      "Data columns (total 6 columns):\n",
      " #   Column            Non-Null Count  Dtype \n",
      "---  ------            --------------  ----- \n",
      " 0   id                10000 non-null  int64 \n",
      " 1   date              10000 non-null  object\n",
      " 2   content           10000 non-null  object\n",
      " 3   username          10000 non-null  object\n",
      " 4   media             10000 non-null  object\n",
      " 5   inferred company  10000 non-null  object\n",
      "dtypes: int64(1), object(5)\n",
      "memory usage: 468.9+ KB\n"
     ]
    }
   ],
   "source": [
    "test_dataset.info()"
   ]
  },
  {
   "cell_type": "code",
   "execution_count": 6,
   "id": "1bdcaae8",
   "metadata": {
    "execution": {
     "iopub.execute_input": "2024-10-12T13:49:50.512145Z",
     "iopub.status.busy": "2024-10-12T13:49:50.511828Z",
     "iopub.status.idle": "2024-10-12T13:49:55.230829Z",
     "shell.execute_reply": "2024-10-12T13:49:55.229959Z"
    },
    "papermill": {
     "duration": 4.734902,
     "end_time": "2024-10-12T13:49:55.233171",
     "exception": false,
     "start_time": "2024-10-12T13:49:50.498269",
     "status": "completed"
    },
    "tags": []
   },
   "outputs": [],
   "source": [
    "train_dataset = pd.read_csv(train_path)"
   ]
  },
  {
   "cell_type": "code",
   "execution_count": 7,
   "id": "21032cb2",
   "metadata": {
    "execution": {
     "iopub.execute_input": "2024-10-12T13:49:55.259452Z",
     "iopub.status.busy": "2024-10-12T13:49:55.258848Z",
     "iopub.status.idle": "2024-10-12T13:49:55.277848Z",
     "shell.execute_reply": "2024-10-12T13:49:55.276930Z"
    },
    "papermill": {
     "duration": 0.03408,
     "end_time": "2024-10-12T13:49:55.279760",
     "exception": false,
     "start_time": "2024-10-12T13:49:55.245680",
     "status": "completed"
    },
    "tags": []
   },
   "outputs": [
    {
     "data": {
      "text/html": [
       "<div>\n",
       "<style scoped>\n",
       "    .dataframe tbody tr th:only-of-type {\n",
       "        vertical-align: middle;\n",
       "    }\n",
       "\n",
       "    .dataframe tbody tr th {\n",
       "        vertical-align: top;\n",
       "    }\n",
       "\n",
       "    .dataframe thead th {\n",
       "        text-align: right;\n",
       "    }\n",
       "</style>\n",
       "<table border=\"1\" class=\"dataframe\">\n",
       "  <thead>\n",
       "    <tr style=\"text-align: right;\">\n",
       "      <th></th>\n",
       "      <th>id</th>\n",
       "      <th>date</th>\n",
       "      <th>likes</th>\n",
       "      <th>content</th>\n",
       "      <th>username</th>\n",
       "      <th>media</th>\n",
       "      <th>inferred company</th>\n",
       "    </tr>\n",
       "  </thead>\n",
       "  <tbody>\n",
       "    <tr>\n",
       "      <th>0</th>\n",
       "      <td>1</td>\n",
       "      <td>2020-12-12 00:47:00</td>\n",
       "      <td>1</td>\n",
       "      <td>Spend your weekend morning with a Ham, Egg, an...</td>\n",
       "      <td>TimHortonsPH</td>\n",
       "      <td>[Photo(previewUrl='https://pbs.twimg.com/media...</td>\n",
       "      <td>tim hortons</td>\n",
       "    </tr>\n",
       "    <tr>\n",
       "      <th>1</th>\n",
       "      <td>2</td>\n",
       "      <td>2018-06-30 10:04:20</td>\n",
       "      <td>2750</td>\n",
       "      <td>Watch rapper &lt;mention&gt; freestyle for over an H...</td>\n",
       "      <td>IndyMusic</td>\n",
       "      <td>[Photo(previewUrl='https://pbs.twimg.com/media...</td>\n",
       "      <td>independent</td>\n",
       "    </tr>\n",
       "    <tr>\n",
       "      <th>2</th>\n",
       "      <td>3</td>\n",
       "      <td>2020-09-29 19:47:28</td>\n",
       "      <td>57</td>\n",
       "      <td>Canadian Armenian community demands ban on mil...</td>\n",
       "      <td>CBCCanada</td>\n",
       "      <td>[Photo(previewUrl='https://pbs.twimg.com/media...</td>\n",
       "      <td>cbc</td>\n",
       "    </tr>\n",
       "    <tr>\n",
       "      <th>3</th>\n",
       "      <td>4</td>\n",
       "      <td>2020-10-01 11:40:09</td>\n",
       "      <td>152</td>\n",
       "      <td>1st in Europe to be devastated by COVID-19, It...</td>\n",
       "      <td>MKWilliamsRome</td>\n",
       "      <td>[Photo(previewUrl='https://pbs.twimg.com/media...</td>\n",
       "      <td>williams</td>\n",
       "    </tr>\n",
       "    <tr>\n",
       "      <th>4</th>\n",
       "      <td>5</td>\n",
       "      <td>2018-10-19 14:30:46</td>\n",
       "      <td>41</td>\n",
       "      <td>Congratulations to Pauletha Butts of &lt;mention&gt;...</td>\n",
       "      <td>BGISD</td>\n",
       "      <td>[Photo(previewUrl='https://pbs.twimg.com/media...</td>\n",
       "      <td>independent</td>\n",
       "    </tr>\n",
       "    <tr>\n",
       "      <th>...</th>\n",
       "      <td>...</td>\n",
       "      <td>...</td>\n",
       "      <td>...</td>\n",
       "      <td>...</td>\n",
       "      <td>...</td>\n",
       "      <td>...</td>\n",
       "      <td>...</td>\n",
       "    </tr>\n",
       "    <tr>\n",
       "      <th>299995</th>\n",
       "      <td>299996</td>\n",
       "      <td>2019-09-07 16:18:10</td>\n",
       "      <td>0</td>\n",
       "      <td>Barcelona Star Expected To Return Against Vale...</td>\n",
       "      <td>IndependentNGR</td>\n",
       "      <td>[Photo(previewUrl='https://pbs.twimg.com/media...</td>\n",
       "      <td>independent</td>\n",
       "    </tr>\n",
       "    <tr>\n",
       "      <th>299996</th>\n",
       "      <td>299997</td>\n",
       "      <td>2018-02-23 11:24:36</td>\n",
       "      <td>46</td>\n",
       "      <td>Kjeld Nuis of #NED is golden again... This tim...</td>\n",
       "      <td>CBCOlympics</td>\n",
       "      <td>[Video(thumbnailUrl='https://pbs.twimg.com/med...</td>\n",
       "      <td>cbc</td>\n",
       "    </tr>\n",
       "    <tr>\n",
       "      <th>299997</th>\n",
       "      <td>299998</td>\n",
       "      <td>2020-11-11 20:18:15</td>\n",
       "      <td>261</td>\n",
       "      <td>Grateful 🙌🏾 to have &lt;mention&gt; officially join ...</td>\n",
       "      <td>TeamCoachBuzz</td>\n",
       "      <td>[Photo(previewUrl='https://pbs.twimg.com/media...</td>\n",
       "      <td>williams</td>\n",
       "    </tr>\n",
       "    <tr>\n",
       "      <th>299998</th>\n",
       "      <td>299999</td>\n",
       "      <td>2019-10-29 10:44:00</td>\n",
       "      <td>119</td>\n",
       "      <td>The US Air Force's mysterious space plane just...</td>\n",
       "      <td>Independent</td>\n",
       "      <td>[Video(thumbnailUrl='https://pbs.twimg.com/med...</td>\n",
       "      <td>independent</td>\n",
       "    </tr>\n",
       "    <tr>\n",
       "      <th>299999</th>\n",
       "      <td>300000</td>\n",
       "      <td>2018-08-26 01:19:09</td>\n",
       "      <td>714</td>\n",
       "      <td>In 1967, he was shot down over Vietnam. By 200...</td>\n",
       "      <td>cnni</td>\n",
       "      <td>[Video(thumbnailUrl='https://pbs.twimg.com/ext...</td>\n",
       "      <td>cnn</td>\n",
       "    </tr>\n",
       "  </tbody>\n",
       "</table>\n",
       "<p>300000 rows × 7 columns</p>\n",
       "</div>"
      ],
      "text/plain": [
       "            id                 date  likes  \\\n",
       "0            1  2020-12-12 00:47:00      1   \n",
       "1            2  2018-06-30 10:04:20   2750   \n",
       "2            3  2020-09-29 19:47:28     57   \n",
       "3            4  2020-10-01 11:40:09    152   \n",
       "4            5  2018-10-19 14:30:46     41   \n",
       "...        ...                  ...    ...   \n",
       "299995  299996  2019-09-07 16:18:10      0   \n",
       "299996  299997  2018-02-23 11:24:36     46   \n",
       "299997  299998  2020-11-11 20:18:15    261   \n",
       "299998  299999  2019-10-29 10:44:00    119   \n",
       "299999  300000  2018-08-26 01:19:09    714   \n",
       "\n",
       "                                                  content        username  \\\n",
       "0       Spend your weekend morning with a Ham, Egg, an...    TimHortonsPH   \n",
       "1       Watch rapper <mention> freestyle for over an H...       IndyMusic   \n",
       "2       Canadian Armenian community demands ban on mil...       CBCCanada   \n",
       "3       1st in Europe to be devastated by COVID-19, It...  MKWilliamsRome   \n",
       "4       Congratulations to Pauletha Butts of <mention>...           BGISD   \n",
       "...                                                   ...             ...   \n",
       "299995  Barcelona Star Expected To Return Against Vale...  IndependentNGR   \n",
       "299996  Kjeld Nuis of #NED is golden again... This tim...     CBCOlympics   \n",
       "299997  Grateful 🙌🏾 to have <mention> officially join ...   TeamCoachBuzz   \n",
       "299998  The US Air Force's mysterious space plane just...     Independent   \n",
       "299999  In 1967, he was shot down over Vietnam. By 200...            cnni   \n",
       "\n",
       "                                                    media inferred company  \n",
       "0       [Photo(previewUrl='https://pbs.twimg.com/media...      tim hortons  \n",
       "1       [Photo(previewUrl='https://pbs.twimg.com/media...      independent  \n",
       "2       [Photo(previewUrl='https://pbs.twimg.com/media...              cbc  \n",
       "3       [Photo(previewUrl='https://pbs.twimg.com/media...         williams  \n",
       "4       [Photo(previewUrl='https://pbs.twimg.com/media...      independent  \n",
       "...                                                   ...              ...  \n",
       "299995  [Photo(previewUrl='https://pbs.twimg.com/media...      independent  \n",
       "299996  [Video(thumbnailUrl='https://pbs.twimg.com/med...              cbc  \n",
       "299997  [Photo(previewUrl='https://pbs.twimg.com/media...         williams  \n",
       "299998  [Video(thumbnailUrl='https://pbs.twimg.com/med...      independent  \n",
       "299999  [Video(thumbnailUrl='https://pbs.twimg.com/ext...              cnn  \n",
       "\n",
       "[300000 rows x 7 columns]"
      ]
     },
     "execution_count": 7,
     "metadata": {},
     "output_type": "execute_result"
    }
   ],
   "source": [
    "train_dataset"
   ]
  },
  {
   "cell_type": "code",
   "execution_count": 8,
   "id": "b5097ebd",
   "metadata": {
    "execution": {
     "iopub.execute_input": "2024-10-12T13:49:55.306800Z",
     "iopub.status.busy": "2024-10-12T13:49:55.306504Z",
     "iopub.status.idle": "2024-10-12T13:49:57.457919Z",
     "shell.execute_reply": "2024-10-12T13:49:57.456938Z"
    },
    "papermill": {
     "duration": 2.16725,
     "end_time": "2024-10-12T13:49:57.460102",
     "exception": false,
     "start_time": "2024-10-12T13:49:55.292852",
     "status": "completed"
    },
    "tags": []
   },
   "outputs": [
    {
     "name": "stdout",
     "output_type": "stream",
     "text": [
      "count    300000.000000\n",
      "mean        773.364793\n",
      "std        4931.463419\n",
      "min           0.000000\n",
      "25%           3.000000\n",
      "50%          76.000000\n",
      "75%         364.000000\n",
      "max      560193.000000\n",
      "Name: likes_capped, dtype: float64\n",
      "likes_binned\n",
      "0-100     0.548557\n",
      "101-1k    0.327200\n",
      "1k-10k    0.111780\n",
      "10k+      0.012463\n",
      "Name: proportion, dtype: float64\n"
     ]
    }
   ],
   "source": [
    "import pandas as pd\n",
    "import numpy as np\n",
    "from sklearn.model_selection import train_test_split\n",
    "from sklearn.preprocessing import OneHotEncoder, FunctionTransformer, LabelEncoder\n",
    "from sklearn.compose import ColumnTransformer\n",
    "from sklearn.pipeline import Pipeline\n",
    "from sklearn.metrics import accuracy_score, f1_score, classification_report\n",
    "from sklearn.base import BaseEstimator, TransformerMixin\n",
    "import xgboost as xgb\n",
    "# Load data\n",
    "train_data = train_dataset.copy()\n",
    "test_data = test_dataset.copy()\n",
    "# Bin the likes into categories\n",
    "# Define the cap threshold\n",
    "cap_value = 1000000\n",
    "# Apply the cap to the 'likes' column\n",
    "train_data['likes_capped'] = train_data['likes'].apply(lambda x: min(x, cap_value))\n",
    "# Check the distribution of the capped 'likes' column\n",
    "print(train_data['likes_capped'].describe())\n",
    "bins = [0, 100, 1000, 10000, cap_value]\n",
    "labels = ['0-100', '101-1k','1k-10k','10k+']\n",
    "train_data['likes_binned'] = pd.cut(train_data['likes_capped'], bins=bins, labels=labels, include_lowest=True)\n",
    "# Sample 10% of the data, stratified by binned likes\n",
    "sample_fraction = 0.01  # Change this to 1.0 for 100%\n",
    "train_data_sampled, _ = train_test_split(train_data, test_size=1-sample_fraction, random_state=42, stratify=train_data['likes_binned'])\n",
    "train_data_sampled = train_data_sampled.reset_index(drop=1)\n",
    "train_data_sampled = train_data.copy()\n",
    "\n",
    "# Check distribution\n",
    "print(train_data_sampled['likes_binned'].value_counts(normalize=True))\n"
   ]
  },
  {
   "cell_type": "code",
   "execution_count": 9,
   "id": "5cb641df",
   "metadata": {
    "execution": {
     "iopub.execute_input": "2024-10-12T13:49:57.487726Z",
     "iopub.status.busy": "2024-10-12T13:49:57.487256Z",
     "iopub.status.idle": "2024-10-12T13:50:17.358847Z",
     "shell.execute_reply": "2024-10-12T13:50:17.357628Z"
    },
    "papermill": {
     "duration": 19.88801,
     "end_time": "2024-10-12T13:50:17.361413",
     "exception": false,
     "start_time": "2024-10-12T13:49:57.473403",
     "status": "completed"
    },
    "scrolled": true,
    "tags": []
   },
   "outputs": [
    {
     "name": "stdout",
     "output_type": "stream",
     "text": [
      "Collecting node2vec\r\n",
      "  Downloading node2vec-0.5.0-py3-none-any.whl.metadata (849 bytes)\r\n",
      "Requirement already satisfied: gensim<5.0.0,>=4.3.0 in /opt/conda/lib/python3.10/site-packages (from node2vec) (4.3.3)\r\n",
      "Requirement already satisfied: joblib<2.0.0,>=1.4.0 in /opt/conda/lib/python3.10/site-packages (from node2vec) (1.4.2)\r\n",
      "Requirement already satisfied: networkx<4.0.0,>=3.1.0 in /opt/conda/lib/python3.10/site-packages (from node2vec) (3.3)\r\n",
      "Requirement already satisfied: numpy<2.0.0,>=1.24.0 in /opt/conda/lib/python3.10/site-packages (from node2vec) (1.26.4)\r\n",
      "Requirement already satisfied: tqdm<5.0.0,>=4.66.1 in /opt/conda/lib/python3.10/site-packages (from node2vec) (4.66.4)\r\n",
      "Collecting scipy<1.14.0,>=1.7.0 (from gensim<5.0.0,>=4.3.0->node2vec)\r\n",
      "  Downloading scipy-1.13.1-cp310-cp310-manylinux_2_17_x86_64.manylinux2014_x86_64.whl.metadata (60 kB)\r\n",
      "\u001b[2K     \u001b[90m━━━━━━━━━━━━━━━━━━━━━━━━━━━━━━━━━━━━━━━━\u001b[0m \u001b[32m60.6/60.6 kB\u001b[0m \u001b[31m2.5 MB/s\u001b[0m eta \u001b[36m0:00:00\u001b[0m\r\n",
      "\u001b[?25hRequirement already satisfied: smart-open>=1.8.1 in /opt/conda/lib/python3.10/site-packages (from gensim<5.0.0,>=4.3.0->node2vec) (7.0.4)\r\n",
      "Requirement already satisfied: wrapt in /opt/conda/lib/python3.10/site-packages (from smart-open>=1.8.1->gensim<5.0.0,>=4.3.0->node2vec) (1.16.0)\r\n",
      "Downloading node2vec-0.5.0-py3-none-any.whl (7.2 kB)\r\n",
      "Downloading scipy-1.13.1-cp310-cp310-manylinux_2_17_x86_64.manylinux2014_x86_64.whl (38.6 MB)\r\n",
      "\u001b[2K   \u001b[90m━━━━━━━━━━━━━━━━━━━━━━━━━━━━━━━━━━━━━━━━\u001b[0m \u001b[32m38.6/38.6 MB\u001b[0m \u001b[31m44.1 MB/s\u001b[0m eta \u001b[36m0:00:00\u001b[0m\r\n",
      "\u001b[?25hInstalling collected packages: scipy, node2vec\r\n",
      "  Attempting uninstall: scipy\r\n",
      "    Found existing installation: scipy 1.14.1\r\n",
      "    Uninstalling scipy-1.14.1:\r\n",
      "      Successfully uninstalled scipy-1.14.1\r\n",
      "\u001b[31mERROR: pip's dependency resolver does not currently take into account all the packages that are installed. This behaviour is the source of the following dependency conflicts.\r\n",
      "cuml 24.8.0 requires cupy-cuda11x>=12.0.0, which is not installed.\r\n",
      "cesium 0.12.3 requires numpy<3.0,>=2.0, but you have numpy 1.26.4 which is incompatible.\r\n",
      "libpysal 4.9.2 requires packaging>=22, but you have packaging 21.3 which is incompatible.\r\n",
      "libpysal 4.9.2 requires shapely>=2.0.1, but you have shapely 1.8.5.post1 which is incompatible.\r\n",
      "tsfresh 0.20.3 requires scipy>=1.14.0; python_version >= \"3.10\", but you have scipy 1.13.1 which is incompatible.\u001b[0m\u001b[31m\r\n",
      "\u001b[0mSuccessfully installed node2vec-0.5.0 scipy-1.13.1\r\n"
     ]
    }
   ],
   "source": [
    "!pip install node2vec"
   ]
  },
  {
   "cell_type": "code",
   "execution_count": 10,
   "id": "1173456e",
   "metadata": {
    "execution": {
     "iopub.execute_input": "2024-10-12T13:50:17.392829Z",
     "iopub.status.busy": "2024-10-12T13:50:17.392400Z",
     "iopub.status.idle": "2024-10-12T13:50:39.074554Z",
     "shell.execute_reply": "2024-10-12T13:50:39.073460Z"
    },
    "papermill": {
     "duration": 21.700312,
     "end_time": "2024-10-12T13:50:39.076592",
     "exception": false,
     "start_time": "2024-10-12T13:50:17.376280",
     "status": "completed"
    },
    "scrolled": true,
    "tags": []
   },
   "outputs": [
    {
     "name": "stdout",
     "output_type": "stream",
     "text": [
      "[nltk_data] Downloading package stopwords to /usr/share/nltk_data...\n",
      "[nltk_data]   Package stopwords is already up-to-date!\n",
      "[nltk_data] Downloading package punkt to /usr/share/nltk_data...\n",
      "[nltk_data]   Package punkt is already up-to-date!\n"
     ]
    },
    {
     "data": {
      "text/plain": [
       "True"
      ]
     },
     "execution_count": 10,
     "metadata": {},
     "output_type": "execute_result"
    }
   ],
   "source": [
    "import pandas as pd\n",
    "import numpy as np\n",
    "import torch\n",
    "from transformers import AutoTokenizer, AutoModel\n",
    "from sklearn.preprocessing import OneHotEncoder\n",
    "from datetime import datetime\n",
    "import networkx as nx\n",
    "from node2vec import Node2Vec\n",
    "import re\n",
    "from nltk.tokenize import TweetTokenizer\n",
    "from nltk.corpus import stopwords\n",
    "import emoji\n",
    "\n",
    "# Ensure you've downloaded necessary NLTK data\n",
    "import nltk\n",
    "nltk.download('stopwords')\n",
    "nltk.download('punkt')"
   ]
  },
  {
   "cell_type": "code",
   "execution_count": 11,
   "id": "4ed86aa2",
   "metadata": {
    "execution": {
     "iopub.execute_input": "2024-10-12T13:50:39.107998Z",
     "iopub.status.busy": "2024-10-12T13:50:39.107379Z",
     "iopub.status.idle": "2024-10-12T13:50:39.115316Z",
     "shell.execute_reply": "2024-10-12T13:50:39.114509Z"
    },
    "papermill": {
     "duration": 0.025739,
     "end_time": "2024-10-12T13:50:39.117195",
     "exception": false,
     "start_time": "2024-10-12T13:50:39.091456",
     "status": "completed"
    },
    "tags": []
   },
   "outputs": [],
   "source": [
    "# def preprocess_text(text):\n",
    "#     # Convert to lowercase\n",
    "#     text = text.lower()\n",
    "#     # Remove URLs\n",
    "#     text = re.sub(r'http\\S+|www\\S+|https\\S+', '', text, flags=re.MULTILINE)\n",
    "#     # Remove user mentions\n",
    "#     text = re.sub(r'@\\w+', '', text)\n",
    "#     # Remove non-letter characters\n",
    "#     text = re.sub(r'[^a-zA-Z\\s]', '', text)\n",
    "#     # Remove extra spaces\n",
    "#     text = re.sub(r'\\s+', ' ', text).strip()\n",
    "#     # Remove stopwords\n",
    "#     stop_words = set(stopwords.words('english'))\n",
    "#     text = ' '.join([word for word in text.split() if word not in stop_words])\n",
    "#     return text\n",
    "\n",
    "# def get_roberta_embedding(text):\n",
    "#     inputs = tokenizer(text, return_tensors=\"pt\", truncation=True, padding=True, max_length=512)\n",
    "#     with torch.no_grad():\n",
    "#         outputs = model(**inputs)\n",
    "#     return outputs.last_hidden_state.mean(dim=1).numpy().flatten()\n",
    "\n",
    "# def get_datetime_features(date_str):\n",
    "#     date = datetime.strptime(date_str, \"%Y-%m-%d %H:%M:%S\")\n",
    "#     return np.array([\n",
    "#         date.year, date.month, date.day, date.hour, date.minute,\n",
    "#         date.weekday(), date.timetuple().tm_yday,\n",
    "#         np.sin(2 * np.pi * date.hour / 24),  # Cyclical encoding for hour\n",
    "#         np.cos(2 * np.pi * date.hour / 24),\n",
    "#         np.sin(2 * np.pi * date.month / 12),  # Cyclical encoding for month\n",
    "#         np.cos(2 * np.pi * date.month / 12)\n",
    "#     ])\n",
    "\n",
    "# def get_categorical_embedding(value, encoder):\n",
    "#     return encoder.transform([[value]]).toarray().flatten()\n",
    "\n",
    "# def create_graph_embedding(df):\n",
    "#     G = nx.Graph()\n",
    "#     for _, row in df.iterrows():\n",
    "#         G.add_edge(row['username'], row['inferred company'])\n",
    "#         for mention in re.findall(r'@(\\w+)', row['content']):\n",
    "#             G.add_edge(row['username'], mention)\n",
    "    \n",
    "#     node2vec = Node2Vec(G, dimensions=64, walk_length=30, num_walks=200, workers=4)\n",
    "#     model = node2vec.fit(window=10, min_count=1, batch_words=4)\n",
    "    \n",
    "#     def get_node_embedding(node):\n",
    "#         try:\n",
    "#             return model.wv[node]\n",
    "#         except KeyError:\n",
    "#             return np.zeros(64)\n",
    "    \n",
    "#     df['user_graph_embedding'] = df['username'].apply(get_node_embedding)\n",
    "#     df['company_graph_embedding'] = df['inferred company'].apply(get_node_embedding)\n",
    "#     return df\n",
    "\n",
    "# def extract_hashtags(text):\n",
    "#     return ' '.join(re.findall(r'#(\\w+)', text))\n",
    "\n",
    "# def extract_emoji(text):\n",
    "#     return ' '.join([c for c in text if c in emoji.UNICODE_EMOJI['en']])\n",
    "\n",
    "# # Load the data\n",
    "# df = pd.read_csv(\"tweets.csv\")\n",
    "\n",
    "# # Preprocess text\n",
    "# df['processed_content'] = df['content'].apply(preprocess_text)\n",
    "# df['hashtags'] = df['content'].apply(extract_hashtags)\n",
    "# df['emojis'] = df['content'].apply(extract_emoji)\n",
    "\n",
    "# # Combine all text data\n",
    "# df['combined_text'] = df.apply(lambda row: f\"{row['processed_content']} {row['username']} {row['inferred company']} {row['hashtags']} {row['emojis']}\", axis=1)\n",
    "\n",
    "# # Generate text embeddings\n",
    "# df['combined_embedding'] = df['combined_text'].apply(get_roberta_embedding)\n",
    "\n",
    "# # Generate datetime embeddings\n",
    "# df['datetime_embedding'] = df['date'].apply(get_datetime_features)\n",
    "\n",
    "# # Generate categorical embeddings\n",
    "# company_encoder = OneHotEncoder(sparse=False)\n",
    "# company_encoder.fit(df['inferred company'].values.reshape(-1, 1))\n",
    "# df['company_embedding'] = df['inferred company'].apply(lambda x: get_categorical_embedding(x, company_encoder))\n",
    "\n",
    "# # Generate graph embeddings\n",
    "# df = create_graph_embedding(df)\n",
    "\n",
    "# # Combine all embeddings\n",
    "# df['rich_embedding'] = df.apply(lambda row: np.concatenate([\n",
    "#     row['combined_embedding'],\n",
    "#     row['datetime_embedding'],\n",
    "#     row['company_embedding'],\n",
    "#     row['user_graph_embedding'],\n",
    "#     row['company_graph_embedding']\n",
    "# ]), axis=1)\n",
    "\n",
    "# print(\"Rich embeddings generated successfully!\")\n",
    "# print(f\"Shape of rich embedding: {df['rich_embedding'].iloc[0].shape}\")\n",
    "\n",
    "# # Optional: Dimensionality reduction if needed\n",
    "# # from sklearn.decomposition import PCA\n",
    "# # pca = PCA(n_components=100)\n",
    "# # df['reduced_embedding'] = list(pca.fit_transform(np.stack(df['rich_embedding'])))\n",
    "\n",
    "# # Save the embeddings\n",
    "# np.save('rich_tweet_embeddings.npy', np.stack(df['rich_embedding']))\n",
    "# df[['id', 'content', 'username', 'inferred company']].to_csv('tweet_metadata.csv', index=False)\n",
    "\n",
    "# print(\"Embeddings and metadata saved successfully!\")"
   ]
  },
  {
   "cell_type": "code",
   "execution_count": 12,
   "id": "04f6cca4",
   "metadata": {
    "execution": {
     "iopub.execute_input": "2024-10-12T13:50:39.146903Z",
     "iopub.status.busy": "2024-10-12T13:50:39.146632Z",
     "iopub.status.idle": "2024-10-12T13:50:39.150197Z",
     "shell.execute_reply": "2024-10-12T13:50:39.149411Z"
    },
    "papermill": {
     "duration": 0.020442,
     "end_time": "2024-10-12T13:50:39.152004",
     "exception": false,
     "start_time": "2024-10-12T13:50:39.131562",
     "status": "completed"
    },
    "tags": []
   },
   "outputs": [],
   "source": [
    "# tokenize_username('AAASouthJersey')"
   ]
  },
  {
   "cell_type": "code",
   "execution_count": 13,
   "id": "2739b0d8",
   "metadata": {
    "execution": {
     "iopub.execute_input": "2024-10-12T13:50:39.184012Z",
     "iopub.status.busy": "2024-10-12T13:50:39.183723Z",
     "iopub.status.idle": "2024-10-12T13:50:39.187596Z",
     "shell.execute_reply": "2024-10-12T13:50:39.186742Z"
    },
    "papermill": {
     "duration": 0.021213,
     "end_time": "2024-10-12T13:50:39.189486",
     "exception": false,
     "start_time": "2024-10-12T13:50:39.168273",
     "status": "completed"
    },
    "scrolled": true,
    "tags": []
   },
   "outputs": [],
   "source": [
    "# set(df['username'])"
   ]
  },
  {
   "cell_type": "code",
   "execution_count": 14,
   "id": "6c42e815",
   "metadata": {
    "execution": {
     "iopub.execute_input": "2024-10-12T13:50:39.219963Z",
     "iopub.status.busy": "2024-10-12T13:50:39.219112Z",
     "iopub.status.idle": "2024-10-12T13:50:58.007223Z",
     "shell.execute_reply": "2024-10-12T13:50:58.006280Z"
    },
    "papermill": {
     "duration": 18.805606,
     "end_time": "2024-10-12T13:50:58.009542",
     "exception": false,
     "start_time": "2024-10-12T13:50:39.203936",
     "status": "completed"
    },
    "scrolled": true,
    "tags": []
   },
   "outputs": [
    {
     "name": "stdout",
     "output_type": "stream",
     "text": [
      "Using device: cuda\n"
     ]
    },
    {
     "data": {
      "application/vnd.jupyter.widget-view+json": {
       "model_id": "cb00125cf9714c64998f3cd1616b57c3",
       "version_major": 2,
       "version_minor": 0
      },
      "text/plain": [
       "config.json:   0%|          | 0.00/565 [00:00<?, ?B/s]"
      ]
     },
     "metadata": {},
     "output_type": "display_data"
    },
    {
     "data": {
      "application/vnd.jupyter.widget-view+json": {
       "model_id": "e17431d3324b443d9a3b888b4fb2b206",
       "version_major": 2,
       "version_minor": 0
      },
      "text/plain": [
       "vocab.json:   0%|          | 0.00/899k [00:00<?, ?B/s]"
      ]
     },
     "metadata": {},
     "output_type": "display_data"
    },
    {
     "data": {
      "application/vnd.jupyter.widget-view+json": {
       "model_id": "518b4acd8bcf493d92b083b35ef6f1c8",
       "version_major": 2,
       "version_minor": 0
      },
      "text/plain": [
       "merges.txt:   0%|          | 0.00/456k [00:00<?, ?B/s]"
      ]
     },
     "metadata": {},
     "output_type": "display_data"
    },
    {
     "name": "stderr",
     "output_type": "stream",
     "text": [
      "/opt/conda/lib/python3.10/site-packages/transformers/tokenization_utils_base.py:1617: FutureWarning: `clean_up_tokenization_spaces` was not set. It will be set to `True` by default. This behavior will be deprecated in transformers v4.45, and will be then set to `False` by default. For more details check this issue: https://github.com/huggingface/transformers/issues/31884\n",
      "  warnings.warn(\n"
     ]
    },
    {
     "data": {
      "application/vnd.jupyter.widget-view+json": {
       "model_id": "935739080b914aff86616dc14cecb26f",
       "version_major": 2,
       "version_minor": 0
      },
      "text/plain": [
       "pytorch_model.bin:   0%|          | 0.00/501M [00:00<?, ?B/s]"
      ]
     },
     "metadata": {},
     "output_type": "display_data"
    }
   ],
   "source": [
    "import pandas as pd\n",
    "import numpy as np\n",
    "import torch\n",
    "from transformers import AutoTokenizer, AutoModel, AutoModelForSequenceClassification, TrainingArguments, Trainer\n",
    "from sklearn.preprocessing import OneHotEncoder, LabelEncoder\n",
    "from sklearn.model_selection import train_test_split\n",
    "from datetime import datetime\n",
    "import networkx as nx\n",
    "from node2vec import Node2Vec\n",
    "import re\n",
    "from nltk.tokenize import TweetTokenizer\n",
    "from nltk.corpus import stopwords\n",
    "import emoji\n",
    "from tqdm import tqdm\n",
    "from torch.utils.data import Dataset, DataLoader\n",
    "import torch.nn as nn\n",
    "import torch.optim as optim\n",
    "from sklearn.metrics import accuracy_score, precision_recall_fscore_support\n",
    "\n",
    "# Check for GPU availability\n",
    "device = torch.device(\"cuda\" if torch.cuda.is_available() else \"cpu\")\n",
    "print(f\"Using device: {device}\")\n",
    "\n",
    "# Load specialized Twitter model\n",
    "model_name = \"cardiffnlp/twitter-roberta-base\"\n",
    "tokenizer = AutoTokenizer.from_pretrained(model_name)\n",
    "model = AutoModel.from_pretrained(model_name).to(device)"
   ]
  },
  {
   "cell_type": "code",
   "execution_count": 15,
   "id": "2d088e86",
   "metadata": {
    "execution": {
     "iopub.execute_input": "2024-10-12T13:50:58.043808Z",
     "iopub.status.busy": "2024-10-12T13:50:58.043089Z",
     "iopub.status.idle": "2024-10-12T13:50:58.060335Z",
     "shell.execute_reply": "2024-10-12T13:50:58.059430Z"
    },
    "papermill": {
     "duration": 0.035651,
     "end_time": "2024-10-12T13:50:58.062200",
     "exception": false,
     "start_time": "2024-10-12T13:50:58.026549",
     "status": "completed"
    },
    "tags": []
   },
   "outputs": [],
   "source": [
    "def preprocess_text(text):\n",
    "    # Convert to lowercase\n",
    "    text = text.lower()\n",
    "    # Remove URLs\n",
    "    text = re.sub(r'http\\S+|www\\S+|https\\S+', '', text, flags=re.MULTILINE)\n",
    "    # Remove user mentions\n",
    "    text = re.sub(r'@\\w+', '', text)\n",
    "    # Remove non-letter characters\n",
    "    text = re.sub(r'[^a-zA-Z\\s]', '', text)\n",
    "    # Remove extra spaces\n",
    "    text = re.sub(r'\\s+', ' ', text).strip()\n",
    "    # Remove stopwords\n",
    "    stop_words = set(stopwords.words('english'))\n",
    "    text = ' '.join([word for word in text.split() if word not in stop_words])\n",
    "    return text\n",
    "\n",
    "def get_roberta_embedding(text):\n",
    "    inputs = tokenizer(text, return_tensors=\"pt\", truncation=True, padding=True, max_length=512).to(device)\n",
    "    with torch.no_grad():\n",
    "        outputs = model(**inputs)\n",
    "    return outputs.last_hidden_state.mean(dim=1).cpu().numpy().flatten()\n",
    "def get_roberta_embedding_batch(texts):\n",
    "    inputs = tokenizer(texts, return_tensors=\"pt\", truncation=True, padding=True, max_length=512).to(device)\n",
    "    with torch.no_grad():\n",
    "        outputs = model(**inputs)\n",
    "    return outputs.last_hidden_state.mean(dim=1).cpu().numpy()\n",
    "\n",
    "def get_datetime_features(date_str):\n",
    "    date = datetime.strptime(date_str, \"%Y-%m-%d %H:%M:%S\")\n",
    "    return np.array([\n",
    "        date.year, date.month, date.day, date.hour, date.minute,\n",
    "        date.weekday(), date.timetuple().tm_yday,\n",
    "        np.sin(2 * np.pi * date.hour / 24),  # Cyclical encoding for hour\n",
    "        np.cos(2 * np.pi * date.hour / 24),\n",
    "        np.sin(2 * np.pi * date.month / 12),  # Cyclical encoding for month\n",
    "        np.cos(2 * np.pi * date.month / 12)\n",
    "    ])\n",
    "\n",
    "def get_categorical_embedding(value, encoder):\n",
    "    return encoder.transform([[value]]).flatten()\n",
    "\n",
    "def create_graph_embedding(df):\n",
    "    G = nx.Graph()\n",
    "    for _, row in df.iterrows():\n",
    "        G.add_edge(row['username'], row['inferred company'])\n",
    "        for mention in re.findall(r'@(\\w+)', row['content']):\n",
    "            G.add_edge(row['username'], mention)\n",
    "    \n",
    "    node2vec = Node2Vec(G, dimensions=64, walk_length=30, num_walks=200, workers=4)\n",
    "    model = node2vec.fit(window=10, min_count=1, batch_words=4)\n",
    "    \n",
    "    def get_node_embedding(node):\n",
    "        try:\n",
    "            return model.wv[node]\n",
    "        except KeyError:\n",
    "            return np.zeros(64)\n",
    "    \n",
    "    df['user_graph_embedding'] = df['username'].apply(get_node_embedding)\n",
    "    df['company_graph_embedding'] = df['inferred company'].apply(get_node_embedding)\n",
    "    return df\n",
    "\n",
    "def extract_hashtags(text):\n",
    "    return ' '.join(re.findall(r'#(\\w+)', text))\n",
    "\n",
    "def extract_emoji(text):\n",
    "    return ' '.join([c for c in text if emoji.is_emoji(c)])"
   ]
  },
  {
   "cell_type": "code",
   "execution_count": 16,
   "id": "d6b49a94",
   "metadata": {
    "execution": {
     "iopub.execute_input": "2024-10-12T13:50:58.094272Z",
     "iopub.status.busy": "2024-10-12T13:50:58.093951Z",
     "iopub.status.idle": "2024-10-12T13:50:58.098352Z",
     "shell.execute_reply": "2024-10-12T13:50:58.097511Z"
    },
    "papermill": {
     "duration": 0.022571,
     "end_time": "2024-10-12T13:50:58.100251",
     "exception": false,
     "start_time": "2024-10-12T13:50:58.077680",
     "status": "completed"
    },
    "tags": []
   },
   "outputs": [],
   "source": [
    "# # Label encode the binned categories\n",
    "# le = LabelEncoder()\n",
    "# y = le.fit_transform(train_data_sampled['likes_binned'])\n",
    "\n",
    "# # Define the groups based on the 'inferred_company'\n",
    "# groups = train_data_sampled['inferred company']\n",
    "\n",
    "# # Initialize GroupShuffleSplit with stratification\n",
    "# gss = StratifiedGroupKFold(n_splits=5,shuffle=True, random_state=42)\n",
    "# train_idx, val_idx = next(gss.split(train_data_sampled, train_data_sampled['likes_binned'], groups))\n",
    "# # Perform the split\n",
    "# # for train_idx, val_idx in gss.split(X_combined, y, groups):\n",
    "# X_train, X_val = train_data_sampled.iloc[train_idx].reset_index(drop=True), train_data_sampled.iloc[val_idx].reset_index(drop=True)\n",
    "# y_train, y_val = train_data_sampled['likes_capped'].iloc[train_idx].reset_index(drop=True), train_data_sampled['likes_capped'].iloc[val_idx].reset_index(drop=True)\n",
    "\n",
    "# # Ensure stratification within the group-based split\n",
    "# # print(f\"Training set class distribution: {np.bincount(y_train)}\")\n",
    "# # print(f\"Validation set class distribution: {np.bincount(y_val)}\")"
   ]
  },
  {
   "cell_type": "code",
   "execution_count": 17,
   "id": "f9969e2a",
   "metadata": {
    "execution": {
     "iopub.execute_input": "2024-10-12T13:50:58.132037Z",
     "iopub.status.busy": "2024-10-12T13:50:58.131441Z",
     "iopub.status.idle": "2024-10-12T13:52:08.314457Z",
     "shell.execute_reply": "2024-10-12T13:52:08.313546Z"
    },
    "papermill": {
     "duration": 70.201558,
     "end_time": "2024-10-12T13:52:08.316963",
     "exception": false,
     "start_time": "2024-10-12T13:50:58.115405",
     "status": "completed"
    },
    "tags": []
   },
   "outputs": [
    {
     "name": "stdout",
     "output_type": "stream",
     "text": [
      "Preprocessing train text...\n"
     ]
    }
   ],
   "source": [
    "# Load the data\n",
    "df = train_data_sampled.copy()\n",
    "\n",
    "# Preprocess text and combine data\n",
    "print(\"Preprocessing train text...\")\n",
    "df['processed_content'] = df['content'].apply(preprocess_text)\n",
    "df['hashtags'] = df['content'].apply(extract_hashtags)\n",
    "df['emojis'] = df['content'].apply(extract_emoji)\n",
    "df['combined_text'] = df.apply(lambda row: f\"{row['processed_content']} {row['username']} {row['hashtags']} {row['emojis']}\", axis=1)"
   ]
  },
  {
   "cell_type": "code",
   "execution_count": 18,
   "id": "2509ebd2",
   "metadata": {
    "execution": {
     "iopub.execute_input": "2024-10-12T13:52:08.351713Z",
     "iopub.status.busy": "2024-10-12T13:52:08.351140Z",
     "iopub.status.idle": "2024-10-12T14:02:01.615891Z",
     "shell.execute_reply": "2024-10-12T14:02:01.614853Z"
    },
    "papermill": {
     "duration": 593.284416,
     "end_time": "2024-10-12T14:02:01.618118",
     "exception": false,
     "start_time": "2024-10-12T13:52:08.333702",
     "status": "completed"
    },
    "tags": []
   },
   "outputs": [
    {
     "name": "stdout",
     "output_type": "stream",
     "text": [
      "Generating embeddings...\n"
     ]
    },
    {
     "name": "stderr",
     "output_type": "stream",
     "text": [
      "Generating text embeddings: 100%|██████████| 4688/4688 [09:53<00:00,  7.90it/s]\n"
     ]
    }
   ],
   "source": [
    "from torch.utils.data import DataLoader\n",
    "batch_size = 64\n",
    "\n",
    "# Create DataLoader for the text data\n",
    "dataloader = DataLoader(df['combined_text'].tolist(), batch_size=batch_size, shuffle=False)\n",
    "\n",
    "print(\"Generating embeddings...\")\n",
    "embeddings = []\n",
    "\n",
    "# Loop through the batches and generate embeddings\n",
    "for batch in tqdm(dataloader, desc=\"Generating text embeddings\"):\n",
    "    batch_embeddings = get_roberta_embedding_batch(batch)\n",
    "    embeddings.extend(batch_embeddings)\n",
    "\n",
    "# Add the embeddings to the dataframe\n",
    "df['combined_embedding'] = embeddings"
   ]
  },
  {
   "cell_type": "code",
   "execution_count": 19,
   "id": "23307bc7",
   "metadata": {
    "execution": {
     "iopub.execute_input": "2024-10-12T14:02:02.426751Z",
     "iopub.status.busy": "2024-10-12T14:02:02.425801Z",
     "iopub.status.idle": "2024-10-12T14:02:10.640089Z",
     "shell.execute_reply": "2024-10-12T14:02:10.639190Z"
    },
    "papermill": {
     "duration": 8.653443,
     "end_time": "2024-10-12T14:02:10.642401",
     "exception": false,
     "start_time": "2024-10-12T14:02:01.988958",
     "status": "completed"
    },
    "tags": []
   },
   "outputs": [
    {
     "name": "stdout",
     "output_type": "stream",
     "text": [
      "Generating other embeddings...\n"
     ]
    }
   ],
   "source": [
    "# Generate other embeddings\n",
    "print(\"Generating other embeddings...\")\n",
    "df['datetime_embedding'] = df['date'].apply(get_datetime_features)\n",
    "\n",
    "# company_encoder = OneHotEncoder(sparse=False)\n",
    "# company_encoder.fit(df['inferred company'].values.reshape(-1, 1))\n",
    "# df['company_embedding'] = df['inferred company'].apply(lambda x: get_categorical_embedding(x, company_encoder))"
   ]
  },
  {
   "cell_type": "code",
   "execution_count": 20,
   "id": "27ab2049",
   "metadata": {
    "execution": {
     "iopub.execute_input": "2024-10-12T14:02:11.387049Z",
     "iopub.status.busy": "2024-10-12T14:02:11.386665Z",
     "iopub.status.idle": "2024-10-12T14:04:29.820465Z",
     "shell.execute_reply": "2024-10-12T14:04:29.819404Z"
    },
    "papermill": {
     "duration": 138.803757,
     "end_time": "2024-10-12T14:04:29.822760",
     "exception": false,
     "start_time": "2024-10-12T14:02:11.019003",
     "status": "completed"
    },
    "scrolled": true,
    "tags": []
   },
   "outputs": [
    {
     "name": "stderr",
     "output_type": "stream",
     "text": [
      "/opt/conda/lib/python3.10/site-packages/transformers/tokenization_utils_base.py:1617: FutureWarning: `clean_up_tokenization_spaces` was not set. It will be set to `True` by default. This behavior will be deprecated in transformers v4.45, and will be then set to `False` by default. For more details check this issue: https://github.com/huggingface/transformers/issues/31884\n",
      "  warnings.warn(\n"
     ]
    },
    {
     "name": "stdout",
     "output_type": "stream",
     "text": [
      "Generating username embeddings...\n"
     ]
    },
    {
     "name": "stderr",
     "output_type": "stream",
     "text": [
      "Embedding Generation: 100%|██████████| 4688/4688 [01:59<00:00, 39.08it/s]\n"
     ]
    },
    {
     "name": "stdout",
     "output_type": "stream",
     "text": [
      "Training features generated successfully!\n",
      "Feature columns for use in neural network:\n",
      "Index(['id', 'date', 'likes', 'content', 'username', 'media',\n",
      "       'inferred company', 'likes_capped', 'likes_binned', 'processed_content',\n",
      "       'hashtags', 'emojis', 'combined_text', 'combined_embedding',\n",
      "       'datetime_embedding', 'tokenized_username', 'username_embedding',\n",
      "       'reduced_username_embedding'],\n",
      "      dtype='object')\n"
     ]
    }
   ],
   "source": [
    "import re\n",
    "import numpy as np\n",
    "import pandas as pd\n",
    "from collections import Counter\n",
    "from transformers import pipeline, AutoTokenizer, AutoModel\n",
    "from sklearn.decomposition import PCA\n",
    "import torch\n",
    "from tqdm import tqdm  # For progress tracking\n",
    "\n",
    "# Load the training data\n",
    "# df = pd.read_csv(\"train_tweets.csv\")\n",
    "\n",
    "device = torch.device('cuda' if torch.cuda.is_available() else 'cpu')  # Check for GPU\n",
    "\n",
    "# 1. Tokenize usernames and perform word frequency analysis\n",
    "def tokenize_username(username):\n",
    "    username = username.replace('_', ' ')\n",
    "    username_parts = re.findall(r'[A-Z][a-z]*|[a-z]+|\\d+', username)\n",
    "    return [word.lower() for word in username_parts]\n",
    "\n",
    "df['tokenized_username'] = df['username'].apply(tokenize_username)\n",
    "\n",
    "# 5. Username Embedding Generation using Pre-trained Model\n",
    "model_name = \"cardiffnlp/twitter-roberta-base\"\n",
    "tokenizer = AutoTokenizer.from_pretrained(model_name)\n",
    "model = AutoModel.from_pretrained(model_name).to(device)  # Move model to GPU\n",
    "\n",
    "def get_username_embedding_batch(usernames):\n",
    "    tokenized = tokenizer(usernames, return_tensors=\"pt\", truncation=True, padding=True, max_length=512).to(device)\n",
    "    with torch.no_grad():\n",
    "        outputs = model(**tokenized)\n",
    "    return outputs.last_hidden_state.mean(dim=1).cpu().numpy()\n",
    "\n",
    "# Batch size for processing\n",
    "batch_size = 64\n",
    "\n",
    "# Tokenize usernames and store them in a list\n",
    "tokenized_usernames = [' '.join(tokenize_username(username)) for username in df['username'].tolist()]\n",
    "\n",
    "# Create DataLoader for the usernames\n",
    "dataloader = DataLoader(tokenized_usernames, batch_size=batch_size, shuffle=False)\n",
    "\n",
    "# Generate embeddings in batches\n",
    "print(\"Generating username embeddings...\")\n",
    "embeddings = []\n",
    "\n",
    "for batch in tqdm(dataloader, desc=\"Embedding Generation\"):\n",
    "    batch_embeddings = get_username_embedding_batch(batch)\n",
    "    embeddings.extend(batch_embeddings)\n",
    "\n",
    "# Add embeddings back to the DataFrame\n",
    "df['username_embedding'] = embeddings\n",
    "# 6. Dimensionality Reduction with PCA\n",
    "pca = PCA(n_components=64)\n",
    "df['reduced_username_embedding'] = list(pca.fit_transform(np.stack(df['username_embedding'])))\n",
    "\n",
    "# 7. Feature List\n",
    "print(\"Training features generated successfully!\")\n",
    "print(\"Feature columns for use in neural network:\")\n",
    "print(df.columns)"
   ]
  },
  {
   "cell_type": "code",
   "execution_count": 21,
   "id": "30d1e5ee",
   "metadata": {
    "execution": {
     "iopub.execute_input": "2024-10-12T14:04:30.730835Z",
     "iopub.status.busy": "2024-10-12T14:04:30.730047Z",
     "iopub.status.idle": "2024-10-12T14:04:39.065727Z",
     "shell.execute_reply": "2024-10-12T14:04:39.064754Z"
    },
    "papermill": {
     "duration": 8.794513,
     "end_time": "2024-10-12T14:04:39.067921",
     "exception": false,
     "start_time": "2024-10-12T14:04:30.273408",
     "status": "completed"
    },
    "tags": []
   },
   "outputs": [
    {
     "name": "stdout",
     "output_type": "stream",
     "text": [
      "Combining embeddings...\n",
      "Shape of rich embedding: (843,)\n"
     ]
    }
   ],
   "source": [
    "# Combine all embeddings\n",
    "print(\"Combining embeddings...\")\n",
    "df['rich_embedding'] = df.apply(lambda row: np.concatenate([\n",
    "    row['combined_embedding'],\n",
    "    row['datetime_embedding'],\n",
    "    row['reduced_username_embedding']\n",
    "    # row['company_embedding']\n",
    "    # row['user_graph_embedding'],\n",
    "    # row['company_graph_embedding']\n",
    "]), axis=1)\n",
    "\n",
    "print(f\"Shape of rich embedding: {df['rich_embedding'].iloc[0].shape}\")"
   ]
  },
  {
   "cell_type": "code",
   "execution_count": 22,
   "id": "6eac3928",
   "metadata": {
    "execution": {
     "iopub.execute_input": "2024-10-12T14:04:40.024125Z",
     "iopub.status.busy": "2024-10-12T14:04:40.023336Z",
     "iopub.status.idle": "2024-10-12T14:04:40.030724Z",
     "shell.execute_reply": "2024-10-12T14:04:40.029810Z"
    },
    "papermill": {
     "duration": 0.458125,
     "end_time": "2024-10-12T14:04:40.032706",
     "exception": false,
     "start_time": "2024-10-12T14:04:39.574581",
     "status": "completed"
    },
    "tags": []
   },
   "outputs": [
    {
     "data": {
      "text/plain": [
       "0.8789840880647783"
      ]
     },
     "execution_count": 22,
     "metadata": {},
     "output_type": "execute_result"
    }
   ],
   "source": [
    "pca.explained_variance_ratio_.sum()"
   ]
  },
  {
   "cell_type": "code",
   "execution_count": 23,
   "id": "4395a9d7",
   "metadata": {
    "execution": {
     "iopub.execute_input": "2024-10-12T14:04:40.935800Z",
     "iopub.status.busy": "2024-10-12T14:04:40.934897Z",
     "iopub.status.idle": "2024-10-12T14:04:40.939508Z",
     "shell.execute_reply": "2024-10-12T14:04:40.938612Z"
    },
    "papermill": {
     "duration": 0.457319,
     "end_time": "2024-10-12T14:04:40.941519",
     "exception": false,
     "start_time": "2024-10-12T14:04:40.484200",
     "status": "completed"
    },
    "tags": []
   },
   "outputs": [],
   "source": [
    "# # Load the data\n",
    "# df = X_val\n",
    "\n",
    "# # Preprocess text and combine data\n",
    "# print(\"Preprocessing val text...\")\n",
    "# df['processed_content'] = df['content'].apply(preprocess_text)\n",
    "# df['hashtags'] = df['content'].apply(extract_hashtags)\n",
    "# df['emojis'] = df['content'].apply(extract_emoji)\n",
    "# df['combined_text'] = df.apply(lambda row: f\"{row['processed_content']} {row['username']} {row['inferred company']} {row['hashtags']} {row['emojis']}\", axis=1)"
   ]
  },
  {
   "cell_type": "code",
   "execution_count": 24,
   "id": "bdaae928",
   "metadata": {
    "execution": {
     "iopub.execute_input": "2024-10-12T14:04:41.893309Z",
     "iopub.status.busy": "2024-10-12T14:04:41.892945Z",
     "iopub.status.idle": "2024-10-12T14:04:41.897212Z",
     "shell.execute_reply": "2024-10-12T14:04:41.896296Z"
    },
    "papermill": {
     "duration": 0.458201,
     "end_time": "2024-10-12T14:04:41.899124",
     "exception": false,
     "start_time": "2024-10-12T14:04:41.440923",
     "status": "completed"
    },
    "tags": []
   },
   "outputs": [],
   "source": [
    "# # Generate embeddings with progress bar\n",
    "# print(\"Generating embeddings...\")\n",
    "# embeddings = []\n",
    "# for text in tqdm(df['combined_text'], desc=\"Generating text embeddings\"):\n",
    "#     embeddings.append(get_roberta_embedding(text))\n",
    "# df['combined_embedding'] = embeddings"
   ]
  },
  {
   "cell_type": "code",
   "execution_count": 25,
   "id": "415e619c",
   "metadata": {
    "execution": {
     "iopub.execute_input": "2024-10-12T14:04:42.833091Z",
     "iopub.status.busy": "2024-10-12T14:04:42.832294Z",
     "iopub.status.idle": "2024-10-12T14:04:42.836649Z",
     "shell.execute_reply": "2024-10-12T14:04:42.835716Z"
    },
    "papermill": {
     "duration": 0.458227,
     "end_time": "2024-10-12T14:04:42.838602",
     "exception": false,
     "start_time": "2024-10-12T14:04:42.380375",
     "status": "completed"
    },
    "tags": []
   },
   "outputs": [],
   "source": [
    "# # Generate other embeddings\n",
    "# print(\"Generating other embeddings...\")\n",
    "# df['datetime_embedding'] = df['date'].apply(get_datetime_features)\n",
    "\n",
    "# # company_encoder = OneHotEncoder(sparse=False)\n",
    "# # company_encoder.fit(df['inferred company'].values.reshape(-1, 1))\n",
    "# df['company_embedding'] = df['inferred company'].apply(lambda x: get_categorical_embedding(x, company_encoder))"
   ]
  },
  {
   "cell_type": "code",
   "execution_count": 26,
   "id": "def3ba12",
   "metadata": {
    "execution": {
     "iopub.execute_input": "2024-10-12T14:04:43.788957Z",
     "iopub.status.busy": "2024-10-12T14:04:43.788580Z",
     "iopub.status.idle": "2024-10-12T14:04:43.792947Z",
     "shell.execute_reply": "2024-10-12T14:04:43.791983Z"
    },
    "papermill": {
     "duration": 0.45876,
     "end_time": "2024-10-12T14:04:43.794952",
     "exception": false,
     "start_time": "2024-10-12T14:04:43.336192",
     "status": "completed"
    },
    "tags": []
   },
   "outputs": [],
   "source": [
    "# # Combine all embeddings\n",
    "# print(\"Combining embeddings...\")\n",
    "# df['rich_embedding'] = df.apply(lambda row: np.concatenate([\n",
    "#     row['combined_embedding'],\n",
    "#     row['datetime_embedding'],\n",
    "#     row['company_embedding']\n",
    "#     # row['user_graph_embedding'],\n",
    "#     # row['company_graph_embedding']\n",
    "# ]), axis=1)\n",
    "\n",
    "# print(f\"Shape of rich embedding: {df['rich_embedding'].iloc[0].shape}\")"
   ]
  },
  {
   "cell_type": "code",
   "execution_count": 27,
   "id": "01358a83",
   "metadata": {
    "execution": {
     "iopub.execute_input": "2024-10-12T14:04:44.700994Z",
     "iopub.status.busy": "2024-10-12T14:04:44.700588Z",
     "iopub.status.idle": "2024-10-12T14:04:44.704812Z",
     "shell.execute_reply": "2024-10-12T14:04:44.703870Z"
    },
    "papermill": {
     "duration": 0.45746,
     "end_time": "2024-10-12T14:04:44.706752",
     "exception": false,
     "start_time": "2024-10-12T14:04:44.249292",
     "status": "completed"
    },
    "scrolled": true,
    "tags": []
   },
   "outputs": [],
   "source": [
    "# print(\"Creating graph embeddings...\")\n",
    "# df = create_graph_embedding(df)"
   ]
  },
  {
   "cell_type": "code",
   "execution_count": 28,
   "id": "6919912a",
   "metadata": {
    "execution": {
     "iopub.execute_input": "2024-10-12T14:04:45.655853Z",
     "iopub.status.busy": "2024-10-12T14:04:45.655486Z",
     "iopub.status.idle": "2024-10-12T14:04:47.300266Z",
     "shell.execute_reply": "2024-10-12T14:04:47.299449Z"
    },
    "papermill": {
     "duration": 2.148307,
     "end_time": "2024-10-12T14:04:47.302497",
     "exception": false,
     "start_time": "2024-10-12T14:04:45.154190",
     "status": "completed"
    },
    "tags": []
   },
   "outputs": [],
   "source": [
    "import pandas as pd\n",
    "import numpy as np\n",
    "import torch\n",
    "import torch.nn as nn\n",
    "import torch.optim as optim\n",
    "from torch.utils.data import Dataset, DataLoader\n",
    "from sklearn.model_selection import train_test_split\n",
    "from sklearn.preprocessing import StandardScaler\n",
    "from tqdm import tqdm\n",
    "from sklearn.metrics import mean_squared_error, mean_absolute_error, r2_score\n",
    "\n",
    "\n",
    "\n",
    "# Prepare data for regression\n",
    "X = np.stack(df['rich_embedding'])\n",
    "y = df['likes_capped'].values\n",
    "\n",
    "# Log transform the target variable to handle skewness\n",
    "y = np.log1p(y)  # log1p is used to handle zero values\n",
    "\n",
    "# Split the data\n",
    "X_train, X_val, y_train, y_val = train_test_split(X, y, test_size=0.2, random_state=42)"
   ]
  },
  {
   "cell_type": "code",
   "execution_count": 29,
   "id": "9e29bce4",
   "metadata": {
    "execution": {
     "iopub.execute_input": "2024-10-12T14:04:48.203418Z",
     "iopub.status.busy": "2024-10-12T14:04:48.203022Z",
     "iopub.status.idle": "2024-10-12T14:04:51.114166Z",
     "shell.execute_reply": "2024-10-12T14:04:51.113345Z"
    },
    "papermill": {
     "duration": 3.366082,
     "end_time": "2024-10-12T14:04:51.116456",
     "exception": false,
     "start_time": "2024-10-12T14:04:47.750374",
     "status": "completed"
    },
    "tags": []
   },
   "outputs": [],
   "source": [
    "# Scale the features\n",
    "scaler = StandardScaler()\n",
    "X_train_scaled = scaler.fit_transform(X_train)\n",
    "X_val_scaled = scaler.transform(X_val)"
   ]
  },
  {
   "cell_type": "code",
   "execution_count": 30,
   "id": "3d1497af",
   "metadata": {
    "execution": {
     "iopub.execute_input": "2024-10-12T14:04:52.071503Z",
     "iopub.status.busy": "2024-10-12T14:04:52.070829Z",
     "iopub.status.idle": "2024-10-12T14:04:52.081063Z",
     "shell.execute_reply": "2024-10-12T14:04:52.080143Z"
    },
    "papermill": {
     "duration": 0.515012,
     "end_time": "2024-10-12T14:04:52.082966",
     "exception": false,
     "start_time": "2024-10-12T14:04:51.567954",
     "status": "completed"
    },
    "tags": []
   },
   "outputs": [],
   "source": [
    "# Define a neural network for regression\n",
    "class TweetLikesRegressor(nn.Module):\n",
    "    def __init__(self, input_dim, hidden_dim):\n",
    "        super(TweetLikesRegressor, self).__init__()\n",
    "        self.fc1 = nn.Linear(input_dim, hidden_dim)\n",
    "        self.fc2 = nn.Linear(hidden_dim, hidden_dim // 2)\n",
    "        self.fc3 = nn.Linear(hidden_dim // 2, 1)\n",
    "        self.relu = nn.ReLU()\n",
    "        self.dropout = nn.Dropout(0.3)\n",
    "    \n",
    "    def forward(self, x):\n",
    "        x = self.relu(self.fc1(x))\n",
    "        x = self.dropout(x)\n",
    "        x = self.relu(self.fc2(x))\n",
    "        x = self.dropout(x)\n",
    "        x = self.fc3(x)\n",
    "        return x.squeeze()\n",
    "\n",
    "# Create dataset and dataloader\n",
    "class TweetDataset(Dataset):\n",
    "    def __init__(self, embeddings, likes):\n",
    "        self.embeddings = torch.tensor(embeddings, dtype=torch.float32)\n",
    "        self.likes = torch.tensor(likes, dtype=torch.float32)\n",
    "    \n",
    "    def __len__(self):\n",
    "        return len(self.likes)\n",
    "    \n",
    "    def __getitem__(self, idx):\n",
    "        return self.embeddings[idx], self.likes[idx]\n",
    "\n",
    "# Hyperparameters\n",
    "input_dim = X_train.shape[1]\n",
    "hidden_dim = 256\n",
    "batch_size = 64\n",
    "num_epochs = 100\n",
    "learning_rate = 0.001"
   ]
  },
  {
   "cell_type": "code",
   "execution_count": 31,
   "id": "2b3513ac",
   "metadata": {
    "execution": {
     "iopub.execute_input": "2024-10-12T14:04:53.006839Z",
     "iopub.status.busy": "2024-10-12T14:04:53.005966Z",
     "iopub.status.idle": "2024-10-12T14:04:53.015929Z",
     "shell.execute_reply": "2024-10-12T14:04:53.015165Z"
    },
    "papermill": {
     "duration": 0.463808,
     "end_time": "2024-10-12T14:04:53.017985",
     "exception": false,
     "start_time": "2024-10-12T14:04:52.554177",
     "status": "completed"
    },
    "tags": []
   },
   "outputs": [],
   "source": [
    "# Create model, optimizer, and loss function\n",
    "model = TweetLikesRegressor(input_dim, hidden_dim).to(device)\n",
    "optimizer = optim.Adam(model.parameters(), lr=learning_rate)\n",
    "criterion = nn.MSELoss()"
   ]
  },
  {
   "cell_type": "code",
   "execution_count": 32,
   "id": "7d226e72",
   "metadata": {
    "execution": {
     "iopub.execute_input": "2024-10-12T14:04:53.961055Z",
     "iopub.status.busy": "2024-10-12T14:04:53.960280Z",
     "iopub.status.idle": "2024-10-12T14:04:54.351315Z",
     "shell.execute_reply": "2024-10-12T14:04:54.350454Z"
    },
    "papermill": {
     "duration": 0.886767,
     "end_time": "2024-10-12T14:04:54.353684",
     "exception": false,
     "start_time": "2024-10-12T14:04:53.466917",
     "status": "completed"
    },
    "tags": []
   },
   "outputs": [],
   "source": [
    "# Create datasets and dataloaders\n",
    "train_dataset = TweetDataset(X_train_scaled, y_train)\n",
    "val_dataset = TweetDataset(X_val_scaled, y_val)\n",
    "train_loader = DataLoader(train_dataset, batch_size=batch_size, shuffle=True)\n",
    "val_loader = DataLoader(val_dataset, batch_size=batch_size)"
   ]
  },
  {
   "cell_type": "code",
   "execution_count": 33,
   "id": "50ec19a0",
   "metadata": {
    "execution": {
     "iopub.execute_input": "2024-10-12T14:04:55.257902Z",
     "iopub.status.busy": "2024-10-12T14:04:55.257519Z",
     "iopub.status.idle": "2024-10-12T14:20:44.251775Z",
     "shell.execute_reply": "2024-10-12T14:20:44.250525Z"
    },
    "papermill": {
     "duration": 949.447699,
     "end_time": "2024-10-12T14:20:44.253816",
     "exception": false,
     "start_time": "2024-10-12T14:04:54.806117",
     "status": "completed"
    },
    "scrolled": true,
    "tags": []
   },
   "outputs": [
    {
     "name": "stdout",
     "output_type": "stream",
     "text": [
      "Training regression model...\n"
     ]
    },
    {
     "name": "stderr",
     "output_type": "stream",
     "text": [
      "Epoch 1/100: 100%|██████████| 3750/3750 [00:08<00:00, 425.49it/s]\n"
     ]
    },
    {
     "name": "stdout",
     "output_type": "stream",
     "text": [
      "Epoch 1/100, Loss: 1.8781\n",
      "Val MSE: 1.2229, Val MAE: 0.7919, Val R2: 0.8204\n",
      "New best model saved!\n"
     ]
    },
    {
     "name": "stderr",
     "output_type": "stream",
     "text": [
      "Epoch 2/100: 100%|██████████| 3750/3750 [00:08<00:00, 444.57it/s]\n"
     ]
    },
    {
     "name": "stdout",
     "output_type": "stream",
     "text": [
      "Epoch 2/100, Loss: 1.4025\n",
      "Val MSE: 1.0920, Val MAE: 0.7418, Val R2: 0.8396\n",
      "New best model saved!\n"
     ]
    },
    {
     "name": "stderr",
     "output_type": "stream",
     "text": [
      "Epoch 3/100: 100%|██████████| 3750/3750 [00:08<00:00, 444.54it/s]\n"
     ]
    },
    {
     "name": "stdout",
     "output_type": "stream",
     "text": [
      "Epoch 3/100, Loss: 1.2658\n",
      "Val MSE: 1.0034, Val MAE: 0.7014, Val R2: 0.8526\n",
      "New best model saved!\n"
     ]
    },
    {
     "name": "stderr",
     "output_type": "stream",
     "text": [
      "Epoch 4/100: 100%|██████████| 3750/3750 [00:08<00:00, 438.37it/s]\n"
     ]
    },
    {
     "name": "stdout",
     "output_type": "stream",
     "text": [
      "Epoch 4/100, Loss: 1.1868\n",
      "Val MSE: 0.9608, Val MAE: 0.6924, Val R2: 0.8589\n",
      "New best model saved!\n"
     ]
    },
    {
     "name": "stderr",
     "output_type": "stream",
     "text": [
      "Epoch 5/100: 100%|██████████| 3750/3750 [00:08<00:00, 444.99it/s]\n"
     ]
    },
    {
     "name": "stdout",
     "output_type": "stream",
     "text": [
      "Epoch 5/100, Loss: 1.1275\n",
      "Val MSE: 0.9077, Val MAE: 0.6820, Val R2: 0.8667\n",
      "New best model saved!\n"
     ]
    },
    {
     "name": "stderr",
     "output_type": "stream",
     "text": [
      "Epoch 6/100: 100%|██████████| 3750/3750 [00:08<00:00, 445.15it/s]\n"
     ]
    },
    {
     "name": "stdout",
     "output_type": "stream",
     "text": [
      "Epoch 6/100, Loss: 1.0846\n",
      "Val MSE: 0.9369, Val MAE: 0.6779, Val R2: 0.8624\n"
     ]
    },
    {
     "name": "stderr",
     "output_type": "stream",
     "text": [
      "Epoch 7/100: 100%|██████████| 3750/3750 [00:08<00:00, 440.70it/s]\n"
     ]
    },
    {
     "name": "stdout",
     "output_type": "stream",
     "text": [
      "Epoch 7/100, Loss: 1.0483\n",
      "Val MSE: 0.8729, Val MAE: 0.6746, Val R2: 0.8718\n",
      "New best model saved!\n"
     ]
    },
    {
     "name": "stderr",
     "output_type": "stream",
     "text": [
      "Epoch 8/100: 100%|██████████| 3750/3750 [00:08<00:00, 428.54it/s]\n"
     ]
    },
    {
     "name": "stdout",
     "output_type": "stream",
     "text": [
      "Epoch 8/100, Loss: 1.0106\n",
      "Val MSE: 0.8608, Val MAE: 0.6502, Val R2: 0.8736\n",
      "New best model saved!\n"
     ]
    },
    {
     "name": "stderr",
     "output_type": "stream",
     "text": [
      "Epoch 9/100: 100%|██████████| 3750/3750 [00:08<00:00, 436.04it/s]\n"
     ]
    },
    {
     "name": "stdout",
     "output_type": "stream",
     "text": [
      "Epoch 9/100, Loss: 0.9880\n",
      "Val MSE: 0.8266, Val MAE: 0.6419, Val R2: 0.8786\n",
      "New best model saved!\n"
     ]
    },
    {
     "name": "stderr",
     "output_type": "stream",
     "text": [
      "Epoch 10/100: 100%|██████████| 3750/3750 [00:08<00:00, 430.48it/s]\n"
     ]
    },
    {
     "name": "stdout",
     "output_type": "stream",
     "text": [
      "Epoch 10/100, Loss: 0.9661\n",
      "Val MSE: 0.8241, Val MAE: 0.6502, Val R2: 0.8790\n",
      "New best model saved!\n"
     ]
    },
    {
     "name": "stderr",
     "output_type": "stream",
     "text": [
      "Epoch 11/100: 100%|██████████| 3750/3750 [00:08<00:00, 423.75it/s]\n"
     ]
    },
    {
     "name": "stdout",
     "output_type": "stream",
     "text": [
      "Epoch 11/100, Loss: 0.9425\n",
      "Val MSE: 0.8344, Val MAE: 0.6608, Val R2: 0.8775\n"
     ]
    },
    {
     "name": "stderr",
     "output_type": "stream",
     "text": [
      "Epoch 12/100: 100%|██████████| 3750/3750 [00:08<00:00, 434.11it/s]\n"
     ]
    },
    {
     "name": "stdout",
     "output_type": "stream",
     "text": [
      "Epoch 12/100, Loss: 0.9241\n",
      "Val MSE: 0.8742, Val MAE: 0.6511, Val R2: 0.8716\n"
     ]
    },
    {
     "name": "stderr",
     "output_type": "stream",
     "text": [
      "Epoch 13/100: 100%|██████████| 3750/3750 [00:08<00:00, 432.31it/s]\n"
     ]
    },
    {
     "name": "stdout",
     "output_type": "stream",
     "text": [
      "Epoch 13/100, Loss: 0.9127\n",
      "Val MSE: 0.8235, Val MAE: 0.6357, Val R2: 0.8791\n",
      "New best model saved!\n"
     ]
    },
    {
     "name": "stderr",
     "output_type": "stream",
     "text": [
      "Epoch 14/100: 100%|██████████| 3750/3750 [00:08<00:00, 429.42it/s]\n"
     ]
    },
    {
     "name": "stdout",
     "output_type": "stream",
     "text": [
      "Epoch 14/100, Loss: 0.8940\n",
      "Val MSE: 0.7912, Val MAE: 0.6314, Val R2: 0.8838\n",
      "New best model saved!\n"
     ]
    },
    {
     "name": "stderr",
     "output_type": "stream",
     "text": [
      "Epoch 15/100: 100%|██████████| 3750/3750 [00:08<00:00, 435.94it/s]\n"
     ]
    },
    {
     "name": "stdout",
     "output_type": "stream",
     "text": [
      "Epoch 15/100, Loss: 0.8874\n",
      "Val MSE: 0.8041, Val MAE: 0.6340, Val R2: 0.8819\n"
     ]
    },
    {
     "name": "stderr",
     "output_type": "stream",
     "text": [
      "Epoch 16/100: 100%|██████████| 3750/3750 [00:08<00:00, 444.03it/s]\n"
     ]
    },
    {
     "name": "stdout",
     "output_type": "stream",
     "text": [
      "Epoch 16/100, Loss: 0.8676\n",
      "Val MSE: 0.7811, Val MAE: 0.6231, Val R2: 0.8853\n",
      "New best model saved!\n"
     ]
    },
    {
     "name": "stderr",
     "output_type": "stream",
     "text": [
      "Epoch 17/100: 100%|██████████| 3750/3750 [00:08<00:00, 436.70it/s]\n"
     ]
    },
    {
     "name": "stdout",
     "output_type": "stream",
     "text": [
      "Epoch 17/100, Loss: 0.8567\n",
      "Val MSE: 0.7900, Val MAE: 0.6235, Val R2: 0.8840\n"
     ]
    },
    {
     "name": "stderr",
     "output_type": "stream",
     "text": [
      "Epoch 18/100: 100%|██████████| 3750/3750 [00:08<00:00, 442.22it/s]\n"
     ]
    },
    {
     "name": "stdout",
     "output_type": "stream",
     "text": [
      "Epoch 18/100, Loss: 0.8456\n",
      "Val MSE: 0.7887, Val MAE: 0.6334, Val R2: 0.8842\n"
     ]
    },
    {
     "name": "stderr",
     "output_type": "stream",
     "text": [
      "Epoch 19/100: 100%|██████████| 3750/3750 [00:08<00:00, 443.77it/s]\n"
     ]
    },
    {
     "name": "stdout",
     "output_type": "stream",
     "text": [
      "Epoch 19/100, Loss: 0.8340\n",
      "Val MSE: 0.7759, Val MAE: 0.6273, Val R2: 0.8861\n",
      "New best model saved!\n"
     ]
    },
    {
     "name": "stderr",
     "output_type": "stream",
     "text": [
      "Epoch 20/100: 100%|██████████| 3750/3750 [00:08<00:00, 443.23it/s]\n"
     ]
    },
    {
     "name": "stdout",
     "output_type": "stream",
     "text": [
      "Epoch 20/100, Loss: 0.8238\n",
      "Val MSE: 0.7842, Val MAE: 0.6435, Val R2: 0.8848\n"
     ]
    },
    {
     "name": "stderr",
     "output_type": "stream",
     "text": [
      "Epoch 21/100: 100%|██████████| 3750/3750 [00:08<00:00, 436.39it/s]\n"
     ]
    },
    {
     "name": "stdout",
     "output_type": "stream",
     "text": [
      "Epoch 21/100, Loss: 0.8195\n",
      "Val MSE: 0.7787, Val MAE: 0.6228, Val R2: 0.8856\n"
     ]
    },
    {
     "name": "stderr",
     "output_type": "stream",
     "text": [
      "Epoch 22/100: 100%|██████████| 3750/3750 [00:08<00:00, 446.68it/s]\n"
     ]
    },
    {
     "name": "stdout",
     "output_type": "stream",
     "text": [
      "Epoch 22/100, Loss: 0.8121\n",
      "Val MSE: 0.7641, Val MAE: 0.6130, Val R2: 0.8878\n",
      "New best model saved!\n"
     ]
    },
    {
     "name": "stderr",
     "output_type": "stream",
     "text": [
      "Epoch 23/100: 100%|██████████| 3750/3750 [00:08<00:00, 443.21it/s]\n"
     ]
    },
    {
     "name": "stdout",
     "output_type": "stream",
     "text": [
      "Epoch 23/100, Loss: 0.8044\n",
      "Val MSE: 0.7634, Val MAE: 0.6255, Val R2: 0.8879\n",
      "New best model saved!\n"
     ]
    },
    {
     "name": "stderr",
     "output_type": "stream",
     "text": [
      "Epoch 24/100: 100%|██████████| 3750/3750 [00:08<00:00, 436.50it/s]\n"
     ]
    },
    {
     "name": "stdout",
     "output_type": "stream",
     "text": [
      "Epoch 24/100, Loss: 0.7959\n",
      "Val MSE: 0.7538, Val MAE: 0.6118, Val R2: 0.8893\n",
      "New best model saved!\n"
     ]
    },
    {
     "name": "stderr",
     "output_type": "stream",
     "text": [
      "Epoch 25/100: 100%|██████████| 3750/3750 [00:08<00:00, 442.69it/s]\n"
     ]
    },
    {
     "name": "stdout",
     "output_type": "stream",
     "text": [
      "Epoch 25/100, Loss: 0.7912\n",
      "Val MSE: 0.7538, Val MAE: 0.6161, Val R2: 0.8893\n",
      "New best model saved!\n"
     ]
    },
    {
     "name": "stderr",
     "output_type": "stream",
     "text": [
      "Epoch 26/100: 100%|██████████| 3750/3750 [00:08<00:00, 445.90it/s]\n"
     ]
    },
    {
     "name": "stdout",
     "output_type": "stream",
     "text": [
      "Epoch 26/100, Loss: 0.7877\n",
      "Val MSE: 0.7901, Val MAE: 0.6280, Val R2: 0.8840\n"
     ]
    },
    {
     "name": "stderr",
     "output_type": "stream",
     "text": [
      "Epoch 27/100: 100%|██████████| 3750/3750 [00:08<00:00, 439.16it/s]\n"
     ]
    },
    {
     "name": "stdout",
     "output_type": "stream",
     "text": [
      "Epoch 27/100, Loss: 0.7778\n",
      "Val MSE: 0.7550, Val MAE: 0.6160, Val R2: 0.8891\n"
     ]
    },
    {
     "name": "stderr",
     "output_type": "stream",
     "text": [
      "Epoch 28/100: 100%|██████████| 3750/3750 [00:08<00:00, 447.68it/s]\n"
     ]
    },
    {
     "name": "stdout",
     "output_type": "stream",
     "text": [
      "Epoch 28/100, Loss: 0.7744\n",
      "Val MSE: 0.7517, Val MAE: 0.6092, Val R2: 0.8896\n",
      "New best model saved!\n"
     ]
    },
    {
     "name": "stderr",
     "output_type": "stream",
     "text": [
      "Epoch 29/100: 100%|██████████| 3750/3750 [00:08<00:00, 444.64it/s]\n"
     ]
    },
    {
     "name": "stdout",
     "output_type": "stream",
     "text": [
      "Epoch 29/100, Loss: 0.7640\n",
      "Val MSE: 0.7524, Val MAE: 0.6204, Val R2: 0.8895\n"
     ]
    },
    {
     "name": "stderr",
     "output_type": "stream",
     "text": [
      "Epoch 30/100: 100%|██████████| 3750/3750 [00:08<00:00, 442.24it/s]\n"
     ]
    },
    {
     "name": "stdout",
     "output_type": "stream",
     "text": [
      "Epoch 30/100, Loss: 0.7580\n",
      "Val MSE: 0.8148, Val MAE: 0.6372, Val R2: 0.8803\n"
     ]
    },
    {
     "name": "stderr",
     "output_type": "stream",
     "text": [
      "Epoch 31/100: 100%|██████████| 3750/3750 [00:08<00:00, 439.17it/s]\n"
     ]
    },
    {
     "name": "stdout",
     "output_type": "stream",
     "text": [
      "Epoch 31/100, Loss: 0.7583\n",
      "Val MSE: 0.7429, Val MAE: 0.6202, Val R2: 0.8909\n",
      "New best model saved!\n"
     ]
    },
    {
     "name": "stderr",
     "output_type": "stream",
     "text": [
      "Epoch 32/100: 100%|██████████| 3750/3750 [00:08<00:00, 448.78it/s]\n"
     ]
    },
    {
     "name": "stdout",
     "output_type": "stream",
     "text": [
      "Epoch 32/100, Loss: 0.7529\n",
      "Val MSE: 0.7544, Val MAE: 0.6191, Val R2: 0.8892\n"
     ]
    },
    {
     "name": "stderr",
     "output_type": "stream",
     "text": [
      "Epoch 33/100: 100%|██████████| 3750/3750 [00:08<00:00, 440.39it/s]\n"
     ]
    },
    {
     "name": "stdout",
     "output_type": "stream",
     "text": [
      "Epoch 33/100, Loss: 0.7461\n",
      "Val MSE: 0.7609, Val MAE: 0.6242, Val R2: 0.8883\n"
     ]
    },
    {
     "name": "stderr",
     "output_type": "stream",
     "text": [
      "Epoch 34/100: 100%|██████████| 3750/3750 [00:08<00:00, 423.95it/s]\n"
     ]
    },
    {
     "name": "stdout",
     "output_type": "stream",
     "text": [
      "Epoch 34/100, Loss: 0.7433\n",
      "Val MSE: 0.7421, Val MAE: 0.6078, Val R2: 0.8910\n",
      "New best model saved!\n"
     ]
    },
    {
     "name": "stderr",
     "output_type": "stream",
     "text": [
      "Epoch 35/100: 100%|██████████| 3750/3750 [00:08<00:00, 441.86it/s]\n"
     ]
    },
    {
     "name": "stdout",
     "output_type": "stream",
     "text": [
      "Epoch 35/100, Loss: 0.7382\n",
      "Val MSE: 0.8124, Val MAE: 0.6759, Val R2: 0.8807\n"
     ]
    },
    {
     "name": "stderr",
     "output_type": "stream",
     "text": [
      "Epoch 36/100: 100%|██████████| 3750/3750 [00:08<00:00, 435.81it/s]\n"
     ]
    },
    {
     "name": "stdout",
     "output_type": "stream",
     "text": [
      "Epoch 36/100, Loss: 0.7283\n",
      "Val MSE: 0.7497, Val MAE: 0.6105, Val R2: 0.8899\n"
     ]
    },
    {
     "name": "stderr",
     "output_type": "stream",
     "text": [
      "Epoch 37/100: 100%|██████████| 3750/3750 [00:08<00:00, 439.30it/s]\n"
     ]
    },
    {
     "name": "stdout",
     "output_type": "stream",
     "text": [
      "Epoch 37/100, Loss: 0.7285\n",
      "Val MSE: 0.7507, Val MAE: 0.6126, Val R2: 0.8898\n"
     ]
    },
    {
     "name": "stderr",
     "output_type": "stream",
     "text": [
      "Epoch 38/100: 100%|██████████| 3750/3750 [00:08<00:00, 418.91it/s]\n"
     ]
    },
    {
     "name": "stdout",
     "output_type": "stream",
     "text": [
      "Epoch 38/100, Loss: 0.7281\n",
      "Val MSE: 0.7921, Val MAE: 0.6218, Val R2: 0.8837\n"
     ]
    },
    {
     "name": "stderr",
     "output_type": "stream",
     "text": [
      "Epoch 39/100: 100%|██████████| 3750/3750 [00:08<00:00, 440.98it/s]\n"
     ]
    },
    {
     "name": "stdout",
     "output_type": "stream",
     "text": [
      "Epoch 39/100, Loss: 0.7178\n",
      "Val MSE: 0.7472, Val MAE: 0.6162, Val R2: 0.8903\n"
     ]
    },
    {
     "name": "stderr",
     "output_type": "stream",
     "text": [
      "Epoch 40/100: 100%|██████████| 3750/3750 [00:08<00:00, 430.79it/s]\n"
     ]
    },
    {
     "name": "stdout",
     "output_type": "stream",
     "text": [
      "Epoch 40/100, Loss: 0.7130\n",
      "Val MSE: 0.7553, Val MAE: 0.6240, Val R2: 0.8891\n"
     ]
    },
    {
     "name": "stderr",
     "output_type": "stream",
     "text": [
      "Epoch 41/100: 100%|██████████| 3750/3750 [00:08<00:00, 448.94it/s]\n"
     ]
    },
    {
     "name": "stdout",
     "output_type": "stream",
     "text": [
      "Epoch 41/100, Loss: 0.7107\n",
      "Val MSE: 0.7981, Val MAE: 0.6285, Val R2: 0.8828\n"
     ]
    },
    {
     "name": "stderr",
     "output_type": "stream",
     "text": [
      "Epoch 42/100: 100%|██████████| 3750/3750 [00:08<00:00, 439.34it/s]\n"
     ]
    },
    {
     "name": "stdout",
     "output_type": "stream",
     "text": [
      "Epoch 42/100, Loss: 0.7064\n",
      "Val MSE: 0.7558, Val MAE: 0.6159, Val R2: 0.8890\n"
     ]
    },
    {
     "name": "stderr",
     "output_type": "stream",
     "text": [
      "Epoch 43/100: 100%|██████████| 3750/3750 [00:08<00:00, 434.84it/s]\n"
     ]
    },
    {
     "name": "stdout",
     "output_type": "stream",
     "text": [
      "Epoch 43/100, Loss: 0.7027\n",
      "Val MSE: 0.7657, Val MAE: 0.6148, Val R2: 0.8876\n"
     ]
    },
    {
     "name": "stderr",
     "output_type": "stream",
     "text": [
      "Epoch 44/100: 100%|██████████| 3750/3750 [00:08<00:00, 432.84it/s]\n"
     ]
    },
    {
     "name": "stdout",
     "output_type": "stream",
     "text": [
      "Epoch 44/100, Loss: 0.6975\n",
      "Val MSE: 0.7651, Val MAE: 0.6163, Val R2: 0.8876\n"
     ]
    },
    {
     "name": "stderr",
     "output_type": "stream",
     "text": [
      "Epoch 45/100: 100%|██████████| 3750/3750 [00:08<00:00, 443.38it/s]\n"
     ]
    },
    {
     "name": "stdout",
     "output_type": "stream",
     "text": [
      "Epoch 45/100, Loss: 0.6968\n",
      "Val MSE: 0.7461, Val MAE: 0.6199, Val R2: 0.8904\n"
     ]
    },
    {
     "name": "stderr",
     "output_type": "stream",
     "text": [
      "Epoch 46/100: 100%|██████████| 3750/3750 [00:08<00:00, 443.61it/s]\n"
     ]
    },
    {
     "name": "stdout",
     "output_type": "stream",
     "text": [
      "Epoch 46/100, Loss: 0.6913\n",
      "Val MSE: 0.7371, Val MAE: 0.6139, Val R2: 0.8917\n",
      "New best model saved!\n"
     ]
    },
    {
     "name": "stderr",
     "output_type": "stream",
     "text": [
      "Epoch 47/100: 100%|██████████| 3750/3750 [00:08<00:00, 439.75it/s]\n"
     ]
    },
    {
     "name": "stdout",
     "output_type": "stream",
     "text": [
      "Epoch 47/100, Loss: 0.6860\n",
      "Val MSE: 0.7495, Val MAE: 0.5988, Val R2: 0.8899\n"
     ]
    },
    {
     "name": "stderr",
     "output_type": "stream",
     "text": [
      "Epoch 48/100: 100%|██████████| 3750/3750 [00:08<00:00, 442.96it/s]\n"
     ]
    },
    {
     "name": "stdout",
     "output_type": "stream",
     "text": [
      "Epoch 48/100, Loss: 0.6835\n",
      "Val MSE: 0.7640, Val MAE: 0.6072, Val R2: 0.8878\n"
     ]
    },
    {
     "name": "stderr",
     "output_type": "stream",
     "text": [
      "Epoch 49/100: 100%|██████████| 3750/3750 [00:08<00:00, 445.30it/s]\n"
     ]
    },
    {
     "name": "stdout",
     "output_type": "stream",
     "text": [
      "Epoch 49/100, Loss: 0.6766\n",
      "Val MSE: 0.7570, Val MAE: 0.6278, Val R2: 0.8888\n"
     ]
    },
    {
     "name": "stderr",
     "output_type": "stream",
     "text": [
      "Epoch 50/100: 100%|██████████| 3750/3750 [00:08<00:00, 440.03it/s]\n"
     ]
    },
    {
     "name": "stdout",
     "output_type": "stream",
     "text": [
      "Epoch 50/100, Loss: 0.6754\n",
      "Val MSE: 0.7505, Val MAE: 0.6119, Val R2: 0.8898\n"
     ]
    },
    {
     "name": "stderr",
     "output_type": "stream",
     "text": [
      "Epoch 51/100: 100%|██████████| 3750/3750 [00:08<00:00, 447.55it/s]\n"
     ]
    },
    {
     "name": "stdout",
     "output_type": "stream",
     "text": [
      "Epoch 51/100, Loss: 0.6729\n",
      "Val MSE: 0.7451, Val MAE: 0.6219, Val R2: 0.8906\n"
     ]
    },
    {
     "name": "stderr",
     "output_type": "stream",
     "text": [
      "Epoch 52/100: 100%|██████████| 3750/3750 [00:08<00:00, 442.67it/s]\n"
     ]
    },
    {
     "name": "stdout",
     "output_type": "stream",
     "text": [
      "Epoch 52/100, Loss: 0.6686\n",
      "Val MSE: 0.7437, Val MAE: 0.6008, Val R2: 0.8908\n"
     ]
    },
    {
     "name": "stderr",
     "output_type": "stream",
     "text": [
      "Epoch 53/100: 100%|██████████| 3750/3750 [00:08<00:00, 444.29it/s]\n"
     ]
    },
    {
     "name": "stdout",
     "output_type": "stream",
     "text": [
      "Epoch 53/100, Loss: 0.6708\n",
      "Val MSE: 0.7402, Val MAE: 0.6075, Val R2: 0.8913\n"
     ]
    },
    {
     "name": "stderr",
     "output_type": "stream",
     "text": [
      "Epoch 54/100: 100%|██████████| 3750/3750 [00:08<00:00, 440.96it/s]\n"
     ]
    },
    {
     "name": "stdout",
     "output_type": "stream",
     "text": [
      "Epoch 54/100, Loss: 0.6655\n",
      "Val MSE: 0.7374, Val MAE: 0.6046, Val R2: 0.8917\n"
     ]
    },
    {
     "name": "stderr",
     "output_type": "stream",
     "text": [
      "Epoch 55/100: 100%|██████████| 3750/3750 [00:08<00:00, 446.71it/s]\n"
     ]
    },
    {
     "name": "stdout",
     "output_type": "stream",
     "text": [
      "Epoch 55/100, Loss: 0.6617\n",
      "Val MSE: 0.7518, Val MAE: 0.6237, Val R2: 0.8896\n"
     ]
    },
    {
     "name": "stderr",
     "output_type": "stream",
     "text": [
      "Epoch 56/100: 100%|██████████| 3750/3750 [00:08<00:00, 446.99it/s]\n"
     ]
    },
    {
     "name": "stdout",
     "output_type": "stream",
     "text": [
      "Epoch 56/100, Loss: 0.6609\n",
      "Val MSE: 0.7663, Val MAE: 0.6295, Val R2: 0.8875\n"
     ]
    },
    {
     "name": "stderr",
     "output_type": "stream",
     "text": [
      "Epoch 57/100: 100%|██████████| 3750/3750 [00:08<00:00, 442.81it/s]\n"
     ]
    },
    {
     "name": "stdout",
     "output_type": "stream",
     "text": [
      "Epoch 57/100, Loss: 0.6597\n",
      "Val MSE: 0.7455, Val MAE: 0.6208, Val R2: 0.8905\n"
     ]
    },
    {
     "name": "stderr",
     "output_type": "stream",
     "text": [
      "Epoch 58/100: 100%|██████████| 3750/3750 [00:08<00:00, 446.02it/s]\n"
     ]
    },
    {
     "name": "stdout",
     "output_type": "stream",
     "text": [
      "Epoch 58/100, Loss: 0.6514\n",
      "Val MSE: 0.7619, Val MAE: 0.6224, Val R2: 0.8881\n"
     ]
    },
    {
     "name": "stderr",
     "output_type": "stream",
     "text": [
      "Epoch 59/100: 100%|██████████| 3750/3750 [00:08<00:00, 448.71it/s]\n"
     ]
    },
    {
     "name": "stdout",
     "output_type": "stream",
     "text": [
      "Epoch 59/100, Loss: 0.6487\n",
      "Val MSE: 0.7511, Val MAE: 0.6147, Val R2: 0.8897\n"
     ]
    },
    {
     "name": "stderr",
     "output_type": "stream",
     "text": [
      "Epoch 60/100: 100%|██████████| 3750/3750 [00:08<00:00, 444.34it/s]\n"
     ]
    },
    {
     "name": "stdout",
     "output_type": "stream",
     "text": [
      "Epoch 60/100, Loss: 0.6509\n",
      "Val MSE: 0.7359, Val MAE: 0.6043, Val R2: 0.8919\n",
      "New best model saved!\n"
     ]
    },
    {
     "name": "stderr",
     "output_type": "stream",
     "text": [
      "Epoch 61/100: 100%|██████████| 3750/3750 [00:08<00:00, 445.05it/s]\n"
     ]
    },
    {
     "name": "stdout",
     "output_type": "stream",
     "text": [
      "Epoch 61/100, Loss: 0.6485\n",
      "Val MSE: 0.7461, Val MAE: 0.6120, Val R2: 0.8904\n"
     ]
    },
    {
     "name": "stderr",
     "output_type": "stream",
     "text": [
      "Epoch 62/100: 100%|██████████| 3750/3750 [00:08<00:00, 443.63it/s]\n"
     ]
    },
    {
     "name": "stdout",
     "output_type": "stream",
     "text": [
      "Epoch 62/100, Loss: 0.6475\n",
      "Val MSE: 0.7441, Val MAE: 0.6162, Val R2: 0.8907\n"
     ]
    },
    {
     "name": "stderr",
     "output_type": "stream",
     "text": [
      "Epoch 63/100: 100%|██████████| 3750/3750 [00:08<00:00, 442.69it/s]\n"
     ]
    },
    {
     "name": "stdout",
     "output_type": "stream",
     "text": [
      "Epoch 63/100, Loss: 0.6413\n",
      "Val MSE: 0.7325, Val MAE: 0.6012, Val R2: 0.8924\n",
      "New best model saved!\n"
     ]
    },
    {
     "name": "stderr",
     "output_type": "stream",
     "text": [
      "Epoch 64/100: 100%|██████████| 3750/3750 [00:08<00:00, 439.98it/s]\n"
     ]
    },
    {
     "name": "stdout",
     "output_type": "stream",
     "text": [
      "Epoch 64/100, Loss: 0.6377\n",
      "Val MSE: 0.7609, Val MAE: 0.6341, Val R2: 0.8883\n"
     ]
    },
    {
     "name": "stderr",
     "output_type": "stream",
     "text": [
      "Epoch 65/100: 100%|██████████| 3750/3750 [00:08<00:00, 446.08it/s]\n"
     ]
    },
    {
     "name": "stdout",
     "output_type": "stream",
     "text": [
      "Epoch 65/100, Loss: 0.6357\n",
      "Val MSE: 0.7346, Val MAE: 0.6024, Val R2: 0.8921\n"
     ]
    },
    {
     "name": "stderr",
     "output_type": "stream",
     "text": [
      "Epoch 66/100: 100%|██████████| 3750/3750 [00:08<00:00, 448.00it/s]\n"
     ]
    },
    {
     "name": "stdout",
     "output_type": "stream",
     "text": [
      "Epoch 66/100, Loss: 0.6335\n",
      "Val MSE: 0.7378, Val MAE: 0.5998, Val R2: 0.8917\n"
     ]
    },
    {
     "name": "stderr",
     "output_type": "stream",
     "text": [
      "Epoch 67/100: 100%|██████████| 3750/3750 [00:08<00:00, 439.51it/s]\n"
     ]
    },
    {
     "name": "stdout",
     "output_type": "stream",
     "text": [
      "Epoch 67/100, Loss: 0.6300\n",
      "Val MSE: 0.7369, Val MAE: 0.6078, Val R2: 0.8918\n"
     ]
    },
    {
     "name": "stderr",
     "output_type": "stream",
     "text": [
      "Epoch 68/100: 100%|██████████| 3750/3750 [00:08<00:00, 444.13it/s]\n"
     ]
    },
    {
     "name": "stdout",
     "output_type": "stream",
     "text": [
      "Epoch 68/100, Loss: 0.6332\n",
      "Val MSE: 0.7533, Val MAE: 0.6193, Val R2: 0.8894\n"
     ]
    },
    {
     "name": "stderr",
     "output_type": "stream",
     "text": [
      "Epoch 69/100: 100%|██████████| 3750/3750 [00:08<00:00, 447.66it/s]\n"
     ]
    },
    {
     "name": "stdout",
     "output_type": "stream",
     "text": [
      "Epoch 69/100, Loss: 0.6285\n",
      "Val MSE: 0.7393, Val MAE: 0.6057, Val R2: 0.8914\n"
     ]
    },
    {
     "name": "stderr",
     "output_type": "stream",
     "text": [
      "Epoch 70/100: 100%|██████████| 3750/3750 [00:08<00:00, 440.87it/s]\n"
     ]
    },
    {
     "name": "stdout",
     "output_type": "stream",
     "text": [
      "Epoch 70/100, Loss: 0.6274\n",
      "Val MSE: 0.7432, Val MAE: 0.6180, Val R2: 0.8909\n"
     ]
    },
    {
     "name": "stderr",
     "output_type": "stream",
     "text": [
      "Epoch 71/100: 100%|██████████| 3750/3750 [00:08<00:00, 446.62it/s]\n"
     ]
    },
    {
     "name": "stdout",
     "output_type": "stream",
     "text": [
      "Epoch 71/100, Loss: 0.6236\n",
      "Val MSE: 0.7373, Val MAE: 0.6016, Val R2: 0.8917\n"
     ]
    },
    {
     "name": "stderr",
     "output_type": "stream",
     "text": [
      "Epoch 72/100: 100%|██████████| 3750/3750 [00:08<00:00, 442.66it/s]\n"
     ]
    },
    {
     "name": "stdout",
     "output_type": "stream",
     "text": [
      "Epoch 72/100, Loss: 0.6229\n",
      "Val MSE: 0.7722, Val MAE: 0.6211, Val R2: 0.8866\n"
     ]
    },
    {
     "name": "stderr",
     "output_type": "stream",
     "text": [
      "Epoch 73/100: 100%|██████████| 3750/3750 [00:08<00:00, 445.89it/s]\n"
     ]
    },
    {
     "name": "stdout",
     "output_type": "stream",
     "text": [
      "Epoch 73/100, Loss: 0.6208\n",
      "Val MSE: 0.7447, Val MAE: 0.6125, Val R2: 0.8906\n"
     ]
    },
    {
     "name": "stderr",
     "output_type": "stream",
     "text": [
      "Epoch 74/100: 100%|██████████| 3750/3750 [00:08<00:00, 437.34it/s]\n"
     ]
    },
    {
     "name": "stdout",
     "output_type": "stream",
     "text": [
      "Epoch 74/100, Loss: 0.6151\n",
      "Val MSE: 0.7442, Val MAE: 0.6094, Val R2: 0.8907\n"
     ]
    },
    {
     "name": "stderr",
     "output_type": "stream",
     "text": [
      "Epoch 75/100: 100%|██████████| 3750/3750 [00:08<00:00, 441.20it/s]\n"
     ]
    },
    {
     "name": "stdout",
     "output_type": "stream",
     "text": [
      "Epoch 75/100, Loss: 0.6147\n",
      "Val MSE: 0.7433, Val MAE: 0.6060, Val R2: 0.8908\n"
     ]
    },
    {
     "name": "stderr",
     "output_type": "stream",
     "text": [
      "Epoch 76/100: 100%|██████████| 3750/3750 [00:08<00:00, 440.83it/s]\n"
     ]
    },
    {
     "name": "stdout",
     "output_type": "stream",
     "text": [
      "Epoch 76/100, Loss: 0.6111\n",
      "Val MSE: 0.7362, Val MAE: 0.6041, Val R2: 0.8919\n"
     ]
    },
    {
     "name": "stderr",
     "output_type": "stream",
     "text": [
      "Epoch 77/100: 100%|██████████| 3750/3750 [00:08<00:00, 438.72it/s]\n"
     ]
    },
    {
     "name": "stdout",
     "output_type": "stream",
     "text": [
      "Epoch 77/100, Loss: 0.6138\n",
      "Val MSE: 0.7357, Val MAE: 0.6044, Val R2: 0.8920\n"
     ]
    },
    {
     "name": "stderr",
     "output_type": "stream",
     "text": [
      "Epoch 78/100: 100%|██████████| 3750/3750 [00:08<00:00, 443.55it/s]\n"
     ]
    },
    {
     "name": "stdout",
     "output_type": "stream",
     "text": [
      "Epoch 78/100, Loss: 0.6098\n",
      "Val MSE: 0.7545, Val MAE: 0.6210, Val R2: 0.8892\n"
     ]
    },
    {
     "name": "stderr",
     "output_type": "stream",
     "text": [
      "Epoch 79/100: 100%|██████████| 3750/3750 [00:08<00:00, 445.68it/s]\n"
     ]
    },
    {
     "name": "stdout",
     "output_type": "stream",
     "text": [
      "Epoch 79/100, Loss: 0.6055\n",
      "Val MSE: 0.7464, Val MAE: 0.6078, Val R2: 0.8904\n"
     ]
    },
    {
     "name": "stderr",
     "output_type": "stream",
     "text": [
      "Epoch 80/100: 100%|██████████| 3750/3750 [00:08<00:00, 441.30it/s]\n"
     ]
    },
    {
     "name": "stdout",
     "output_type": "stream",
     "text": [
      "Epoch 80/100, Loss: 0.6047\n",
      "Val MSE: 0.7413, Val MAE: 0.6086, Val R2: 0.8911\n"
     ]
    },
    {
     "name": "stderr",
     "output_type": "stream",
     "text": [
      "Epoch 81/100: 100%|██████████| 3750/3750 [00:08<00:00, 445.56it/s]\n"
     ]
    },
    {
     "name": "stdout",
     "output_type": "stream",
     "text": [
      "Epoch 81/100, Loss: 0.6059\n",
      "Val MSE: 0.7360, Val MAE: 0.6047, Val R2: 0.8919\n"
     ]
    },
    {
     "name": "stderr",
     "output_type": "stream",
     "text": [
      "Epoch 82/100: 100%|██████████| 3750/3750 [00:08<00:00, 445.73it/s]\n"
     ]
    },
    {
     "name": "stdout",
     "output_type": "stream",
     "text": [
      "Epoch 82/100, Loss: 0.6006\n",
      "Val MSE: 0.7538, Val MAE: 0.5974, Val R2: 0.8893\n"
     ]
    },
    {
     "name": "stderr",
     "output_type": "stream",
     "text": [
      "Epoch 83/100: 100%|██████████| 3750/3750 [00:08<00:00, 447.46it/s]\n"
     ]
    },
    {
     "name": "stdout",
     "output_type": "stream",
     "text": [
      "Epoch 83/100, Loss: 0.5994\n",
      "Val MSE: 0.7759, Val MAE: 0.6109, Val R2: 0.8861\n"
     ]
    },
    {
     "name": "stderr",
     "output_type": "stream",
     "text": [
      "Epoch 84/100: 100%|██████████| 3750/3750 [00:08<00:00, 444.01it/s]\n"
     ]
    },
    {
     "name": "stdout",
     "output_type": "stream",
     "text": [
      "Epoch 84/100, Loss: 0.6020\n",
      "Val MSE: 0.7400, Val MAE: 0.6005, Val R2: 0.8913\n"
     ]
    },
    {
     "name": "stderr",
     "output_type": "stream",
     "text": [
      "Epoch 85/100: 100%|██████████| 3750/3750 [00:08<00:00, 446.63it/s]\n"
     ]
    },
    {
     "name": "stdout",
     "output_type": "stream",
     "text": [
      "Epoch 85/100, Loss: 0.5980\n",
      "Val MSE: 0.7511, Val MAE: 0.6106, Val R2: 0.8897\n"
     ]
    },
    {
     "name": "stderr",
     "output_type": "stream",
     "text": [
      "Epoch 86/100: 100%|██████████| 3750/3750 [00:08<00:00, 446.93it/s]\n"
     ]
    },
    {
     "name": "stdout",
     "output_type": "stream",
     "text": [
      "Epoch 86/100, Loss: 0.5947\n",
      "Val MSE: 0.7404, Val MAE: 0.6002, Val R2: 0.8913\n"
     ]
    },
    {
     "name": "stderr",
     "output_type": "stream",
     "text": [
      "Epoch 87/100: 100%|██████████| 3750/3750 [00:08<00:00, 443.69it/s]\n"
     ]
    },
    {
     "name": "stdout",
     "output_type": "stream",
     "text": [
      "Epoch 87/100, Loss: 0.5918\n",
      "Val MSE: 0.7657, Val MAE: 0.6135, Val R2: 0.8876\n"
     ]
    },
    {
     "name": "stderr",
     "output_type": "stream",
     "text": [
      "Epoch 88/100: 100%|██████████| 3750/3750 [00:08<00:00, 448.84it/s]\n"
     ]
    },
    {
     "name": "stdout",
     "output_type": "stream",
     "text": [
      "Epoch 88/100, Loss: 0.5923\n",
      "Val MSE: 0.7527, Val MAE: 0.6001, Val R2: 0.8895\n"
     ]
    },
    {
     "name": "stderr",
     "output_type": "stream",
     "text": [
      "Epoch 89/100: 100%|██████████| 3750/3750 [00:08<00:00, 447.91it/s]\n"
     ]
    },
    {
     "name": "stdout",
     "output_type": "stream",
     "text": [
      "Epoch 89/100, Loss: 0.5907\n",
      "Val MSE: 0.7709, Val MAE: 0.6366, Val R2: 0.8868\n"
     ]
    },
    {
     "name": "stderr",
     "output_type": "stream",
     "text": [
      "Epoch 90/100: 100%|██████████| 3750/3750 [00:08<00:00, 443.69it/s]\n"
     ]
    },
    {
     "name": "stdout",
     "output_type": "stream",
     "text": [
      "Epoch 90/100, Loss: 0.5866\n",
      "Val MSE: 0.7613, Val MAE: 0.6122, Val R2: 0.8882\n"
     ]
    },
    {
     "name": "stderr",
     "output_type": "stream",
     "text": [
      "Epoch 91/100: 100%|██████████| 3750/3750 [00:08<00:00, 448.96it/s]\n"
     ]
    },
    {
     "name": "stdout",
     "output_type": "stream",
     "text": [
      "Epoch 91/100, Loss: 0.5842\n",
      "Val MSE: 0.7471, Val MAE: 0.6034, Val R2: 0.8903\n"
     ]
    },
    {
     "name": "stderr",
     "output_type": "stream",
     "text": [
      "Epoch 92/100: 100%|██████████| 3750/3750 [00:08<00:00, 449.75it/s]\n"
     ]
    },
    {
     "name": "stdout",
     "output_type": "stream",
     "text": [
      "Epoch 92/100, Loss: 0.5843\n",
      "Val MSE: 0.7578, Val MAE: 0.6041, Val R2: 0.8887\n"
     ]
    },
    {
     "name": "stderr",
     "output_type": "stream",
     "text": [
      "Epoch 93/100: 100%|██████████| 3750/3750 [00:08<00:00, 446.66it/s]\n"
     ]
    },
    {
     "name": "stdout",
     "output_type": "stream",
     "text": [
      "Epoch 93/100, Loss: 0.5812\n",
      "Val MSE: 0.7429, Val MAE: 0.6125, Val R2: 0.8909\n"
     ]
    },
    {
     "name": "stderr",
     "output_type": "stream",
     "text": [
      "Epoch 94/100: 100%|██████████| 3750/3750 [00:08<00:00, 440.26it/s]\n"
     ]
    },
    {
     "name": "stdout",
     "output_type": "stream",
     "text": [
      "Epoch 94/100, Loss: 0.5844\n",
      "Val MSE: 0.7449, Val MAE: 0.6100, Val R2: 0.8906\n"
     ]
    },
    {
     "name": "stderr",
     "output_type": "stream",
     "text": [
      "Epoch 95/100: 100%|██████████| 3750/3750 [00:08<00:00, 443.87it/s]\n"
     ]
    },
    {
     "name": "stdout",
     "output_type": "stream",
     "text": [
      "Epoch 95/100, Loss: 0.5816\n",
      "Val MSE: 0.7510, Val MAE: 0.6040, Val R2: 0.8897\n"
     ]
    },
    {
     "name": "stderr",
     "output_type": "stream",
     "text": [
      "Epoch 96/100: 100%|██████████| 3750/3750 [00:08<00:00, 444.52it/s]\n"
     ]
    },
    {
     "name": "stdout",
     "output_type": "stream",
     "text": [
      "Epoch 96/100, Loss: 0.5796\n",
      "Val MSE: 0.8064, Val MAE: 0.6385, Val R2: 0.8816\n"
     ]
    },
    {
     "name": "stderr",
     "output_type": "stream",
     "text": [
      "Epoch 97/100: 100%|██████████| 3750/3750 [00:08<00:00, 439.82it/s]\n"
     ]
    },
    {
     "name": "stdout",
     "output_type": "stream",
     "text": [
      "Epoch 97/100, Loss: 0.5776\n",
      "Val MSE: 0.7643, Val MAE: 0.6301, Val R2: 0.8878\n"
     ]
    },
    {
     "name": "stderr",
     "output_type": "stream",
     "text": [
      "Epoch 98/100: 100%|██████████| 3750/3750 [00:08<00:00, 443.83it/s]\n"
     ]
    },
    {
     "name": "stdout",
     "output_type": "stream",
     "text": [
      "Epoch 98/100, Loss: 0.5751\n",
      "Val MSE: 0.7576, Val MAE: 0.6054, Val R2: 0.8887\n"
     ]
    },
    {
     "name": "stderr",
     "output_type": "stream",
     "text": [
      "Epoch 99/100: 100%|██████████| 3750/3750 [00:08<00:00, 449.60it/s]\n"
     ]
    },
    {
     "name": "stdout",
     "output_type": "stream",
     "text": [
      "Epoch 99/100, Loss: 0.5735\n",
      "Val MSE: 0.7611, Val MAE: 0.6158, Val R2: 0.8882\n"
     ]
    },
    {
     "name": "stderr",
     "output_type": "stream",
     "text": [
      "Epoch 100/100: 100%|██████████| 3750/3750 [00:08<00:00, 442.60it/s]\n"
     ]
    },
    {
     "name": "stdout",
     "output_type": "stream",
     "text": [
      "Epoch 100/100, Loss: 0.5711\n",
      "Val MSE: 0.7745, Val MAE: 0.6252, Val R2: 0.8863\n",
      "Training completed!\n"
     ]
    }
   ],
   "source": [
    "# Training loop\n",
    "print(\"Training regression model...\")\n",
    "best_val_mse = float('inf')\n",
    "for epoch in range(num_epochs):\n",
    "    model.train()\n",
    "    total_loss = 0\n",
    "    for batch_embeddings, batch_likes in tqdm(train_loader, desc=f\"Epoch {epoch+1}/{num_epochs}\"):\n",
    "        batch_embeddings, batch_likes = batch_embeddings.to(device), batch_likes.to(device)\n",
    "        optimizer.zero_grad()\n",
    "        outputs = model(batch_embeddings)\n",
    "        loss = criterion(outputs, batch_likes)\n",
    "        loss.backward()\n",
    "        optimizer.step()\n",
    "        total_loss += loss.item()\n",
    "    \n",
    "    # Validation\n",
    "    model.eval()\n",
    "    val_preds = []\n",
    "    val_true = []\n",
    "    with torch.no_grad():\n",
    "        for batch_embeddings, batch_likes in val_loader:\n",
    "            batch_embeddings, batch_likes = batch_embeddings.to(device), batch_likes.to(device)\n",
    "            outputs = model(batch_embeddings)\n",
    "            val_preds.extend(outputs.cpu().numpy())\n",
    "            val_true.extend(batch_likes.cpu().numpy())\n",
    "    \n",
    "    val_mse = mean_squared_error(val_true, val_preds)\n",
    "    val_mae = mean_absolute_error(val_true, val_preds)\n",
    "    val_r2 = r2_score(val_true, val_preds)\n",
    "    \n",
    "    print(f\"Epoch {epoch+1}/{num_epochs}, Loss: {total_loss/len(train_loader):.4f}\")\n",
    "    print(f\"Val MSE: {val_mse:.4f}, Val MAE: {val_mae:.4f}, Val R2: {val_r2:.4f}\")\n",
    "    \n",
    "    # Save the best model\n",
    "    if val_mse < best_val_mse:\n",
    "        best_val_mse = val_mse\n",
    "        torch.save(model.state_dict(), 'best_tweet_likes_regressor.pth')\n",
    "        print(\"New best model saved!\")\n",
    "\n",
    "print(\"Training completed!\")"
   ]
  },
  {
   "cell_type": "code",
   "execution_count": 34,
   "id": "f7aac6e3",
   "metadata": {
    "execution": {
     "iopub.execute_input": "2024-10-12T14:20:46.559701Z",
     "iopub.status.busy": "2024-10-12T14:20:46.558939Z",
     "iopub.status.idle": "2024-10-12T14:20:47.491801Z",
     "shell.execute_reply": "2024-10-12T14:20:47.490825Z"
    },
    "papermill": {
     "duration": 2.063668,
     "end_time": "2024-10-12T14:20:47.494910",
     "exception": false,
     "start_time": "2024-10-12T14:20:45.431242",
     "status": "completed"
    },
    "tags": []
   },
   "outputs": [
    {
     "name": "stderr",
     "output_type": "stream",
     "text": [
      "/tmp/ipykernel_23/1035189463.py:13: FutureWarning: You are using `torch.load` with `weights_only=False` (the current default value), which uses the default pickle module implicitly. It is possible to construct malicious pickle data which will execute arbitrary code during unpickling (See https://github.com/pytorch/pytorch/blob/main/SECURITY.md#untrusted-models for more details). In a future release, the default value for `weights_only` will be flipped to `True`. This limits the functions that could be executed during unpickling. Arbitrary objects will no longer be allowed to be loaded via this mode unless they are explicitly allowlisted by the user via `torch.serialization.add_safe_globals`. We recommend you start setting `weights_only=True` for any use case where you don't have full control of the loaded file. Please open an issue on GitHub for any issues related to this experimental feature.\n",
      "  model.load_state_dict(torch.load('best_tweet_likes_regressor.pth'))\n"
     ]
    },
    {
     "name": "stdout",
     "output_type": "stream",
     "text": [
      "\n",
      "Test Set Evaluation (Original Scale):\n",
      "MSE: 18394984.01\n",
      "MAE: 533.17\n",
      "R2: 0.2112\n",
      "MAPE: inf%\n",
      "MdAPE: 59.56%\n"
     ]
    },
    {
     "name": "stderr",
     "output_type": "stream",
     "text": [
      "/tmp/ipykernel_23/1035189463.py:40: RuntimeWarning: divide by zero encountered in divide\n",
      "  return np.mean(np.abs((y_true - y_pred) / y_true)) * 100\n",
      "/tmp/ipykernel_23/1035189463.py:43: RuntimeWarning: divide by zero encountered in divide\n",
      "  return np.median(np.abs((y_true - y_pred) / y_true)) * 100\n"
     ]
    }
   ],
   "source": [
    "# Function to get predictions for new data\n",
    "def predict_likes(new_data):\n",
    "    model.eval()\n",
    "    with torch.no_grad():\n",
    "        new_data_scaled = scaler.transform(new_data)\n",
    "        embeddings = torch.tensor(new_data_scaled, dtype=torch.float32).to(device)\n",
    "        outputs = model(embeddings)\n",
    "        # Convert log predictions back to original scale\n",
    "        return np.expm1(outputs.cpu().numpy())\n",
    "\n",
    "# Example usage:\n",
    "# new_likes_predictions = predict_likes(new_embeddings)\n",
    "model.load_state_dict(torch.load('best_tweet_likes_regressor.pth'))\n",
    "# Evaluate on test set\n",
    "model.eval()\n",
    "test_preds = []\n",
    "test_true = y_val  # Using validation set as test set for this example\n",
    "with torch.no_grad():\n",
    "    for batch_embeddings, batch_likes in val_loader:\n",
    "        batch_embeddings = batch_embeddings.to(device)\n",
    "        outputs = model(batch_embeddings)\n",
    "        test_preds.extend(outputs.cpu().numpy())\n",
    "\n",
    "# Convert predictions back to original scale\n",
    "test_preds = np.expm1(test_preds)\n",
    "test_true = np.expm1(test_true)\n",
    "\n",
    "# Calculate metrics on original scale\n",
    "test_mse = mean_squared_error(test_true, test_preds)\n",
    "test_mae = mean_absolute_error(test_true, test_preds)\n",
    "test_r2 = r2_score(test_true, test_preds)\n",
    "\n",
    "print(\"\\nTest Set Evaluation (Original Scale):\")\n",
    "print(f\"MSE: {test_mse:.2f}\")\n",
    "print(f\"MAE: {test_mae:.2f}\")\n",
    "print(f\"R2: {test_r2:.4f}\")\n",
    "\n",
    "# Calculate custom metrics for skewed data\n",
    "def mean_absolute_percentage_error(y_true, y_pred):\n",
    "    return np.mean(np.abs((y_true - y_pred) / y_true)) * 100\n",
    "\n",
    "def median_absolute_percentage_error(y_true, y_pred):\n",
    "    return np.median(np.abs((y_true - y_pred) / y_true)) * 100\n",
    "\n",
    "mape = mean_absolute_percentage_error(test_true, test_preds)\n",
    "mdape = median_absolute_percentage_error(test_true, test_preds)\n",
    "\n",
    "print(f\"MAPE: {mape:.2f}%\")\n",
    "print(f\"MdAPE: {mdape:.2f}%\")"
   ]
  },
  {
   "cell_type": "code",
   "execution_count": 35,
   "id": "edb6d72a",
   "metadata": {
    "execution": {
     "iopub.execute_input": "2024-10-12T14:20:49.834980Z",
     "iopub.status.busy": "2024-10-12T14:20:49.834117Z",
     "iopub.status.idle": "2024-10-12T14:20:49.850132Z",
     "shell.execute_reply": "2024-10-12T14:20:49.849272Z"
    },
    "papermill": {
     "duration": 1.189506,
     "end_time": "2024-10-12T14:20:49.852119",
     "exception": false,
     "start_time": "2024-10-12T14:20:48.662613",
     "status": "completed"
    },
    "tags": []
   },
   "outputs": [
    {
     "data": {
      "text/html": [
       "<div>\n",
       "<style scoped>\n",
       "    .dataframe tbody tr th:only-of-type {\n",
       "        vertical-align: middle;\n",
       "    }\n",
       "\n",
       "    .dataframe tbody tr th {\n",
       "        vertical-align: top;\n",
       "    }\n",
       "\n",
       "    .dataframe thead th {\n",
       "        text-align: right;\n",
       "    }\n",
       "</style>\n",
       "<table border=\"1\" class=\"dataframe\">\n",
       "  <thead>\n",
       "    <tr style=\"text-align: right;\">\n",
       "      <th></th>\n",
       "      <th>0</th>\n",
       "    </tr>\n",
       "  </thead>\n",
       "  <tbody>\n",
       "    <tr>\n",
       "      <th>count</th>\n",
       "      <td>60000.000000</td>\n",
       "    </tr>\n",
       "    <tr>\n",
       "      <th>mean</th>\n",
       "      <td>430.586395</td>\n",
       "    </tr>\n",
       "    <tr>\n",
       "      <th>std</th>\n",
       "      <td>1730.011963</td>\n",
       "    </tr>\n",
       "    <tr>\n",
       "      <th>min</th>\n",
       "      <td>-0.471013</td>\n",
       "    </tr>\n",
       "    <tr>\n",
       "      <th>25%</th>\n",
       "      <td>2.878066</td>\n",
       "    </tr>\n",
       "    <tr>\n",
       "      <th>50%</th>\n",
       "      <td>93.713913</td>\n",
       "    </tr>\n",
       "    <tr>\n",
       "      <th>75%</th>\n",
       "      <td>273.450363</td>\n",
       "    </tr>\n",
       "    <tr>\n",
       "      <th>max</th>\n",
       "      <td>93677.429688</td>\n",
       "    </tr>\n",
       "  </tbody>\n",
       "</table>\n",
       "</div>"
      ],
      "text/plain": [
       "                  0\n",
       "count  60000.000000\n",
       "mean     430.586395\n",
       "std     1730.011963\n",
       "min       -0.471013\n",
       "25%        2.878066\n",
       "50%       93.713913\n",
       "75%      273.450363\n",
       "max    93677.429688"
      ]
     },
     "execution_count": 35,
     "metadata": {},
     "output_type": "execute_result"
    }
   ],
   "source": [
    "temp_df = pd.DataFrame(test_preds)\n",
    "temp_df.describe()"
   ]
  },
  {
   "cell_type": "code",
   "execution_count": 36,
   "id": "34ae7733",
   "metadata": {
    "execution": {
     "iopub.execute_input": "2024-10-12T14:20:52.206813Z",
     "iopub.status.busy": "2024-10-12T14:20:52.206161Z",
     "iopub.status.idle": "2024-10-12T14:20:52.220456Z",
     "shell.execute_reply": "2024-10-12T14:20:52.219549Z"
    },
    "papermill": {
     "duration": 1.251344,
     "end_time": "2024-10-12T14:20:52.222311",
     "exception": false,
     "start_time": "2024-10-12T14:20:50.970967",
     "status": "completed"
    },
    "tags": []
   },
   "outputs": [
    {
     "data": {
      "text/html": [
       "<div>\n",
       "<style scoped>\n",
       "    .dataframe tbody tr th:only-of-type {\n",
       "        vertical-align: middle;\n",
       "    }\n",
       "\n",
       "    .dataframe tbody tr th {\n",
       "        vertical-align: top;\n",
       "    }\n",
       "\n",
       "    .dataframe thead th {\n",
       "        text-align: right;\n",
       "    }\n",
       "</style>\n",
       "<table border=\"1\" class=\"dataframe\">\n",
       "  <thead>\n",
       "    <tr style=\"text-align: right;\">\n",
       "      <th></th>\n",
       "      <th>0</th>\n",
       "    </tr>\n",
       "  </thead>\n",
       "  <tbody>\n",
       "    <tr>\n",
       "      <th>count</th>\n",
       "      <td>60000.000000</td>\n",
       "    </tr>\n",
       "    <tr>\n",
       "      <th>mean</th>\n",
       "      <td>762.738350</td>\n",
       "    </tr>\n",
       "    <tr>\n",
       "      <th>std</th>\n",
       "      <td>4829.135702</td>\n",
       "    </tr>\n",
       "    <tr>\n",
       "      <th>min</th>\n",
       "      <td>0.000000</td>\n",
       "    </tr>\n",
       "    <tr>\n",
       "      <th>25%</th>\n",
       "      <td>3.000000</td>\n",
       "    </tr>\n",
       "    <tr>\n",
       "      <th>50%</th>\n",
       "      <td>77.000000</td>\n",
       "    </tr>\n",
       "    <tr>\n",
       "      <th>75%</th>\n",
       "      <td>364.000000</td>\n",
       "    </tr>\n",
       "    <tr>\n",
       "      <th>max</th>\n",
       "      <td>389438.000000</td>\n",
       "    </tr>\n",
       "  </tbody>\n",
       "</table>\n",
       "</div>"
      ],
      "text/plain": [
       "                   0\n",
       "count   60000.000000\n",
       "mean      762.738350\n",
       "std      4829.135702\n",
       "min         0.000000\n",
       "25%         3.000000\n",
       "50%        77.000000\n",
       "75%       364.000000\n",
       "max    389438.000000"
      ]
     },
     "execution_count": 36,
     "metadata": {},
     "output_type": "execute_result"
    }
   ],
   "source": [
    "temp_df = pd.DataFrame(test_true)\n",
    "temp_df.describe()"
   ]
  },
  {
   "cell_type": "code",
   "execution_count": 37,
   "id": "c22758ed",
   "metadata": {
    "execution": {
     "iopub.execute_input": "2024-10-12T14:20:54.539308Z",
     "iopub.status.busy": "2024-10-12T14:20:54.538943Z",
     "iopub.status.idle": "2024-10-12T14:20:54.546725Z",
     "shell.execute_reply": "2024-10-12T14:20:54.545543Z"
    },
    "papermill": {
     "duration": 1.174947,
     "end_time": "2024-10-12T14:20:54.548669",
     "exception": false,
     "start_time": "2024-10-12T14:20:53.373722",
     "status": "completed"
    },
    "tags": []
   },
   "outputs": [
    {
     "name": "stdout",
     "output_type": "stream",
     "text": [
      "Pearson correlation: 0.48049345920632475\n"
     ]
    }
   ],
   "source": [
    "# Calculate Pearson correlation coefficient\n",
    "correlation = np.corrcoef(test_preds, test_true)[0,1]\n",
    "\n",
    "print(f\"Pearson correlation: {correlation}\")"
   ]
  },
  {
   "cell_type": "code",
   "execution_count": 38,
   "id": "7c17d168",
   "metadata": {
    "execution": {
     "iopub.execute_input": "2024-10-12T14:20:56.840737Z",
     "iopub.status.busy": "2024-10-12T14:20:56.840236Z",
     "iopub.status.idle": "2024-10-12T14:20:56.844587Z",
     "shell.execute_reply": "2024-10-12T14:20:56.843716Z"
    },
    "papermill": {
     "duration": 1.127335,
     "end_time": "2024-10-12T14:20:56.846616",
     "exception": false,
     "start_time": "2024-10-12T14:20:55.719281",
     "status": "completed"
    },
    "tags": []
   },
   "outputs": [],
   "source": [
    "import matplotlib.pyplot as plt"
   ]
  },
  {
   "cell_type": "code",
   "execution_count": 39,
   "id": "e741a85f",
   "metadata": {
    "execution": {
     "iopub.execute_input": "2024-10-12T14:20:59.143899Z",
     "iopub.status.busy": "2024-10-12T14:20:59.143541Z",
     "iopub.status.idle": "2024-10-12T14:20:59.652064Z",
     "shell.execute_reply": "2024-10-12T14:20:59.651133Z"
    },
    "papermill": {
     "duration": 1.636424,
     "end_time": "2024-10-12T14:20:59.654084",
     "exception": false,
     "start_time": "2024-10-12T14:20:58.017660",
     "status": "completed"
    },
    "tags": []
   },
   "outputs": [
    {
     "data": {
      "text/plain": [
       "<matplotlib.collections.PathCollection at 0x7c142bf8b1f0>"
      ]
     },
     "execution_count": 39,
     "metadata": {},
     "output_type": "execute_result"
    },
    {
     "data": {
      "image/png": "[encoded data removed]",
      "text/plain": [
       "<Figure size 640x480 with 1 Axes>"
      ]
     },
     "metadata": {},
     "output_type": "display_data"
    }
   ],
   "source": [
    "plt.scatter(test_preds,test_true)"
   ]
  },
  {
   "cell_type": "code",
   "execution_count": 40,
   "id": "2edd459a",
   "metadata": {
    "execution": {
     "iopub.execute_input": "2024-10-12T14:21:02.037722Z",
     "iopub.status.busy": "2024-10-12T14:21:02.037302Z",
     "iopub.status.idle": "2024-10-12T14:21:03.789030Z",
     "shell.execute_reply": "2024-10-12T14:21:03.788217Z"
    },
    "papermill": {
     "duration": 2.972033,
     "end_time": "2024-10-12T14:21:03.791301",
     "exception": false,
     "start_time": "2024-10-12T14:21:00.819268",
     "status": "completed"
    },
    "scrolled": true,
    "tags": []
   },
   "outputs": [],
   "source": [
    "# Prepare data for classification\n",
    "X = np.stack(df['rich_embedding'])\n",
    "label_encoder = LabelEncoder()\n",
    "y = label_encoder.fit_transform(df['likes_binned'])  # Assuming 'y' column exists with class labels\n",
    "\n",
    "X_train, X_val, y_train, y_val = train_test_split(X, y, test_size=0.2, random_state=42)"
   ]
  },
  {
   "cell_type": "code",
   "execution_count": 41,
   "id": "04127651",
   "metadata": {
    "execution": {
     "iopub.execute_input": "2024-10-12T14:21:06.083584Z",
     "iopub.status.busy": "2024-10-12T14:21:06.083157Z",
     "iopub.status.idle": "2024-10-12T14:21:06.102236Z",
     "shell.execute_reply": "2024-10-12T14:21:06.101520Z"
    },
    "papermill": {
     "duration": 1.190172,
     "end_time": "2024-10-12T14:21:06.104182",
     "exception": false,
     "start_time": "2024-10-12T14:21:04.914010",
     "status": "completed"
    },
    "scrolled": true,
    "tags": []
   },
   "outputs": [],
   "source": [
    "# Define a simple neural network for classification\n",
    "class TweetClassifier(nn.Module):\n",
    "    def __init__(self, input_dim, hidden_dim, num_classes):\n",
    "        super(TweetClassifier, self).__init__()\n",
    "        self.fc1 = nn.Linear(input_dim, hidden_dim)\n",
    "        self.fc2 = nn.Linear(hidden_dim, num_classes)\n",
    "        self.relu = nn.ReLU()\n",
    "        self.dropout = nn.Dropout(0.5)\n",
    "\n",
    "    def forward(self, x):\n",
    "        x = self.relu(self.fc1(x))\n",
    "        x = self.dropout(x)\n",
    "        x = self.fc2(x)\n",
    "        return x\n",
    "\n",
    "# Create dataset and dataloader\n",
    "class TweetDataset(Dataset):\n",
    "    def __init__(self, embeddings, labels):\n",
    "        self.embeddings = torch.tensor(embeddings, dtype=torch.float32)\n",
    "        self.labels = torch.tensor(labels, dtype=torch.long)\n",
    "\n",
    "    def __len__(self):\n",
    "        return len(self.labels)\n",
    "\n",
    "    def __getitem__(self, idx):\n",
    "        return self.embeddings[idx], self.labels[idx]\n",
    "\n",
    "# Hyperparameters\n",
    "input_dim = X_train.shape[1]\n",
    "hidden_dim = 256\n",
    "num_classes = len(np.unique(y))\n",
    "batch_size = 64\n",
    "num_epochs = 100\n",
    "learning_rate = 0.001"
   ]
  },
  {
   "cell_type": "code",
   "execution_count": 42,
   "id": "aca72f0d",
   "metadata": {
    "execution": {
     "iopub.execute_input": "2024-10-12T14:21:08.404816Z",
     "iopub.status.busy": "2024-10-12T14:21:08.404391Z",
     "iopub.status.idle": "2024-10-12T14:21:08.411776Z",
     "shell.execute_reply": "2024-10-12T14:21:08.411042Z"
    },
    "papermill": {
     "duration": 1.138811,
     "end_time": "2024-10-12T14:21:08.413649",
     "exception": false,
     "start_time": "2024-10-12T14:21:07.274838",
     "status": "completed"
    },
    "scrolled": true,
    "tags": []
   },
   "outputs": [],
   "source": [
    "# Create model, optimizer, and loss function\n",
    "model = TweetClassifier(input_dim, hidden_dim, num_classes).to(device)\n",
    "optimizer = optim.Adam(model.parameters(), lr=learning_rate)\n",
    "criterion = nn.CrossEntropyLoss()"
   ]
  },
  {
   "cell_type": "code",
   "execution_count": 43,
   "id": "5dbf5821",
   "metadata": {
    "execution": {
     "iopub.execute_input": "2024-10-12T14:21:10.768754Z",
     "iopub.status.busy": "2024-10-12T14:21:10.768106Z",
     "iopub.status.idle": "2024-10-12T14:21:11.210095Z",
     "shell.execute_reply": "2024-10-12T14:21:11.208821Z"
    },
    "papermill": {
     "duration": 1.621837,
     "end_time": "2024-10-12T14:21:11.212750",
     "exception": false,
     "start_time": "2024-10-12T14:21:09.590913",
     "status": "completed"
    },
    "scrolled": true,
    "tags": []
   },
   "outputs": [],
   "source": [
    "# Create datasets and dataloaders\n",
    "train_dataset = TweetDataset(X_train, y_train)\n",
    "val_dataset = TweetDataset(X_val, y_val)\n",
    "train_loader = DataLoader(train_dataset, batch_size=batch_size, shuffle=True)\n",
    "val_loader = DataLoader(val_dataset, batch_size=batch_size)"
   ]
  },
  {
   "cell_type": "code",
   "execution_count": 44,
   "id": "d7f6b0e8",
   "metadata": {
    "execution": {
     "iopub.execute_input": "2024-10-12T14:21:13.577868Z",
     "iopub.status.busy": "2024-10-12T14:21:13.577441Z",
     "iopub.status.idle": "2024-10-12T14:35:38.477482Z",
     "shell.execute_reply": "2024-10-12T14:35:38.476449Z"
    },
    "papermill": {
     "duration": 866.112837,
     "end_time": "2024-10-12T14:35:38.479579",
     "exception": false,
     "start_time": "2024-10-12T14:21:12.366742",
     "status": "completed"
    },
    "scrolled": true,
    "tags": []
   },
   "outputs": [
    {
     "name": "stdout",
     "output_type": "stream",
     "text": [
      "Training classification model...\n"
     ]
    },
    {
     "name": "stderr",
     "output_type": "stream",
     "text": [
      "Epoch 1/100: 100%|██████████| 3750/3750 [00:07<00:00, 493.07it/s]\n",
      "/opt/conda/lib/python3.10/site-packages/sklearn/metrics/_classification.py:1344: UndefinedMetricWarning: Precision and F-score are ill-defined and being set to 0.0 in labels with no predicted samples. Use `zero_division` parameter to control this behavior.\n",
      "  _warn_prf(average, modifier, msg_start, len(result))\n"
     ]
    },
    {
     "name": "stdout",
     "output_type": "stream",
     "text": [
      "Epoch 1/100, Loss: 0.9670, Val Accuracy: 0.6862\n",
      "Precision: 0.6207, Recall: 0.6862, F1-score: 0.6481\n"
     ]
    },
    {
     "name": "stderr",
     "output_type": "stream",
     "text": [
      "Epoch 2/100: 100%|██████████| 3750/3750 [00:07<00:00, 491.60it/s]\n",
      "/opt/conda/lib/python3.10/site-packages/sklearn/metrics/_classification.py:1344: UndefinedMetricWarning: Precision and F-score are ill-defined and being set to 0.0 in labels with no predicted samples. Use `zero_division` parameter to control this behavior.\n",
      "  _warn_prf(average, modifier, msg_start, len(result))\n"
     ]
    },
    {
     "name": "stdout",
     "output_type": "stream",
     "text": [
      "Epoch 2/100, Loss: 0.8145, Val Accuracy: 0.6946\n",
      "Precision: 0.6244, Recall: 0.6946, F1-score: 0.6549\n"
     ]
    },
    {
     "name": "stderr",
     "output_type": "stream",
     "text": [
      "Epoch 3/100: 100%|██████████| 3750/3750 [00:07<00:00, 489.04it/s]\n",
      "/opt/conda/lib/python3.10/site-packages/sklearn/metrics/_classification.py:1344: UndefinedMetricWarning: Precision and F-score are ill-defined and being set to 0.0 in labels with no predicted samples. Use `zero_division` parameter to control this behavior.\n",
      "  _warn_prf(average, modifier, msg_start, len(result))\n"
     ]
    },
    {
     "name": "stdout",
     "output_type": "stream",
     "text": [
      "Epoch 3/100, Loss: 0.8142, Val Accuracy: 0.6939\n",
      "Precision: 0.6449, Recall: 0.6939, F1-score: 0.6585\n"
     ]
    },
    {
     "name": "stderr",
     "output_type": "stream",
     "text": [
      "Epoch 4/100: 100%|██████████| 3750/3750 [00:07<00:00, 481.40it/s]\n",
      "/opt/conda/lib/python3.10/site-packages/sklearn/metrics/_classification.py:1344: UndefinedMetricWarning: Precision and F-score are ill-defined and being set to 0.0 in labels with no predicted samples. Use `zero_division` parameter to control this behavior.\n",
      "  _warn_prf(average, modifier, msg_start, len(result))\n"
     ]
    },
    {
     "name": "stdout",
     "output_type": "stream",
     "text": [
      "Epoch 4/100, Loss: 0.8092, Val Accuracy: 0.6916\n",
      "Precision: 0.6568, Recall: 0.6916, F1-score: 0.6580\n"
     ]
    },
    {
     "name": "stderr",
     "output_type": "stream",
     "text": [
      "Epoch 5/100: 100%|██████████| 3750/3750 [00:07<00:00, 493.38it/s]\n",
      "/opt/conda/lib/python3.10/site-packages/sklearn/metrics/_classification.py:1344: UndefinedMetricWarning: Precision and F-score are ill-defined and being set to 0.0 in labels with no predicted samples. Use `zero_division` parameter to control this behavior.\n",
      "  _warn_prf(average, modifier, msg_start, len(result))\n"
     ]
    },
    {
     "name": "stdout",
     "output_type": "stream",
     "text": [
      "Epoch 5/100, Loss: 0.8047, Val Accuracy: 0.6950\n",
      "Precision: 0.6507, Recall: 0.6950, F1-score: 0.6602\n"
     ]
    },
    {
     "name": "stderr",
     "output_type": "stream",
     "text": [
      "Epoch 6/100: 100%|██████████| 3750/3750 [00:07<00:00, 486.88it/s]\n",
      "/opt/conda/lib/python3.10/site-packages/sklearn/metrics/_classification.py:1344: UndefinedMetricWarning: Precision and F-score are ill-defined and being set to 0.0 in labels with no predicted samples. Use `zero_division` parameter to control this behavior.\n",
      "  _warn_prf(average, modifier, msg_start, len(result))\n"
     ]
    },
    {
     "name": "stdout",
     "output_type": "stream",
     "text": [
      "Epoch 6/100, Loss: 0.8030, Val Accuracy: 0.6604\n",
      "Precision: 0.6790, Recall: 0.6604, F1-score: 0.6302\n"
     ]
    },
    {
     "name": "stderr",
     "output_type": "stream",
     "text": [
      "Epoch 7/100: 100%|██████████| 3750/3750 [00:07<00:00, 490.12it/s]\n",
      "/opt/conda/lib/python3.10/site-packages/sklearn/metrics/_classification.py:1344: UndefinedMetricWarning: Precision and F-score are ill-defined and being set to 0.0 in labels with no predicted samples. Use `zero_division` parameter to control this behavior.\n",
      "  _warn_prf(average, modifier, msg_start, len(result))\n"
     ]
    },
    {
     "name": "stdout",
     "output_type": "stream",
     "text": [
      "Epoch 7/100, Loss: 0.8010, Val Accuracy: 0.7040\n",
      "Precision: 0.6344, Recall: 0.7040, F1-score: 0.6642\n"
     ]
    },
    {
     "name": "stderr",
     "output_type": "stream",
     "text": [
      "Epoch 8/100: 100%|██████████| 3750/3750 [00:07<00:00, 490.19it/s]\n",
      "/opt/conda/lib/python3.10/site-packages/sklearn/metrics/_classification.py:1344: UndefinedMetricWarning: Precision and F-score are ill-defined and being set to 0.0 in labels with no predicted samples. Use `zero_division` parameter to control this behavior.\n",
      "  _warn_prf(average, modifier, msg_start, len(result))\n"
     ]
    },
    {
     "name": "stdout",
     "output_type": "stream",
     "text": [
      "Epoch 8/100, Loss: 0.7996, Val Accuracy: 0.7015\n",
      "Precision: 0.6437, Recall: 0.7015, F1-score: 0.6644\n"
     ]
    },
    {
     "name": "stderr",
     "output_type": "stream",
     "text": [
      "Epoch 9/100: 100%|██████████| 3750/3750 [00:07<00:00, 496.19it/s]\n",
      "/opt/conda/lib/python3.10/site-packages/sklearn/metrics/_classification.py:1344: UndefinedMetricWarning: Precision and F-score are ill-defined and being set to 0.0 in labels with no predicted samples. Use `zero_division` parameter to control this behavior.\n",
      "  _warn_prf(average, modifier, msg_start, len(result))\n"
     ]
    },
    {
     "name": "stdout",
     "output_type": "stream",
     "text": [
      "Epoch 9/100, Loss: 0.7977, Val Accuracy: 0.6876\n",
      "Precision: 0.6698, Recall: 0.6876, F1-score: 0.6553\n"
     ]
    },
    {
     "name": "stderr",
     "output_type": "stream",
     "text": [
      "Epoch 10/100: 100%|██████████| 3750/3750 [00:07<00:00, 495.11it/s]\n",
      "/opt/conda/lib/python3.10/site-packages/sklearn/metrics/_classification.py:1344: UndefinedMetricWarning: Precision and F-score are ill-defined and being set to 0.0 in labels with no predicted samples. Use `zero_division` parameter to control this behavior.\n",
      "  _warn_prf(average, modifier, msg_start, len(result))\n"
     ]
    },
    {
     "name": "stdout",
     "output_type": "stream",
     "text": [
      "Epoch 10/100, Loss: 0.7971, Val Accuracy: 0.7051\n",
      "Precision: 0.6556, Recall: 0.7051, F1-score: 0.6690\n"
     ]
    },
    {
     "name": "stderr",
     "output_type": "stream",
     "text": [
      "Epoch 11/100: 100%|██████████| 3750/3750 [00:07<00:00, 485.70it/s]\n",
      "/opt/conda/lib/python3.10/site-packages/sklearn/metrics/_classification.py:1344: UndefinedMetricWarning: Precision and F-score are ill-defined and being set to 0.0 in labels with no predicted samples. Use `zero_division` parameter to control this behavior.\n",
      "  _warn_prf(average, modifier, msg_start, len(result))\n"
     ]
    },
    {
     "name": "stdout",
     "output_type": "stream",
     "text": [
      "Epoch 11/100, Loss: 0.7968, Val Accuracy: 0.7012\n",
      "Precision: 0.6538, Recall: 0.7012, F1-score: 0.6656\n"
     ]
    },
    {
     "name": "stderr",
     "output_type": "stream",
     "text": [
      "Epoch 12/100: 100%|██████████| 3750/3750 [00:07<00:00, 494.60it/s]\n",
      "/opt/conda/lib/python3.10/site-packages/sklearn/metrics/_classification.py:1344: UndefinedMetricWarning: Precision and F-score are ill-defined and being set to 0.0 in labels with no predicted samples. Use `zero_division` parameter to control this behavior.\n",
      "  _warn_prf(average, modifier, msg_start, len(result))\n"
     ]
    },
    {
     "name": "stdout",
     "output_type": "stream",
     "text": [
      "Epoch 12/100, Loss: 0.7945, Val Accuracy: 0.7085\n",
      "Precision: 0.6471, Recall: 0.7085, F1-score: 0.6704\n"
     ]
    },
    {
     "name": "stderr",
     "output_type": "stream",
     "text": [
      "Epoch 13/100: 100%|██████████| 3750/3750 [00:07<00:00, 493.12it/s]\n",
      "/opt/conda/lib/python3.10/site-packages/sklearn/metrics/_classification.py:1344: UndefinedMetricWarning: Precision and F-score are ill-defined and being set to 0.0 in labels with no predicted samples. Use `zero_division` parameter to control this behavior.\n",
      "  _warn_prf(average, modifier, msg_start, len(result))\n"
     ]
    },
    {
     "name": "stdout",
     "output_type": "stream",
     "text": [
      "Epoch 13/100, Loss: 0.7929, Val Accuracy: 0.7028\n",
      "Precision: 0.6215, Recall: 0.7028, F1-score: 0.6591\n"
     ]
    },
    {
     "name": "stderr",
     "output_type": "stream",
     "text": [
      "Epoch 14/100: 100%|██████████| 3750/3750 [00:07<00:00, 493.81it/s]\n",
      "/opt/conda/lib/python3.10/site-packages/sklearn/metrics/_classification.py:1344: UndefinedMetricWarning: Precision and F-score are ill-defined and being set to 0.0 in labels with no predicted samples. Use `zero_division` parameter to control this behavior.\n",
      "  _warn_prf(average, modifier, msg_start, len(result))\n"
     ]
    },
    {
     "name": "stdout",
     "output_type": "stream",
     "text": [
      "Epoch 14/100, Loss: 0.7946, Val Accuracy: 0.6943\n",
      "Precision: 0.6098, Recall: 0.6943, F1-score: 0.6493\n"
     ]
    },
    {
     "name": "stderr",
     "output_type": "stream",
     "text": [
      "Epoch 15/100: 100%|██████████| 3750/3750 [00:07<00:00, 486.14it/s]\n",
      "/opt/conda/lib/python3.10/site-packages/sklearn/metrics/_classification.py:1344: UndefinedMetricWarning: Precision and F-score are ill-defined and being set to 0.0 in labels with no predicted samples. Use `zero_division` parameter to control this behavior.\n",
      "  _warn_prf(average, modifier, msg_start, len(result))\n"
     ]
    },
    {
     "name": "stdout",
     "output_type": "stream",
     "text": [
      "Epoch 15/100, Loss: 0.7921, Val Accuracy: 0.7059\n",
      "Precision: 0.6482, Recall: 0.7059, F1-score: 0.6686\n"
     ]
    },
    {
     "name": "stderr",
     "output_type": "stream",
     "text": [
      "Epoch 16/100: 100%|██████████| 3750/3750 [00:07<00:00, 492.53it/s]\n",
      "/opt/conda/lib/python3.10/site-packages/sklearn/metrics/_classification.py:1344: UndefinedMetricWarning: Precision and F-score are ill-defined and being set to 0.0 in labels with no predicted samples. Use `zero_division` parameter to control this behavior.\n",
      "  _warn_prf(average, modifier, msg_start, len(result))\n"
     ]
    },
    {
     "name": "stdout",
     "output_type": "stream",
     "text": [
      "Epoch 16/100, Loss: 0.7909, Val Accuracy: 0.7065\n",
      "Precision: 0.6426, Recall: 0.7065, F1-score: 0.6678\n"
     ]
    },
    {
     "name": "stderr",
     "output_type": "stream",
     "text": [
      "Epoch 17/100: 100%|██████████| 3750/3750 [00:07<00:00, 487.92it/s]\n",
      "/opt/conda/lib/python3.10/site-packages/sklearn/metrics/_classification.py:1344: UndefinedMetricWarning: Precision and F-score are ill-defined and being set to 0.0 in labels with no predicted samples. Use `zero_division` parameter to control this behavior.\n",
      "  _warn_prf(average, modifier, msg_start, len(result))\n"
     ]
    },
    {
     "name": "stdout",
     "output_type": "stream",
     "text": [
      "Epoch 17/100, Loss: 0.7917, Val Accuracy: 0.7059\n",
      "Precision: 0.6457, Recall: 0.7059, F1-score: 0.6681\n"
     ]
    },
    {
     "name": "stderr",
     "output_type": "stream",
     "text": [
      "Epoch 18/100: 100%|██████████| 3750/3750 [00:07<00:00, 487.89it/s]\n",
      "/opt/conda/lib/python3.10/site-packages/sklearn/metrics/_classification.py:1344: UndefinedMetricWarning: Precision and F-score are ill-defined and being set to 0.0 in labels with no predicted samples. Use `zero_division` parameter to control this behavior.\n",
      "  _warn_prf(average, modifier, msg_start, len(result))\n"
     ]
    },
    {
     "name": "stdout",
     "output_type": "stream",
     "text": [
      "Epoch 18/100, Loss: 0.7902, Val Accuracy: 0.7056\n",
      "Precision: 0.6559, Recall: 0.7056, F1-score: 0.6695\n"
     ]
    },
    {
     "name": "stderr",
     "output_type": "stream",
     "text": [
      "Epoch 19/100: 100%|██████████| 3750/3750 [00:07<00:00, 483.11it/s]\n",
      "/opt/conda/lib/python3.10/site-packages/sklearn/metrics/_classification.py:1344: UndefinedMetricWarning: Precision and F-score are ill-defined and being set to 0.0 in labels with no predicted samples. Use `zero_division` parameter to control this behavior.\n",
      "  _warn_prf(average, modifier, msg_start, len(result))\n"
     ]
    },
    {
     "name": "stdout",
     "output_type": "stream",
     "text": [
      "Epoch 19/100, Loss: 0.7905, Val Accuracy: 0.6955\n",
      "Precision: 0.6654, Recall: 0.6955, F1-score: 0.6621\n"
     ]
    },
    {
     "name": "stderr",
     "output_type": "stream",
     "text": [
      "Epoch 20/100: 100%|██████████| 3750/3750 [00:07<00:00, 494.15it/s]\n",
      "/opt/conda/lib/python3.10/site-packages/sklearn/metrics/_classification.py:1344: UndefinedMetricWarning: Precision and F-score are ill-defined and being set to 0.0 in labels with no predicted samples. Use `zero_division` parameter to control this behavior.\n",
      "  _warn_prf(average, modifier, msg_start, len(result))\n"
     ]
    },
    {
     "name": "stdout",
     "output_type": "stream",
     "text": [
      "Epoch 20/100, Loss: 0.7905, Val Accuracy: 0.7010\n",
      "Precision: 0.6635, Recall: 0.7010, F1-score: 0.6666\n"
     ]
    },
    {
     "name": "stderr",
     "output_type": "stream",
     "text": [
      "Epoch 21/100: 100%|██████████| 3750/3750 [00:07<00:00, 492.20it/s]\n",
      "/opt/conda/lib/python3.10/site-packages/sklearn/metrics/_classification.py:1344: UndefinedMetricWarning: Precision and F-score are ill-defined and being set to 0.0 in labels with no predicted samples. Use `zero_division` parameter to control this behavior.\n",
      "  _warn_prf(average, modifier, msg_start, len(result))\n"
     ]
    },
    {
     "name": "stdout",
     "output_type": "stream",
     "text": [
      "Epoch 21/100, Loss: 0.7891, Val Accuracy: 0.6987\n",
      "Precision: 0.6688, Recall: 0.6987, F1-score: 0.6650\n"
     ]
    },
    {
     "name": "stderr",
     "output_type": "stream",
     "text": [
      "Epoch 22/100: 100%|██████████| 3750/3750 [00:07<00:00, 479.84it/s]\n",
      "/opt/conda/lib/python3.10/site-packages/sklearn/metrics/_classification.py:1344: UndefinedMetricWarning: Precision and F-score are ill-defined and being set to 0.0 in labels with no predicted samples. Use `zero_division` parameter to control this behavior.\n",
      "  _warn_prf(average, modifier, msg_start, len(result))\n"
     ]
    },
    {
     "name": "stdout",
     "output_type": "stream",
     "text": [
      "Epoch 22/100, Loss: 0.7891, Val Accuracy: 0.7080\n",
      "Precision: 0.6516, Recall: 0.7080, F1-score: 0.6707\n"
     ]
    },
    {
     "name": "stderr",
     "output_type": "stream",
     "text": [
      "Epoch 23/100: 100%|██████████| 3750/3750 [00:07<00:00, 489.96it/s]\n",
      "/opt/conda/lib/python3.10/site-packages/sklearn/metrics/_classification.py:1344: UndefinedMetricWarning: Precision and F-score are ill-defined and being set to 0.0 in labels with no predicted samples. Use `zero_division` parameter to control this behavior.\n",
      "  _warn_prf(average, modifier, msg_start, len(result))\n"
     ]
    },
    {
     "name": "stdout",
     "output_type": "stream",
     "text": [
      "Epoch 23/100, Loss: 0.7890, Val Accuracy: 0.7093\n",
      "Precision: 0.6523, Recall: 0.7093, F1-score: 0.6719\n"
     ]
    },
    {
     "name": "stderr",
     "output_type": "stream",
     "text": [
      "Epoch 24/100: 100%|██████████| 3750/3750 [00:07<00:00, 492.62it/s]\n",
      "/opt/conda/lib/python3.10/site-packages/sklearn/metrics/_classification.py:1344: UndefinedMetricWarning: Precision and F-score are ill-defined and being set to 0.0 in labels with no predicted samples. Use `zero_division` parameter to control this behavior.\n",
      "  _warn_prf(average, modifier, msg_start, len(result))\n"
     ]
    },
    {
     "name": "stdout",
     "output_type": "stream",
     "text": [
      "Epoch 24/100, Loss: 0.7884, Val Accuracy: 0.6941\n",
      "Precision: 0.6702, Recall: 0.6941, F1-score: 0.6611\n"
     ]
    },
    {
     "name": "stderr",
     "output_type": "stream",
     "text": [
      "Epoch 25/100: 100%|██████████| 3750/3750 [00:07<00:00, 490.32it/s]\n",
      "/opt/conda/lib/python3.10/site-packages/sklearn/metrics/_classification.py:1344: UndefinedMetricWarning: Precision and F-score are ill-defined and being set to 0.0 in labels with no predicted samples. Use `zero_division` parameter to control this behavior.\n",
      "  _warn_prf(average, modifier, msg_start, len(result))\n"
     ]
    },
    {
     "name": "stdout",
     "output_type": "stream",
     "text": [
      "Epoch 25/100, Loss: 0.7885, Val Accuracy: 0.7064\n",
      "Precision: 0.6608, Recall: 0.7064, F1-score: 0.6707\n"
     ]
    },
    {
     "name": "stderr",
     "output_type": "stream",
     "text": [
      "Epoch 26/100: 100%|██████████| 3750/3750 [00:07<00:00, 480.55it/s]\n",
      "/opt/conda/lib/python3.10/site-packages/sklearn/metrics/_classification.py:1344: UndefinedMetricWarning: Precision and F-score are ill-defined and being set to 0.0 in labels with no predicted samples. Use `zero_division` parameter to control this behavior.\n",
      "  _warn_prf(average, modifier, msg_start, len(result))\n"
     ]
    },
    {
     "name": "stdout",
     "output_type": "stream",
     "text": [
      "Epoch 26/100, Loss: 0.7871, Val Accuracy: 0.7122\n",
      "Precision: 0.6503, Recall: 0.7122, F1-score: 0.6737\n"
     ]
    },
    {
     "name": "stderr",
     "output_type": "stream",
     "text": [
      "Epoch 27/100: 100%|██████████| 3750/3750 [00:07<00:00, 489.74it/s]\n",
      "/opt/conda/lib/python3.10/site-packages/sklearn/metrics/_classification.py:1344: UndefinedMetricWarning: Precision and F-score are ill-defined and being set to 0.0 in labels with no predicted samples. Use `zero_division` parameter to control this behavior.\n",
      "  _warn_prf(average, modifier, msg_start, len(result))\n"
     ]
    },
    {
     "name": "stdout",
     "output_type": "stream",
     "text": [
      "Epoch 27/100, Loss: 0.7876, Val Accuracy: 0.7038\n",
      "Precision: 0.6285, Recall: 0.7038, F1-score: 0.6623\n"
     ]
    },
    {
     "name": "stderr",
     "output_type": "stream",
     "text": [
      "Epoch 28/100: 100%|██████████| 3750/3750 [00:07<00:00, 492.90it/s]\n",
      "/opt/conda/lib/python3.10/site-packages/sklearn/metrics/_classification.py:1344: UndefinedMetricWarning: Precision and F-score are ill-defined and being set to 0.0 in labels with no predicted samples. Use `zero_division` parameter to control this behavior.\n",
      "  _warn_prf(average, modifier, msg_start, len(result))\n"
     ]
    },
    {
     "name": "stdout",
     "output_type": "stream",
     "text": [
      "Epoch 28/100, Loss: 0.7869, Val Accuracy: 0.7123\n",
      "Precision: 0.6510, Recall: 0.7123, F1-score: 0.6740\n"
     ]
    },
    {
     "name": "stderr",
     "output_type": "stream",
     "text": [
      "Epoch 29/100: 100%|██████████| 3750/3750 [00:07<00:00, 491.58it/s]\n",
      "/opt/conda/lib/python3.10/site-packages/sklearn/metrics/_classification.py:1344: UndefinedMetricWarning: Precision and F-score are ill-defined and being set to 0.0 in labels with no predicted samples. Use `zero_division` parameter to control this behavior.\n",
      "  _warn_prf(average, modifier, msg_start, len(result))\n"
     ]
    },
    {
     "name": "stdout",
     "output_type": "stream",
     "text": [
      "Epoch 29/100, Loss: 0.7875, Val Accuracy: 0.7112\n",
      "Precision: 0.6446, Recall: 0.7112, F1-score: 0.6719\n"
     ]
    },
    {
     "name": "stderr",
     "output_type": "stream",
     "text": [
      "Epoch 30/100: 100%|██████████| 3750/3750 [00:08<00:00, 467.34it/s]\n",
      "/opt/conda/lib/python3.10/site-packages/sklearn/metrics/_classification.py:1344: UndefinedMetricWarning: Precision and F-score are ill-defined and being set to 0.0 in labels with no predicted samples. Use `zero_division` parameter to control this behavior.\n",
      "  _warn_prf(average, modifier, msg_start, len(result))\n"
     ]
    },
    {
     "name": "stdout",
     "output_type": "stream",
     "text": [
      "Epoch 30/100, Loss: 0.7875, Val Accuracy: 0.7086\n",
      "Precision: 0.6411, Recall: 0.7086, F1-score: 0.6691\n"
     ]
    },
    {
     "name": "stderr",
     "output_type": "stream",
     "text": [
      "Epoch 31/100: 100%|██████████| 3750/3750 [00:07<00:00, 492.83it/s]\n",
      "/opt/conda/lib/python3.10/site-packages/sklearn/metrics/_classification.py:1344: UndefinedMetricWarning: Precision and F-score are ill-defined and being set to 0.0 in labels with no predicted samples. Use `zero_division` parameter to control this behavior.\n",
      "  _warn_prf(average, modifier, msg_start, len(result))\n"
     ]
    },
    {
     "name": "stdout",
     "output_type": "stream",
     "text": [
      "Epoch 31/100, Loss: 0.7862, Val Accuracy: 0.7104\n",
      "Precision: 0.6406, Recall: 0.7104, F1-score: 0.6703\n"
     ]
    },
    {
     "name": "stderr",
     "output_type": "stream",
     "text": [
      "Epoch 32/100: 100%|██████████| 3750/3750 [00:07<00:00, 491.54it/s]\n",
      "/opt/conda/lib/python3.10/site-packages/sklearn/metrics/_classification.py:1344: UndefinedMetricWarning: Precision and F-score are ill-defined and being set to 0.0 in labels with no predicted samples. Use `zero_division` parameter to control this behavior.\n",
      "  _warn_prf(average, modifier, msg_start, len(result))\n"
     ]
    },
    {
     "name": "stdout",
     "output_type": "stream",
     "text": [
      "Epoch 32/100, Loss: 0.7838, Val Accuracy: 0.7128\n",
      "Precision: 0.6529, Recall: 0.7128, F1-score: 0.6747\n"
     ]
    },
    {
     "name": "stderr",
     "output_type": "stream",
     "text": [
      "Epoch 33/100: 100%|██████████| 3750/3750 [00:08<00:00, 468.67it/s]\n",
      "/opt/conda/lib/python3.10/site-packages/sklearn/metrics/_classification.py:1344: UndefinedMetricWarning: Precision and F-score are ill-defined and being set to 0.0 in labels with no predicted samples. Use `zero_division` parameter to control this behavior.\n",
      "  _warn_prf(average, modifier, msg_start, len(result))\n"
     ]
    },
    {
     "name": "stdout",
     "output_type": "stream",
     "text": [
      "Epoch 33/100, Loss: 0.7841, Val Accuracy: 0.7095\n",
      "Precision: 0.6442, Recall: 0.7095, F1-score: 0.6705\n"
     ]
    },
    {
     "name": "stderr",
     "output_type": "stream",
     "text": [
      "Epoch 34/100: 100%|██████████| 3750/3750 [00:07<00:00, 492.25it/s]\n",
      "/opt/conda/lib/python3.10/site-packages/sklearn/metrics/_classification.py:1344: UndefinedMetricWarning: Precision and F-score are ill-defined and being set to 0.0 in labels with no predicted samples. Use `zero_division` parameter to control this behavior.\n",
      "  _warn_prf(average, modifier, msg_start, len(result))\n"
     ]
    },
    {
     "name": "stdout",
     "output_type": "stream",
     "text": [
      "Epoch 34/100, Loss: 0.7858, Val Accuracy: 0.7121\n",
      "Precision: 0.6509, Recall: 0.7121, F1-score: 0.6738\n"
     ]
    },
    {
     "name": "stderr",
     "output_type": "stream",
     "text": [
      "Epoch 35/100: 100%|██████████| 3750/3750 [00:07<00:00, 492.99it/s]\n",
      "/opt/conda/lib/python3.10/site-packages/sklearn/metrics/_classification.py:1344: UndefinedMetricWarning: Precision and F-score are ill-defined and being set to 0.0 in labels with no predicted samples. Use `zero_division` parameter to control this behavior.\n",
      "  _warn_prf(average, modifier, msg_start, len(result))\n"
     ]
    },
    {
     "name": "stdout",
     "output_type": "stream",
     "text": [
      "Epoch 35/100, Loss: 0.7841, Val Accuracy: 0.7079\n",
      "Precision: 0.6422, Recall: 0.7079, F1-score: 0.6689\n"
     ]
    },
    {
     "name": "stderr",
     "output_type": "stream",
     "text": [
      "Epoch 36/100: 100%|██████████| 3750/3750 [00:07<00:00, 491.55it/s]\n",
      "/opt/conda/lib/python3.10/site-packages/sklearn/metrics/_classification.py:1344: UndefinedMetricWarning: Precision and F-score are ill-defined and being set to 0.0 in labels with no predicted samples. Use `zero_division` parameter to control this behavior.\n",
      "  _warn_prf(average, modifier, msg_start, len(result))\n"
     ]
    },
    {
     "name": "stdout",
     "output_type": "stream",
     "text": [
      "Epoch 36/100, Loss: 0.7854, Val Accuracy: 0.7065\n",
      "Precision: 0.6704, Recall: 0.7065, F1-score: 0.6717\n"
     ]
    },
    {
     "name": "stderr",
     "output_type": "stream",
     "text": [
      "Epoch 37/100: 100%|██████████| 3750/3750 [00:07<00:00, 473.07it/s]\n",
      "/opt/conda/lib/python3.10/site-packages/sklearn/metrics/_classification.py:1344: UndefinedMetricWarning: Precision and F-score are ill-defined and being set to 0.0 in labels with no predicted samples. Use `zero_division` parameter to control this behavior.\n",
      "  _warn_prf(average, modifier, msg_start, len(result))\n"
     ]
    },
    {
     "name": "stdout",
     "output_type": "stream",
     "text": [
      "Epoch 37/100, Loss: 0.7851, Val Accuracy: 0.7136\n",
      "Precision: 0.6443, Recall: 0.7136, F1-score: 0.6735\n"
     ]
    },
    {
     "name": "stderr",
     "output_type": "stream",
     "text": [
      "Epoch 38/100: 100%|██████████| 3750/3750 [00:07<00:00, 493.97it/s]\n",
      "/opt/conda/lib/python3.10/site-packages/sklearn/metrics/_classification.py:1344: UndefinedMetricWarning: Precision and F-score are ill-defined and being set to 0.0 in labels with no predicted samples. Use `zero_division` parameter to control this behavior.\n",
      "  _warn_prf(average, modifier, msg_start, len(result))\n"
     ]
    },
    {
     "name": "stdout",
     "output_type": "stream",
     "text": [
      "Epoch 38/100, Loss: 0.7852, Val Accuracy: 0.7089\n",
      "Precision: 0.6506, Recall: 0.7089, F1-score: 0.6713\n"
     ]
    },
    {
     "name": "stderr",
     "output_type": "stream",
     "text": [
      "Epoch 39/100: 100%|██████████| 3750/3750 [00:07<00:00, 495.19it/s]\n",
      "/opt/conda/lib/python3.10/site-packages/sklearn/metrics/_classification.py:1344: UndefinedMetricWarning: Precision and F-score are ill-defined and being set to 0.0 in labels with no predicted samples. Use `zero_division` parameter to control this behavior.\n",
      "  _warn_prf(average, modifier, msg_start, len(result))\n"
     ]
    },
    {
     "name": "stdout",
     "output_type": "stream",
     "text": [
      "Epoch 39/100, Loss: 0.7848, Val Accuracy: 0.6982\n",
      "Precision: 0.6689, Recall: 0.6982, F1-score: 0.6646\n"
     ]
    },
    {
     "name": "stderr",
     "output_type": "stream",
     "text": [
      "Epoch 40/100: 100%|██████████| 3750/3750 [00:07<00:00, 488.27it/s]\n",
      "/opt/conda/lib/python3.10/site-packages/sklearn/metrics/_classification.py:1344: UndefinedMetricWarning: Precision and F-score are ill-defined and being set to 0.0 in labels with no predicted samples. Use `zero_division` parameter to control this behavior.\n",
      "  _warn_prf(average, modifier, msg_start, len(result))\n"
     ]
    },
    {
     "name": "stdout",
     "output_type": "stream",
     "text": [
      "Epoch 40/100, Loss: 0.7852, Val Accuracy: 0.7117\n",
      "Precision: 0.6549, Recall: 0.7117, F1-score: 0.6742\n"
     ]
    },
    {
     "name": "stderr",
     "output_type": "stream",
     "text": [
      "Epoch 41/100: 100%|██████████| 3750/3750 [00:07<00:00, 482.91it/s]\n",
      "/opt/conda/lib/python3.10/site-packages/sklearn/metrics/_classification.py:1344: UndefinedMetricWarning: Precision and F-score are ill-defined and being set to 0.0 in labels with no predicted samples. Use `zero_division` parameter to control this behavior.\n",
      "  _warn_prf(average, modifier, msg_start, len(result))\n"
     ]
    },
    {
     "name": "stdout",
     "output_type": "stream",
     "text": [
      "Epoch 41/100, Loss: 0.7838, Val Accuracy: 0.7143\n",
      "Precision: 0.6456, Recall: 0.7143, F1-score: 0.6743\n"
     ]
    },
    {
     "name": "stderr",
     "output_type": "stream",
     "text": [
      "Epoch 42/100: 100%|██████████| 3750/3750 [00:07<00:00, 488.85it/s]\n",
      "/opt/conda/lib/python3.10/site-packages/sklearn/metrics/_classification.py:1344: UndefinedMetricWarning: Precision and F-score are ill-defined and being set to 0.0 in labels with no predicted samples. Use `zero_division` parameter to control this behavior.\n",
      "  _warn_prf(average, modifier, msg_start, len(result))\n"
     ]
    },
    {
     "name": "stdout",
     "output_type": "stream",
     "text": [
      "Epoch 42/100, Loss: 0.7833, Val Accuracy: 0.7138\n",
      "Precision: 0.6488, Recall: 0.7138, F1-score: 0.6746\n"
     ]
    },
    {
     "name": "stderr",
     "output_type": "stream",
     "text": [
      "Epoch 43/100: 100%|██████████| 3750/3750 [00:07<00:00, 491.35it/s]\n",
      "/opt/conda/lib/python3.10/site-packages/sklearn/metrics/_classification.py:1344: UndefinedMetricWarning: Precision and F-score are ill-defined and being set to 0.0 in labels with no predicted samples. Use `zero_division` parameter to control this behavior.\n",
      "  _warn_prf(average, modifier, msg_start, len(result))\n"
     ]
    },
    {
     "name": "stdout",
     "output_type": "stream",
     "text": [
      "Epoch 43/100, Loss: 0.7837, Val Accuracy: 0.7075\n",
      "Precision: 0.6650, Recall: 0.7075, F1-score: 0.6722\n"
     ]
    },
    {
     "name": "stderr",
     "output_type": "stream",
     "text": [
      "Epoch 44/100: 100%|██████████| 3750/3750 [00:07<00:00, 489.63it/s]\n",
      "/opt/conda/lib/python3.10/site-packages/sklearn/metrics/_classification.py:1344: UndefinedMetricWarning: Precision and F-score are ill-defined and being set to 0.0 in labels with no predicted samples. Use `zero_division` parameter to control this behavior.\n",
      "  _warn_prf(average, modifier, msg_start, len(result))\n"
     ]
    },
    {
     "name": "stdout",
     "output_type": "stream",
     "text": [
      "Epoch 44/100, Loss: 0.7831, Val Accuracy: 0.7024\n",
      "Precision: 0.6724, Recall: 0.7024, F1-score: 0.6685\n"
     ]
    },
    {
     "name": "stderr",
     "output_type": "stream",
     "text": [
      "Epoch 45/100: 100%|██████████| 3750/3750 [00:07<00:00, 492.43it/s]\n",
      "/opt/conda/lib/python3.10/site-packages/sklearn/metrics/_classification.py:1344: UndefinedMetricWarning: Precision and F-score are ill-defined and being set to 0.0 in labels with no predicted samples. Use `zero_division` parameter to control this behavior.\n",
      "  _warn_prf(average, modifier, msg_start, len(result))\n"
     ]
    },
    {
     "name": "stdout",
     "output_type": "stream",
     "text": [
      "Epoch 45/100, Loss: 0.7838, Val Accuracy: 0.7070\n",
      "Precision: 0.6626, Recall: 0.7070, F1-score: 0.6716\n"
     ]
    },
    {
     "name": "stderr",
     "output_type": "stream",
     "text": [
      "Epoch 46/100: 100%|██████████| 3750/3750 [00:07<00:00, 491.33it/s]\n",
      "/opt/conda/lib/python3.10/site-packages/sklearn/metrics/_classification.py:1344: UndefinedMetricWarning: Precision and F-score are ill-defined and being set to 0.0 in labels with no predicted samples. Use `zero_division` parameter to control this behavior.\n",
      "  _warn_prf(average, modifier, msg_start, len(result))\n"
     ]
    },
    {
     "name": "stdout",
     "output_type": "stream",
     "text": [
      "Epoch 46/100, Loss: 0.7836, Val Accuracy: 0.7081\n",
      "Precision: 0.6460, Recall: 0.7081, F1-score: 0.6698\n"
     ]
    },
    {
     "name": "stderr",
     "output_type": "stream",
     "text": [
      "Epoch 47/100: 100%|██████████| 3750/3750 [00:07<00:00, 491.74it/s]\n",
      "/opt/conda/lib/python3.10/site-packages/sklearn/metrics/_classification.py:1344: UndefinedMetricWarning: Precision and F-score are ill-defined and being set to 0.0 in labels with no predicted samples. Use `zero_division` parameter to control this behavior.\n",
      "  _warn_prf(average, modifier, msg_start, len(result))\n"
     ]
    },
    {
     "name": "stdout",
     "output_type": "stream",
     "text": [
      "Epoch 47/100, Loss: 0.7841, Val Accuracy: 0.7126\n",
      "Precision: 0.6499, Recall: 0.7126, F1-score: 0.6739\n"
     ]
    },
    {
     "name": "stderr",
     "output_type": "stream",
     "text": [
      "Epoch 48/100: 100%|██████████| 3750/3750 [00:07<00:00, 483.81it/s]\n",
      "/opt/conda/lib/python3.10/site-packages/sklearn/metrics/_classification.py:1344: UndefinedMetricWarning: Precision and F-score are ill-defined and being set to 0.0 in labels with no predicted samples. Use `zero_division` parameter to control this behavior.\n",
      "  _warn_prf(average, modifier, msg_start, len(result))\n"
     ]
    },
    {
     "name": "stdout",
     "output_type": "stream",
     "text": [
      "Epoch 48/100, Loss: 0.7817, Val Accuracy: 0.7086\n",
      "Precision: 0.6336, Recall: 0.7086, F1-score: 0.6671\n"
     ]
    },
    {
     "name": "stderr",
     "output_type": "stream",
     "text": [
      "Epoch 49/100: 100%|██████████| 3750/3750 [00:07<00:00, 493.31it/s]\n",
      "/opt/conda/lib/python3.10/site-packages/sklearn/metrics/_classification.py:1344: UndefinedMetricWarning: Precision and F-score are ill-defined and being set to 0.0 in labels with no predicted samples. Use `zero_division` parameter to control this behavior.\n",
      "  _warn_prf(average, modifier, msg_start, len(result))\n"
     ]
    },
    {
     "name": "stdout",
     "output_type": "stream",
     "text": [
      "Epoch 49/100, Loss: 0.7822, Val Accuracy: 0.7081\n",
      "Precision: 0.6673, Recall: 0.7081, F1-score: 0.6727\n"
     ]
    },
    {
     "name": "stderr",
     "output_type": "stream",
     "text": [
      "Epoch 50/100: 100%|██████████| 3750/3750 [00:07<00:00, 493.38it/s]\n",
      "/opt/conda/lib/python3.10/site-packages/sklearn/metrics/_classification.py:1344: UndefinedMetricWarning: Precision and F-score are ill-defined and being set to 0.0 in labels with no predicted samples. Use `zero_division` parameter to control this behavior.\n",
      "  _warn_prf(average, modifier, msg_start, len(result))\n"
     ]
    },
    {
     "name": "stdout",
     "output_type": "stream",
     "text": [
      "Epoch 50/100, Loss: 0.7825, Val Accuracy: 0.7023\n",
      "Precision: 0.6585, Recall: 0.7023, F1-score: 0.6668\n"
     ]
    },
    {
     "name": "stderr",
     "output_type": "stream",
     "text": [
      "Epoch 51/100: 100%|██████████| 3750/3750 [00:07<00:00, 486.27it/s]\n",
      "/opt/conda/lib/python3.10/site-packages/sklearn/metrics/_classification.py:1344: UndefinedMetricWarning: Precision and F-score are ill-defined and being set to 0.0 in labels with no predicted samples. Use `zero_division` parameter to control this behavior.\n",
      "  _warn_prf(average, modifier, msg_start, len(result))\n"
     ]
    },
    {
     "name": "stdout",
     "output_type": "stream",
     "text": [
      "Epoch 51/100, Loss: 0.7808, Val Accuracy: 0.7085\n",
      "Precision: 0.6514, Recall: 0.7085, F1-score: 0.6708\n"
     ]
    },
    {
     "name": "stderr",
     "output_type": "stream",
     "text": [
      "Epoch 52/100: 100%|██████████| 3750/3750 [00:07<00:00, 485.97it/s]\n",
      "/opt/conda/lib/python3.10/site-packages/sklearn/metrics/_classification.py:1344: UndefinedMetricWarning: Precision and F-score are ill-defined and being set to 0.0 in labels with no predicted samples. Use `zero_division` parameter to control this behavior.\n",
      "  _warn_prf(average, modifier, msg_start, len(result))\n"
     ]
    },
    {
     "name": "stdout",
     "output_type": "stream",
     "text": [
      "Epoch 52/100, Loss: 0.7819, Val Accuracy: 0.7012\n",
      "Precision: 0.6728, Recall: 0.7012, F1-score: 0.6675\n"
     ]
    },
    {
     "name": "stderr",
     "output_type": "stream",
     "text": [
      "Epoch 53/100: 100%|██████████| 3750/3750 [00:07<00:00, 493.44it/s]\n",
      "/opt/conda/lib/python3.10/site-packages/sklearn/metrics/_classification.py:1344: UndefinedMetricWarning: Precision and F-score are ill-defined and being set to 0.0 in labels with no predicted samples. Use `zero_division` parameter to control this behavior.\n",
      "  _warn_prf(average, modifier, msg_start, len(result))\n"
     ]
    },
    {
     "name": "stdout",
     "output_type": "stream",
     "text": [
      "Epoch 53/100, Loss: 0.7809, Val Accuracy: 0.7132\n",
      "Precision: 0.6486, Recall: 0.7132, F1-score: 0.6741\n"
     ]
    },
    {
     "name": "stderr",
     "output_type": "stream",
     "text": [
      "Epoch 54/100: 100%|██████████| 3750/3750 [00:07<00:00, 494.98it/s]\n",
      "/opt/conda/lib/python3.10/site-packages/sklearn/metrics/_classification.py:1344: UndefinedMetricWarning: Precision and F-score are ill-defined and being set to 0.0 in labels with no predicted samples. Use `zero_division` parameter to control this behavior.\n",
      "  _warn_prf(average, modifier, msg_start, len(result))\n"
     ]
    },
    {
     "name": "stdout",
     "output_type": "stream",
     "text": [
      "Epoch 54/100, Loss: 0.7817, Val Accuracy: 0.7100\n",
      "Precision: 0.6607, Recall: 0.7100, F1-score: 0.6736\n"
     ]
    },
    {
     "name": "stderr",
     "output_type": "stream",
     "text": [
      "Epoch 55/100: 100%|██████████| 3750/3750 [00:07<00:00, 486.54it/s]\n",
      "/opt/conda/lib/python3.10/site-packages/sklearn/metrics/_classification.py:1344: UndefinedMetricWarning: Precision and F-score are ill-defined and being set to 0.0 in labels with no predicted samples. Use `zero_division` parameter to control this behavior.\n",
      "  _warn_prf(average, modifier, msg_start, len(result))\n"
     ]
    },
    {
     "name": "stdout",
     "output_type": "stream",
     "text": [
      "Epoch 55/100, Loss: 0.7826, Val Accuracy: 0.7040\n",
      "Precision: 0.6720, Recall: 0.7040, F1-score: 0.6698\n"
     ]
    },
    {
     "name": "stderr",
     "output_type": "stream",
     "text": [
      "Epoch 56/100: 100%|██████████| 3750/3750 [00:07<00:00, 492.70it/s]\n",
      "/opt/conda/lib/python3.10/site-packages/sklearn/metrics/_classification.py:1344: UndefinedMetricWarning: Precision and F-score are ill-defined and being set to 0.0 in labels with no predicted samples. Use `zero_division` parameter to control this behavior.\n",
      "  _warn_prf(average, modifier, msg_start, len(result))\n"
     ]
    },
    {
     "name": "stdout",
     "output_type": "stream",
     "text": [
      "Epoch 56/100, Loss: 0.7828, Val Accuracy: 0.7066\n",
      "Precision: 0.6655, Recall: 0.7066, F1-score: 0.6712\n"
     ]
    },
    {
     "name": "stderr",
     "output_type": "stream",
     "text": [
      "Epoch 57/100: 100%|██████████| 3750/3750 [00:07<00:00, 494.51it/s]\n",
      "/opt/conda/lib/python3.10/site-packages/sklearn/metrics/_classification.py:1344: UndefinedMetricWarning: Precision and F-score are ill-defined and being set to 0.0 in labels with no predicted samples. Use `zero_division` parameter to control this behavior.\n",
      "  _warn_prf(average, modifier, msg_start, len(result))\n"
     ]
    },
    {
     "name": "stdout",
     "output_type": "stream",
     "text": [
      "Epoch 57/100, Loss: 0.7811, Val Accuracy: 0.7141\n",
      "Precision: 0.6415, Recall: 0.7141, F1-score: 0.6731\n"
     ]
    },
    {
     "name": "stderr",
     "output_type": "stream",
     "text": [
      "Epoch 58/100: 100%|██████████| 3750/3750 [00:07<00:00, 494.42it/s]\n",
      "/opt/conda/lib/python3.10/site-packages/sklearn/metrics/_classification.py:1344: UndefinedMetricWarning: Precision and F-score are ill-defined and being set to 0.0 in labels with no predicted samples. Use `zero_division` parameter to control this behavior.\n",
      "  _warn_prf(average, modifier, msg_start, len(result))\n"
     ]
    },
    {
     "name": "stdout",
     "output_type": "stream",
     "text": [
      "Epoch 58/100, Loss: 0.7813, Val Accuracy: 0.7136\n",
      "Precision: 0.6382, Recall: 0.7136, F1-score: 0.6718\n"
     ]
    },
    {
     "name": "stderr",
     "output_type": "stream",
     "text": [
      "Epoch 59/100: 100%|██████████| 3750/3750 [00:07<00:00, 478.39it/s]\n",
      "/opt/conda/lib/python3.10/site-packages/sklearn/metrics/_classification.py:1344: UndefinedMetricWarning: Precision and F-score are ill-defined and being set to 0.0 in labels with no predicted samples. Use `zero_division` parameter to control this behavior.\n",
      "  _warn_prf(average, modifier, msg_start, len(result))\n"
     ]
    },
    {
     "name": "stdout",
     "output_type": "stream",
     "text": [
      "Epoch 59/100, Loss: 0.7821, Val Accuracy: 0.7095\n",
      "Precision: 0.6376, Recall: 0.7095, F1-score: 0.6689\n"
     ]
    },
    {
     "name": "stderr",
     "output_type": "stream",
     "text": [
      "Epoch 60/100: 100%|██████████| 3750/3750 [00:07<00:00, 493.33it/s]\n",
      "/opt/conda/lib/python3.10/site-packages/sklearn/metrics/_classification.py:1344: UndefinedMetricWarning: Precision and F-score are ill-defined and being set to 0.0 in labels with no predicted samples. Use `zero_division` parameter to control this behavior.\n",
      "  _warn_prf(average, modifier, msg_start, len(result))\n"
     ]
    },
    {
     "name": "stdout",
     "output_type": "stream",
     "text": [
      "Epoch 60/100, Loss: 0.7810, Val Accuracy: 0.7129\n",
      "Precision: 0.6544, Recall: 0.7129, F1-score: 0.6751\n"
     ]
    },
    {
     "name": "stderr",
     "output_type": "stream",
     "text": [
      "Epoch 61/100: 100%|██████████| 3750/3750 [00:07<00:00, 496.04it/s]\n",
      "/opt/conda/lib/python3.10/site-packages/sklearn/metrics/_classification.py:1344: UndefinedMetricWarning: Precision and F-score are ill-defined and being set to 0.0 in labels with no predicted samples. Use `zero_division` parameter to control this behavior.\n",
      "  _warn_prf(average, modifier, msg_start, len(result))\n"
     ]
    },
    {
     "name": "stdout",
     "output_type": "stream",
     "text": [
      "Epoch 61/100, Loss: 0.7810, Val Accuracy: 0.7157\n",
      "Precision: 0.6496, Recall: 0.7157, F1-score: 0.6762\n"
     ]
    },
    {
     "name": "stderr",
     "output_type": "stream",
     "text": [
      "Epoch 62/100: 100%|██████████| 3750/3750 [00:07<00:00, 489.32it/s]\n",
      "/opt/conda/lib/python3.10/site-packages/sklearn/metrics/_classification.py:1344: UndefinedMetricWarning: Precision and F-score are ill-defined and being set to 0.0 in labels with no predicted samples. Use `zero_division` parameter to control this behavior.\n",
      "  _warn_prf(average, modifier, msg_start, len(result))\n"
     ]
    },
    {
     "name": "stdout",
     "output_type": "stream",
     "text": [
      "Epoch 62/100, Loss: 0.7811, Val Accuracy: 0.7089\n",
      "Precision: 0.6634, Recall: 0.7089, F1-score: 0.6732\n"
     ]
    },
    {
     "name": "stderr",
     "output_type": "stream",
     "text": [
      "Epoch 63/100: 100%|██████████| 3750/3750 [00:07<00:00, 489.66it/s]\n",
      "/opt/conda/lib/python3.10/site-packages/sklearn/metrics/_classification.py:1344: UndefinedMetricWarning: Precision and F-score are ill-defined and being set to 0.0 in labels with no predicted samples. Use `zero_division` parameter to control this behavior.\n",
      "  _warn_prf(average, modifier, msg_start, len(result))\n"
     ]
    },
    {
     "name": "stdout",
     "output_type": "stream",
     "text": [
      "Epoch 63/100, Loss: 0.7816, Val Accuracy: 0.7110\n",
      "Precision: 0.6620, Recall: 0.7110, F1-score: 0.6747\n"
     ]
    },
    {
     "name": "stderr",
     "output_type": "stream",
     "text": [
      "Epoch 64/100: 100%|██████████| 3750/3750 [00:07<00:00, 492.43it/s]\n",
      "/opt/conda/lib/python3.10/site-packages/sklearn/metrics/_classification.py:1344: UndefinedMetricWarning: Precision and F-score are ill-defined and being set to 0.0 in labels with no predicted samples. Use `zero_division` parameter to control this behavior.\n",
      "  _warn_prf(average, modifier, msg_start, len(result))\n"
     ]
    },
    {
     "name": "stdout",
     "output_type": "stream",
     "text": [
      "Epoch 64/100, Loss: 0.7813, Val Accuracy: 0.6924\n",
      "Precision: 0.6754, Recall: 0.6924, F1-score: 0.6599\n"
     ]
    },
    {
     "name": "stderr",
     "output_type": "stream",
     "text": [
      "Epoch 65/100: 100%|██████████| 3750/3750 [00:07<00:00, 495.43it/s]\n",
      "/opt/conda/lib/python3.10/site-packages/sklearn/metrics/_classification.py:1344: UndefinedMetricWarning: Precision and F-score are ill-defined and being set to 0.0 in labels with no predicted samples. Use `zero_division` parameter to control this behavior.\n",
      "  _warn_prf(average, modifier, msg_start, len(result))\n"
     ]
    },
    {
     "name": "stdout",
     "output_type": "stream",
     "text": [
      "Epoch 65/100, Loss: 0.7817, Val Accuracy: 0.7144\n",
      "Precision: 0.6579, Recall: 0.7144, F1-score: 0.6768\n"
     ]
    },
    {
     "name": "stderr",
     "output_type": "stream",
     "text": [
      "Epoch 66/100: 100%|██████████| 3750/3750 [00:07<00:00, 484.28it/s]\n",
      "/opt/conda/lib/python3.10/site-packages/sklearn/metrics/_classification.py:1344: UndefinedMetricWarning: Precision and F-score are ill-defined and being set to 0.0 in labels with no predicted samples. Use `zero_division` parameter to control this behavior.\n",
      "  _warn_prf(average, modifier, msg_start, len(result))\n"
     ]
    },
    {
     "name": "stdout",
     "output_type": "stream",
     "text": [
      "Epoch 66/100, Loss: 0.7801, Val Accuracy: 0.7136\n",
      "Precision: 0.6586, Recall: 0.7136, F1-score: 0.6764\n"
     ]
    },
    {
     "name": "stderr",
     "output_type": "stream",
     "text": [
      "Epoch 67/100: 100%|██████████| 3750/3750 [00:07<00:00, 494.39it/s]\n",
      "/opt/conda/lib/python3.10/site-packages/sklearn/metrics/_classification.py:1344: UndefinedMetricWarning: Precision and F-score are ill-defined and being set to 0.0 in labels with no predicted samples. Use `zero_division` parameter to control this behavior.\n",
      "  _warn_prf(average, modifier, msg_start, len(result))\n"
     ]
    },
    {
     "name": "stdout",
     "output_type": "stream",
     "text": [
      "Epoch 67/100, Loss: 0.7802, Val Accuracy: 0.7117\n",
      "Precision: 0.6673, Recall: 0.7117, F1-score: 0.6759\n"
     ]
    },
    {
     "name": "stderr",
     "output_type": "stream",
     "text": [
      "Epoch 68/100: 100%|██████████| 3750/3750 [00:07<00:00, 496.38it/s]\n",
      "/opt/conda/lib/python3.10/site-packages/sklearn/metrics/_classification.py:1344: UndefinedMetricWarning: Precision and F-score are ill-defined and being set to 0.0 in labels with no predicted samples. Use `zero_division` parameter to control this behavior.\n",
      "  _warn_prf(average, modifier, msg_start, len(result))\n"
     ]
    },
    {
     "name": "stdout",
     "output_type": "stream",
     "text": [
      "Epoch 68/100, Loss: 0.7800, Val Accuracy: 0.7126\n",
      "Precision: 0.6315, Recall: 0.7126, F1-score: 0.6688\n"
     ]
    },
    {
     "name": "stderr",
     "output_type": "stream",
     "text": [
      "Epoch 69/100: 100%|██████████| 3750/3750 [00:07<00:00, 494.80it/s]\n",
      "/opt/conda/lib/python3.10/site-packages/sklearn/metrics/_classification.py:1344: UndefinedMetricWarning: Precision and F-score are ill-defined and being set to 0.0 in labels with no predicted samples. Use `zero_division` parameter to control this behavior.\n",
      "  _warn_prf(average, modifier, msg_start, len(result))\n"
     ]
    },
    {
     "name": "stdout",
     "output_type": "stream",
     "text": [
      "Epoch 69/100, Loss: 0.7797, Val Accuracy: 0.7094\n",
      "Precision: 0.6677, Recall: 0.7094, F1-score: 0.6739\n"
     ]
    },
    {
     "name": "stderr",
     "output_type": "stream",
     "text": [
      "Epoch 70/100: 100%|██████████| 3750/3750 [00:07<00:00, 488.10it/s]\n",
      "/opt/conda/lib/python3.10/site-packages/sklearn/metrics/_classification.py:1344: UndefinedMetricWarning: Precision and F-score are ill-defined and being set to 0.0 in labels with no predicted samples. Use `zero_division` parameter to control this behavior.\n",
      "  _warn_prf(average, modifier, msg_start, len(result))\n"
     ]
    },
    {
     "name": "stdout",
     "output_type": "stream",
     "text": [
      "Epoch 70/100, Loss: 0.7806, Val Accuracy: 0.7134\n",
      "Precision: 0.6556, Recall: 0.7134, F1-score: 0.6756\n"
     ]
    },
    {
     "name": "stderr",
     "output_type": "stream",
     "text": [
      "Epoch 71/100: 100%|██████████| 3750/3750 [00:07<00:00, 492.71it/s]\n",
      "/opt/conda/lib/python3.10/site-packages/sklearn/metrics/_classification.py:1344: UndefinedMetricWarning: Precision and F-score are ill-defined and being set to 0.0 in labels with no predicted samples. Use `zero_division` parameter to control this behavior.\n",
      "  _warn_prf(average, modifier, msg_start, len(result))\n"
     ]
    },
    {
     "name": "stdout",
     "output_type": "stream",
     "text": [
      "Epoch 71/100, Loss: 0.7807, Val Accuracy: 0.7128\n",
      "Precision: 0.6644, Recall: 0.7128, F1-score: 0.6764\n"
     ]
    },
    {
     "name": "stderr",
     "output_type": "stream",
     "text": [
      "Epoch 72/100: 100%|██████████| 3750/3750 [00:07<00:00, 493.75it/s]\n",
      "/opt/conda/lib/python3.10/site-packages/sklearn/metrics/_classification.py:1344: UndefinedMetricWarning: Precision and F-score are ill-defined and being set to 0.0 in labels with no predicted samples. Use `zero_division` parameter to control this behavior.\n",
      "  _warn_prf(average, modifier, msg_start, len(result))\n"
     ]
    },
    {
     "name": "stdout",
     "output_type": "stream",
     "text": [
      "Epoch 72/100, Loss: 0.7792, Val Accuracy: 0.7125\n",
      "Precision: 0.6595, Recall: 0.7125, F1-score: 0.6754\n"
     ]
    },
    {
     "name": "stderr",
     "output_type": "stream",
     "text": [
      "Epoch 73/100: 100%|██████████| 3750/3750 [00:07<00:00, 488.58it/s]\n",
      "/opt/conda/lib/python3.10/site-packages/sklearn/metrics/_classification.py:1344: UndefinedMetricWarning: Precision and F-score are ill-defined and being set to 0.0 in labels with no predicted samples. Use `zero_division` parameter to control this behavior.\n",
      "  _warn_prf(average, modifier, msg_start, len(result))\n"
     ]
    },
    {
     "name": "stdout",
     "output_type": "stream",
     "text": [
      "Epoch 73/100, Loss: 0.7800, Val Accuracy: 0.7095\n",
      "Precision: 0.6278, Recall: 0.7095, F1-score: 0.6656\n"
     ]
    },
    {
     "name": "stderr",
     "output_type": "stream",
     "text": [
      "Epoch 74/100: 100%|██████████| 3750/3750 [00:07<00:00, 490.05it/s]\n",
      "/opt/conda/lib/python3.10/site-packages/sklearn/metrics/_classification.py:1344: UndefinedMetricWarning: Precision and F-score are ill-defined and being set to 0.0 in labels with no predicted samples. Use `zero_division` parameter to control this behavior.\n",
      "  _warn_prf(average, modifier, msg_start, len(result))\n"
     ]
    },
    {
     "name": "stdout",
     "output_type": "stream",
     "text": [
      "Epoch 74/100, Loss: 0.7802, Val Accuracy: 0.7143\n",
      "Precision: 0.6601, Recall: 0.7143, F1-score: 0.6771\n"
     ]
    },
    {
     "name": "stderr",
     "output_type": "stream",
     "text": [
      "Epoch 75/100: 100%|██████████| 3750/3750 [00:07<00:00, 493.98it/s]\n",
      "/opt/conda/lib/python3.10/site-packages/sklearn/metrics/_classification.py:1344: UndefinedMetricWarning: Precision and F-score are ill-defined and being set to 0.0 in labels with no predicted samples. Use `zero_division` parameter to control this behavior.\n",
      "  _warn_prf(average, modifier, msg_start, len(result))\n"
     ]
    },
    {
     "name": "stdout",
     "output_type": "stream",
     "text": [
      "Epoch 75/100, Loss: 0.7798, Val Accuracy: 0.7133\n",
      "Precision: 0.6466, Recall: 0.7133, F1-score: 0.6738\n"
     ]
    },
    {
     "name": "stderr",
     "output_type": "stream",
     "text": [
      "Epoch 76/100: 100%|██████████| 3750/3750 [00:07<00:00, 496.04it/s]\n",
      "/opt/conda/lib/python3.10/site-packages/sklearn/metrics/_classification.py:1344: UndefinedMetricWarning: Precision and F-score are ill-defined and being set to 0.0 in labels with no predicted samples. Use `zero_division` parameter to control this behavior.\n",
      "  _warn_prf(average, modifier, msg_start, len(result))\n"
     ]
    },
    {
     "name": "stdout",
     "output_type": "stream",
     "text": [
      "Epoch 76/100, Loss: 0.7798, Val Accuracy: 0.7155\n",
      "Precision: 0.6495, Recall: 0.7155, F1-score: 0.6760\n"
     ]
    },
    {
     "name": "stderr",
     "output_type": "stream",
     "text": [
      "Epoch 77/100: 100%|██████████| 3750/3750 [00:07<00:00, 483.38it/s]\n",
      "/opt/conda/lib/python3.10/site-packages/sklearn/metrics/_classification.py:1344: UndefinedMetricWarning: Precision and F-score are ill-defined and being set to 0.0 in labels with no predicted samples. Use `zero_division` parameter to control this behavior.\n",
      "  _warn_prf(average, modifier, msg_start, len(result))\n"
     ]
    },
    {
     "name": "stdout",
     "output_type": "stream",
     "text": [
      "Epoch 77/100, Loss: 0.7804, Val Accuracy: 0.7099\n",
      "Precision: 0.6628, Recall: 0.7099, F1-score: 0.6739\n"
     ]
    },
    {
     "name": "stderr",
     "output_type": "stream",
     "text": [
      "Epoch 78/100: 100%|██████████| 3750/3750 [00:07<00:00, 486.91it/s]\n",
      "/opt/conda/lib/python3.10/site-packages/sklearn/metrics/_classification.py:1344: UndefinedMetricWarning: Precision and F-score are ill-defined and being set to 0.0 in labels with no predicted samples. Use `zero_division` parameter to control this behavior.\n",
      "  _warn_prf(average, modifier, msg_start, len(result))\n"
     ]
    },
    {
     "name": "stdout",
     "output_type": "stream",
     "text": [
      "Epoch 78/100, Loss: 0.7794, Val Accuracy: 0.7094\n",
      "Precision: 0.6673, Recall: 0.7094, F1-score: 0.6740\n"
     ]
    },
    {
     "name": "stderr",
     "output_type": "stream",
     "text": [
      "Epoch 79/100: 100%|██████████| 3750/3750 [00:07<00:00, 492.59it/s]\n",
      "/opt/conda/lib/python3.10/site-packages/sklearn/metrics/_classification.py:1344: UndefinedMetricWarning: Precision and F-score are ill-defined and being set to 0.0 in labels with no predicted samples. Use `zero_division` parameter to control this behavior.\n",
      "  _warn_prf(average, modifier, msg_start, len(result))\n"
     ]
    },
    {
     "name": "stdout",
     "output_type": "stream",
     "text": [
      "Epoch 79/100, Loss: 0.7802, Val Accuracy: 0.7057\n",
      "Precision: 0.6152, Recall: 0.7057, F1-score: 0.6572\n"
     ]
    },
    {
     "name": "stderr",
     "output_type": "stream",
     "text": [
      "Epoch 80/100: 100%|██████████| 3750/3750 [00:07<00:00, 490.35it/s]\n",
      "/opt/conda/lib/python3.10/site-packages/sklearn/metrics/_classification.py:1344: UndefinedMetricWarning: Precision and F-score are ill-defined and being set to 0.0 in labels with no predicted samples. Use `zero_division` parameter to control this behavior.\n",
      "  _warn_prf(average, modifier, msg_start, len(result))\n"
     ]
    },
    {
     "name": "stdout",
     "output_type": "stream",
     "text": [
      "Epoch 80/100, Loss: 0.7796, Val Accuracy: 0.7069\n",
      "Precision: 0.6722, Recall: 0.7069, F1-score: 0.6723\n"
     ]
    },
    {
     "name": "stderr",
     "output_type": "stream",
     "text": [
      "Epoch 81/100: 100%|██████████| 3750/3750 [00:07<00:00, 495.28it/s]\n",
      "/opt/conda/lib/python3.10/site-packages/sklearn/metrics/_classification.py:1344: UndefinedMetricWarning: Precision and F-score are ill-defined and being set to 0.0 in labels with no predicted samples. Use `zero_division` parameter to control this behavior.\n",
      "  _warn_prf(average, modifier, msg_start, len(result))\n"
     ]
    },
    {
     "name": "stdout",
     "output_type": "stream",
     "text": [
      "Epoch 81/100, Loss: 0.7795, Val Accuracy: 0.7154\n",
      "Precision: 0.6587, Recall: 0.7154, F1-score: 0.6777\n"
     ]
    },
    {
     "name": "stderr",
     "output_type": "stream",
     "text": [
      "Epoch 82/100: 100%|██████████| 3750/3750 [00:07<00:00, 495.82it/s]\n",
      "/opt/conda/lib/python3.10/site-packages/sklearn/metrics/_classification.py:1344: UndefinedMetricWarning: Precision and F-score are ill-defined and being set to 0.0 in labels with no predicted samples. Use `zero_division` parameter to control this behavior.\n",
      "  _warn_prf(average, modifier, msg_start, len(result))\n"
     ]
    },
    {
     "name": "stdout",
     "output_type": "stream",
     "text": [
      "Epoch 82/100, Loss: 0.7805, Val Accuracy: 0.7147\n",
      "Precision: 0.6422, Recall: 0.7147, F1-score: 0.6736\n"
     ]
    },
    {
     "name": "stderr",
     "output_type": "stream",
     "text": [
      "Epoch 83/100: 100%|██████████| 3750/3750 [00:07<00:00, 495.06it/s]\n",
      "/opt/conda/lib/python3.10/site-packages/sklearn/metrics/_classification.py:1344: UndefinedMetricWarning: Precision and F-score are ill-defined and being set to 0.0 in labels with no predicted samples. Use `zero_division` parameter to control this behavior.\n",
      "  _warn_prf(average, modifier, msg_start, len(result))\n"
     ]
    },
    {
     "name": "stdout",
     "output_type": "stream",
     "text": [
      "Epoch 83/100, Loss: 0.7792, Val Accuracy: 0.7118\n",
      "Precision: 0.6669, Recall: 0.7118, F1-score: 0.6759\n"
     ]
    },
    {
     "name": "stderr",
     "output_type": "stream",
     "text": [
      "Epoch 84/100: 100%|██████████| 3750/3750 [00:07<00:00, 488.75it/s]\n",
      "/opt/conda/lib/python3.10/site-packages/sklearn/metrics/_classification.py:1344: UndefinedMetricWarning: Precision and F-score are ill-defined and being set to 0.0 in labels with no predicted samples. Use `zero_division` parameter to control this behavior.\n",
      "  _warn_prf(average, modifier, msg_start, len(result))\n"
     ]
    },
    {
     "name": "stdout",
     "output_type": "stream",
     "text": [
      "Epoch 84/100, Loss: 0.7801, Val Accuracy: 0.7021\n",
      "Precision: 0.6758, Recall: 0.7021, F1-score: 0.6684\n"
     ]
    },
    {
     "name": "stderr",
     "output_type": "stream",
     "text": [
      "Epoch 85/100: 100%|██████████| 3750/3750 [00:07<00:00, 492.66it/s]\n",
      "/opt/conda/lib/python3.10/site-packages/sklearn/metrics/_classification.py:1344: UndefinedMetricWarning: Precision and F-score are ill-defined and being set to 0.0 in labels with no predicted samples. Use `zero_division` parameter to control this behavior.\n",
      "  _warn_prf(average, modifier, msg_start, len(result))\n"
     ]
    },
    {
     "name": "stdout",
     "output_type": "stream",
     "text": [
      "Epoch 85/100, Loss: 0.7801, Val Accuracy: 0.7112\n",
      "Precision: 0.6396, Recall: 0.7112, F1-score: 0.6706\n"
     ]
    },
    {
     "name": "stderr",
     "output_type": "stream",
     "text": [
      "Epoch 86/100: 100%|██████████| 3750/3750 [00:07<00:00, 496.90it/s]\n",
      "/opt/conda/lib/python3.10/site-packages/sklearn/metrics/_classification.py:1344: UndefinedMetricWarning: Precision and F-score are ill-defined and being set to 0.0 in labels with no predicted samples. Use `zero_division` parameter to control this behavior.\n",
      "  _warn_prf(average, modifier, msg_start, len(result))\n"
     ]
    },
    {
     "name": "stdout",
     "output_type": "stream",
     "text": [
      "Epoch 86/100, Loss: 0.7793, Val Accuracy: 0.7109\n",
      "Precision: 0.6667, Recall: 0.7109, F1-score: 0.6751\n"
     ]
    },
    {
     "name": "stderr",
     "output_type": "stream",
     "text": [
      "Epoch 87/100: 100%|██████████| 3750/3750 [00:07<00:00, 492.55it/s]\n",
      "/opt/conda/lib/python3.10/site-packages/sklearn/metrics/_classification.py:1344: UndefinedMetricWarning: Precision and F-score are ill-defined and being set to 0.0 in labels with no predicted samples. Use `zero_division` parameter to control this behavior.\n",
      "  _warn_prf(average, modifier, msg_start, len(result))\n"
     ]
    },
    {
     "name": "stdout",
     "output_type": "stream",
     "text": [
      "Epoch 87/100, Loss: 0.7784, Val Accuracy: 0.7176\n",
      "Precision: 0.6438, Recall: 0.7176, F1-score: 0.6761\n"
     ]
    },
    {
     "name": "stderr",
     "output_type": "stream",
     "text": [
      "Epoch 88/100: 100%|██████████| 3750/3750 [00:07<00:00, 488.36it/s]\n",
      "/opt/conda/lib/python3.10/site-packages/sklearn/metrics/_classification.py:1344: UndefinedMetricWarning: Precision and F-score are ill-defined and being set to 0.0 in labels with no predicted samples. Use `zero_division` parameter to control this behavior.\n",
      "  _warn_prf(average, modifier, msg_start, len(result))\n"
     ]
    },
    {
     "name": "stdout",
     "output_type": "stream",
     "text": [
      "Epoch 88/100, Loss: 0.7801, Val Accuracy: 0.7077\n",
      "Precision: 0.6691, Recall: 0.7077, F1-score: 0.6728\n"
     ]
    },
    {
     "name": "stderr",
     "output_type": "stream",
     "text": [
      "Epoch 89/100: 100%|██████████| 3750/3750 [00:07<00:00, 492.32it/s]\n",
      "/opt/conda/lib/python3.10/site-packages/sklearn/metrics/_classification.py:1344: UndefinedMetricWarning: Precision and F-score are ill-defined and being set to 0.0 in labels with no predicted samples. Use `zero_division` parameter to control this behavior.\n",
      "  _warn_prf(average, modifier, msg_start, len(result))\n"
     ]
    },
    {
     "name": "stdout",
     "output_type": "stream",
     "text": [
      "Epoch 89/100, Loss: 0.7806, Val Accuracy: 0.7140\n",
      "Precision: 0.6581, Recall: 0.7140, F1-score: 0.6765\n"
     ]
    },
    {
     "name": "stderr",
     "output_type": "stream",
     "text": [
      "Epoch 90/100: 100%|██████████| 3750/3750 [00:07<00:00, 496.03it/s]\n",
      "/opt/conda/lib/python3.10/site-packages/sklearn/metrics/_classification.py:1344: UndefinedMetricWarning: Precision and F-score are ill-defined and being set to 0.0 in labels with no predicted samples. Use `zero_division` parameter to control this behavior.\n",
      "  _warn_prf(average, modifier, msg_start, len(result))\n"
     ]
    },
    {
     "name": "stdout",
     "output_type": "stream",
     "text": [
      "Epoch 90/100, Loss: 0.7792, Val Accuracy: 0.7108\n",
      "Precision: 0.6375, Recall: 0.7108, F1-score: 0.6697\n"
     ]
    },
    {
     "name": "stderr",
     "output_type": "stream",
     "text": [
      "Epoch 91/100: 100%|██████████| 3750/3750 [00:07<00:00, 493.42it/s]\n",
      "/opt/conda/lib/python3.10/site-packages/sklearn/metrics/_classification.py:1344: UndefinedMetricWarning: Precision and F-score are ill-defined and being set to 0.0 in labels with no predicted samples. Use `zero_division` parameter to control this behavior.\n",
      "  _warn_prf(average, modifier, msg_start, len(result))\n"
     ]
    },
    {
     "name": "stdout",
     "output_type": "stream",
     "text": [
      "Epoch 91/100, Loss: 0.7791, Val Accuracy: 0.7165\n",
      "Precision: 0.6432, Recall: 0.7165, F1-score: 0.6752\n"
     ]
    },
    {
     "name": "stderr",
     "output_type": "stream",
     "text": [
      "Epoch 92/100: 100%|██████████| 3750/3750 [00:07<00:00, 491.42it/s]\n",
      "/opt/conda/lib/python3.10/site-packages/sklearn/metrics/_classification.py:1344: UndefinedMetricWarning: Precision and F-score are ill-defined and being set to 0.0 in labels with no predicted samples. Use `zero_division` parameter to control this behavior.\n",
      "  _warn_prf(average, modifier, msg_start, len(result))\n"
     ]
    },
    {
     "name": "stdout",
     "output_type": "stream",
     "text": [
      "Epoch 92/100, Loss: 0.7790, Val Accuracy: 0.7150\n",
      "Precision: 0.6606, Recall: 0.7150, F1-score: 0.6776\n"
     ]
    },
    {
     "name": "stderr",
     "output_type": "stream",
     "text": [
      "Epoch 93/100: 100%|██████████| 3750/3750 [00:07<00:00, 495.83it/s]\n",
      "/opt/conda/lib/python3.10/site-packages/sklearn/metrics/_classification.py:1344: UndefinedMetricWarning: Precision and F-score are ill-defined and being set to 0.0 in labels with no predicted samples. Use `zero_division` parameter to control this behavior.\n",
      "  _warn_prf(average, modifier, msg_start, len(result))\n"
     ]
    },
    {
     "name": "stdout",
     "output_type": "stream",
     "text": [
      "Epoch 93/100, Loss: 0.7793, Val Accuracy: 0.7150\n",
      "Precision: 0.6587, Recall: 0.7150, F1-score: 0.6774\n"
     ]
    },
    {
     "name": "stderr",
     "output_type": "stream",
     "text": [
      "Epoch 94/100: 100%|██████████| 3750/3750 [00:07<00:00, 494.19it/s]\n",
      "/opt/conda/lib/python3.10/site-packages/sklearn/metrics/_classification.py:1344: UndefinedMetricWarning: Precision and F-score are ill-defined and being set to 0.0 in labels with no predicted samples. Use `zero_division` parameter to control this behavior.\n",
      "  _warn_prf(average, modifier, msg_start, len(result))\n"
     ]
    },
    {
     "name": "stdout",
     "output_type": "stream",
     "text": [
      "Epoch 94/100, Loss: 0.7781, Val Accuracy: 0.7170\n",
      "Precision: 0.6390, Recall: 0.7170, F1-score: 0.6742\n"
     ]
    },
    {
     "name": "stderr",
     "output_type": "stream",
     "text": [
      "Epoch 95/100: 100%|██████████| 3750/3750 [00:07<00:00, 486.57it/s]\n",
      "/opt/conda/lib/python3.10/site-packages/sklearn/metrics/_classification.py:1344: UndefinedMetricWarning: Precision and F-score are ill-defined and being set to 0.0 in labels with no predicted samples. Use `zero_division` parameter to control this behavior.\n",
      "  _warn_prf(average, modifier, msg_start, len(result))\n"
     ]
    },
    {
     "name": "stdout",
     "output_type": "stream",
     "text": [
      "Epoch 95/100, Loss: 0.7798, Val Accuracy: 0.7064\n",
      "Precision: 0.6723, Recall: 0.7064, F1-score: 0.6719\n"
     ]
    },
    {
     "name": "stderr",
     "output_type": "stream",
     "text": [
      "Epoch 96/100: 100%|██████████| 3750/3750 [00:07<00:00, 492.92it/s]\n",
      "/opt/conda/lib/python3.10/site-packages/sklearn/metrics/_classification.py:1344: UndefinedMetricWarning: Precision and F-score are ill-defined and being set to 0.0 in labels with no predicted samples. Use `zero_division` parameter to control this behavior.\n",
      "  _warn_prf(average, modifier, msg_start, len(result))\n"
     ]
    },
    {
     "name": "stdout",
     "output_type": "stream",
     "text": [
      "Epoch 96/100, Loss: 0.7802, Val Accuracy: 0.7142\n",
      "Precision: 0.6658, Recall: 0.7142, F1-score: 0.6777\n"
     ]
    },
    {
     "name": "stderr",
     "output_type": "stream",
     "text": [
      "Epoch 97/100: 100%|██████████| 3750/3750 [00:07<00:00, 494.73it/s]\n",
      "/opt/conda/lib/python3.10/site-packages/sklearn/metrics/_classification.py:1344: UndefinedMetricWarning: Precision and F-score are ill-defined and being set to 0.0 in labels with no predicted samples. Use `zero_division` parameter to control this behavior.\n",
      "  _warn_prf(average, modifier, msg_start, len(result))\n"
     ]
    },
    {
     "name": "stdout",
     "output_type": "stream",
     "text": [
      "Epoch 97/100, Loss: 0.7796, Val Accuracy: 0.7172\n",
      "Precision: 0.6469, Recall: 0.7172, F1-score: 0.6767\n"
     ]
    },
    {
     "name": "stderr",
     "output_type": "stream",
     "text": [
      "Epoch 98/100: 100%|██████████| 3750/3750 [00:07<00:00, 495.94it/s]\n",
      "/opt/conda/lib/python3.10/site-packages/sklearn/metrics/_classification.py:1344: UndefinedMetricWarning: Precision and F-score are ill-defined and being set to 0.0 in labels with no predicted samples. Use `zero_division` parameter to control this behavior.\n",
      "  _warn_prf(average, modifier, msg_start, len(result))\n"
     ]
    },
    {
     "name": "stdout",
     "output_type": "stream",
     "text": [
      "Epoch 98/100, Loss: 0.7801, Val Accuracy: 0.7078\n",
      "Precision: 0.6746, Recall: 0.7078, F1-score: 0.6733\n"
     ]
    },
    {
     "name": "stderr",
     "output_type": "stream",
     "text": [
      "Epoch 99/100: 100%|██████████| 3750/3750 [00:07<00:00, 490.23it/s]\n",
      "/opt/conda/lib/python3.10/site-packages/sklearn/metrics/_classification.py:1344: UndefinedMetricWarning: Precision and F-score are ill-defined and being set to 0.0 in labels with no predicted samples. Use `zero_division` parameter to control this behavior.\n",
      "  _warn_prf(average, modifier, msg_start, len(result))\n"
     ]
    },
    {
     "name": "stdout",
     "output_type": "stream",
     "text": [
      "Epoch 99/100, Loss: 0.7777, Val Accuracy: 0.7153\n",
      "Precision: 0.6571, Recall: 0.7153, F1-score: 0.6773\n"
     ]
    },
    {
     "name": "stderr",
     "output_type": "stream",
     "text": [
      "Epoch 100/100: 100%|██████████| 3750/3750 [00:07<00:00, 485.28it/s]\n"
     ]
    },
    {
     "name": "stdout",
     "output_type": "stream",
     "text": [
      "Epoch 100/100, Loss: 0.7785, Val Accuracy: 0.7118\n",
      "Precision: 0.6648, Recall: 0.7118, F1-score: 0.6756\n",
      "Training completed!\n",
      "Model saved successfully!\n"
     ]
    },
    {
     "name": "stderr",
     "output_type": "stream",
     "text": [
      "/opt/conda/lib/python3.10/site-packages/sklearn/metrics/_classification.py:1344: UndefinedMetricWarning: Precision and F-score are ill-defined and being set to 0.0 in labels with no predicted samples. Use `zero_division` parameter to control this behavior.\n",
      "  _warn_prf(average, modifier, msg_start, len(result))\n"
     ]
    }
   ],
   "source": [
    "# Training loop\n",
    "print(\"Training classification model...\")\n",
    "for epoch in range(num_epochs):\n",
    "    model.train()\n",
    "    total_loss = 0\n",
    "    for batch_embeddings, batch_labels in tqdm(train_loader, desc=f\"Epoch {epoch+1}/{num_epochs}\"):\n",
    "        batch_embeddings, batch_labels = batch_embeddings.to(device), batch_labels.to(device)\n",
    "        optimizer.zero_grad()\n",
    "        outputs = model(batch_embeddings)\n",
    "        loss = criterion(outputs, batch_labels)\n",
    "        loss.backward()\n",
    "        optimizer.step()\n",
    "        total_loss += loss.item()\n",
    "    \n",
    "    # Validation\n",
    "    model.eval()\n",
    "    val_preds = []\n",
    "    val_true = []\n",
    "    with torch.no_grad():\n",
    "        for batch_embeddings, batch_labels in val_loader:\n",
    "            batch_embeddings, batch_labels = batch_embeddings.to(device), batch_labels.to(device)\n",
    "            outputs = model(batch_embeddings)\n",
    "            _, preds = torch.max(outputs, 1)\n",
    "            val_preds.extend(preds.cpu().numpy())\n",
    "            val_true.extend(batch_labels.cpu().numpy())\n",
    "    \n",
    "    val_accuracy = accuracy_score(val_true, val_preds)\n",
    "    precision, recall, f1, _ = precision_recall_fscore_support(val_true, val_preds, average='weighted')\n",
    "    \n",
    "    print(f\"Epoch {epoch+1}/{num_epochs}, Loss: {total_loss/len(train_loader):.4f}, Val Accuracy: {val_accuracy:.4f}\")\n",
    "    print(f\"Precision: {precision:.4f}, Recall: {recall:.4f}, F1-score: {f1:.4f}\")\n",
    "\n",
    "print(\"Training completed!\")\n",
    "\n",
    "# Save the model\n",
    "torch.save(model.state_dict(), 'tweet_classifier.pth')\n",
    "print(\"Model saved successfully!\")\n",
    "\n",
    "# Function to get predictions for new data\n",
    "def predict(new_data):\n",
    "    model.eval()\n",
    "    with torch.no_grad():\n",
    "        embeddings = torch.tensor(new_data, dtype=torch.float32).to(device)\n",
    "        outputs = model(embeddings)\n",
    "        _, preds = torch.max(outputs, 1)\n",
    "    return label_encoder.inverse_transform(preds.cpu().numpy())\n",
    "\n",
    "# Example usage:\n",
    "# new_predictions = predict(new_embeddings)"
   ]
  },
  {
   "cell_type": "code",
   "execution_count": null,
   "id": "45c412d5",
   "metadata": {
    "papermill": {
     "duration": 1.799741,
     "end_time": "2024-10-12T14:35:42.070550",
     "exception": false,
     "start_time": "2024-10-12T14:35:40.270809",
     "status": "completed"
    },
    "tags": []
   },
   "outputs": [],
   "source": []
  },
  {
   "cell_type": "code",
   "execution_count": null,
   "id": "2984d90e",
   "metadata": {
    "papermill": {
     "duration": 1.787653,
     "end_time": "2024-10-12T14:35:45.682941",
     "exception": false,
     "start_time": "2024-10-12T14:35:43.895288",
     "status": "completed"
    },
    "tags": []
   },
   "outputs": [],
   "source": []
  }
 ],
 "metadata": {
  "kaggle": {
   "accelerator": "gpu",
   "dataSources": [
    {
     "datasetId": 5801331,
     "sourceId": 9526829,
     "sourceType": "datasetVersion"
    },
    {
     "datasetId": 5817858,
     "sourceId": 9548807,
     "sourceType": "datasetVersion"
    }
   ],
   "dockerImageVersionId": 30787,
   "isGpuEnabled": true,
   "isInternetEnabled": true,
   "language": "python",
   "sourceType": "notebook"
  },
  "kernelspec": {
   "display_name": "Python 3",
   "language": "python",
   "name": "python3"
  },
  "language_info": {
   "codemirror_mode": {
    "name": "ipython",
    "version": 3
   },
   "file_extension": ".py",
   "mimetype": "text/x-python",
   "name": "python",
   "nbconvert_exporter": "python",
   "pygments_lexer": "ipython3",
   "version": "3.10.14"
  },
  "papermill": {
   "default_parameters": {},
   "duration": 2766.298305,
   "end_time": "2024-10-12T14:35:50.850836",
   "environment_variables": {},
   "exception": null,
   "input_path": "__notebook__.ipynb",
   "output_path": "__notebook__.ipynb",
   "parameters": {},
   "start_time": "2024-10-12T13:49:44.552531",
   "version": "2.6.0"
  },
  "widgets": {
   "application/vnd.jupyter.widget-state+json": {
    "state": {
     "014086dead224e4392eacaa7e42d2d54": {
      "model_module": "@jupyter-widgets/controls",
      "model_module_version": "1.5.0",
      "model_name": "DescriptionStyleModel",
      "state": {
       "_model_module": "@jupyter-widgets/controls",
       "_model_module_version": "1.5.0",
       "_model_name": "DescriptionStyleModel",
       "_view_count": null,
       "_view_module": "@jupyter-widgets/base",
       "_view_module_version": "1.2.0",
       "_view_name": "StyleView",
       "description_width": ""
      }
     },
     "0676978dc9f04c56a5b2fa58397e7bc7": {
      "model_module": "@jupyter-widgets/base",
      "model_module_version": "1.2.0",
      "model_name": "LayoutModel",
      "state": {
       "_model_module": "@jupyter-widgets/base",
       "_model_module_version": "1.2.0",
       "_model_name": "LayoutModel",
       "_view_count": null,
       "_view_module": "@jupyter-widgets/base",
       "_view_module_version": "1.2.0",
       "_view_name": "LayoutView",
       "align_content": null,
       "align_items": null,
       "align_self": null,
       "border": null,
       "bottom": null,
       "display": null,
       "flex": null,
       "flex_flow": null,
       "grid_area": null,
       "grid_auto_columns": null,
       "grid_auto_flow": null,
       "grid_auto_rows": null,
       "grid_column": null,
       "grid_gap": null,
       "grid_row": null,
       "grid_template_areas": null,
       "grid_template_columns": null,
       "grid_template_rows": null,
       "height": null,
       "justify_content": null,
       "justify_items": null,
       "left": null,
       "margin": null,
       "max_height": null,
       "max_width": null,
       "min_height": null,
       "min_width": null,
       "object_fit": null,
       "object_position": null,
       "order": null,
       "overflow": null,
       "overflow_x": null,
       "overflow_y": null,
       "padding": null,
       "right": null,
       "top": null,
       "visibility": null,
       "width": null
      }
     },
     "09f787df12b64122af2bde494bf1b5a9": {
      "model_module": "@jupyter-widgets/base",
      "model_module_version": "1.2.0",
      "model_name": "LayoutModel",
      "state": {
       "_model_module": "@jupyter-widgets/base",
       "_model_module_version": "1.2.0",
       "_model_name": "LayoutModel",
       "_view_count": null,
       "_view_module": "@jupyter-widgets/base",
       "_view_module_version": "1.2.0",
       "_view_name": "LayoutView",
       "align_content": null,
       "align_items": null,
       "align_self": null,
       "border": null,
       "bottom": null,
       "display": null,
       "flex": null,
       "flex_flow": null,
       "grid_area": null,
       "grid_auto_columns": null,
       "grid_auto_flow": null,
       "grid_auto_rows": null,
       "grid_column": null,
       "grid_gap": null,
       "grid_row": null,
       "grid_template_areas": null,
       "grid_template_columns": null,
       "grid_template_rows": null,
       "height": null,
       "justify_content": null,
       "justify_items": null,
       "left": null,
       "margin": null,
       "max_height": null,
       "max_width": null,
       "min_height": null,
       "min_width": null,
       "object_fit": null,
       "object_position": null,
       "order": null,
       "overflow": null,
       "overflow_x": null,
       "overflow_y": null,
       "padding": null,
       "right": null,
       "top": null,
       "visibility": null,
       "width": null
      }
     },
     "0be6ee50cb1f4747a9b843e8be25f983": {
      "model_module": "@jupyter-widgets/controls",
      "model_module_version": "1.5.0",
      "model_name": "HTMLModel",
      "state": {
       "_dom_classes": [],
       "_model_module": "@jupyter-widgets/controls",
       "_model_module_version": "1.5.0",
       "_model_name": "HTMLModel",
       "_view_count": null,
       "_view_module": "@jupyter-widgets/controls",
       "_view_module_version": "1.5.0",
       "_view_name": "HTMLView",
       "description": "",
       "description_tooltip": null,
       "layout": "IPY_MODEL_ec4d2dd37a254a868ba086cb4da49d49",
       "placeholder": "​",
       "style": "IPY_MODEL_a31cded0b10542a68d2c8cacf1e37969",
       "value": "merges.txt: 100%"
      }
     },
     "0ca96435e68a41d1bd1ddde93ffe3f13": {
      "model_module": "@jupyter-widgets/controls",
      "model_module_version": "1.5.0",
      "model_name": "DescriptionStyleModel",
      "state": {
       "_model_module": "@jupyter-widgets/controls",
       "_model_module_version": "1.5.0",
       "_model_name": "DescriptionStyleModel",
       "_view_count": null,
       "_view_module": "@jupyter-widgets/base",
       "_view_module_version": "1.2.0",
       "_view_name": "StyleView",
       "description_width": ""
      }
     },
     "170c2204340d4cc89ce6deec37db7715": {
      "model_module": "@jupyter-widgets/controls",
      "model_module_version": "1.5.0",
      "model_name": "FloatProgressModel",
      "state": {
       "_dom_classes": [],
       "_model_module": "@jupyter-widgets/controls",
       "_model_module_version": "1.5.0",
       "_model_name": "FloatProgressModel",
       "_view_count": null,
       "_view_module": "@jupyter-widgets/controls",
       "_view_module_version": "1.5.0",
       "_view_name": "ProgressView",
       "bar_style": "success",
       "description": "",
       "description_tooltip": null,
       "layout": "IPY_MODEL_aa907dd7052543bf97f159888c2a5587",
       "max": 565.0,
       "min": 0.0,
       "orientation": "horizontal",
       "style": "IPY_MODEL_181ee050d347467a8310803e08ed1932",
       "value": 565.0
      }
     },
     "1765c74b96f549a7990d6c59894dcd2c": {
      "model_module": "@jupyter-widgets/controls",
      "model_module_version": "1.5.0",
      "model_name": "ProgressStyleModel",
      "state": {
       "_model_module": "@jupyter-widgets/controls",
       "_model_module_version": "1.5.0",
       "_model_name": "ProgressStyleModel",
       "_view_count": null,
       "_view_module": "@jupyter-widgets/base",
       "_view_module_version": "1.2.0",
       "_view_name": "StyleView",
       "bar_color": null,
       "description_width": ""
      }
     },
     "181ee050d347467a8310803e08ed1932": {
      "model_module": "@jupyter-widgets/controls",
      "model_module_version": "1.5.0",
      "model_name": "ProgressStyleModel",
      "state": {
       "_model_module": "@jupyter-widgets/controls",
       "_model_module_version": "1.5.0",
       "_model_name": "ProgressStyleModel",
       "_view_count": null,
       "_view_module": "@jupyter-widgets/base",
       "_view_module_version": "1.2.0",
       "_view_name": "StyleView",
       "bar_color": null,
       "description_width": ""
      }
     },
     "20a32ea2ecf0427784d5bf863d611ae3": {
      "model_module": "@jupyter-widgets/controls",
      "model_module_version": "1.5.0",
      "model_name": "DescriptionStyleModel",
      "state": {
       "_model_module": "@jupyter-widgets/controls",
       "_model_module_version": "1.5.0",
       "_model_name": "DescriptionStyleModel",
       "_view_count": null,
       "_view_module": "@jupyter-widgets/base",
       "_view_module_version": "1.2.0",
       "_view_name": "StyleView",
       "description_width": ""
      }
     },
     "334765879cb1407bbb4e9edaa2c4d9d8": {
      "model_module": "@jupyter-widgets/controls",
      "model_module_version": "1.5.0",
      "model_name": "DescriptionStyleModel",
      "state": {
       "_model_module": "@jupyter-widgets/controls",
       "_model_module_version": "1.5.0",
       "_model_name": "DescriptionStyleModel",
       "_view_count": null,
       "_view_module": "@jupyter-widgets/base",
       "_view_module_version": "1.2.0",
       "_view_name": "StyleView",
       "description_width": ""
      }
     },
     "4195e46366924c39b883139960a164e6": {
      "model_module": "@jupyter-widgets/base",
      "model_module_version": "1.2.0",
      "model_name": "LayoutModel",
      "state": {
       "_model_module": "@jupyter-widgets/base",
       "_model_module_version": "1.2.0",
       "_model_name": "LayoutModel",
       "_view_count": null,
       "_view_module": "@jupyter-widgets/base",
       "_view_module_version": "1.2.0",
       "_view_name": "LayoutView",
       "align_content": null,
       "align_items": null,
       "align_self": null,
       "border": null,
       "bottom": null,
       "display": null,
       "flex": null,
       "flex_flow": null,
       "grid_area": null,
       "grid_auto_columns": null,
       "grid_auto_flow": null,
       "grid_auto_rows": null,
       "grid_column": null,
       "grid_gap": null,
       "grid_row": null,
       "grid_template_areas": null,
       "grid_template_columns": null,
       "grid_template_rows": null,
       "height": null,
       "justify_content": null,
       "justify_items": null,
       "left": null,
       "margin": null,
       "max_height": null,
       "max_width": null,
       "min_height": null,
       "min_width": null,
       "object_fit": null,
       "object_position": null,
       "order": null,
       "overflow": null,
       "overflow_x": null,
       "overflow_y": null,
       "padding": null,
       "right": null,
       "top": null,
       "visibility": null,
       "width": null
      }
     },
     "45074eb1932d4ee1aaac8ef6514c8b7d": {
      "model_module": "@jupyter-widgets/controls",
      "model_module_version": "1.5.0",
      "model_name": "FloatProgressModel",
      "state": {
       "_dom_classes": [],
       "_model_module": "@jupyter-widgets/controls",
       "_model_module_version": "1.5.0",
       "_model_name": "FloatProgressModel",
       "_view_count": null,
       "_view_module": "@jupyter-widgets/controls",
       "_view_module_version": "1.5.0",
       "_view_name": "ProgressView",
       "bar_style": "success",
       "description": "",
       "description_tooltip": null,
       "layout": "IPY_MODEL_d3cc1170abbf494a8f89dd109a13959a",
       "max": 501204462.0,
       "min": 0.0,
       "orientation": "horizontal",
       "style": "IPY_MODEL_7780bdd36c204e788575aef1008b5f93",
       "value": 501204462.0
      }
     },
     "493383097ead43ec8de01d6a7c00a274": {
      "model_module": "@jupyter-widgets/controls",
      "model_module_version": "1.5.0",
      "model_name": "HTMLModel",
      "state": {
       "_dom_classes": [],
       "_model_module": "@jupyter-widgets/controls",
       "_model_module_version": "1.5.0",
       "_model_name": "HTMLModel",
       "_view_count": null,
       "_view_module": "@jupyter-widgets/controls",
       "_view_module_version": "1.5.0",
       "_view_name": "HTMLView",
       "description": "",
       "description_tooltip": null,
       "layout": "IPY_MODEL_d80a366cef2842fcba17a99d6e07a897",
       "placeholder": "​",
       "style": "IPY_MODEL_9bf944b413f64baab4d2d71cc31f918f",
       "value": "config.json: 100%"
      }
     },
     "4c0224ba6b1747e39d2905ac8b063e3f": {
      "model_module": "@jupyter-widgets/base",
      "model_module_version": "1.2.0",
      "model_name": "LayoutModel",
      "state": {
       "_model_module": "@jupyter-widgets/base",
       "_model_module_version": "1.2.0",
       "_model_name": "LayoutModel",
       "_view_count": null,
       "_view_module": "@jupyter-widgets/base",
       "_view_module_version": "1.2.0",
       "_view_name": "LayoutView",
       "align_content": null,
       "align_items": null,
       "align_self": null,
       "border": null,
       "bottom": null,
       "display": null,
       "flex": null,
       "flex_flow": null,
       "grid_area": null,
       "grid_auto_columns": null,
       "grid_auto_flow": null,
       "grid_auto_rows": null,
       "grid_column": null,
       "grid_gap": null,
       "grid_row": null,
       "grid_template_areas": null,
       "grid_template_columns": null,
       "grid_template_rows": null,
       "height": null,
       "justify_content": null,
       "justify_items": null,
       "left": null,
       "margin": null,
       "max_height": null,
       "max_width": null,
       "min_height": null,
       "min_width": null,
       "object_fit": null,
       "object_position": null,
       "order": null,
       "overflow": null,
       "overflow_x": null,
       "overflow_y": null,
       "padding": null,
       "right": null,
       "top": null,
       "visibility": null,
       "width": null
      }
     },
     "518b4acd8bcf493d92b083b35ef6f1c8": {
      "model_module": "@jupyter-widgets/controls",
      "model_module_version": "1.5.0",
      "model_name": "HBoxModel",
      "state": {
       "_dom_classes": [],
       "_model_module": "@jupyter-widgets/controls",
       "_model_module_version": "1.5.0",
       "_model_name": "HBoxModel",
       "_view_count": null,
       "_view_module": "@jupyter-widgets/controls",
       "_view_module_version": "1.5.0",
       "_view_name": "HBoxView",
       "box_style": "",
       "children": [
        "IPY_MODEL_0be6ee50cb1f4747a9b843e8be25f983",
        "IPY_MODEL_e3df2aa0c2b24aae81f54397cb3d878f",
        "IPY_MODEL_7f5177a57b144172b9c42fe19ad96345"
       ],
       "layout": "IPY_MODEL_0676978dc9f04c56a5b2fa58397e7bc7"
      }
     },
     "560dd24d3fee494e984caabb1b9821d8": {
      "model_module": "@jupyter-widgets/controls",
      "model_module_version": "1.5.0",
      "model_name": "ProgressStyleModel",
      "state": {
       "_model_module": "@jupyter-widgets/controls",
       "_model_module_version": "1.5.0",
       "_model_name": "ProgressStyleModel",
       "_view_count": null,
       "_view_module": "@jupyter-widgets/base",
       "_view_module_version": "1.2.0",
       "_view_name": "StyleView",
       "bar_color": null,
       "description_width": ""
      }
     },
     "58a30565360f4ee38551d92231cd8b70": {
      "model_module": "@jupyter-widgets/controls",
      "model_module_version": "1.5.0",
      "model_name": "DescriptionStyleModel",
      "state": {
       "_model_module": "@jupyter-widgets/controls",
       "_model_module_version": "1.5.0",
       "_model_name": "DescriptionStyleModel",
       "_view_count": null,
       "_view_module": "@jupyter-widgets/base",
       "_view_module_version": "1.2.0",
       "_view_name": "StyleView",
       "description_width": ""
      }
     },
     "5d0c5761f68341e3945e539e622780e3": {
      "model_module": "@jupyter-widgets/controls",
      "model_module_version": "1.5.0",
      "model_name": "HTMLModel",
      "state": {
       "_dom_classes": [],
       "_model_module": "@jupyter-widgets/controls",
       "_model_module_version": "1.5.0",
       "_model_name": "HTMLModel",
       "_view_count": null,
       "_view_module": "@jupyter-widgets/controls",
       "_view_module_version": "1.5.0",
       "_view_name": "HTMLView",
       "description": "",
       "description_tooltip": null,
       "layout": "IPY_MODEL_eaef910eefef4883a4d28dbccf4f6aa6",
       "placeholder": "​",
       "style": "IPY_MODEL_0ca96435e68a41d1bd1ddde93ffe3f13",
       "value": "vocab.json: 100%"
      }
     },
     "70ff3975865d4e299d4c41fabda21780": {
      "model_module": "@jupyter-widgets/base",
      "model_module_version": "1.2.0",
      "model_name": "LayoutModel",
      "state": {
       "_model_module": "@jupyter-widgets/base",
       "_model_module_version": "1.2.0",
       "_model_name": "LayoutModel",
       "_view_count": null,
       "_view_module": "@jupyter-widgets/base",
       "_view_module_version": "1.2.0",
       "_view_name": "LayoutView",
       "align_content": null,
       "align_items": null,
       "align_self": null,
       "border": null,
       "bottom": null,
       "display": null,
       "flex": null,
       "flex_flow": null,
       "grid_area": null,
       "grid_auto_columns": null,
       "grid_auto_flow": null,
       "grid_auto_rows": null,
       "grid_column": null,
       "grid_gap": null,
       "grid_row": null,
       "grid_template_areas": null,
       "grid_template_columns": null,
       "grid_template_rows": null,
       "height": null,
       "justify_content": null,
       "justify_items": null,
       "left": null,
       "margin": null,
       "max_height": null,
       "max_width": null,
       "min_height": null,
       "min_width": null,
       "object_fit": null,
       "object_position": null,
       "order": null,
       "overflow": null,
       "overflow_x": null,
       "overflow_y": null,
       "padding": null,
       "right": null,
       "top": null,
       "visibility": null,
       "width": null
      }
     },
     "7780bdd36c204e788575aef1008b5f93": {
      "model_module": "@jupyter-widgets/controls",
      "model_module_version": "1.5.0",
      "model_name": "ProgressStyleModel",
      "state": {
       "_model_module": "@jupyter-widgets/controls",
       "_model_module_version": "1.5.0",
       "_model_name": "ProgressStyleModel",
       "_view_count": null,
       "_view_module": "@jupyter-widgets/base",
       "_view_module_version": "1.2.0",
       "_view_name": "StyleView",
       "bar_color": null,
       "description_width": ""
      }
     },
     "7f5177a57b144172b9c42fe19ad96345": {
      "model_module": "@jupyter-widgets/controls",
      "model_module_version": "1.5.0",
      "model_name": "HTMLModel",
      "state": {
       "_dom_classes": [],
       "_model_module": "@jupyter-widgets/controls",
       "_model_module_version": "1.5.0",
       "_model_name": "HTMLModel",
       "_view_count": null,
       "_view_module": "@jupyter-widgets/controls",
       "_view_module_version": "1.5.0",
       "_view_name": "HTMLView",
       "description": "",
       "description_tooltip": null,
       "layout": "IPY_MODEL_fda54104305744acaa642b2c988b8613",
       "placeholder": "​",
       "style": "IPY_MODEL_014086dead224e4392eacaa7e42d2d54",
       "value": " 456k/456k [00:00&lt;00:00, 3.70MB/s]"
      }
     },
     "89789083bf1845d0a6433ce7a041feb9": {
      "model_module": "@jupyter-widgets/controls",
      "model_module_version": "1.5.0",
      "model_name": "HTMLModel",
      "state": {
       "_dom_classes": [],
       "_model_module": "@jupyter-widgets/controls",
       "_model_module_version": "1.5.0",
       "_model_name": "HTMLModel",
       "_view_count": null,
       "_view_module": "@jupyter-widgets/controls",
       "_view_module_version": "1.5.0",
       "_view_name": "HTMLView",
       "description": "",
       "description_tooltip": null,
       "layout": "IPY_MODEL_4c0224ba6b1747e39d2905ac8b063e3f",
       "placeholder": "​",
       "style": "IPY_MODEL_20a32ea2ecf0427784d5bf863d611ae3",
       "value": " 899k/899k [00:00&lt;00:00, 7.38MB/s]"
      }
     },
     "935739080b914aff86616dc14cecb26f": {
      "model_module": "@jupyter-widgets/controls",
      "model_module_version": "1.5.0",
      "model_name": "HBoxModel",
      "state": {
       "_dom_classes": [],
       "_model_module": "@jupyter-widgets/controls",
       "_model_module_version": "1.5.0",
       "_model_name": "HBoxModel",
       "_view_count": null,
       "_view_module": "@jupyter-widgets/controls",
       "_view_module_version": "1.5.0",
       "_view_name": "HBoxView",
       "box_style": "",
       "children": [
        "IPY_MODEL_e2166e338aee462aaa4ed62cac42d7d8",
        "IPY_MODEL_45074eb1932d4ee1aaac8ef6514c8b7d",
        "IPY_MODEL_ad6d6a19c078420a8bdbbdc53f7cc48a"
       ],
       "layout": "IPY_MODEL_e21170f5c4704b2196d8b9b285ead010"
      }
     },
     "9bd57e1cb65d45249474aaeb6bd0e751": {
      "model_module": "@jupyter-widgets/controls",
      "model_module_version": "1.5.0",
      "model_name": "HTMLModel",
      "state": {
       "_dom_classes": [],
       "_model_module": "@jupyter-widgets/controls",
       "_model_module_version": "1.5.0",
       "_model_name": "HTMLModel",
       "_view_count": null,
       "_view_module": "@jupyter-widgets/controls",
       "_view_module_version": "1.5.0",
       "_view_name": "HTMLView",
       "description": "",
       "description_tooltip": null,
       "layout": "IPY_MODEL_be4cfd585a274dda9dafa82462a33309",
       "placeholder": "​",
       "style": "IPY_MODEL_58a30565360f4ee38551d92231cd8b70",
       "value": " 565/565 [00:00&lt;00:00, 40.2kB/s]"
      }
     },
     "9bf944b413f64baab4d2d71cc31f918f": {
      "model_module": "@jupyter-widgets/controls",
      "model_module_version": "1.5.0",
      "model_name": "DescriptionStyleModel",
      "state": {
       "_model_module": "@jupyter-widgets/controls",
       "_model_module_version": "1.5.0",
       "_model_name": "DescriptionStyleModel",
       "_view_count": null,
       "_view_module": "@jupyter-widgets/base",
       "_view_module_version": "1.2.0",
       "_view_name": "StyleView",
       "description_width": ""
      }
     },
     "a017a933a79041ee93fadcb3b7591613": {
      "model_module": "@jupyter-widgets/controls",
      "model_module_version": "1.5.0",
      "model_name": "FloatProgressModel",
      "state": {
       "_dom_classes": [],
       "_model_module": "@jupyter-widgets/controls",
       "_model_module_version": "1.5.0",
       "_model_name": "FloatProgressModel",
       "_view_count": null,
       "_view_module": "@jupyter-widgets/controls",
       "_view_module_version": "1.5.0",
       "_view_name": "ProgressView",
       "bar_style": "success",
       "description": "",
       "description_tooltip": null,
       "layout": "IPY_MODEL_4195e46366924c39b883139960a164e6",
       "max": 898823.0,
       "min": 0.0,
       "orientation": "horizontal",
       "style": "IPY_MODEL_1765c74b96f549a7990d6c59894dcd2c",
       "value": 898823.0
      }
     },
     "a31cded0b10542a68d2c8cacf1e37969": {
      "model_module": "@jupyter-widgets/controls",
      "model_module_version": "1.5.0",
      "model_name": "DescriptionStyleModel",
      "state": {
       "_model_module": "@jupyter-widgets/controls",
       "_model_module_version": "1.5.0",
       "_model_name": "DescriptionStyleModel",
       "_view_count": null,
       "_view_module": "@jupyter-widgets/base",
       "_view_module_version": "1.2.0",
       "_view_name": "StyleView",
       "description_width": ""
      }
     },
     "aa907dd7052543bf97f159888c2a5587": {
      "model_module": "@jupyter-widgets/base",
      "model_module_version": "1.2.0",
      "model_name": "LayoutModel",
      "state": {
       "_model_module": "@jupyter-widgets/base",
       "_model_module_version": "1.2.0",
       "_model_name": "LayoutModel",
       "_view_count": null,
       "_view_module": "@jupyter-widgets/base",
       "_view_module_version": "1.2.0",
       "_view_name": "LayoutView",
       "align_content": null,
       "align_items": null,
       "align_self": null,
       "border": null,
       "bottom": null,
       "display": null,
       "flex": null,
       "flex_flow": null,
       "grid_area": null,
       "grid_auto_columns": null,
       "grid_auto_flow": null,
       "grid_auto_rows": null,
       "grid_column": null,
       "grid_gap": null,
       "grid_row": null,
       "grid_template_areas": null,
       "grid_template_columns": null,
       "grid_template_rows": null,
       "height": null,
       "justify_content": null,
       "justify_items": null,
       "left": null,
       "margin": null,
       "max_height": null,
       "max_width": null,
       "min_height": null,
       "min_width": null,
       "object_fit": null,
       "object_position": null,
       "order": null,
       "overflow": null,
       "overflow_x": null,
       "overflow_y": null,
       "padding": null,
       "right": null,
       "top": null,
       "visibility": null,
       "width": null
      }
     },
     "ad6d6a19c078420a8bdbbdc53f7cc48a": {
      "model_module": "@jupyter-widgets/controls",
      "model_module_version": "1.5.0",
      "model_name": "HTMLModel",
      "state": {
       "_dom_classes": [],
       "_model_module": "@jupyter-widgets/controls",
       "_model_module_version": "1.5.0",
       "_model_name": "HTMLModel",
       "_view_count": null,
       "_view_module": "@jupyter-widgets/controls",
       "_view_module_version": "1.5.0",
       "_view_name": "HTMLView",
       "description": "",
       "description_tooltip": null,
       "layout": "IPY_MODEL_70ff3975865d4e299d4c41fabda21780",
       "placeholder": "​",
       "style": "IPY_MODEL_334765879cb1407bbb4e9edaa2c4d9d8",
       "value": " 501M/501M [00:01&lt;00:00, 306MB/s]"
      }
     },
     "be4cfd585a274dda9dafa82462a33309": {
      "model_module": "@jupyter-widgets/base",
      "model_module_version": "1.2.0",
      "model_name": "LayoutModel",
      "state": {
       "_model_module": "@jupyter-widgets/base",
       "_model_module_version": "1.2.0",
       "_model_name": "LayoutModel",
       "_view_count": null,
       "_view_module": "@jupyter-widgets/base",
       "_view_module_version": "1.2.0",
       "_view_name": "LayoutView",
       "align_content": null,
       "align_items": null,
       "align_self": null,
       "border": null,
       "bottom": null,
       "display": null,
       "flex": null,
       "flex_flow": null,
       "grid_area": null,
       "grid_auto_columns": null,
       "grid_auto_flow": null,
       "grid_auto_rows": null,
       "grid_column": null,
       "grid_gap": null,
       "grid_row": null,
       "grid_template_areas": null,
       "grid_template_columns": null,
       "grid_template_rows": null,
       "height": null,
       "justify_content": null,
       "justify_items": null,
       "left": null,
       "margin": null,
       "max_height": null,
       "max_width": null,
       "min_height": null,
       "min_width": null,
       "object_fit": null,
       "object_position": null,
       "order": null,
       "overflow": null,
       "overflow_x": null,
       "overflow_y": null,
       "padding": null,
       "right": null,
       "top": null,
       "visibility": null,
       "width": null
      }
     },
     "cb00125cf9714c64998f3cd1616b57c3": {
      "model_module": "@jupyter-widgets/controls",
      "model_module_version": "1.5.0",
      "model_name": "HBoxModel",
      "state": {
       "_dom_classes": [],
       "_model_module": "@jupyter-widgets/controls",
       "_model_module_version": "1.5.0",
       "_model_name": "HBoxModel",
       "_view_count": null,
       "_view_module": "@jupyter-widgets/controls",
       "_view_module_version": "1.5.0",
       "_view_name": "HBoxView",
       "box_style": "",
       "children": [
        "IPY_MODEL_493383097ead43ec8de01d6a7c00a274",
        "IPY_MODEL_170c2204340d4cc89ce6deec37db7715",
        "IPY_MODEL_9bd57e1cb65d45249474aaeb6bd0e751"
       ],
       "layout": "IPY_MODEL_f444dbb73e814f858bf7684e9d86443e"
      }
     },
     "d3cc1170abbf494a8f89dd109a13959a": {
      "model_module": "@jupyter-widgets/base",
      "model_module_version": "1.2.0",
      "model_name": "LayoutModel",
      "state": {
       "_model_module": "@jupyter-widgets/base",
       "_model_module_version": "1.2.0",
       "_model_name": "LayoutModel",
       "_view_count": null,
       "_view_module": "@jupyter-widgets/base",
       "_view_module_version": "1.2.0",
       "_view_name": "LayoutView",
       "align_content": null,
       "align_items": null,
       "align_self": null,
       "border": null,
       "bottom": null,
       "display": null,
       "flex": null,
       "flex_flow": null,
       "grid_area": null,
       "grid_auto_columns": null,
       "grid_auto_flow": null,
       "grid_auto_rows": null,
       "grid_column": null,
       "grid_gap": null,
       "grid_row": null,
       "grid_template_areas": null,
       "grid_template_columns": null,
       "grid_template_rows": null,
       "height": null,
       "justify_content": null,
       "justify_items": null,
       "left": null,
       "margin": null,
       "max_height": null,
       "max_width": null,
       "min_height": null,
       "min_width": null,
       "object_fit": null,
       "object_position": null,
       "order": null,
       "overflow": null,
       "overflow_x": null,
       "overflow_y": null,
       "padding": null,
       "right": null,
       "top": null,
       "visibility": null,
       "width": null
      }
     },
     "d80a366cef2842fcba17a99d6e07a897": {
      "model_module": "@jupyter-widgets/base",
      "model_module_version": "1.2.0",
      "model_name": "LayoutModel",
      "state": {
       "_model_module": "@jupyter-widgets/base",
       "_model_module_version": "1.2.0",
       "_model_name": "LayoutModel",
       "_view_count": null,
       "_view_module": "@jupyter-widgets/base",
       "_view_module_version": "1.2.0",
       "_view_name": "LayoutView",
       "align_content": null,
       "align_items": null,
       "align_self": null,
       "border": null,
       "bottom": null,
       "display": null,
       "flex": null,
       "flex_flow": null,
       "grid_area": null,
       "grid_auto_columns": null,
       "grid_auto_flow": null,
       "grid_auto_rows": null,
       "grid_column": null,
       "grid_gap": null,
       "grid_row": null,
       "grid_template_areas": null,
       "grid_template_columns": null,
       "grid_template_rows": null,
       "height": null,
       "justify_content": null,
       "justify_items": null,
       "left": null,
       "margin": null,
       "max_height": null,
       "max_width": null,
       "min_height": null,
       "min_width": null,
       "object_fit": null,
       "object_position": null,
       "order": null,
       "overflow": null,
       "overflow_x": null,
       "overflow_y": null,
       "padding": null,
       "right": null,
       "top": null,
       "visibility": null,
       "width": null
      }
     },
     "e17431d3324b443d9a3b888b4fb2b206": {
      "model_module": "@jupyter-widgets/controls",
      "model_module_version": "1.5.0",
      "model_name": "HBoxModel",
      "state": {
       "_dom_classes": [],
       "_model_module": "@jupyter-widgets/controls",
       "_model_module_version": "1.5.0",
       "_model_name": "HBoxModel",
       "_view_count": null,
       "_view_module": "@jupyter-widgets/controls",
       "_view_module_version": "1.5.0",
       "_view_name": "HBoxView",
       "box_style": "",
       "children": [
        "IPY_MODEL_5d0c5761f68341e3945e539e622780e3",
        "IPY_MODEL_a017a933a79041ee93fadcb3b7591613",
        "IPY_MODEL_89789083bf1845d0a6433ce7a041feb9"
       ],
       "layout": "IPY_MODEL_09f787df12b64122af2bde494bf1b5a9"
      }
     },
     "e21170f5c4704b2196d8b9b285ead010": {
      "model_module": "@jupyter-widgets/base",
      "model_module_version": "1.2.0",
      "model_name": "LayoutModel",
      "state": {
       "_model_module": "@jupyter-widgets/base",
       "_model_module_version": "1.2.0",
       "_model_name": "LayoutModel",
       "_view_count": null,
       "_view_module": "@jupyter-widgets/base",
       "_view_module_version": "1.2.0",
       "_view_name": "LayoutView",
       "align_content": null,
       "align_items": null,
       "align_self": null,
       "border": null,
       "bottom": null,
       "display": null,
       "flex": null,
       "flex_flow": null,
       "grid_area": null,
       "grid_auto_columns": null,
       "grid_auto_flow": null,
       "grid_auto_rows": null,
       "grid_column": null,
       "grid_gap": null,
       "grid_row": null,
       "grid_template_areas": null,
       "grid_template_columns": null,
       "grid_template_rows": null,
       "height": null,
       "justify_content": null,
       "justify_items": null,
       "left": null,
       "margin": null,
       "max_height": null,
       "max_width": null,
       "min_height": null,
       "min_width": null,
       "object_fit": null,
       "object_position": null,
       "order": null,
       "overflow": null,
       "overflow_x": null,
       "overflow_y": null,
       "padding": null,
       "right": null,
       "top": null,
       "visibility": null,
       "width": null
      }
     },
     "e2166e338aee462aaa4ed62cac42d7d8": {
      "model_module": "@jupyter-widgets/controls",
      "model_module_version": "1.5.0",
      "model_name": "HTMLModel",
      "state": {
       "_dom_classes": [],
       "_model_module": "@jupyter-widgets/controls",
       "_model_module_version": "1.5.0",
       "_model_name": "HTMLModel",
       "_view_count": null,
       "_view_module": "@jupyter-widgets/controls",
       "_view_module_version": "1.5.0",
       "_view_name": "HTMLView",
       "description": "",
       "description_tooltip": null,
       "layout": "IPY_MODEL_ed1f7fc19b5748159e7b98c12051fc63",
       "placeholder": "​",
       "style": "IPY_MODEL_e7dbe403ce5844eebb998554004ab264",
       "value": "pytorch_model.bin: 100%"
      }
     },
     "e3df2aa0c2b24aae81f54397cb3d878f": {
      "model_module": "@jupyter-widgets/controls",
      "model_module_version": "1.5.0",
      "model_name": "FloatProgressModel",
      "state": {
       "_dom_classes": [],
       "_model_module": "@jupyter-widgets/controls",
       "_model_module_version": "1.5.0",
       "_model_name": "FloatProgressModel",
       "_view_count": null,
       "_view_module": "@jupyter-widgets/controls",
       "_view_module_version": "1.5.0",
       "_view_name": "ProgressView",
       "bar_style": "success",
       "description": "",
       "description_tooltip": null,
       "layout": "IPY_MODEL_ee75253ac2e44a799b7e1d19d1f26aa9",
       "max": 456318.0,
       "min": 0.0,
       "orientation": "horizontal",
       "style": "IPY_MODEL_560dd24d3fee494e984caabb1b9821d8",
       "value": 456318.0
      }
     },
     "e7dbe403ce5844eebb998554004ab264": {
      "model_module": "@jupyter-widgets/controls",
      "model_module_version": "1.5.0",
      "model_name": "DescriptionStyleModel",
      "state": {
       "_model_module": "@jupyter-widgets/controls",
       "_model_module_version": "1.5.0",
       "_model_name": "DescriptionStyleModel",
       "_view_count": null,
       "_view_module": "@jupyter-widgets/base",
       "_view_module_version": "1.2.0",
       "_view_name": "StyleView",
       "description_width": ""
      }
     },
     "eaef910eefef4883a4d28dbccf4f6aa6": {
      "model_module": "@jupyter-widgets/base",
      "model_module_version": "1.2.0",
      "model_name": "LayoutModel",
      "state": {
       "_model_module": "@jupyter-widgets/base",
       "_model_module_version": "1.2.0",
       "_model_name": "LayoutModel",
       "_view_count": null,
       "_view_module": "@jupyter-widgets/base",
       "_view_module_version": "1.2.0",
       "_view_name": "LayoutView",
       "align_content": null,
       "align_items": null,
       "align_self": null,
       "border": null,
       "bottom": null,
       "display": null,
       "flex": null,
       "flex_flow": null,
       "grid_area": null,
       "grid_auto_columns": null,
       "grid_auto_flow": null,
       "grid_auto_rows": null,
       "grid_column": null,
       "grid_gap": null,
       "grid_row": null,
       "grid_template_areas": null,
       "grid_template_columns": null,
       "grid_template_rows": null,
       "height": null,
       "justify_content": null,
       "justify_items": null,
       "left": null,
       "margin": null,
       "max_height": null,
       "max_width": null,
       "min_height": null,
       "min_width": null,
       "object_fit": null,
       "object_position": null,
       "order": null,
       "overflow": null,
       "overflow_x": null,
       "overflow_y": null,
       "padding": null,
       "right": null,
       "top": null,
       "visibility": null,
       "width": null
      }
     },
     "ec4d2dd37a254a868ba086cb4da49d49": {
      "model_module": "@jupyter-widgets/base",
      "model_module_version": "1.2.0",
      "model_name": "LayoutModel",
      "state": {
       "_model_module": "@jupyter-widgets/base",
       "_model_module_version": "1.2.0",
       "_model_name": "LayoutModel",
       "_view_count": null,
       "_view_module": "@jupyter-widgets/base",
       "_view_module_version": "1.2.0",
       "_view_name": "LayoutView",
       "align_content": null,
       "align_items": null,
       "align_self": null,
       "border": null,
       "bottom": null,
       "display": null,
       "flex": null,
       "flex_flow": null,
       "grid_area": null,
       "grid_auto_columns": null,
       "grid_auto_flow": null,
       "grid_auto_rows": null,
       "grid_column": null,
       "grid_gap": null,
       "grid_row": null,
       "grid_template_areas": null,
       "grid_template_columns": null,
       "grid_template_rows": null,
       "height": null,
       "justify_content": null,
       "justify_items": null,
       "left": null,
       "margin": null,
       "max_height": null,
       "max_width": null,
       "min_height": null,
       "min_width": null,
       "object_fit": null,
       "object_position": null,
       "order": null,
       "overflow": null,
       "overflow_x": null,
       "overflow_y": null,
       "padding": null,
       "right": null,
       "top": null,
       "visibility": null,
       "width": null
      }
     },
     "ed1f7fc19b5748159e7b98c12051fc63": {
      "model_module": "@jupyter-widgets/base",
      "model_module_version": "1.2.0",
      "model_name": "LayoutModel",
      "state": {
       "_model_module": "@jupyter-widgets/base",
       "_model_module_version": "1.2.0",
       "_model_name": "LayoutModel",
       "_view_count": null,
       "_view_module": "@jupyter-widgets/base",
       "_view_module_version": "1.2.0",
       "_view_name": "LayoutView",
       "align_content": null,
       "align_items": null,
       "align_self": null,
       "border": null,
       "bottom": null,
       "display": null,
       "flex": null,
       "flex_flow": null,
       "grid_area": null,
       "grid_auto_columns": null,
       "grid_auto_flow": null,
       "grid_auto_rows": null,
       "grid_column": null,
       "grid_gap": null,
       "grid_row": null,
       "grid_template_areas": null,
       "grid_template_columns": null,
       "grid_template_rows": null,
       "height": null,
       "justify_content": null,
       "justify_items": null,
       "left": null,
       "margin": null,
       "max_height": null,
       "max_width": null,
       "min_height": null,
       "min_width": null,
       "object_fit": null,
       "object_position": null,
       "order": null,
       "overflow": null,
       "overflow_x": null,
       "overflow_y": null,
       "padding": null,
       "right": null,
       "top": null,
       "visibility": null,
       "width": null
      }
     },
     "ee75253ac2e44a799b7e1d19d1f26aa9": {
      "model_module": "@jupyter-widgets/base",
      "model_module_version": "1.2.0",
      "model_name": "LayoutModel",
      "state": {
       "_model_module": "@jupyter-widgets/base",
       "_model_module_version": "1.2.0",
       "_model_name": "LayoutModel",
       "_view_count": null,
       "_view_module": "@jupyter-widgets/base",
       "_view_module_version": "1.2.0",
       "_view_name": "LayoutView",
       "align_content": null,
       "align_items": null,
       "align_self": null,
       "border": null,
       "bottom": null,
       "display": null,
       "flex": null,
       "flex_flow": null,
       "grid_area": null,
       "grid_auto_columns": null,
       "grid_auto_flow": null,
       "grid_auto_rows": null,
       "grid_column": null,
       "grid_gap": null,
       "grid_row": null,
       "grid_template_areas": null,
       "grid_template_columns": null,
       "grid_template_rows": null,
       "height": null,
       "justify_content": null,
       "justify_items": null,
       "left": null,
       "margin": null,
       "max_height": null,
       "max_width": null,
       "min_height": null,
       "min_width": null,
       "object_fit": null,
       "object_position": null,
       "order": null,
       "overflow": null,
       "overflow_x": null,
       "overflow_y": null,
       "padding": null,
       "right": null,
       "top": null,
       "visibility": null,
       "width": null
      }
     },
     "f444dbb73e814f858bf7684e9d86443e": {
      "model_module": "@jupyter-widgets/base",
      "model_module_version": "1.2.0",
      "model_name": "LayoutModel",
      "state": {
       "_model_module": "@jupyter-widgets/base",
       "_model_module_version": "1.2.0",
       "_model_name": "LayoutModel",
       "_view_count": null,
       "_view_module": "@jupyter-widgets/base",
       "_view_module_version": "1.2.0",
       "_view_name": "LayoutView",
       "align_content": null,
       "align_items": null,
       "align_self": null,
       "border": null,
       "bottom": null,
       "display": null,
       "flex": null,
       "flex_flow": null,
       "grid_area": null,
       "grid_auto_columns": null,
       "grid_auto_flow": null,
       "grid_auto_rows": null,
       "grid_column": null,
       "grid_gap": null,
       "grid_row": null,
       "grid_template_areas": null,
       "grid_template_columns": null,
       "grid_template_rows": null,
       "height": null,
       "justify_content": null,
       "justify_items": null,
       "left": null,
       "margin": null,
       "max_height": null,
       "max_width": null,
       "min_height": null,
       "min_width": null,
       "object_fit": null,
       "object_position": null,
       "order": null,
       "overflow": null,
       "overflow_x": null,
       "overflow_y": null,
       "padding": null,
       "right": null,
       "top": null,
       "visibility": null,
       "width": null
      }
     },
     "fda54104305744acaa642b2c988b8613": {
      "model_module": "@jupyter-widgets/base",
      "model_module_version": "1.2.0",
      "model_name": "LayoutModel",
      "state": {
       "_model_module": "@jupyter-widgets/base",
       "_model_module_version": "1.2.0",
       "_model_name": "LayoutModel",
       "_view_count": null,
       "_view_module": "@jupyter-widgets/base",
       "_view_module_version": "1.2.0",
       "_view_name": "LayoutView",
       "align_content": null,
       "align_items": null,
       "align_self": null,
       "border": null,
       "bottom": null,
       "display": null,
       "flex": null,
       "flex_flow": null,
       "grid_area": null,
       "grid_auto_columns": null,
       "grid_auto_flow": null,
       "grid_auto_rows": null,
       "grid_column": null,
       "grid_gap": null,
       "grid_row": null,
       "grid_template_areas": null,
       "grid_template_columns": null,
       "grid_template_rows": null,
       "height": null,
       "justify_content": null,
       "justify_items": null,
       "left": null,
       "margin": null,
       "max_height": null,
       "max_width": null,
       "min_height": null,
       "min_width": null,
       "object_fit": null,
       "object_position": null,
       "order": null,
       "overflow": null,
       "overflow_x": null,
       "overflow_y": null,
       "padding": null,
       "right": null,
       "top": null,
       "visibility": null,
       "width": null
      }
     }
    },
    "version_major": 2,
    "version_minor": 0
   }
  }
 },
 "nbformat": 4,
 "nbformat_minor": 5
}
